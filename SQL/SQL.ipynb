{
 "cells": [
  {
   "cell_type": "markdown",
   "metadata": {},
   "source": [
    "# Выпускной проект по SQL"
   ]
  },
  {
   "cell_type": "markdown",
   "metadata": {},
   "source": [
    "## Описание проекта"
   ]
  },
  {
   "cell_type": "markdown",
   "metadata": {},
   "source": [
    "Коронавирус застал мир врасплох, изменив привычный порядок вещей. В свободное время жители городов больше не выходят на улицу, не посещают кафе и торговые центры. Зато стало больше времени для книг. Это заметили стартаперы — и бросились создавать приложения для тех, кто любит читать.\n",
    "\n",
    "Наша компания решила быть на волне и купила крупный сервис для чтения книг по подписке. \n",
    "\n",
    "**Цель исследования:** проанализировать базу данных, в которой содержится информация о книгах, издательствах, авторах, а также пользовательские обзоры книг. Эти данные помогут сформулировать ценностное предложение для нового продукта."
   ]
  },
  {
   "cell_type": "markdown",
   "metadata": {},
   "source": [
    "## Описание данных"
   ]
  },
  {
   "cell_type": "markdown",
   "metadata": {},
   "source": [
    "**Таблица books**\n",
    "Содержит данные о книгах:\n",
    "- book_id — идентификатор книги;\n",
    "- author_id — идентификатор автора;\n",
    "- title — название книги;\n",
    "- num_pages — количество страниц;\n",
    "- publication_date — дата публикации книги;\n",
    "- publisher_id — идентификатор издателя.\n",
    "\n",
    "**Таблица authors**\n",
    "Содержит данные об авторах:\n",
    "- author_id — идентификатор автора;\n",
    "- author — имя автора.\n",
    "\n",
    "**Таблица publishers**\n",
    "Содержит данные об издательствах:\n",
    "- publisher_id — идентификатор издательства;\n",
    "- publisher — название издательства.\n",
    "\n",
    "**Таблица ratings**\n",
    "Содержит данные о пользовательских оценках книг:\n",
    "- rating_id — идентификатор оценки;\n",
    "- book_id — идентификатор книги;\n",
    "- username — имя пользователя, оставившего оценку;\n",
    "- rating — оценка книги.\n",
    "\n",
    "**Таблица reviews**\n",
    "Содержит данные о пользовательских обзорах:\n",
    "- review_id — идентификатор обзора;\n",
    "- book_id — идентификатор книги;\n",
    "- username — имя автора обзора;\n",
    "- text — текст обзора."
   ]
  },
  {
   "cell_type": "markdown",
   "metadata": {},
   "source": [
    "## Задачи"
   ]
  },
  {
   "cell_type": "markdown",
   "metadata": {},
   "source": [
    "1. Посчитать, сколько книг вышло после 1 января 2000 года;\n",
    "2. Для каждой книги посчитать количество обзоров и среднюю оценку;\n",
    "3. Определить издательство, которое выпустило наибольшее число книг толще 50 страниц;\n",
    "4. Определить автора с самой высокой средней оценкой книг;\n",
    "5. Посчитать среднее количество обзоров от пользователей, которые поставили больше 50 оценок."
   ]
  },
  {
   "cell_type": "code",
   "execution_count": 1,
   "metadata": {},
   "outputs": [],
   "source": [
    "# импортируем библиотеки\n",
    "import pandas as pd\n",
    "from sqlalchemy import create_engine"
   ]
  },
  {
   "cell_type": "code",
   "execution_count": 2,
   "metadata": {},
   "outputs": [],
   "source": [
    "# устанавливаем параметры\n",
    "db_config = {'user': 'praktikum_student', # имя пользователя\n",
    "'pwd': 'Sdf4$2;d-d30pp', # пароль\n",
    "'host': 'rc1b-wcoijxj3yxfsf3fs.mdb.yandexcloud.net',\n",
    "'port': 6432, # порт подключения\n",
    "'db': 'data-analyst-final-project-db'} # название базы данных\n",
    "connection_string = 'postgresql://{}:{}@{}:{}/{}'.format(db_config['user'],\n",
    " db_config['pwd'],\n",
    " db_config['host'],\n",
    " db_config['port'],\n",
    " db_config['db'])\n",
    "# сохраняем коннектор\n",
    "engine = create_engine(connection_string, connect_args={'sslmode':'require'}) "
   ]
  },
  {
   "cell_type": "code",
   "execution_count": 3,
   "metadata": {},
   "outputs": [],
   "source": [
    "# Напишем функцию для выполнения запросов.\n",
    "def select (sql):\n",
    "    return pd.io.sql.read_sql(sql, con=engine)"
   ]
  },
  {
   "cell_type": "code",
   "execution_count": 4,
   "metadata": {},
   "outputs": [
    {
     "data": {
      "text/html": [
       "<div>\n",
       "<style scoped>\n",
       "    .dataframe tbody tr th:only-of-type {\n",
       "        vertical-align: middle;\n",
       "    }\n",
       "\n",
       "    .dataframe tbody tr th {\n",
       "        vertical-align: top;\n",
       "    }\n",
       "\n",
       "    .dataframe thead th {\n",
       "        text-align: right;\n",
       "    }\n",
       "</style>\n",
       "<table border=\"1\" class=\"dataframe\">\n",
       "  <thead>\n",
       "    <tr style=\"text-align: right;\">\n",
       "      <th></th>\n",
       "      <th>book_id</th>\n",
       "      <th>author_id</th>\n",
       "      <th>title</th>\n",
       "      <th>num_pages</th>\n",
       "      <th>publication_date</th>\n",
       "      <th>publisher_id</th>\n",
       "    </tr>\n",
       "  </thead>\n",
       "  <tbody>\n",
       "    <tr>\n",
       "      <th>0</th>\n",
       "      <td>1</td>\n",
       "      <td>546</td>\n",
       "      <td>'Salem's Lot</td>\n",
       "      <td>594</td>\n",
       "      <td>2005-11-01</td>\n",
       "      <td>93</td>\n",
       "    </tr>\n",
       "    <tr>\n",
       "      <th>1</th>\n",
       "      <td>2</td>\n",
       "      <td>465</td>\n",
       "      <td>1 000 Places to See Before You Die</td>\n",
       "      <td>992</td>\n",
       "      <td>2003-05-22</td>\n",
       "      <td>336</td>\n",
       "    </tr>\n",
       "    <tr>\n",
       "      <th>2</th>\n",
       "      <td>3</td>\n",
       "      <td>407</td>\n",
       "      <td>13 Little Blue Envelopes (Little Blue Envelope...</td>\n",
       "      <td>322</td>\n",
       "      <td>2010-12-21</td>\n",
       "      <td>135</td>\n",
       "    </tr>\n",
       "    <tr>\n",
       "      <th>3</th>\n",
       "      <td>4</td>\n",
       "      <td>82</td>\n",
       "      <td>1491: New Revelations of the Americas Before C...</td>\n",
       "      <td>541</td>\n",
       "      <td>2006-10-10</td>\n",
       "      <td>309</td>\n",
       "    </tr>\n",
       "    <tr>\n",
       "      <th>4</th>\n",
       "      <td>5</td>\n",
       "      <td>125</td>\n",
       "      <td>1776</td>\n",
       "      <td>386</td>\n",
       "      <td>2006-07-04</td>\n",
       "      <td>268</td>\n",
       "    </tr>\n",
       "  </tbody>\n",
       "</table>\n",
       "</div>"
      ],
      "text/plain": [
       "   book_id  author_id                                              title  \\\n",
       "0        1        546                                       'Salem's Lot   \n",
       "1        2        465                 1 000 Places to See Before You Die   \n",
       "2        3        407  13 Little Blue Envelopes (Little Blue Envelope...   \n",
       "3        4         82  1491: New Revelations of the Americas Before C...   \n",
       "4        5        125                                               1776   \n",
       "\n",
       "   num_pages publication_date  publisher_id  \n",
       "0        594       2005-11-01            93  \n",
       "1        992       2003-05-22           336  \n",
       "2        322       2010-12-21           135  \n",
       "3        541       2006-10-10           309  \n",
       "4        386       2006-07-04           268  "
      ]
     },
     "execution_count": 4,
     "metadata": {},
     "output_type": "execute_result"
    }
   ],
   "source": [
    "books = '''\n",
    "        SELECT *\n",
    "        FROM books\n",
    "        LIMIT 5;\n",
    "        '''\n",
    "select (books)"
   ]
  },
  {
   "cell_type": "markdown",
   "metadata": {},
   "source": [
    "Таблица **books** cодержит данные о книгах."
   ]
  },
  {
   "cell_type": "code",
   "execution_count": 5,
   "metadata": {},
   "outputs": [
    {
     "data": {
      "text/html": [
       "<div>\n",
       "<style scoped>\n",
       "    .dataframe tbody tr th:only-of-type {\n",
       "        vertical-align: middle;\n",
       "    }\n",
       "\n",
       "    .dataframe tbody tr th {\n",
       "        vertical-align: top;\n",
       "    }\n",
       "\n",
       "    .dataframe thead th {\n",
       "        text-align: right;\n",
       "    }\n",
       "</style>\n",
       "<table border=\"1\" class=\"dataframe\">\n",
       "  <thead>\n",
       "    <tr style=\"text-align: right;\">\n",
       "      <th></th>\n",
       "      <th>author_id</th>\n",
       "      <th>author</th>\n",
       "    </tr>\n",
       "  </thead>\n",
       "  <tbody>\n",
       "    <tr>\n",
       "      <th>0</th>\n",
       "      <td>1</td>\n",
       "      <td>A.S. Byatt</td>\n",
       "    </tr>\n",
       "    <tr>\n",
       "      <th>1</th>\n",
       "      <td>2</td>\n",
       "      <td>Aesop/Laura Harris/Laura Gibbs</td>\n",
       "    </tr>\n",
       "    <tr>\n",
       "      <th>2</th>\n",
       "      <td>3</td>\n",
       "      <td>Agatha Christie</td>\n",
       "    </tr>\n",
       "    <tr>\n",
       "      <th>3</th>\n",
       "      <td>4</td>\n",
       "      <td>Alan Brennert</td>\n",
       "    </tr>\n",
       "    <tr>\n",
       "      <th>4</th>\n",
       "      <td>5</td>\n",
       "      <td>Alan Moore/David   Lloyd</td>\n",
       "    </tr>\n",
       "  </tbody>\n",
       "</table>\n",
       "</div>"
      ],
      "text/plain": [
       "   author_id                          author\n",
       "0          1                      A.S. Byatt\n",
       "1          2  Aesop/Laura Harris/Laura Gibbs\n",
       "2          3                 Agatha Christie\n",
       "3          4                   Alan Brennert\n",
       "4          5        Alan Moore/David   Lloyd"
      ]
     },
     "execution_count": 5,
     "metadata": {},
     "output_type": "execute_result"
    }
   ],
   "source": [
    "authors = '''\n",
    "        SELECT *\n",
    "        FROM authors\n",
    "        LIMIT 5;\n",
    "        '''\n",
    "select (authors)"
   ]
  },
  {
   "cell_type": "markdown",
   "metadata": {},
   "source": [
    "Таблица **authors** cодержит данные об авторах."
   ]
  },
  {
   "cell_type": "code",
   "execution_count": 6,
   "metadata": {},
   "outputs": [
    {
     "data": {
      "text/html": [
       "<div>\n",
       "<style scoped>\n",
       "    .dataframe tbody tr th:only-of-type {\n",
       "        vertical-align: middle;\n",
       "    }\n",
       "\n",
       "    .dataframe tbody tr th {\n",
       "        vertical-align: top;\n",
       "    }\n",
       "\n",
       "    .dataframe thead th {\n",
       "        text-align: right;\n",
       "    }\n",
       "</style>\n",
       "<table border=\"1\" class=\"dataframe\">\n",
       "  <thead>\n",
       "    <tr style=\"text-align: right;\">\n",
       "      <th></th>\n",
       "      <th>publisher_id</th>\n",
       "      <th>publisher</th>\n",
       "    </tr>\n",
       "  </thead>\n",
       "  <tbody>\n",
       "    <tr>\n",
       "      <th>0</th>\n",
       "      <td>1</td>\n",
       "      <td>Ace</td>\n",
       "    </tr>\n",
       "    <tr>\n",
       "      <th>1</th>\n",
       "      <td>2</td>\n",
       "      <td>Ace Book</td>\n",
       "    </tr>\n",
       "    <tr>\n",
       "      <th>2</th>\n",
       "      <td>3</td>\n",
       "      <td>Ace Books</td>\n",
       "    </tr>\n",
       "    <tr>\n",
       "      <th>3</th>\n",
       "      <td>4</td>\n",
       "      <td>Ace Hardcover</td>\n",
       "    </tr>\n",
       "    <tr>\n",
       "      <th>4</th>\n",
       "      <td>5</td>\n",
       "      <td>Addison Wesley Publishing Company</td>\n",
       "    </tr>\n",
       "  </tbody>\n",
       "</table>\n",
       "</div>"
      ],
      "text/plain": [
       "   publisher_id                          publisher\n",
       "0             1                                Ace\n",
       "1             2                           Ace Book\n",
       "2             3                          Ace Books\n",
       "3             4                      Ace Hardcover\n",
       "4             5  Addison Wesley Publishing Company"
      ]
     },
     "execution_count": 6,
     "metadata": {},
     "output_type": "execute_result"
    }
   ],
   "source": [
    "publishers = '''\n",
    "        SELECT *\n",
    "        FROM publishers\n",
    "        LIMIT 5;\n",
    "        '''\n",
    "select (publishers)"
   ]
  },
  {
   "cell_type": "markdown",
   "metadata": {},
   "source": [
    "Таблица **publishers** cодержит данные об издательствах."
   ]
  },
  {
   "cell_type": "code",
   "execution_count": 7,
   "metadata": {},
   "outputs": [
    {
     "data": {
      "text/html": [
       "<div>\n",
       "<style scoped>\n",
       "    .dataframe tbody tr th:only-of-type {\n",
       "        vertical-align: middle;\n",
       "    }\n",
       "\n",
       "    .dataframe tbody tr th {\n",
       "        vertical-align: top;\n",
       "    }\n",
       "\n",
       "    .dataframe thead th {\n",
       "        text-align: right;\n",
       "    }\n",
       "</style>\n",
       "<table border=\"1\" class=\"dataframe\">\n",
       "  <thead>\n",
       "    <tr style=\"text-align: right;\">\n",
       "      <th></th>\n",
       "      <th>rating_id</th>\n",
       "      <th>book_id</th>\n",
       "      <th>username</th>\n",
       "      <th>rating</th>\n",
       "    </tr>\n",
       "  </thead>\n",
       "  <tbody>\n",
       "    <tr>\n",
       "      <th>0</th>\n",
       "      <td>1</td>\n",
       "      <td>1</td>\n",
       "      <td>ryanfranco</td>\n",
       "      <td>4</td>\n",
       "    </tr>\n",
       "    <tr>\n",
       "      <th>1</th>\n",
       "      <td>2</td>\n",
       "      <td>1</td>\n",
       "      <td>grantpatricia</td>\n",
       "      <td>2</td>\n",
       "    </tr>\n",
       "    <tr>\n",
       "      <th>2</th>\n",
       "      <td>3</td>\n",
       "      <td>1</td>\n",
       "      <td>brandtandrea</td>\n",
       "      <td>5</td>\n",
       "    </tr>\n",
       "    <tr>\n",
       "      <th>3</th>\n",
       "      <td>4</td>\n",
       "      <td>2</td>\n",
       "      <td>lorichen</td>\n",
       "      <td>3</td>\n",
       "    </tr>\n",
       "    <tr>\n",
       "      <th>4</th>\n",
       "      <td>5</td>\n",
       "      <td>2</td>\n",
       "      <td>mariokeller</td>\n",
       "      <td>2</td>\n",
       "    </tr>\n",
       "  </tbody>\n",
       "</table>\n",
       "</div>"
      ],
      "text/plain": [
       "   rating_id  book_id       username  rating\n",
       "0          1        1     ryanfranco       4\n",
       "1          2        1  grantpatricia       2\n",
       "2          3        1   brandtandrea       5\n",
       "3          4        2       lorichen       3\n",
       "4          5        2    mariokeller       2"
      ]
     },
     "execution_count": 7,
     "metadata": {},
     "output_type": "execute_result"
    }
   ],
   "source": [
    "ratings = '''\n",
    "        SELECT *\n",
    "        FROM ratings\n",
    "        LIMIT 5;\n",
    "        '''\n",
    "select (ratings)"
   ]
  },
  {
   "cell_type": "markdown",
   "metadata": {},
   "source": [
    "Таблица **ratings** cодержит данные о пользовательских оценках книг."
   ]
  },
  {
   "cell_type": "code",
   "execution_count": 8,
   "metadata": {},
   "outputs": [
    {
     "data": {
      "text/html": [
       "<div>\n",
       "<style scoped>\n",
       "    .dataframe tbody tr th:only-of-type {\n",
       "        vertical-align: middle;\n",
       "    }\n",
       "\n",
       "    .dataframe tbody tr th {\n",
       "        vertical-align: top;\n",
       "    }\n",
       "\n",
       "    .dataframe thead th {\n",
       "        text-align: right;\n",
       "    }\n",
       "</style>\n",
       "<table border=\"1\" class=\"dataframe\">\n",
       "  <thead>\n",
       "    <tr style=\"text-align: right;\">\n",
       "      <th></th>\n",
       "      <th>review_id</th>\n",
       "      <th>book_id</th>\n",
       "      <th>username</th>\n",
       "      <th>text</th>\n",
       "    </tr>\n",
       "  </thead>\n",
       "  <tbody>\n",
       "    <tr>\n",
       "      <th>0</th>\n",
       "      <td>1</td>\n",
       "      <td>1</td>\n",
       "      <td>brandtandrea</td>\n",
       "      <td>Mention society tell send professor analysis. ...</td>\n",
       "    </tr>\n",
       "    <tr>\n",
       "      <th>1</th>\n",
       "      <td>2</td>\n",
       "      <td>1</td>\n",
       "      <td>ryanfranco</td>\n",
       "      <td>Foot glass pretty audience hit themselves. Amo...</td>\n",
       "    </tr>\n",
       "    <tr>\n",
       "      <th>2</th>\n",
       "      <td>3</td>\n",
       "      <td>2</td>\n",
       "      <td>lorichen</td>\n",
       "      <td>Listen treat keep worry. Miss husband tax but ...</td>\n",
       "    </tr>\n",
       "    <tr>\n",
       "      <th>3</th>\n",
       "      <td>4</td>\n",
       "      <td>3</td>\n",
       "      <td>johnsonamanda</td>\n",
       "      <td>Finally month interesting blue could nature cu...</td>\n",
       "    </tr>\n",
       "    <tr>\n",
       "      <th>4</th>\n",
       "      <td>5</td>\n",
       "      <td>3</td>\n",
       "      <td>scotttamara</td>\n",
       "      <td>Nation purpose heavy give wait song will. List...</td>\n",
       "    </tr>\n",
       "  </tbody>\n",
       "</table>\n",
       "</div>"
      ],
      "text/plain": [
       "   review_id  book_id       username  \\\n",
       "0          1        1   brandtandrea   \n",
       "1          2        1     ryanfranco   \n",
       "2          3        2       lorichen   \n",
       "3          4        3  johnsonamanda   \n",
       "4          5        3    scotttamara   \n",
       "\n",
       "                                                text  \n",
       "0  Mention society tell send professor analysis. ...  \n",
       "1  Foot glass pretty audience hit themselves. Amo...  \n",
       "2  Listen treat keep worry. Miss husband tax but ...  \n",
       "3  Finally month interesting blue could nature cu...  \n",
       "4  Nation purpose heavy give wait song will. List...  "
      ]
     },
     "execution_count": 8,
     "metadata": {},
     "output_type": "execute_result"
    }
   ],
   "source": [
    "reviews = '''\n",
    "        SELECT *\n",
    "        FROM reviews\n",
    "        LIMIT 5;\n",
    "        '''\n",
    "select (reviews)"
   ]
  },
  {
   "cell_type": "markdown",
   "metadata": {},
   "source": [
    "Таблица **reviews** cодержит данные о пользовательских обзорах на книги."
   ]
  },
  {
   "cell_type": "markdown",
   "metadata": {},
   "source": [
    "### Посчитаем, сколько книг вышло после 1 января 2000 года;"
   ]
  },
  {
   "cell_type": "code",
   "execution_count": 9,
   "metadata": {},
   "outputs": [],
   "source": [
    "# Напишем функцию для выполнения запросов.\n",
    "def select (sql):\n",
    "    return pd.io.sql.read_sql(sql, con=engine)"
   ]
  },
  {
   "cell_type": "code",
   "execution_count": 10,
   "metadata": {},
   "outputs": [
    {
     "data": {
      "text/html": [
       "<div>\n",
       "<style scoped>\n",
       "    .dataframe tbody tr th:only-of-type {\n",
       "        vertical-align: middle;\n",
       "    }\n",
       "\n",
       "    .dataframe tbody tr th {\n",
       "        vertical-align: top;\n",
       "    }\n",
       "\n",
       "    .dataframe thead th {\n",
       "        text-align: right;\n",
       "    }\n",
       "</style>\n",
       "<table border=\"1\" class=\"dataframe\">\n",
       "  <thead>\n",
       "    <tr style=\"text-align: right;\">\n",
       "      <th></th>\n",
       "      <th>books_count</th>\n",
       "    </tr>\n",
       "  </thead>\n",
       "  <tbody>\n",
       "    <tr>\n",
       "      <th>0</th>\n",
       "      <td>819</td>\n",
       "    </tr>\n",
       "  </tbody>\n",
       "</table>\n",
       "</div>"
      ],
      "text/plain": [
       "   books_count\n",
       "0          819"
      ]
     },
     "execution_count": 10,
     "metadata": {},
     "output_type": "execute_result"
    }
   ],
   "source": [
    "sql = '''\n",
    "        SELECT COUNT(book_id) books_count\n",
    "        FROM books\n",
    "        WHERE publication_date > '2000-01-01';\n",
    "        '''\n",
    "select (sql)"
   ]
  },
  {
   "cell_type": "markdown",
   "metadata": {},
   "source": [
    "В базе данных содержится информация о 819 книгах, дата публикации которых после 1 января 2000 года."
   ]
  },
  {
   "cell_type": "markdown",
   "metadata": {},
   "source": [
    "### Для каждой книги посчитаем количество обзоров и среднюю оценку"
   ]
  },
  {
   "cell_type": "code",
   "execution_count": 11,
   "metadata": {},
   "outputs": [
    {
     "data": {
      "text/html": [
       "<div>\n",
       "<style scoped>\n",
       "    .dataframe tbody tr th:only-of-type {\n",
       "        vertical-align: middle;\n",
       "    }\n",
       "\n",
       "    .dataframe tbody tr th {\n",
       "        vertical-align: top;\n",
       "    }\n",
       "\n",
       "    .dataframe thead th {\n",
       "        text-align: right;\n",
       "    }\n",
       "</style>\n",
       "<table border=\"1\" class=\"dataframe\">\n",
       "  <thead>\n",
       "    <tr style=\"text-align: right;\">\n",
       "      <th></th>\n",
       "      <th>title</th>\n",
       "      <th>review_count</th>\n",
       "      <th>rating_avg</th>\n",
       "    </tr>\n",
       "  </thead>\n",
       "  <tbody>\n",
       "    <tr>\n",
       "      <th>0</th>\n",
       "      <td>Arrows of the Queen (Heralds of Valdemar  #1)</td>\n",
       "      <td>2</td>\n",
       "      <td>5.00</td>\n",
       "    </tr>\n",
       "    <tr>\n",
       "      <th>1</th>\n",
       "      <td>The Walking Dead  Book One (The Walking Dead #...</td>\n",
       "      <td>2</td>\n",
       "      <td>5.00</td>\n",
       "    </tr>\n",
       "    <tr>\n",
       "      <th>2</th>\n",
       "      <td>Light in August</td>\n",
       "      <td>2</td>\n",
       "      <td>5.00</td>\n",
       "    </tr>\n",
       "    <tr>\n",
       "      <th>3</th>\n",
       "      <td>Wherever You Go  There You Are: Mindfulness Me...</td>\n",
       "      <td>2</td>\n",
       "      <td>5.00</td>\n",
       "    </tr>\n",
       "    <tr>\n",
       "      <th>4</th>\n",
       "      <td>Captivating: Unveiling the Mystery of a Woman'...</td>\n",
       "      <td>2</td>\n",
       "      <td>5.00</td>\n",
       "    </tr>\n",
       "    <tr>\n",
       "      <th>...</th>\n",
       "      <td>...</td>\n",
       "      <td>...</td>\n",
       "      <td>...</td>\n",
       "    </tr>\n",
       "    <tr>\n",
       "      <th>995</th>\n",
       "      <td>The World Is Flat: A Brief History of the Twen...</td>\n",
       "      <td>3</td>\n",
       "      <td>2.25</td>\n",
       "    </tr>\n",
       "    <tr>\n",
       "      <th>996</th>\n",
       "      <td>His Excellency: George Washington</td>\n",
       "      <td>2</td>\n",
       "      <td>2.00</td>\n",
       "    </tr>\n",
       "    <tr>\n",
       "      <th>997</th>\n",
       "      <td>Drowning Ruth</td>\n",
       "      <td>3</td>\n",
       "      <td>2.00</td>\n",
       "    </tr>\n",
       "    <tr>\n",
       "      <th>998</th>\n",
       "      <td>Junky</td>\n",
       "      <td>2</td>\n",
       "      <td>2.00</td>\n",
       "    </tr>\n",
       "    <tr>\n",
       "      <th>999</th>\n",
       "      <td>Harvesting the Heart</td>\n",
       "      <td>2</td>\n",
       "      <td>1.50</td>\n",
       "    </tr>\n",
       "  </tbody>\n",
       "</table>\n",
       "<p>1000 rows × 3 columns</p>\n",
       "</div>"
      ],
      "text/plain": [
       "                                                 title  review_count  \\\n",
       "0        Arrows of the Queen (Heralds of Valdemar  #1)             2   \n",
       "1    The Walking Dead  Book One (The Walking Dead #...             2   \n",
       "2                                      Light in August             2   \n",
       "3    Wherever You Go  There You Are: Mindfulness Me...             2   \n",
       "4    Captivating: Unveiling the Mystery of a Woman'...             2   \n",
       "..                                                 ...           ...   \n",
       "995  The World Is Flat: A Brief History of the Twen...             3   \n",
       "996                  His Excellency: George Washington             2   \n",
       "997                                      Drowning Ruth             3   \n",
       "998                                              Junky             2   \n",
       "999                               Harvesting the Heart             2   \n",
       "\n",
       "     rating_avg  \n",
       "0          5.00  \n",
       "1          5.00  \n",
       "2          5.00  \n",
       "3          5.00  \n",
       "4          5.00  \n",
       "..          ...  \n",
       "995        2.25  \n",
       "996        2.00  \n",
       "997        2.00  \n",
       "998        2.00  \n",
       "999        1.50  \n",
       "\n",
       "[1000 rows x 3 columns]"
      ]
     },
     "execution_count": 11,
     "metadata": {},
     "output_type": "execute_result"
    }
   ],
   "source": [
    "sql = '''\n",
    "        SELECT  b.title,\n",
    "                COUNT(DISTINCT re.review_id) review_count,\n",
    "                AVG(ra.rating) rating_avg\n",
    "        FROM books b\n",
    "        LEFT JOIN reviews re ON b.book_id = re.book_id\n",
    "        JOIN ratings ra ON b.book_id = ra.book_id\n",
    "        GROUP BY b.book_id\n",
    "        ORDER BY 3 DESC;\n",
    "        '''\n",
    "select (sql)"
   ]
  },
  {
   "cell_type": "markdown",
   "metadata": {},
   "source": [
    "В базе данных имеются книги с максимальным средним рейтингом 5,0. Минимальным средним рейтингом - 1,5 обладает книга Harvesting the Heart.\n"
   ]
  },
  {
   "cell_type": "code",
   "execution_count": 12,
   "metadata": {},
   "outputs": [
    {
     "data": {
      "text/html": [
       "<div>\n",
       "<style scoped>\n",
       "    .dataframe tbody tr th:only-of-type {\n",
       "        vertical-align: middle;\n",
       "    }\n",
       "\n",
       "    .dataframe tbody tr th {\n",
       "        vertical-align: top;\n",
       "    }\n",
       "\n",
       "    .dataframe thead th {\n",
       "        text-align: right;\n",
       "    }\n",
       "</style>\n",
       "<table border=\"1\" class=\"dataframe\">\n",
       "  <thead>\n",
       "    <tr style=\"text-align: right;\">\n",
       "      <th></th>\n",
       "      <th>title</th>\n",
       "      <th>review_count</th>\n",
       "      <th>rating_avg</th>\n",
       "    </tr>\n",
       "  </thead>\n",
       "  <tbody>\n",
       "    <tr>\n",
       "      <th>0</th>\n",
       "      <td>Twilight (Twilight  #1)</td>\n",
       "      <td>7</td>\n",
       "      <td>3.662500</td>\n",
       "    </tr>\n",
       "    <tr>\n",
       "      <th>1</th>\n",
       "      <td>Water for Elephants</td>\n",
       "      <td>6</td>\n",
       "      <td>3.977273</td>\n",
       "    </tr>\n",
       "    <tr>\n",
       "      <th>2</th>\n",
       "      <td>The Glass Castle</td>\n",
       "      <td>6</td>\n",
       "      <td>4.206897</td>\n",
       "    </tr>\n",
       "    <tr>\n",
       "      <th>3</th>\n",
       "      <td>Harry Potter and the Prisoner of Azkaban (Harr...</td>\n",
       "      <td>6</td>\n",
       "      <td>4.414634</td>\n",
       "    </tr>\n",
       "    <tr>\n",
       "      <th>4</th>\n",
       "      <td>The Curious Incident of the Dog in the Night-Time</td>\n",
       "      <td>6</td>\n",
       "      <td>4.081081</td>\n",
       "    </tr>\n",
       "    <tr>\n",
       "      <th>...</th>\n",
       "      <td>...</td>\n",
       "      <td>...</td>\n",
       "      <td>...</td>\n",
       "    </tr>\n",
       "    <tr>\n",
       "      <th>995</th>\n",
       "      <td>Anne Rice's The Vampire Lestat: A Graphic Novel</td>\n",
       "      <td>0</td>\n",
       "      <td>3.666667</td>\n",
       "    </tr>\n",
       "    <tr>\n",
       "      <th>996</th>\n",
       "      <td>The Natural Way to Draw</td>\n",
       "      <td>0</td>\n",
       "      <td>3.000000</td>\n",
       "    </tr>\n",
       "    <tr>\n",
       "      <th>997</th>\n",
       "      <td>The Cat in the Hat and Other Dr. Seuss Favorites</td>\n",
       "      <td>0</td>\n",
       "      <td>5.000000</td>\n",
       "    </tr>\n",
       "    <tr>\n",
       "      <th>998</th>\n",
       "      <td>Essential Tales and Poems</td>\n",
       "      <td>0</td>\n",
       "      <td>4.000000</td>\n",
       "    </tr>\n",
       "    <tr>\n",
       "      <th>999</th>\n",
       "      <td>Disney's Beauty and the Beast (A Little Golden...</td>\n",
       "      <td>0</td>\n",
       "      <td>4.000000</td>\n",
       "    </tr>\n",
       "  </tbody>\n",
       "</table>\n",
       "<p>1000 rows × 3 columns</p>\n",
       "</div>"
      ],
      "text/plain": [
       "                                                 title  review_count  \\\n",
       "0                              Twilight (Twilight  #1)             7   \n",
       "1                                  Water for Elephants             6   \n",
       "2                                     The Glass Castle             6   \n",
       "3    Harry Potter and the Prisoner of Azkaban (Harr...             6   \n",
       "4    The Curious Incident of the Dog in the Night-Time             6   \n",
       "..                                                 ...           ...   \n",
       "995    Anne Rice's The Vampire Lestat: A Graphic Novel             0   \n",
       "996                            The Natural Way to Draw             0   \n",
       "997   The Cat in the Hat and Other Dr. Seuss Favorites             0   \n",
       "998                          Essential Tales and Poems             0   \n",
       "999  Disney's Beauty and the Beast (A Little Golden...             0   \n",
       "\n",
       "     rating_avg  \n",
       "0      3.662500  \n",
       "1      3.977273  \n",
       "2      4.206897  \n",
       "3      4.414634  \n",
       "4      4.081081  \n",
       "..          ...  \n",
       "995    3.666667  \n",
       "996    3.000000  \n",
       "997    5.000000  \n",
       "998    4.000000  \n",
       "999    4.000000  \n",
       "\n",
       "[1000 rows x 3 columns]"
      ]
     },
     "execution_count": 12,
     "metadata": {},
     "output_type": "execute_result"
    }
   ],
   "source": [
    "sql = '''\n",
    "        SELECT  b.title,\n",
    "                COUNT(DISTINCT re.review_id) review_count,\n",
    "                AVG(ra.rating) rating_avg\n",
    "        FROM books b\n",
    "        LEFT JOIN reviews re ON b.book_id = re.book_id\n",
    "        JOIN ratings ra ON b.book_id = ra.book_id\n",
    "        GROUP BY b.book_id\n",
    "        ORDER BY 2 DESC;\n",
    "        '''\n",
    "select (sql)"
   ]
  },
  {
   "cell_type": "markdown",
   "metadata": {},
   "source": [
    "Если рассмотреть количество обзоров на книгу, то их не так уж много. Максимум - 7 обзоров - у книги Twilight (Сумерки)."
   ]
  },
  {
   "cell_type": "markdown",
   "metadata": {},
   "source": [
    "### Определим издательство, которое выпустило наибольшее число книг толще 50 страниц"
   ]
  },
  {
   "cell_type": "code",
   "execution_count": 13,
   "metadata": {},
   "outputs": [
    {
     "data": {
      "text/html": [
       "<div>\n",
       "<style scoped>\n",
       "    .dataframe tbody tr th:only-of-type {\n",
       "        vertical-align: middle;\n",
       "    }\n",
       "\n",
       "    .dataframe tbody tr th {\n",
       "        vertical-align: top;\n",
       "    }\n",
       "\n",
       "    .dataframe thead th {\n",
       "        text-align: right;\n",
       "    }\n",
       "</style>\n",
       "<table border=\"1\" class=\"dataframe\">\n",
       "  <thead>\n",
       "    <tr style=\"text-align: right;\">\n",
       "      <th></th>\n",
       "      <th>publisher</th>\n",
       "      <th>count</th>\n",
       "    </tr>\n",
       "  </thead>\n",
       "  <tbody>\n",
       "    <tr>\n",
       "      <th>0</th>\n",
       "      <td>Penguin Books</td>\n",
       "      <td>42</td>\n",
       "    </tr>\n",
       "  </tbody>\n",
       "</table>\n",
       "</div>"
      ],
      "text/plain": [
       "       publisher  count\n",
       "0  Penguin Books     42"
      ]
     },
     "execution_count": 13,
     "metadata": {},
     "output_type": "execute_result"
    }
   ],
   "source": [
    "sql = '''\n",
    "        SELECT p.publisher,\n",
    "                COUNT(b.book_id)\n",
    "        FROM publishers p\n",
    "        JOIN books b ON p.publisher_id = b.publisher_id\n",
    "        WHERE b.num_pages > 50\n",
    "        GROUP BY 1\n",
    "        ORDER BY 2 DESC\n",
    "        LIMIT 1;\n",
    "        '''\n",
    "select (sql)"
   ]
  },
  {
   "cell_type": "markdown",
   "metadata": {},
   "source": [
    "Издательство, которое выпустило наибольшее число книг толще 50 страниц - это Penguin Books, выпустившее 42 книги."
   ]
  },
  {
   "cell_type": "markdown",
   "metadata": {},
   "source": [
    "### Определим автора с самой высокой средней оценкой книг (учитывая только книги с 50 и более оценками)"
   ]
  },
  {
   "cell_type": "code",
   "execution_count": 14,
   "metadata": {},
   "outputs": [
    {
     "data": {
      "text/html": [
       "<div>\n",
       "<style scoped>\n",
       "    .dataframe tbody tr th:only-of-type {\n",
       "        vertical-align: middle;\n",
       "    }\n",
       "\n",
       "    .dataframe tbody tr th {\n",
       "        vertical-align: top;\n",
       "    }\n",
       "\n",
       "    .dataframe thead th {\n",
       "        text-align: right;\n",
       "    }\n",
       "</style>\n",
       "<table border=\"1\" class=\"dataframe\">\n",
       "  <thead>\n",
       "    <tr style=\"text-align: right;\">\n",
       "      <th></th>\n",
       "      <th>author</th>\n",
       "      <th>rating_avg</th>\n",
       "    </tr>\n",
       "  </thead>\n",
       "  <tbody>\n",
       "    <tr>\n",
       "      <th>0</th>\n",
       "      <td>J.K. Rowling/Mary GrandPré</td>\n",
       "      <td>4.283844</td>\n",
       "    </tr>\n",
       "  </tbody>\n",
       "</table>\n",
       "</div>"
      ],
      "text/plain": [
       "                       author  rating_avg\n",
       "0  J.K. Rowling/Mary GrandPré    4.283844"
      ]
     },
     "execution_count": 14,
     "metadata": {},
     "output_type": "execute_result"
    }
   ],
   "source": [
    "sql = '''\n",
    "        SELECT books_50.author author,\n",
    "                AVG(books_50.rating_avg) rating_avg\n",
    "        FROM\n",
    "            (SELECT a.author,\n",
    "                    b.book_id,\n",
    "                    AVG(r.rating) rating_avg,\n",
    "                    COUNT(r.rating) rating_count\n",
    "            FROM authors a\n",
    "            INNER JOIN books b ON b.author_id = a.author_id\n",
    "            INNER JOIN ratings r ON r.book_id = b.book_id\n",
    "            GROUP BY 1, 2\n",
    "            HAVING COUNT(r.rating) >= 50) books_50\n",
    "        GROUP BY 1\n",
    "        ORDER BY 2 DESC\n",
    "        LIMIT 1     \n",
    "        '''\n",
    "select (sql)"
   ]
  },
  {
   "cell_type": "markdown",
   "metadata": {},
   "source": [
    "Самая высокая средняя оценка книг (4.28) у автора J.K.Rowling. \n",
    "\n",
    "Это неудивительно, так как книги о Гарри Поттере, автором которых она является, получили несколько наград и были проданы в количестве более 500 миллионов экземпляров. Они стали самой продаваемой серией книг в истории. (Материал из Википедии)"
   ]
  },
  {
   "cell_type": "markdown",
   "metadata": {},
   "source": [
    "### Посчитаем среднее количество обзоров от пользователей, которые поставили больше 50 оценок"
   ]
  },
  {
   "cell_type": "code",
   "execution_count": 15,
   "metadata": {},
   "outputs": [
    {
     "data": {
      "text/html": [
       "<div>\n",
       "<style scoped>\n",
       "    .dataframe tbody tr th:only-of-type {\n",
       "        vertical-align: middle;\n",
       "    }\n",
       "\n",
       "    .dataframe tbody tr th {\n",
       "        vertical-align: top;\n",
       "    }\n",
       "\n",
       "    .dataframe thead th {\n",
       "        text-align: right;\n",
       "    }\n",
       "</style>\n",
       "<table border=\"1\" class=\"dataframe\">\n",
       "  <thead>\n",
       "    <tr style=\"text-align: right;\">\n",
       "      <th></th>\n",
       "      <th>review_avg</th>\n",
       "    </tr>\n",
       "  </thead>\n",
       "  <tbody>\n",
       "    <tr>\n",
       "      <th>0</th>\n",
       "      <td>24.333333</td>\n",
       "    </tr>\n",
       "  </tbody>\n",
       "</table>\n",
       "</div>"
      ],
      "text/plain": [
       "   review_avg\n",
       "0   24.333333"
      ]
     },
     "execution_count": 15,
     "metadata": {},
     "output_type": "execute_result"
    }
   ],
   "source": [
    "sql = ''' \n",
    "    SELECT avg(count) review_avg\n",
    "    FROM\n",
    "        (SELECT COUNT(review_id)\n",
    "        FROM reviews r\n",
    "        FULL OUTER JOIN (SELECT username, \n",
    "                        COUNT(rating_id) count \n",
    "                        FROM ratings \n",
    "                        GROUP BY 1) rating_count\n",
    "        ON rating_count.username = r.username \n",
    "        WHERE count > 50\n",
    "        GROUP BY r.username) as count;\n",
    "'''\n",
    "select (sql)"
   ]
  },
  {
   "cell_type": "markdown",
   "metadata": {},
   "source": [
    "Пользователи, которые поставили более 50 оценок, в среднем составляют 24 обзора."
   ]
  },
  {
   "cell_type": "markdown",
   "metadata": {},
   "source": [
    "## Выводы"
   ]
  },
  {
   "cell_type": "markdown",
   "metadata": {},
   "source": [
    "Целью исследования было проанализировать базу данных, в которой содержится информация о книгах, издательствах, авторах, а также пользовательские обзоры книг. Эти данные должны помочь сформулировать ценностное предложение для нового продукта.\n",
    "\n",
    "Вот что удалось выявить в ходе исследования:\n",
    "- В базе данных содержится информация о 819 книгах, дата публикации которых после 1 января 2000 года.\n",
    "- В базе данных имеются книги с максимальным средним рейтингом 5,0. Минимальным средним рейтингом - 1,5 обладает книга Harvesting the Heart. Если рассмотреть количество обзоров на книгу, то их не так уж много. Максимум - 7 обзоров - у книги Twilight (Сумерки).\n",
    "- Издательство, которое выпустило наибольшее число книг толще 50 страниц - это Penguin Books, выпустившее 42 книги.\n",
    "- Самая высокая средняя оценка книг (4.28) у автора J.K.Rowling.\n",
    "- Пользователи, которые поставили более 50 оценок, в среднем составляют 24 обзора."
   ]
  }
 ],
 "metadata": {
  "ExecuteTimeLog": [
   {
    "duration": 518,
    "start_time": "2023-02-08T16:03:34.589Z"
   },
   {
    "duration": 5344,
    "start_time": "2023-02-08T16:03:39.776Z"
   },
   {
    "duration": 9,
    "start_time": "2023-02-08T16:03:58.517Z"
   },
   {
    "duration": 65,
    "start_time": "2023-02-08T16:08:14.523Z"
   },
   {
    "duration": 41,
    "start_time": "2023-02-08T16:08:21.344Z"
   },
   {
    "duration": 6,
    "start_time": "2023-02-08T16:08:23.625Z"
   },
   {
    "duration": 2,
    "start_time": "2023-02-08T16:08:29.266Z"
   },
   {
    "duration": 311,
    "start_time": "2023-02-08T16:08:31.747Z"
   },
   {
    "duration": 552,
    "start_time": "2023-02-08T16:08:47.268Z"
   },
   {
    "duration": 4817,
    "start_time": "2023-02-08T16:08:47.822Z"
   },
   {
    "duration": 3,
    "start_time": "2023-02-08T16:08:52.640Z"
   },
   {
    "duration": 285,
    "start_time": "2023-02-08T16:08:52.645Z"
   },
   {
    "duration": 98,
    "start_time": "2023-02-08T16:12:22.033Z"
   },
   {
    "duration": 2,
    "start_time": "2023-02-08T16:12:25.422Z"
   },
   {
    "duration": 71,
    "start_time": "2023-02-08T16:14:22.067Z"
   },
   {
    "duration": 71,
    "start_time": "2023-02-08T16:14:46.776Z"
   },
   {
    "duration": 140,
    "start_time": "2023-02-08T16:18:10.538Z"
   },
   {
    "duration": 115,
    "start_time": "2023-02-08T16:18:29.279Z"
   },
   {
    "duration": 73,
    "start_time": "2023-02-08T16:21:25.427Z"
   },
   {
    "duration": 71,
    "start_time": "2023-02-08T16:22:20.409Z"
   },
   {
    "duration": 96,
    "start_time": "2023-02-08T16:22:32.621Z"
   },
   {
    "duration": 184,
    "start_time": "2023-02-08T16:26:03.622Z"
   },
   {
    "duration": 122,
    "start_time": "2023-02-08T16:26:22.428Z"
   },
   {
    "duration": 131,
    "start_time": "2023-02-08T16:28:26.246Z"
   },
   {
    "duration": 70,
    "start_time": "2023-02-08T16:29:08.637Z"
   },
   {
    "duration": 100,
    "start_time": "2023-02-08T16:30:51.552Z"
   },
   {
    "duration": 123,
    "start_time": "2023-02-08T16:31:00.366Z"
   },
   {
    "duration": 82,
    "start_time": "2023-02-08T16:31:34.780Z"
   },
   {
    "duration": 132,
    "start_time": "2023-02-08T16:37:00.087Z"
   },
   {
    "duration": 134,
    "start_time": "2023-02-08T16:37:25.637Z"
   },
   {
    "duration": 473,
    "start_time": "2023-02-09T02:52:32.936Z"
   },
   {
    "duration": 7721,
    "start_time": "2023-02-09T02:52:33.411Z"
   },
   {
    "duration": 3,
    "start_time": "2023-02-09T02:52:41.134Z"
   },
   {
    "duration": 54,
    "start_time": "2023-02-09T02:52:41.138Z"
   },
   {
    "duration": 27,
    "start_time": "2023-02-09T02:52:41.194Z"
   },
   {
    "duration": 24,
    "start_time": "2023-02-09T02:52:41.222Z"
   },
   {
    "duration": 11,
    "start_time": "2023-02-09T02:52:41.248Z"
   },
   {
    "duration": 15,
    "start_time": "2023-02-09T02:52:41.260Z"
   },
   {
    "duration": 12,
    "start_time": "2023-02-09T02:52:41.276Z"
   },
   {
    "duration": 523,
    "start_time": "2023-02-09T11:06:56.502Z"
   },
   {
    "duration": 9823,
    "start_time": "2023-02-09T11:06:57.028Z"
   },
   {
    "duration": 3,
    "start_time": "2023-02-09T11:07:06.857Z"
   },
   {
    "duration": 317,
    "start_time": "2023-02-09T11:07:06.862Z"
   },
   {
    "duration": 487,
    "start_time": "2023-02-09T11:07:07.183Z"
   },
   {
    "duration": 102,
    "start_time": "2023-02-09T11:07:07.672Z"
   },
   {
    "duration": 90,
    "start_time": "2023-02-09T11:07:07.776Z"
   },
   {
    "duration": 82,
    "start_time": "2023-02-09T11:07:07.869Z"
   },
   {
    "duration": 79,
    "start_time": "2023-02-09T11:07:07.953Z"
   },
   {
    "duration": 82,
    "start_time": "2023-02-09T11:08:34.961Z"
   },
   {
    "duration": 81,
    "start_time": "2023-02-09T11:08:37.731Z"
   },
   {
    "duration": 49,
    "start_time": "2023-02-09T11:44:44.359Z"
   },
   {
    "duration": 518,
    "start_time": "2023-02-09T11:44:51.267Z"
   },
   {
    "duration": 8187,
    "start_time": "2023-02-09T11:44:51.787Z"
   },
   {
    "duration": 3,
    "start_time": "2023-02-09T11:44:59.976Z"
   },
   {
    "duration": 92,
    "start_time": "2023-02-09T11:44:59.981Z"
   },
   {
    "duration": 31,
    "start_time": "2023-02-09T11:45:00.074Z"
   },
   {
    "duration": 26,
    "start_time": "2023-02-09T11:45:00.107Z"
   },
   {
    "duration": 12,
    "start_time": "2023-02-09T11:45:00.135Z"
   },
   {
    "duration": 16,
    "start_time": "2023-02-09T11:45:00.148Z"
   },
   {
    "duration": 13,
    "start_time": "2023-02-09T11:45:00.166Z"
   },
   {
    "duration": 3,
    "start_time": "2023-02-09T11:50:39.346Z"
   },
   {
    "duration": 13,
    "start_time": "2023-02-09T11:51:11.105Z"
   },
   {
    "duration": 14,
    "start_time": "2023-02-09T11:51:18.657Z"
   },
   {
    "duration": 13,
    "start_time": "2023-02-09T11:51:42.456Z"
   },
   {
    "duration": 11,
    "start_time": "2023-02-09T11:51:58.734Z"
   },
   {
    "duration": 12,
    "start_time": "2023-02-09T11:52:23.262Z"
   },
   {
    "duration": 13,
    "start_time": "2023-02-09T11:52:45.686Z"
   },
   {
    "duration": 14,
    "start_time": "2023-02-09T11:53:08.709Z"
   },
   {
    "duration": 86,
    "start_time": "2023-02-09T11:56:15.420Z"
   },
   {
    "duration": 605,
    "start_time": "2023-02-09T11:57:38.043Z"
   },
   {
    "duration": 7963,
    "start_time": "2023-02-09T11:57:38.652Z"
   },
   {
    "duration": 4,
    "start_time": "2023-02-09T11:57:46.617Z"
   },
   {
    "duration": 64,
    "start_time": "2023-02-09T11:57:46.626Z"
   },
   {
    "duration": 13,
    "start_time": "2023-02-09T11:57:46.691Z"
   },
   {
    "duration": 16,
    "start_time": "2023-02-09T11:57:46.708Z"
   },
   {
    "duration": 15,
    "start_time": "2023-02-09T11:57:46.726Z"
   },
   {
    "duration": 13,
    "start_time": "2023-02-09T11:57:46.742Z"
   },
   {
    "duration": 4,
    "start_time": "2023-02-09T11:57:46.756Z"
   },
   {
    "duration": 14,
    "start_time": "2023-02-09T11:57:46.762Z"
   },
   {
    "duration": 41,
    "start_time": "2023-02-09T11:57:46.778Z"
   },
   {
    "duration": 27,
    "start_time": "2023-02-09T11:57:46.822Z"
   },
   {
    "duration": 12,
    "start_time": "2023-02-09T11:57:46.851Z"
   },
   {
    "duration": 35,
    "start_time": "2023-02-09T11:57:46.865Z"
   },
   {
    "duration": 14,
    "start_time": "2023-02-09T11:57:46.902Z"
   },
   {
    "duration": 32,
    "start_time": "2023-02-09T11:59:18.258Z"
   },
   {
    "duration": 597,
    "start_time": "2023-02-09T11:59:36.983Z"
   },
   {
    "duration": 7788,
    "start_time": "2023-02-09T11:59:37.582Z"
   },
   {
    "duration": 3,
    "start_time": "2023-02-09T11:59:45.372Z"
   },
   {
    "duration": 56,
    "start_time": "2023-02-09T11:59:45.377Z"
   },
   {
    "duration": 11,
    "start_time": "2023-02-09T11:59:45.435Z"
   },
   {
    "duration": 10,
    "start_time": "2023-02-09T11:59:45.448Z"
   },
   {
    "duration": 11,
    "start_time": "2023-02-09T11:59:45.460Z"
   },
   {
    "duration": 12,
    "start_time": "2023-02-09T11:59:45.473Z"
   },
   {
    "duration": 4,
    "start_time": "2023-02-09T11:59:45.504Z"
   },
   {
    "duration": 22,
    "start_time": "2023-02-09T11:59:45.510Z"
   },
   {
    "duration": 35,
    "start_time": "2023-02-09T11:59:45.534Z"
   },
   {
    "duration": 26,
    "start_time": "2023-02-09T11:59:45.571Z"
   },
   {
    "duration": 13,
    "start_time": "2023-02-09T11:59:45.599Z"
   },
   {
    "duration": 17,
    "start_time": "2023-02-09T11:59:45.613Z"
   },
   {
    "duration": 13,
    "start_time": "2023-02-09T11:59:45.632Z"
   },
   {
    "duration": 534,
    "start_time": "2023-02-10T05:36:51.632Z"
   },
   {
    "duration": 11284,
    "start_time": "2023-02-10T05:36:52.169Z"
   },
   {
    "duration": 3,
    "start_time": "2023-02-10T05:37:03.455Z"
   },
   {
    "duration": 56,
    "start_time": "2023-02-10T05:37:03.460Z"
   },
   {
    "duration": 10,
    "start_time": "2023-02-10T05:37:03.517Z"
   },
   {
    "duration": 13,
    "start_time": "2023-02-10T05:37:03.528Z"
   },
   {
    "duration": 16,
    "start_time": "2023-02-10T05:37:03.542Z"
   },
   {
    "duration": 11,
    "start_time": "2023-02-10T05:37:03.560Z"
   },
   {
    "duration": 3,
    "start_time": "2023-02-10T05:37:03.572Z"
   },
   {
    "duration": 13,
    "start_time": "2023-02-10T05:37:03.577Z"
   },
   {
    "duration": 28,
    "start_time": "2023-02-10T05:37:03.592Z"
   },
   {
    "duration": 53,
    "start_time": "2023-02-10T05:37:03.622Z"
   },
   {
    "duration": 41,
    "start_time": "2023-02-10T05:37:03.677Z"
   },
   {
    "duration": 17,
    "start_time": "2023-02-10T05:37:03.720Z"
   },
   {
    "duration": 13,
    "start_time": "2023-02-10T05:37:03.739Z"
   },
   {
    "duration": 492,
    "start_time": "2023-03-07T08:58:51.734Z"
   },
   {
    "duration": 6641,
    "start_time": "2023-03-07T08:58:52.228Z"
   },
   {
    "duration": 3,
    "start_time": "2023-03-07T08:58:58.871Z"
   },
   {
    "duration": 274,
    "start_time": "2023-03-07T08:58:58.875Z"
   },
   {
    "duration": 70,
    "start_time": "2023-03-07T08:58:59.151Z"
   },
   {
    "duration": 71,
    "start_time": "2023-03-07T08:58:59.222Z"
   },
   {
    "duration": 73,
    "start_time": "2023-03-07T08:58:59.294Z"
   },
   {
    "duration": 72,
    "start_time": "2023-03-07T08:58:59.369Z"
   },
   {
    "duration": 3,
    "start_time": "2023-03-07T08:58:59.443Z"
   },
   {
    "duration": 74,
    "start_time": "2023-03-07T08:58:59.448Z"
   },
   {
    "duration": 106,
    "start_time": "2023-03-07T08:58:59.524Z"
   },
   {
    "duration": 94,
    "start_time": "2023-03-07T08:58:59.632Z"
   },
   {
    "duration": 72,
    "start_time": "2023-03-07T08:58:59.727Z"
   },
   {
    "duration": 75,
    "start_time": "2023-03-07T08:58:59.800Z"
   },
   {
    "duration": 72,
    "start_time": "2023-03-07T08:58:59.876Z"
   },
   {
    "duration": 552,
    "start_time": "2023-03-07T09:00:08.522Z"
   },
   {
    "duration": 13303,
    "start_time": "2023-03-07T09:00:09.077Z"
   },
   {
    "duration": 3,
    "start_time": "2023-03-07T09:00:22.381Z"
   },
   {
    "duration": 281,
    "start_time": "2023-03-07T09:00:22.386Z"
   },
   {
    "duration": 75,
    "start_time": "2023-03-07T09:00:22.669Z"
   },
   {
    "duration": 75,
    "start_time": "2023-03-07T09:00:22.746Z"
   },
   {
    "duration": 75,
    "start_time": "2023-03-07T09:00:22.823Z"
   },
   {
    "duration": 76,
    "start_time": "2023-03-07T09:00:22.900Z"
   },
   {
    "duration": 3,
    "start_time": "2023-03-07T09:00:22.978Z"
   },
   {
    "duration": 90,
    "start_time": "2023-03-07T09:00:22.984Z"
   },
   {
    "duration": 112,
    "start_time": "2023-03-07T09:00:23.076Z"
   },
   {
    "duration": 99,
    "start_time": "2023-03-07T09:00:23.190Z"
   },
   {
    "duration": 77,
    "start_time": "2023-03-07T09:00:23.290Z"
   },
   {
    "duration": 81,
    "start_time": "2023-03-07T09:00:23.368Z"
   },
   {
    "duration": 76,
    "start_time": "2023-03-07T09:00:23.451Z"
   }
  ],
  "kernelspec": {
   "display_name": "Python 3 (ipykernel)",
   "language": "python",
   "name": "python3"
  },
  "language_info": {
   "codemirror_mode": {
    "name": "ipython",
    "version": 3
   },
   "file_extension": ".py",
   "mimetype": "text/x-python",
   "name": "python",
   "nbconvert_exporter": "python",
   "pygments_lexer": "ipython3",
   "version": "3.9.5"
  },
  "toc": {
   "base_numbering": 1,
   "nav_menu": {},
   "number_sections": true,
   "sideBar": true,
   "skip_h1_title": true,
   "title_cell": "Table of Contents",
   "title_sidebar": "Contents",
   "toc_cell": false,
   "toc_position": {},
   "toc_section_display": true,
   "toc_window_display": true
  }
 },
 "nbformat": 4,
 "nbformat_minor": 2
}
