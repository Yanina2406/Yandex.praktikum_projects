{
 "cells": [
  {
   "cell_type": "markdown",
   "metadata": {},
   "source": [
    "# Проект \"Выручка расти\" #"
   ]
  },
  {
   "cell_type": "markdown",
   "metadata": {},
   "source": [
    "**Цель исследования** — проверить гипотезы для увеличения выручки компании.\n",
    "\n",
    "Исследование пройдёт в два этапа:\n",
    "\n",
    "1. Приоритизация гипотез.\n",
    "2.Анализ A/B-теста."
   ]
  },
  {
   "cell_type": "markdown",
   "metadata": {},
   "source": [
    "## Приоритизация гипотез. ##"
   ]
  },
  {
   "cell_type": "code",
   "execution_count": 1,
   "metadata": {},
   "outputs": [],
   "source": [
    "import pandas as pd\n",
    "import datetime as dt\n",
    "import numpy as np\n",
    "import matplotlib.pyplot as plt\n",
    "import scipy.stats as stats"
   ]
  },
  {
   "cell_type": "code",
   "execution_count": 2,
   "metadata": {},
   "outputs": [
    {
     "data": {
      "text/html": [
       "<div>\n",
       "<style scoped>\n",
       "    .dataframe tbody tr th:only-of-type {\n",
       "        vertical-align: middle;\n",
       "    }\n",
       "\n",
       "    .dataframe tbody tr th {\n",
       "        vertical-align: top;\n",
       "    }\n",
       "\n",
       "    .dataframe thead th {\n",
       "        text-align: right;\n",
       "    }\n",
       "</style>\n",
       "<table border=\"1\" class=\"dataframe\">\n",
       "  <thead>\n",
       "    <tr style=\"text-align: right;\">\n",
       "      <th></th>\n",
       "      <th>Hypothesis</th>\n",
       "      <th>Reach</th>\n",
       "      <th>Impact</th>\n",
       "      <th>Confidence</th>\n",
       "      <th>Efforts</th>\n",
       "    </tr>\n",
       "  </thead>\n",
       "  <tbody>\n",
       "    <tr>\n",
       "      <th>0</th>\n",
       "      <td>Добавить два новых канала привлечения трафика, что позволит привлекать на 30% больше пользователей</td>\n",
       "      <td>3</td>\n",
       "      <td>10</td>\n",
       "      <td>8</td>\n",
       "      <td>6</td>\n",
       "    </tr>\n",
       "    <tr>\n",
       "      <th>1</th>\n",
       "      <td>Запустить собственную службу доставки, что сократит срок доставки заказов</td>\n",
       "      <td>2</td>\n",
       "      <td>5</td>\n",
       "      <td>4</td>\n",
       "      <td>10</td>\n",
       "    </tr>\n",
       "    <tr>\n",
       "      <th>2</th>\n",
       "      <td>Добавить блоки рекомендаций товаров на сайт интернет магазина, чтобы повысить конверсию и средни...</td>\n",
       "      <td>8</td>\n",
       "      <td>3</td>\n",
       "      <td>7</td>\n",
       "      <td>3</td>\n",
       "    </tr>\n",
       "    <tr>\n",
       "      <th>3</th>\n",
       "      <td>Изменить структура категорий, что увеличит конверсию, т.к. пользователи быстрее найдут нужный товар</td>\n",
       "      <td>8</td>\n",
       "      <td>3</td>\n",
       "      <td>3</td>\n",
       "      <td>8</td>\n",
       "    </tr>\n",
       "    <tr>\n",
       "      <th>4</th>\n",
       "      <td>Изменить цвет фона главной страницы, чтобы увеличить вовлеченность пользователей</td>\n",
       "      <td>3</td>\n",
       "      <td>1</td>\n",
       "      <td>1</td>\n",
       "      <td>1</td>\n",
       "    </tr>\n",
       "    <tr>\n",
       "      <th>5</th>\n",
       "      <td>Добавить страницу отзывов клиентов о магазине, что позволит увеличить количество заказов</td>\n",
       "      <td>3</td>\n",
       "      <td>2</td>\n",
       "      <td>2</td>\n",
       "      <td>3</td>\n",
       "    </tr>\n",
       "    <tr>\n",
       "      <th>6</th>\n",
       "      <td>Показать на главной странице баннеры с актуальными акциями и распродажами, чтобы увеличить конве...</td>\n",
       "      <td>5</td>\n",
       "      <td>3</td>\n",
       "      <td>8</td>\n",
       "      <td>3</td>\n",
       "    </tr>\n",
       "    <tr>\n",
       "      <th>7</th>\n",
       "      <td>Добавить форму подписки на все основные страницы, чтобы собрать базу клиентов для email-рассылок</td>\n",
       "      <td>10</td>\n",
       "      <td>7</td>\n",
       "      <td>8</td>\n",
       "      <td>5</td>\n",
       "    </tr>\n",
       "    <tr>\n",
       "      <th>8</th>\n",
       "      <td>Запустить акцию, дающую скидку на товар в день рождения</td>\n",
       "      <td>1</td>\n",
       "      <td>9</td>\n",
       "      <td>9</td>\n",
       "      <td>5</td>\n",
       "    </tr>\n",
       "  </tbody>\n",
       "</table>\n",
       "</div>"
      ],
      "text/plain": [
       "                                                                                            Hypothesis  \\\n",
       "0   Добавить два новых канала привлечения трафика, что позволит привлекать на 30% больше пользователей   \n",
       "1                            Запустить собственную службу доставки, что сократит срок доставки заказов   \n",
       "2  Добавить блоки рекомендаций товаров на сайт интернет магазина, чтобы повысить конверсию и средни...   \n",
       "3  Изменить структура категорий, что увеличит конверсию, т.к. пользователи быстрее найдут нужный товар   \n",
       "4                     Изменить цвет фона главной страницы, чтобы увеличить вовлеченность пользователей   \n",
       "5             Добавить страницу отзывов клиентов о магазине, что позволит увеличить количество заказов   \n",
       "6  Показать на главной странице баннеры с актуальными акциями и распродажами, чтобы увеличить конве...   \n",
       "7     Добавить форму подписки на все основные страницы, чтобы собрать базу клиентов для email-рассылок   \n",
       "8                                              Запустить акцию, дающую скидку на товар в день рождения   \n",
       "\n",
       "   Reach  Impact  Confidence  Efforts  \n",
       "0      3      10           8        6  \n",
       "1      2       5           4       10  \n",
       "2      8       3           7        3  \n",
       "3      8       3           3        8  \n",
       "4      3       1           1        1  \n",
       "5      3       2           2        3  \n",
       "6      5       3           8        3  \n",
       "7     10       7           8        5  \n",
       "8      1       9           9        5  "
      ]
     },
     "execution_count": 2,
     "metadata": {},
     "output_type": "execute_result"
    }
   ],
   "source": [
    "data = pd.read_csv('/datasets/hypothesis.csv', sep=',')\n",
    "pd.options.display.max_colwidth = 100\n",
    "data"
   ]
  },
  {
   "cell_type": "code",
   "execution_count": 3,
   "metadata": {},
   "outputs": [
    {
     "name": "stdout",
     "output_type": "stream",
     "text": [
      "<class 'pandas.core.frame.DataFrame'>\n",
      "RangeIndex: 9 entries, 0 to 8\n",
      "Data columns (total 5 columns):\n",
      " #   Column      Non-Null Count  Dtype \n",
      "---  ------      --------------  ----- \n",
      " 0   hypothesis  9 non-null      object\n",
      " 1   reach       9 non-null      int64 \n",
      " 2   impact      9 non-null      int64 \n",
      " 3   confidence  9 non-null      int64 \n",
      " 4   efforts     9 non-null      int64 \n",
      "dtypes: int64(4), object(1)\n",
      "memory usage: 488.0+ bytes\n"
     ]
    }
   ],
   "source": [
    "data.columns = data.columns.str.lower() #переведем все символы в наименовании столбцов к нижнему регистру\n",
    "data.info()"
   ]
  },
  {
   "cell_type": "code",
   "execution_count": 4,
   "metadata": {},
   "outputs": [
    {
     "data": {
      "text/plain": [
       "0"
      ]
     },
     "execution_count": 4,
     "metadata": {},
     "output_type": "execute_result"
    }
   ],
   "source": [
    "data.duplicated().sum() # проверили таблицу на наличие явных дубликатых. Их количество = 0."
   ]
  },
  {
   "cell_type": "markdown",
   "metadata": {},
   "source": [
    "###  Примените фреймворк ICE для приоритизации гипотез. Отсортируйте их по убыванию приоритета. ##"
   ]
  },
  {
   "cell_type": "markdown",
   "metadata": {},
   "source": [
    " Метод ICE (от англ. impact, confidence, effort / ease «влияние, уверенность, усилия / простота»)\n",
    "    \n",
    "Фреймворк ICE состоит из трёх компонент:\n",
    "    \n",
    "Impact — насколько сильно изменение повлияет на пользователей, их опыт и удовлетворение от продукта;\n",
    "    \n",
    "    \n",
    "Confidence — насколько вы уверены, что это изменение повлияет на пользователей именно так;\n",
    "    \n",
    "    \n",
    "Efforts — сколько стоит протестировать эту гипотезу."
   ]
  },
  {
   "cell_type": "code",
   "execution_count": 5,
   "metadata": {},
   "outputs": [
    {
     "data": {
      "text/html": [
       "<div>\n",
       "<style scoped>\n",
       "    .dataframe tbody tr th:only-of-type {\n",
       "        vertical-align: middle;\n",
       "    }\n",
       "\n",
       "    .dataframe tbody tr th {\n",
       "        vertical-align: top;\n",
       "    }\n",
       "\n",
       "    .dataframe thead th {\n",
       "        text-align: right;\n",
       "    }\n",
       "</style>\n",
       "<table border=\"1\" class=\"dataframe\">\n",
       "  <thead>\n",
       "    <tr style=\"text-align: right;\">\n",
       "      <th></th>\n",
       "      <th>hypothesis</th>\n",
       "      <th>ICE</th>\n",
       "    </tr>\n",
       "  </thead>\n",
       "  <tbody>\n",
       "    <tr>\n",
       "      <th>8</th>\n",
       "      <td>Запустить акцию, дающую скидку на товар в день рождения</td>\n",
       "      <td>16.0</td>\n",
       "    </tr>\n",
       "    <tr>\n",
       "      <th>0</th>\n",
       "      <td>Добавить два новых канала привлечения трафика, что позволит привлекать на 30% больше пользователей</td>\n",
       "      <td>13.0</td>\n",
       "    </tr>\n",
       "    <tr>\n",
       "      <th>7</th>\n",
       "      <td>Добавить форму подписки на все основные страницы, чтобы собрать базу клиентов для email-рассылок</td>\n",
       "      <td>11.0</td>\n",
       "    </tr>\n",
       "    <tr>\n",
       "      <th>6</th>\n",
       "      <td>Показать на главной странице баннеры с актуальными акциями и распродажами, чтобы увеличить конве...</td>\n",
       "      <td>8.0</td>\n",
       "    </tr>\n",
       "    <tr>\n",
       "      <th>2</th>\n",
       "      <td>Добавить блоки рекомендаций товаров на сайт интернет магазина, чтобы повысить конверсию и средни...</td>\n",
       "      <td>7.0</td>\n",
       "    </tr>\n",
       "    <tr>\n",
       "      <th>1</th>\n",
       "      <td>Запустить собственную службу доставки, что сократит срок доставки заказов</td>\n",
       "      <td>2.0</td>\n",
       "    </tr>\n",
       "    <tr>\n",
       "      <th>3</th>\n",
       "      <td>Изменить структура категорий, что увеличит конверсию, т.к. пользователи быстрее найдут нужный товар</td>\n",
       "      <td>1.0</td>\n",
       "    </tr>\n",
       "    <tr>\n",
       "      <th>4</th>\n",
       "      <td>Изменить цвет фона главной страницы, чтобы увеличить вовлеченность пользователей</td>\n",
       "      <td>1.0</td>\n",
       "    </tr>\n",
       "    <tr>\n",
       "      <th>5</th>\n",
       "      <td>Добавить страницу отзывов клиентов о магазине, что позволит увеличить количество заказов</td>\n",
       "      <td>1.0</td>\n",
       "    </tr>\n",
       "  </tbody>\n",
       "</table>\n",
       "</div>"
      ],
      "text/plain": [
       "                                                                                            hypothesis  \\\n",
       "8                                              Запустить акцию, дающую скидку на товар в день рождения   \n",
       "0   Добавить два новых канала привлечения трафика, что позволит привлекать на 30% больше пользователей   \n",
       "7     Добавить форму подписки на все основные страницы, чтобы собрать базу клиентов для email-рассылок   \n",
       "6  Показать на главной странице баннеры с актуальными акциями и распродажами, чтобы увеличить конве...   \n",
       "2  Добавить блоки рекомендаций товаров на сайт интернет магазина, чтобы повысить конверсию и средни...   \n",
       "1                            Запустить собственную службу доставки, что сократит срок доставки заказов   \n",
       "3  Изменить структура категорий, что увеличит конверсию, т.к. пользователи быстрее найдут нужный товар   \n",
       "4                     Изменить цвет фона главной страницы, чтобы увеличить вовлеченность пользователей   \n",
       "5             Добавить страницу отзывов клиентов о магазине, что позволит увеличить количество заказов   \n",
       "\n",
       "    ICE  \n",
       "8  16.0  \n",
       "0  13.0  \n",
       "7  11.0  \n",
       "6   8.0  \n",
       "2   7.0  \n",
       "1   2.0  \n",
       "3   1.0  \n",
       "4   1.0  \n",
       "5   1.0  "
      ]
     },
     "execution_count": 5,
     "metadata": {},
     "output_type": "execute_result"
    }
   ],
   "source": [
    "data['ICE'] = (data['impact']*data['confidence']/data['efforts']).round()\n",
    "data[['hypothesis', 'ICE']].sort_values(by='ICE', ascending=False)"
   ]
  },
  {
   "cell_type": "markdown",
   "metadata": {},
   "source": [
    " ### Примените фреймворк RICE для приоритизации гипотез. Отсортируйте их по убыванию приоритета. ###"
   ]
  },
  {
   "cell_type": "markdown",
   "metadata": {},
   "source": [
    "Метод RICE (от англ. reach, «охват», impact, confidence, effort / ease «влияние, уверенность, усилия / простота»)\n",
    "    \n",
    "Фреймворк RICE состоит из четырёх компонент:\n",
    "    \n",
    "Reach — скольких пользователей затронет изменение, которое вы хотите внести;\n",
    "\n",
    "    \n",
    "Impact — насколько сильно изменение повлияет на пользователей, их опыт и удовлетворение от продукта;\n",
    "    \n",
    "    \n",
    "Confidence — насколько вы уверены, что это изменение повлияет на пользователей именно так;\n",
    "    \n",
    "    \n",
    "Efforts — сколько стоит протестировать эту гипотезу.\n"
   ]
  },
  {
   "cell_type": "code",
   "execution_count": 6,
   "metadata": {},
   "outputs": [
    {
     "data": {
      "text/html": [
       "<div>\n",
       "<style scoped>\n",
       "    .dataframe tbody tr th:only-of-type {\n",
       "        vertical-align: middle;\n",
       "    }\n",
       "\n",
       "    .dataframe tbody tr th {\n",
       "        vertical-align: top;\n",
       "    }\n",
       "\n",
       "    .dataframe thead th {\n",
       "        text-align: right;\n",
       "    }\n",
       "</style>\n",
       "<table border=\"1\" class=\"dataframe\">\n",
       "  <thead>\n",
       "    <tr style=\"text-align: right;\">\n",
       "      <th></th>\n",
       "      <th>hypothesis</th>\n",
       "      <th>RICE</th>\n",
       "    </tr>\n",
       "  </thead>\n",
       "  <tbody>\n",
       "    <tr>\n",
       "      <th>7</th>\n",
       "      <td>Добавить форму подписки на все основные страницы, чтобы собрать базу клиентов для email-рассылок</td>\n",
       "      <td>112.0</td>\n",
       "    </tr>\n",
       "    <tr>\n",
       "      <th>2</th>\n",
       "      <td>Добавить блоки рекомендаций товаров на сайт интернет магазина, чтобы повысить конверсию и средни...</td>\n",
       "      <td>56.0</td>\n",
       "    </tr>\n",
       "    <tr>\n",
       "      <th>0</th>\n",
       "      <td>Добавить два новых канала привлечения трафика, что позволит привлекать на 30% больше пользователей</td>\n",
       "      <td>40.0</td>\n",
       "    </tr>\n",
       "    <tr>\n",
       "      <th>6</th>\n",
       "      <td>Показать на главной странице баннеры с актуальными акциями и распродажами, чтобы увеличить конве...</td>\n",
       "      <td>40.0</td>\n",
       "    </tr>\n",
       "    <tr>\n",
       "      <th>8</th>\n",
       "      <td>Запустить акцию, дающую скидку на товар в день рождения</td>\n",
       "      <td>16.2</td>\n",
       "    </tr>\n",
       "    <tr>\n",
       "      <th>3</th>\n",
       "      <td>Изменить структура категорий, что увеличит конверсию, т.к. пользователи быстрее найдут нужный товар</td>\n",
       "      <td>9.0</td>\n",
       "    </tr>\n",
       "    <tr>\n",
       "      <th>1</th>\n",
       "      <td>Запустить собственную службу доставки, что сократит срок доставки заказов</td>\n",
       "      <td>4.0</td>\n",
       "    </tr>\n",
       "    <tr>\n",
       "      <th>5</th>\n",
       "      <td>Добавить страницу отзывов клиентов о магазине, что позволит увеличить количество заказов</td>\n",
       "      <td>4.0</td>\n",
       "    </tr>\n",
       "    <tr>\n",
       "      <th>4</th>\n",
       "      <td>Изменить цвет фона главной страницы, чтобы увеличить вовлеченность пользователей</td>\n",
       "      <td>3.0</td>\n",
       "    </tr>\n",
       "  </tbody>\n",
       "</table>\n",
       "</div>"
      ],
      "text/plain": [
       "                                                                                            hypothesis  \\\n",
       "7     Добавить форму подписки на все основные страницы, чтобы собрать базу клиентов для email-рассылок   \n",
       "2  Добавить блоки рекомендаций товаров на сайт интернет магазина, чтобы повысить конверсию и средни...   \n",
       "0   Добавить два новых канала привлечения трафика, что позволит привлекать на 30% больше пользователей   \n",
       "6  Показать на главной странице баннеры с актуальными акциями и распродажами, чтобы увеличить конве...   \n",
       "8                                              Запустить акцию, дающую скидку на товар в день рождения   \n",
       "3  Изменить структура категорий, что увеличит конверсию, т.к. пользователи быстрее найдут нужный товар   \n",
       "1                            Запустить собственную службу доставки, что сократит срок доставки заказов   \n",
       "5             Добавить страницу отзывов клиентов о магазине, что позволит увеличить количество заказов   \n",
       "4                     Изменить цвет фона главной страницы, чтобы увеличить вовлеченность пользователей   \n",
       "\n",
       "    RICE  \n",
       "7  112.0  \n",
       "2   56.0  \n",
       "0   40.0  \n",
       "6   40.0  \n",
       "8   16.2  \n",
       "3    9.0  \n",
       "1    4.0  \n",
       "5    4.0  \n",
       "4    3.0  "
      ]
     },
     "execution_count": 6,
     "metadata": {},
     "output_type": "execute_result"
    }
   ],
   "source": [
    "data['RICE'] = data['reach']*data['impact']* data['confidence'] / data['efforts']\n",
    "data[['hypothesis', 'RICE']].sort_values(by='RICE', ascending=False)"
   ]
  },
  {
   "cell_type": "markdown",
   "metadata": {},
   "source": [
    "### Укажите, как изменилась приоритизация гипотез при применении RICE вместо ICE. Объясните, почему так произошло. ###"
   ]
  },
  {
   "cell_type": "code",
   "execution_count": 7,
   "metadata": {},
   "outputs": [
    {
     "data": {
      "text/html": [
       "<div>\n",
       "<style scoped>\n",
       "    .dataframe tbody tr th:only-of-type {\n",
       "        vertical-align: middle;\n",
       "    }\n",
       "\n",
       "    .dataframe tbody tr th {\n",
       "        vertical-align: top;\n",
       "    }\n",
       "\n",
       "    .dataframe thead th {\n",
       "        text-align: right;\n",
       "    }\n",
       "</style>\n",
       "<table border=\"1\" class=\"dataframe\">\n",
       "  <thead>\n",
       "    <tr style=\"text-align: right;\">\n",
       "      <th></th>\n",
       "      <th>hypothesis</th>\n",
       "      <th>reach</th>\n",
       "      <th>impact</th>\n",
       "      <th>confidence</th>\n",
       "      <th>efforts</th>\n",
       "      <th>ICE</th>\n",
       "      <th>RICE</th>\n",
       "    </tr>\n",
       "  </thead>\n",
       "  <tbody>\n",
       "    <tr>\n",
       "      <th>0</th>\n",
       "      <td>Добавить два новых канала привлечения трафика, что позволит привлекать на 30% больше пользователей</td>\n",
       "      <td>3</td>\n",
       "      <td>10</td>\n",
       "      <td>8</td>\n",
       "      <td>6</td>\n",
       "      <td>13.0</td>\n",
       "      <td>40.0</td>\n",
       "    </tr>\n",
       "    <tr>\n",
       "      <th>1</th>\n",
       "      <td>Запустить собственную службу доставки, что сократит срок доставки заказов</td>\n",
       "      <td>2</td>\n",
       "      <td>5</td>\n",
       "      <td>4</td>\n",
       "      <td>10</td>\n",
       "      <td>2.0</td>\n",
       "      <td>4.0</td>\n",
       "    </tr>\n",
       "    <tr>\n",
       "      <th>2</th>\n",
       "      <td>Добавить блоки рекомендаций товаров на сайт интернет магазина, чтобы повысить конверсию и средни...</td>\n",
       "      <td>8</td>\n",
       "      <td>3</td>\n",
       "      <td>7</td>\n",
       "      <td>3</td>\n",
       "      <td>7.0</td>\n",
       "      <td>56.0</td>\n",
       "    </tr>\n",
       "    <tr>\n",
       "      <th>3</th>\n",
       "      <td>Изменить структура категорий, что увеличит конверсию, т.к. пользователи быстрее найдут нужный товар</td>\n",
       "      <td>8</td>\n",
       "      <td>3</td>\n",
       "      <td>3</td>\n",
       "      <td>8</td>\n",
       "      <td>1.0</td>\n",
       "      <td>9.0</td>\n",
       "    </tr>\n",
       "    <tr>\n",
       "      <th>4</th>\n",
       "      <td>Изменить цвет фона главной страницы, чтобы увеличить вовлеченность пользователей</td>\n",
       "      <td>3</td>\n",
       "      <td>1</td>\n",
       "      <td>1</td>\n",
       "      <td>1</td>\n",
       "      <td>1.0</td>\n",
       "      <td>3.0</td>\n",
       "    </tr>\n",
       "    <tr>\n",
       "      <th>5</th>\n",
       "      <td>Добавить страницу отзывов клиентов о магазине, что позволит увеличить количество заказов</td>\n",
       "      <td>3</td>\n",
       "      <td>2</td>\n",
       "      <td>2</td>\n",
       "      <td>3</td>\n",
       "      <td>1.0</td>\n",
       "      <td>4.0</td>\n",
       "    </tr>\n",
       "    <tr>\n",
       "      <th>6</th>\n",
       "      <td>Показать на главной странице баннеры с актуальными акциями и распродажами, чтобы увеличить конве...</td>\n",
       "      <td>5</td>\n",
       "      <td>3</td>\n",
       "      <td>8</td>\n",
       "      <td>3</td>\n",
       "      <td>8.0</td>\n",
       "      <td>40.0</td>\n",
       "    </tr>\n",
       "    <tr>\n",
       "      <th>7</th>\n",
       "      <td>Добавить форму подписки на все основные страницы, чтобы собрать базу клиентов для email-рассылок</td>\n",
       "      <td>10</td>\n",
       "      <td>7</td>\n",
       "      <td>8</td>\n",
       "      <td>5</td>\n",
       "      <td>11.0</td>\n",
       "      <td>112.0</td>\n",
       "    </tr>\n",
       "    <tr>\n",
       "      <th>8</th>\n",
       "      <td>Запустить акцию, дающую скидку на товар в день рождения</td>\n",
       "      <td>1</td>\n",
       "      <td>9</td>\n",
       "      <td>9</td>\n",
       "      <td>5</td>\n",
       "      <td>16.0</td>\n",
       "      <td>16.2</td>\n",
       "    </tr>\n",
       "  </tbody>\n",
       "</table>\n",
       "</div>"
      ],
      "text/plain": [
       "                                                                                            hypothesis  \\\n",
       "0   Добавить два новых канала привлечения трафика, что позволит привлекать на 30% больше пользователей   \n",
       "1                            Запустить собственную службу доставки, что сократит срок доставки заказов   \n",
       "2  Добавить блоки рекомендаций товаров на сайт интернет магазина, чтобы повысить конверсию и средни...   \n",
       "3  Изменить структура категорий, что увеличит конверсию, т.к. пользователи быстрее найдут нужный товар   \n",
       "4                     Изменить цвет фона главной страницы, чтобы увеличить вовлеченность пользователей   \n",
       "5             Добавить страницу отзывов клиентов о магазине, что позволит увеличить количество заказов   \n",
       "6  Показать на главной странице баннеры с актуальными акциями и распродажами, чтобы увеличить конве...   \n",
       "7     Добавить форму подписки на все основные страницы, чтобы собрать базу клиентов для email-рассылок   \n",
       "8                                              Запустить акцию, дающую скидку на товар в день рождения   \n",
       "\n",
       "   reach  impact  confidence  efforts   ICE   RICE  \n",
       "0      3      10           8        6  13.0   40.0  \n",
       "1      2       5           4       10   2.0    4.0  \n",
       "2      8       3           7        3   7.0   56.0  \n",
       "3      8       3           3        8   1.0    9.0  \n",
       "4      3       1           1        1   1.0    3.0  \n",
       "5      3       2           2        3   1.0    4.0  \n",
       "6      5       3           8        3   8.0   40.0  \n",
       "7     10       7           8        5  11.0  112.0  \n",
       "8      1       9           9        5  16.0   16.2  "
      ]
     },
     "execution_count": 7,
     "metadata": {},
     "output_type": "execute_result"
    }
   ],
   "source": [
    "pd.options.display.max_colwidth = 100\n",
    "data"
   ]
  },
  {
   "cell_type": "markdown",
   "metadata": {},
   "source": [
    "Наиболее перспективные гипотезы по ICE: 8, 0, 7. \n",
    "По RICE лидируют другие гипотезы: 7, 2, 0, 6, причем 7 гипотеза оценивается в 2 раза выше, чем следующая за ней гипотеза №2. Это связано с тем, что параметр reach у 7 гипотезы максимальный (10 баллов), а значит и изменение, которое мы хотим внести, затронет всех пользователей интернет-магазина.\n",
    "\n",
    "<b>Таким образом, наибольший приоритет у гипотезы 7 - \"Добавить форму подписки на все основные страницы, чтобы собрать базу клиентов для email-рассылок\". "
   ]
  },
  {
   "cell_type": "markdown",
   "metadata": {},
   "source": [
    "##  Анализ A/B-теста ##"
   ]
  },
  {
   "cell_type": "code",
   "execution_count": 8,
   "metadata": {},
   "outputs": [
    {
     "data": {
      "text/html": [
       "<div>\n",
       "<style scoped>\n",
       "    .dataframe tbody tr th:only-of-type {\n",
       "        vertical-align: middle;\n",
       "    }\n",
       "\n",
       "    .dataframe tbody tr th {\n",
       "        vertical-align: top;\n",
       "    }\n",
       "\n",
       "    .dataframe thead th {\n",
       "        text-align: right;\n",
       "    }\n",
       "</style>\n",
       "<table border=\"1\" class=\"dataframe\">\n",
       "  <thead>\n",
       "    <tr style=\"text-align: right;\">\n",
       "      <th></th>\n",
       "      <th>transactionId</th>\n",
       "      <th>visitorId</th>\n",
       "      <th>date</th>\n",
       "      <th>revenue</th>\n",
       "      <th>group</th>\n",
       "    </tr>\n",
       "  </thead>\n",
       "  <tbody>\n",
       "    <tr>\n",
       "      <th>0</th>\n",
       "      <td>3667963787</td>\n",
       "      <td>3312258926</td>\n",
       "      <td>2019-08-15</td>\n",
       "      <td>1650</td>\n",
       "      <td>B</td>\n",
       "    </tr>\n",
       "    <tr>\n",
       "      <th>1</th>\n",
       "      <td>2804400009</td>\n",
       "      <td>3642806036</td>\n",
       "      <td>2019-08-15</td>\n",
       "      <td>730</td>\n",
       "      <td>B</td>\n",
       "    </tr>\n",
       "    <tr>\n",
       "      <th>2</th>\n",
       "      <td>2961555356</td>\n",
       "      <td>4069496402</td>\n",
       "      <td>2019-08-15</td>\n",
       "      <td>400</td>\n",
       "      <td>A</td>\n",
       "    </tr>\n",
       "    <tr>\n",
       "      <th>3</th>\n",
       "      <td>3797467345</td>\n",
       "      <td>1196621759</td>\n",
       "      <td>2019-08-15</td>\n",
       "      <td>9759</td>\n",
       "      <td>B</td>\n",
       "    </tr>\n",
       "    <tr>\n",
       "      <th>4</th>\n",
       "      <td>2282983706</td>\n",
       "      <td>2322279887</td>\n",
       "      <td>2019-08-15</td>\n",
       "      <td>2308</td>\n",
       "      <td>B</td>\n",
       "    </tr>\n",
       "  </tbody>\n",
       "</table>\n",
       "</div>"
      ],
      "text/plain": [
       "   transactionId   visitorId        date  revenue group\n",
       "0     3667963787  3312258926  2019-08-15     1650     B\n",
       "1     2804400009  3642806036  2019-08-15      730     B\n",
       "2     2961555356  4069496402  2019-08-15      400     A\n",
       "3     3797467345  1196621759  2019-08-15     9759     B\n",
       "4     2282983706  2322279887  2019-08-15     2308     B"
      ]
     },
     "execution_count": 8,
     "metadata": {},
     "output_type": "execute_result"
    }
   ],
   "source": [
    "orders = pd.read_csv('/datasets/orders.csv', sep=',')\n",
    "orders.head()"
   ]
  },
  {
   "cell_type": "code",
   "execution_count": 9,
   "metadata": {},
   "outputs": [
    {
     "name": "stdout",
     "output_type": "stream",
     "text": [
      "<class 'pandas.core.frame.DataFrame'>\n",
      "RangeIndex: 1197 entries, 0 to 1196\n",
      "Data columns (total 5 columns):\n",
      " #   Column         Non-Null Count  Dtype \n",
      "---  ------         --------------  ----- \n",
      " 0   transactionid  1197 non-null   int64 \n",
      " 1   visitorid      1197 non-null   int64 \n",
      " 2   date           1197 non-null   object\n",
      " 3   revenue        1197 non-null   int64 \n",
      " 4   group          1197 non-null   object\n",
      "dtypes: int64(3), object(2)\n",
      "memory usage: 46.9+ KB\n"
     ]
    }
   ],
   "source": [
    "orders.columns = orders.columns.str.lower() #переведем все символы в наименовании столбцов к нижнему регистру\n",
    "orders.info()"
   ]
  },
  {
   "cell_type": "code",
   "execution_count": 10,
   "metadata": {},
   "outputs": [
    {
     "name": "stdout",
     "output_type": "stream",
     "text": [
      "<class 'pandas.core.frame.DataFrame'>\n",
      "RangeIndex: 1197 entries, 0 to 1196\n",
      "Data columns (total 5 columns):\n",
      " #   Column         Non-Null Count  Dtype         \n",
      "---  ------         --------------  -----         \n",
      " 0   transactionid  1197 non-null   int64         \n",
      " 1   visitorid      1197 non-null   int64         \n",
      " 2   date           1197 non-null   datetime64[ns]\n",
      " 3   revenue        1197 non-null   int64         \n",
      " 4   group          1197 non-null   object        \n",
      "dtypes: datetime64[ns](1), int64(3), object(1)\n",
      "memory usage: 46.9+ KB\n"
     ]
    }
   ],
   "source": [
    "orders['date'] = orders['date'].map(\n",
    "    lambda x: dt.datetime.strptime(x, '%Y-%m-%d')\n",
    ")\n",
    "orders.info()"
   ]
  },
  {
   "cell_type": "code",
   "execution_count": 11,
   "metadata": {},
   "outputs": [
    {
     "data": {
      "text/plain": [
       "0"
      ]
     },
     "execution_count": 11,
     "metadata": {},
     "output_type": "execute_result"
    }
   ],
   "source": [
    "orders.duplicated().sum() # проверили таблицу на наличие явных дубликатых. Их количество = 0."
   ]
  },
  {
   "cell_type": "code",
   "execution_count": 12,
   "metadata": {},
   "outputs": [
    {
     "name": "stdout",
     "output_type": "stream",
     "text": [
      "1031\n",
      "1089\n",
      "-58\n"
     ]
    }
   ],
   "source": [
    "# проверим не попадает ли один и тот же пользователь и в группу А и в группу В\n",
    "print(orders['visitorid'].nunique())\n",
    "print(orders.groupby('group')['visitorid'].nunique().sum())\n",
    "print(orders['visitorid'].nunique() - orders.groupby('group')['visitorid'].nunique().sum())"
   ]
  },
  {
   "cell_type": "markdown",
   "metadata": {},
   "source": [
    "Всего уникальных пользователей по датафрейму - 1031, при разбивке их на группу А и В количество увеличивается на 58. Оставим группы без изменений, чтобы не потерять часть данных."
   ]
  },
  {
   "cell_type": "code",
   "execution_count": 13,
   "metadata": {},
   "outputs": [
    {
     "data": {
      "text/html": [
       "<div>\n",
       "<style scoped>\n",
       "    .dataframe tbody tr th:only-of-type {\n",
       "        vertical-align: middle;\n",
       "    }\n",
       "\n",
       "    .dataframe tbody tr th {\n",
       "        vertical-align: top;\n",
       "    }\n",
       "\n",
       "    .dataframe thead th {\n",
       "        text-align: right;\n",
       "    }\n",
       "</style>\n",
       "<table border=\"1\" class=\"dataframe\">\n",
       "  <thead>\n",
       "    <tr style=\"text-align: right;\">\n",
       "      <th></th>\n",
       "      <th>date</th>\n",
       "      <th>group</th>\n",
       "      <th>visitors</th>\n",
       "    </tr>\n",
       "  </thead>\n",
       "  <tbody>\n",
       "    <tr>\n",
       "      <th>0</th>\n",
       "      <td>2019-08-01</td>\n",
       "      <td>A</td>\n",
       "      <td>719</td>\n",
       "    </tr>\n",
       "    <tr>\n",
       "      <th>1</th>\n",
       "      <td>2019-08-02</td>\n",
       "      <td>A</td>\n",
       "      <td>619</td>\n",
       "    </tr>\n",
       "    <tr>\n",
       "      <th>2</th>\n",
       "      <td>2019-08-03</td>\n",
       "      <td>A</td>\n",
       "      <td>507</td>\n",
       "    </tr>\n",
       "    <tr>\n",
       "      <th>3</th>\n",
       "      <td>2019-08-04</td>\n",
       "      <td>A</td>\n",
       "      <td>717</td>\n",
       "    </tr>\n",
       "    <tr>\n",
       "      <th>4</th>\n",
       "      <td>2019-08-05</td>\n",
       "      <td>A</td>\n",
       "      <td>756</td>\n",
       "    </tr>\n",
       "  </tbody>\n",
       "</table>\n",
       "</div>"
      ],
      "text/plain": [
       "         date group  visitors\n",
       "0  2019-08-01     A       719\n",
       "1  2019-08-02     A       619\n",
       "2  2019-08-03     A       507\n",
       "3  2019-08-04     A       717\n",
       "4  2019-08-05     A       756"
      ]
     },
     "execution_count": 13,
     "metadata": {},
     "output_type": "execute_result"
    }
   ],
   "source": [
    "visitors = pd.read_csv('/datasets/visitors.csv', sep=',')\n",
    "visitors.head()"
   ]
  },
  {
   "cell_type": "code",
   "execution_count": 14,
   "metadata": {},
   "outputs": [
    {
     "name": "stdout",
     "output_type": "stream",
     "text": [
      "<class 'pandas.core.frame.DataFrame'>\n",
      "RangeIndex: 62 entries, 0 to 61\n",
      "Data columns (total 3 columns):\n",
      " #   Column    Non-Null Count  Dtype \n",
      "---  ------    --------------  ----- \n",
      " 0   date      62 non-null     object\n",
      " 1   group     62 non-null     object\n",
      " 2   visitors  62 non-null     int64 \n",
      "dtypes: int64(1), object(2)\n",
      "memory usage: 1.6+ KB\n"
     ]
    }
   ],
   "source": [
    "visitors.info()"
   ]
  },
  {
   "cell_type": "code",
   "execution_count": 15,
   "metadata": {},
   "outputs": [
    {
     "name": "stdout",
     "output_type": "stream",
     "text": [
      "<class 'pandas.core.frame.DataFrame'>\n",
      "RangeIndex: 62 entries, 0 to 61\n",
      "Data columns (total 3 columns):\n",
      " #   Column    Non-Null Count  Dtype         \n",
      "---  ------    --------------  -----         \n",
      " 0   date      62 non-null     datetime64[ns]\n",
      " 1   group     62 non-null     object        \n",
      " 2   visitors  62 non-null     int64         \n",
      "dtypes: datetime64[ns](1), int64(1), object(1)\n",
      "memory usage: 1.6+ KB\n"
     ]
    }
   ],
   "source": [
    "visitors['date'] = visitors['date'].map(\n",
    "    lambda x: dt.datetime.strptime(x, '%Y-%m-%d')\n",
    ")\n",
    "visitors.info()"
   ]
  },
  {
   "cell_type": "code",
   "execution_count": 16,
   "metadata": {},
   "outputs": [
    {
     "data": {
      "text/plain": [
       "0"
      ]
     },
     "execution_count": 16,
     "metadata": {},
     "output_type": "execute_result"
    }
   ],
   "source": [
    "visitors.duplicated().sum() # проверили таблицу на наличие явных дубликатых. Их количество = 0."
   ]
  },
  {
   "cell_type": "markdown",
   "metadata": {},
   "source": [
    "### Постройте график кумулятивной выручки по группам. Сделайте выводы и предположения."
   ]
  },
  {
   "cell_type": "code",
   "execution_count": 17,
   "metadata": {},
   "outputs": [],
   "source": [
    "# создаем массив уникальных пар значений дат и групп теста\n",
    "datesGroups = orders[['date','group']].drop_duplicates() \n",
    "# cоберём агрегированные кумулятивные по дням данные о заказах\n",
    "ordersAggregated = datesGroups.apply(lambda x: orders[np.logical_and(orders['date'] <= x['date'], orders['group'] == x['group'])]\\\n",
    ".agg({'date' : 'max', 'group' : 'max', 'transactionid' : 'nunique', 'visitorid' : 'nunique', 'revenue' : 'sum'}), axis=1).sort_values(by=['date','group'])"
   ]
  },
  {
   "cell_type": "code",
   "execution_count": 18,
   "metadata": {},
   "outputs": [],
   "source": [
    "#получим агрегированные кумулятивные по дням данные о посетителях интернет-магазина\n",
    "visitorsAggregated = datesGroups.apply(lambda x: visitors[np.logical_and(visitors['date'] <= x['date'], visitors['group'] == x['group'])].agg({'date' : 'max', 'group' : 'max', 'visitors' : 'sum'}), axis=1).sort_values(by=['date','group'])"
   ]
  },
  {
   "cell_type": "markdown",
   "metadata": {},
   "source": [
    "Объединим обе таблицы в одну:"
   ]
  },
  {
   "cell_type": "code",
   "execution_count": 19,
   "metadata": {},
   "outputs": [
    {
     "name": "stdout",
     "output_type": "stream",
     "text": [
      "        date group  orders  buyers  revenue  visitors\n",
      "0 2019-08-01     A      24      20   148579       719\n",
      "1 2019-08-01     B      21      20   101217       713\n",
      "2 2019-08-02     A      44      38   242401      1338\n",
      "3 2019-08-02     B      45      43   266748      1294\n",
      "4 2019-08-03     A      68      62   354874      1845\n"
     ]
    }
   ],
   "source": [
    "# создаем массив уникальных пар значений дат и групп теста\n",
    "datesGroups = orders[['date','group']].drop_duplicates()\n",
    "\n",
    "# получаем агрегированные кумулятивные по дням данные о заказах \n",
    "ordersAggregated = datesGroups.apply(lambda x: orders[np.logical_and(orders['date'] <= x['date'], orders['group'] == x['group'])].agg({'date' : 'max', 'group' : 'max', 'transactionid' : 'nunique', 'visitorid' : 'nunique', 'revenue' : 'sum'}), axis=1).sort_values(by=['date','group'])\n",
    "\n",
    "# получаем агрегированные кумулятивные по дням данные о посетителях интернет-магазина \n",
    "visitorsAggregated = datesGroups.apply(lambda x: visitors[np.logical_and(visitors['date'] <= x['date'], visitors['group'] == x['group'])].agg({'date' : 'max', 'group' : 'max', 'visitors' : 'sum'}), axis=1).sort_values(by=['date','group'])\n",
    "\n",
    "# объединяем кумулятивные данные в одной таблице и присваиваем ее столбцам понятные названия\n",
    "cumulativeData = ordersAggregated.merge(visitorsAggregated, left_on=['date', 'group'], right_on=['date', 'group'])\n",
    "cumulativeData.columns = ['date', 'group', 'orders', 'buyers', 'revenue', 'visitors']\n",
    "\n",
    "print(cumulativeData.head(5))"
   ]
  },
  {
   "cell_type": "markdown",
   "metadata": {},
   "source": [
    "Построим графики кумулятивной выручки по дням и группам A/B-тестирования:"
   ]
  },
  {
   "cell_type": "code",
   "execution_count": 20,
   "metadata": {},
   "outputs": [
    {
     "data": {
      "image/png": "[encoded data removed]",
      "text/plain": [
       "<Figure size 864x432 with 1 Axes>"
      ]
     },
     "metadata": {
      "needs_background": "light"
     },
     "output_type": "display_data"
    }
   ],
   "source": [
    "# датафрейм с кумулятивным количеством заказов и кумулятивной выручкой по дням в группе А\n",
    "cumulativeRevenueA = cumulativeData[cumulativeData['group']=='A'][['date','revenue', 'orders']]\n",
    "\n",
    "# датафрейм с кумулятивным количеством заказов и кумулятивной выручкой по дням в группе B\n",
    "cumulativeRevenueB = cumulativeData[cumulativeData['group']=='B'][['date','revenue', 'orders']]\n",
    "\n",
    "plt.figure(figsize=(12, 6))\n",
    "# Строим график выручки группы А\n",
    "plt.plot(cumulativeRevenueA['date'], cumulativeRevenueA['revenue'], label='A')\n",
    "\n",
    "# Строим график выручки группы B\n",
    "plt.plot(cumulativeRevenueB['date'], cumulativeRevenueB['revenue'], label='B')\n",
    "plt.legend()\n",
    "plt.ylabel('Выручка')\n",
    "plt.xlabel('Дата заказа')\n",
    "plt.title('График кумулятивной выручки по группам');"
   ]
  },
  {
   "cell_type": "markdown",
   "metadata": {},
   "source": [
    "Группа В стабильно имеет преимущество перед группой А, особенно выделяется скачок роста во второй половине теста. Это может сигнализировать о всплеске числа заказов, либо о появлении очень дорогих заказов в выборке. Такие выбросы следует проанализировать отдельно и возможно, удалить, чтобы не искажать результаты теста."
   ]
  },
  {
   "cell_type": "markdown",
   "metadata": {},
   "source": [
    "### Постройте график кумулятивного среднего чека по группам. Сделайте выводы и предположения."
   ]
  },
  {
   "cell_type": "code",
   "execution_count": 21,
   "metadata": {},
   "outputs": [
    {
     "data": {
      "image/png": "[encoded data removed]",
      "text/plain": [
       "<Figure size 864x432 with 1 Axes>"
      ]
     },
     "metadata": {
      "needs_background": "light"
     },
     "output_type": "display_data"
    }
   ],
   "source": [
    "# разделим кумулятивную выручку на кумулятивное число заказов:\n",
    "plt.figure(figsize=(12, 6))\n",
    "plt.plot(cumulativeRevenueA['date'], cumulativeRevenueA['revenue']/cumulativeRevenueA['orders'], label='A')\n",
    "plt.plot(cumulativeRevenueB['date'], cumulativeRevenueB['revenue']/cumulativeRevenueB['orders'], label='B')\n",
    "plt.legend()\n",
    "plt.ylabel('Средний чек')\n",
    "plt.xlabel('Дата заказа')\n",
    "plt.title('График кумулятивного среднего чека по группам');"
   ]
  },
  {
   "cell_type": "markdown",
   "metadata": {},
   "source": [
    "Кумулятивное значение среднего чека по группам сильно колеблется, но становится более равномерным ближе к концу теста.  Также, как и на прошлом графике, наблюдается резкий скачок роста среднего чека в группе В 2019-08-17, что свидетельствует о появлении очень дорогих заказов в выборке. И скачок суммы среднего чека в группе А 2019-08-13. Анализ выбросов необходим."
   ]
  },
  {
   "cell_type": "markdown",
   "metadata": {},
   "source": [
    "### Постройте график относительного изменения кумулятивного среднего чека группы B к группе A. Сделайте выводы и предположения."
   ]
  },
  {
   "cell_type": "code",
   "execution_count": 22,
   "metadata": {},
   "outputs": [
    {
     "data": {
      "image/png": "[encoded data removed]",
      "text/plain": [
       "<Figure size 864x432 with 1 Axes>"
      ]
     },
     "metadata": {
      "needs_background": "light"
     },
     "output_type": "display_data"
    }
   ],
   "source": [
    "# собираем данные в одном датафрейме\n",
    "mergedCumulativeRevenue = cumulativeRevenueA.merge(cumulativeRevenueB, left_on='date', right_on='date', how='left', suffixes=['A', 'B'])\n",
    "\n",
    "# cтроим отношение средних чеков\n",
    "plt.figure(figsize=(12, 6))\n",
    "plt.plot(mergedCumulativeRevenue['date'], (mergedCumulativeRevenue['revenueB']/mergedCumulativeRevenue['ordersB'])/(mergedCumulativeRevenue['revenueA']/mergedCumulativeRevenue['ordersA'])-1)\n",
    "\n",
    "# добавляем ось X\n",
    "plt.axhline(y=0, color='black', linestyle='--')\n",
    "plt.ylabel('Изменение среднего чека')\n",
    "plt.xlabel('Дата заказа')\n",
    "plt.title('График относительного изменения кумулятивного среднего чека группы B к группе A');"
   ]
  },
  {
   "cell_type": "markdown",
   "metadata": {},
   "source": [
    "В нескольких точках график различия между сегментами резко «скачет». Видимо, именно тогда были совершены аномальные заказы."
   ]
  },
  {
   "cell_type": "markdown",
   "metadata": {},
   "source": [
    "### Постройте график кумулятивного среднего количества заказов по группам. Сделайте выводы и предположения."
   ]
  },
  {
   "cell_type": "code",
   "execution_count": 23,
   "metadata": {},
   "outputs": [
    {
     "data": {
      "image/png": "[encoded data removed]",
      "text/plain": [
       "<Figure size 864x432 with 1 Axes>"
      ]
     },
     "metadata": {
      "needs_background": "light"
     },
     "output_type": "display_data"
    }
   ],
   "source": [
    "# считаем кумулятивную конверсию\n",
    "cumulativeData['conversion'] = cumulativeData['orders']/cumulativeData['visitors']\n",
    "\n",
    "# отделяем данные по группе A\n",
    "cumulativeDataA = cumulativeData[cumulativeData['group']=='A']\n",
    "\n",
    "# отделяем данные по группе B\n",
    "cumulativeDataB = cumulativeData[cumulativeData['group']=='B']\n",
    "\n",
    "# строим графики\n",
    "plt.figure(figsize=(12, 6))\n",
    "plt.plot(cumulativeDataA['date'], cumulativeDataA['conversion'], label='A')\n",
    "plt.plot(cumulativeDataB['date'], cumulativeDataB['conversion'], label='B')\n",
    "plt.legend()\n",
    "plt.ylabel('Среднее количество заказов')\n",
    "plt.xlabel('Дата заказа')\n",
    "plt.title('График кумулятивного среднего количества заказов по группам');"
   ]
  },
  {
   "cell_type": "markdown",
   "metadata": {},
   "source": [
    "В первые дни мы видим значительные колебания отношения кол-ва заказов к посещениям в обеих группах. Но затем конверсия группы В вырвалась вперёд и зафиксировалась, а конверсия группы А просела и также зафиксировалась."
   ]
  },
  {
   "cell_type": "markdown",
   "metadata": {},
   "source": [
    "### Постройте график относительного изменения кумулятивного среднего количества заказов группы B к группе A. Сделайте выводы и предположения."
   ]
  },
  {
   "cell_type": "code",
   "execution_count": 24,
   "metadata": {},
   "outputs": [
    {
     "data": {
      "image/png": "[encoded data removed]",
      "text/plain": [
       "<Figure size 864x432 with 1 Axes>"
      ]
     },
     "metadata": {
      "needs_background": "light"
     },
     "output_type": "display_data"
    }
   ],
   "source": [
    "mergedCumulativeConversions = cumulativeDataA[['date','conversion']].merge(cumulativeDataB[['date','conversion']], left_on='date', right_on='date', how='left', suffixes=['A', 'B'])\n",
    "plt.figure(figsize=(12, 6))\n",
    "plt.plot(mergedCumulativeConversions['date'], mergedCumulativeConversions['conversionB']/mergedCumulativeConversions['conversionA']-1, label=\"Относительный прирост конверсии группы B относительно группы A\")\n",
    "plt.legend()\n",
    "\n",
    "plt.axhline(y=0.15, color='black', linestyle='--')\n",
    "plt.axhline(y=0.1, color='grey', linestyle='--')\n",
    "plt.ylabel('Среднее количество заказов')\n",
    "plt.xlabel('Дата заказа')\n",
    "plt.title('График относительного изменения кумулятивного среднего количества заказов группы B к группе A');"
   ]
  },
  {
   "cell_type": "markdown",
   "metadata": {},
   "source": [
    "В начале теста группа B проигрывала группе A, затем вырвалась вперёд. Потом её конверсия постепенно пошла на спад, но осталась в пределах положительного прироста, не менее 10% относительно группы А.\n",
    "\n",
    "В целом отношение конверсии ещё не установилось, и сейчас делать какие-либо выводы по тесту нельзя. Впрочем, сперва стоит проанализировать аномалии, возможно, они изменят картину."
   ]
  },
  {
   "cell_type": "markdown",
   "metadata": {},
   "source": [
    "### Постройте точечный график количества заказов по пользователям. Сделайте выводы и предположения."
   ]
  },
  {
   "cell_type": "code",
   "execution_count": 25,
   "metadata": {},
   "outputs": [
    {
     "data": {
      "text/html": [
       "<div>\n",
       "<style scoped>\n",
       "    .dataframe tbody tr th:only-of-type {\n",
       "        vertical-align: middle;\n",
       "    }\n",
       "\n",
       "    .dataframe tbody tr th {\n",
       "        vertical-align: top;\n",
       "    }\n",
       "\n",
       "    .dataframe thead th {\n",
       "        text-align: right;\n",
       "    }\n",
       "</style>\n",
       "<table border=\"1\" class=\"dataframe\">\n",
       "  <thead>\n",
       "    <tr style=\"text-align: right;\">\n",
       "      <th></th>\n",
       "      <th>visitorid</th>\n",
       "      <th>orders</th>\n",
       "    </tr>\n",
       "  </thead>\n",
       "  <tbody>\n",
       "    <tr>\n",
       "      <th>1023</th>\n",
       "      <td>4256040402</td>\n",
       "      <td>11</td>\n",
       "    </tr>\n",
       "    <tr>\n",
       "      <th>591</th>\n",
       "      <td>2458001652</td>\n",
       "      <td>11</td>\n",
       "    </tr>\n",
       "    <tr>\n",
       "      <th>569</th>\n",
       "      <td>2378935119</td>\n",
       "      <td>9</td>\n",
       "    </tr>\n",
       "    <tr>\n",
       "      <th>487</th>\n",
       "      <td>2038680547</td>\n",
       "      <td>8</td>\n",
       "    </tr>\n",
       "    <tr>\n",
       "      <th>44</th>\n",
       "      <td>199603092</td>\n",
       "      <td>5</td>\n",
       "    </tr>\n",
       "    <tr>\n",
       "      <th>744</th>\n",
       "      <td>3062433592</td>\n",
       "      <td>5</td>\n",
       "    </tr>\n",
       "    <tr>\n",
       "      <th>55</th>\n",
       "      <td>237748145</td>\n",
       "      <td>5</td>\n",
       "    </tr>\n",
       "    <tr>\n",
       "      <th>917</th>\n",
       "      <td>3803269165</td>\n",
       "      <td>5</td>\n",
       "    </tr>\n",
       "    <tr>\n",
       "      <th>299</th>\n",
       "      <td>1230306981</td>\n",
       "      <td>5</td>\n",
       "    </tr>\n",
       "    <tr>\n",
       "      <th>897</th>\n",
       "      <td>3717692402</td>\n",
       "      <td>5</td>\n",
       "    </tr>\n",
       "  </tbody>\n",
       "</table>\n",
       "</div>"
      ],
      "text/plain": [
       "       visitorid  orders\n",
       "1023  4256040402      11\n",
       "591   2458001652      11\n",
       "569   2378935119       9\n",
       "487   2038680547       8\n",
       "44     199603092       5\n",
       "744   3062433592       5\n",
       "55     237748145       5\n",
       "917   3803269165       5\n",
       "299   1230306981       5\n",
       "897   3717692402       5"
      ]
     },
     "execution_count": 25,
     "metadata": {},
     "output_type": "execute_result"
    }
   ],
   "source": [
    "ordersByUsers = (\n",
    "     orders.groupby('visitorid', as_index=False)\n",
    "    .agg({'transactionid': 'nunique'})\n",
    ")\n",
    "\n",
    "ordersByUsers.columns = ['visitorid', 'orders']\n",
    "\n",
    "ordersByUsers.sort_values(by='orders', ascending=False).head(10)"
   ]
  },
  {
   "cell_type": "code",
   "execution_count": 26,
   "metadata": {},
   "outputs": [
    {
     "data": {
      "image/png": "[encoded data removed]",
      "text/plain": [
       "<Figure size 864x432 with 1 Axes>"
      ]
     },
     "metadata": {
      "needs_background": "light"
     },
     "output_type": "display_data"
    }
   ],
   "source": [
    "x_values = pd.Series(range(0,len(ordersByUsers)))\n",
    "\n",
    "plt.figure(figsize=(12, 6))\n",
    "plt.scatter(x_values, ordersByUsers['orders'])\n",
    "plt.ylabel('Количество заказов')\n",
    "plt.xlabel('Число пользователей')\n",
    "plt.title('График количества заказов по пользователям');"
   ]
  },
  {
   "cell_type": "markdown",
   "metadata": {},
   "source": [
    "По графику видно, что пользователей, оформивших заказ 3 и более раз - единицы. Основная масса пользователей делала заказ 1 раз."
   ]
  },
  {
   "cell_type": "markdown",
   "metadata": {},
   "source": [
    "### Посчитайте 95-й и 99-й перцентили количества заказов на пользователя. Выберите границу для определения аномальных пользователей."
   ]
  },
  {
   "cell_type": "code",
   "execution_count": 27,
   "metadata": {},
   "outputs": [
    {
     "data": {
      "text/plain": [
       "array([2., 4.])"
      ]
     },
     "execution_count": 27,
     "metadata": {},
     "output_type": "execute_result"
    }
   ],
   "source": [
    "np.percentile(ordersByUsers['orders'], [95, 99])"
   ]
  },
  {
   "cell_type": "markdown",
   "metadata": {},
   "source": [
    "Не более 5% пользователей оформляли больше 2-х заказов. И всего 1% пользователей заказывали более 4-х раз.\n",
    "Разумно выбрать 2 заказа на одного пользователя за верхнюю границу числа заказов, и отсеять аномальных пользователей по ней."
   ]
  },
  {
   "cell_type": "markdown",
   "metadata": {},
   "source": [
    "### Постройте точечный график стоимостей заказов. Сделайте выводы и предположения."
   ]
  },
  {
   "cell_type": "code",
   "execution_count": 28,
   "metadata": {},
   "outputs": [
    {
     "data": {
      "image/png": "[encoded data removed]",
      "text/plain": [
       "<Figure size 864x432 with 1 Axes>"
      ]
     },
     "metadata": {
      "needs_background": "light"
     },
     "output_type": "display_data"
    }
   ],
   "source": [
    "y_values = pd.Series(range(0,len(orders['revenue'])))\n",
    "\n",
    "plt.figure(figsize=(12, 6))\n",
    "plt.scatter(y_values, orders['revenue'])\n",
    "plt.ylabel('Стоимость заказов')\n",
    "plt.xlabel('Количество заказов')\n",
    "plt.title('График стоимостей заказов');"
   ]
  },
  {
   "cell_type": "markdown",
   "metadata": {},
   "source": [
    "Основная масса заказов имеет стоимость менее 200 000. Есть единичные выбросы со стоимостью выше 200 000 и один заказ с аномальной стоимостью свыше 1 200 000, скорее всего, ошибочное значение. Из-за такого единственного выброса график малоинформативен, так как все остальные значения сгруппированы практически в единую массу."
   ]
  },
  {
   "cell_type": "markdown",
   "metadata": {},
   "source": [
    "### Посчитайте 95-й и 99-й перцентили стоимости заказов. Выберите границу для определения аномальных заказов."
   ]
  },
  {
   "cell_type": "code",
   "execution_count": 29,
   "metadata": {},
   "outputs": [
    {
     "data": {
      "text/plain": [
       "array([28000. , 58233.2])"
      ]
     },
     "execution_count": 29,
     "metadata": {},
     "output_type": "execute_result"
    }
   ],
   "source": [
    "np.percentile(orders['revenue'], [95, 99])"
   ]
  },
  {
   "cell_type": "markdown",
   "metadata": {},
   "source": [
    "Не более, чем у 5% заказов, чек дороже 28 000 и всего у 1% заказов - дороже 58 000. Можно выбрать в качестве верхней границы стоимости заказов - 28 000 и отсеять аномальных пользователей по ней."
   ]
  },
  {
   "cell_type": "markdown",
   "metadata": {},
   "source": [
    "### Посчитайте статистическую значимость различий в среднем количестве заказов между группами по «сырым» данным. Сделайте выводы и предположения."
   ]
  },
  {
   "cell_type": "markdown",
   "metadata": {},
   "source": [
    "Сформулируем гипотезы. \n",
    "\n",
    "\n",
    "**Нулевая:** различий в среднем количестве заказов между группами нет. \n",
    "\n",
    "**Альтернативная:** различия в среднем количестве заказов между группами есть.\n",
    "\n",
    "Начнём с подготовки данных:"
   ]
  },
  {
   "cell_type": "code",
   "execution_count": 30,
   "metadata": {},
   "outputs": [
    {
     "data": {
      "text/html": [
       "<div>\n",
       "<style scoped>\n",
       "    .dataframe tbody tr th:only-of-type {\n",
       "        vertical-align: middle;\n",
       "    }\n",
       "\n",
       "    .dataframe tbody tr th {\n",
       "        vertical-align: top;\n",
       "    }\n",
       "\n",
       "    .dataframe thead th {\n",
       "        text-align: right;\n",
       "    }\n",
       "</style>\n",
       "<table border=\"1\" class=\"dataframe\">\n",
       "  <thead>\n",
       "    <tr style=\"text-align: right;\">\n",
       "      <th></th>\n",
       "      <th>date</th>\n",
       "      <th>ordersPerDateA</th>\n",
       "      <th>revenuePerDateA</th>\n",
       "      <th>ordersPerDateB</th>\n",
       "      <th>revenuePerDateB</th>\n",
       "      <th>ordersCummulativeA</th>\n",
       "      <th>revenueCummulativeA</th>\n",
       "      <th>ordersCummulativeB</th>\n",
       "      <th>revenueCummulativeB</th>\n",
       "      <th>visitorsPerDateA</th>\n",
       "      <th>visitorsPerDateB</th>\n",
       "      <th>visitorsCummulativeA</th>\n",
       "      <th>visitorsCummulativeB</th>\n",
       "    </tr>\n",
       "  </thead>\n",
       "  <tbody>\n",
       "    <tr>\n",
       "      <th>0</th>\n",
       "      <td>2019-08-01</td>\n",
       "      <td>24</td>\n",
       "      <td>148579</td>\n",
       "      <td>21</td>\n",
       "      <td>101217</td>\n",
       "      <td>24</td>\n",
       "      <td>148579</td>\n",
       "      <td>21</td>\n",
       "      <td>101217</td>\n",
       "      <td>719</td>\n",
       "      <td>713</td>\n",
       "      <td>719</td>\n",
       "      <td>713</td>\n",
       "    </tr>\n",
       "    <tr>\n",
       "      <th>1</th>\n",
       "      <td>2019-08-02</td>\n",
       "      <td>20</td>\n",
       "      <td>93822</td>\n",
       "      <td>24</td>\n",
       "      <td>165531</td>\n",
       "      <td>44</td>\n",
       "      <td>242401</td>\n",
       "      <td>45</td>\n",
       "      <td>266748</td>\n",
       "      <td>619</td>\n",
       "      <td>581</td>\n",
       "      <td>1338</td>\n",
       "      <td>1294</td>\n",
       "    </tr>\n",
       "    <tr>\n",
       "      <th>2</th>\n",
       "      <td>2019-08-03</td>\n",
       "      <td>24</td>\n",
       "      <td>112473</td>\n",
       "      <td>16</td>\n",
       "      <td>114248</td>\n",
       "      <td>68</td>\n",
       "      <td>354874</td>\n",
       "      <td>61</td>\n",
       "      <td>380996</td>\n",
       "      <td>507</td>\n",
       "      <td>509</td>\n",
       "      <td>1845</td>\n",
       "      <td>1803</td>\n",
       "    </tr>\n",
       "    <tr>\n",
       "      <th>3</th>\n",
       "      <td>2019-08-04</td>\n",
       "      <td>16</td>\n",
       "      <td>70825</td>\n",
       "      <td>17</td>\n",
       "      <td>108571</td>\n",
       "      <td>84</td>\n",
       "      <td>425699</td>\n",
       "      <td>78</td>\n",
       "      <td>489567</td>\n",
       "      <td>717</td>\n",
       "      <td>770</td>\n",
       "      <td>2562</td>\n",
       "      <td>2573</td>\n",
       "    </tr>\n",
       "    <tr>\n",
       "      <th>4</th>\n",
       "      <td>2019-08-05</td>\n",
       "      <td>25</td>\n",
       "      <td>124218</td>\n",
       "      <td>23</td>\n",
       "      <td>92428</td>\n",
       "      <td>109</td>\n",
       "      <td>549917</td>\n",
       "      <td>101</td>\n",
       "      <td>581995</td>\n",
       "      <td>756</td>\n",
       "      <td>707</td>\n",
       "      <td>3318</td>\n",
       "      <td>3280</td>\n",
       "    </tr>\n",
       "  </tbody>\n",
       "</table>\n",
       "</div>"
      ],
      "text/plain": [
       "        date  ordersPerDateA  revenuePerDateA  ordersPerDateB  \\\n",
       "0 2019-08-01              24           148579              21   \n",
       "1 2019-08-02              20            93822              24   \n",
       "2 2019-08-03              24           112473              16   \n",
       "3 2019-08-04              16            70825              17   \n",
       "4 2019-08-05              25           124218              23   \n",
       "\n",
       "   revenuePerDateB  ordersCummulativeA  revenueCummulativeA  \\\n",
       "0           101217                  24               148579   \n",
       "1           165531                  44               242401   \n",
       "2           114248                  68               354874   \n",
       "3           108571                  84               425699   \n",
       "4            92428                 109               549917   \n",
       "\n",
       "   ordersCummulativeB  revenueCummulativeB  visitorsPerDateA  \\\n",
       "0                  21               101217               719   \n",
       "1                  45               266748               619   \n",
       "2                  61               380996               507   \n",
       "3                  78               489567               717   \n",
       "4                 101               581995               756   \n",
       "\n",
       "   visitorsPerDateB  visitorsCummulativeA  visitorsCummulativeB  \n",
       "0               713                   719                   713  \n",
       "1               581                  1338                  1294  \n",
       "2               509                  1845                  1803  \n",
       "3               770                  2562                  2573  \n",
       "4               707                  3318                  3280  "
      ]
     },
     "execution_count": 30,
     "metadata": {},
     "output_type": "execute_result"
    }
   ],
   "source": [
    "visitorsADaily = visitors[visitors['group'] == 'A'][['date', 'visitors']]\n",
    "visitorsADaily.columns = ['date', 'visitorsPerDateA']\n",
    "\n",
    "visitorsACummulative = visitorsADaily.apply(\n",
    "    lambda x: visitorsADaily[visitorsADaily['date'] <= x['date']].agg(\n",
    "        {'date': 'max', 'visitorsPerDateA': 'sum'}\n",
    "    ),\n",
    "    axis=1,\n",
    ")\n",
    "visitorsACummulative.columns = ['date', 'visitorsCummulativeA']\n",
    "\n",
    "visitorsBDaily = visitors[visitors['group'] == 'B'][['date', 'visitors']]\n",
    "visitorsBDaily.columns = ['date', 'visitorsPerDateB']\n",
    "\n",
    "visitorsBCummulative = visitorsBDaily.apply(\n",
    "    lambda x: visitorsBDaily[visitorsBDaily['date'] <= x['date']].agg(\n",
    "        {'date': 'max', 'visitorsPerDateB': 'sum'}\n",
    "    ),\n",
    "    axis=1,\n",
    ")\n",
    "visitorsBCummulative.columns = ['date', 'visitorsCummulativeB']\n",
    "\n",
    "ordersADaily = (\n",
    "    orders[orders['group'] == 'A'][['date', 'transactionid', 'visitorid', 'revenue']]\n",
    "    .groupby('date', as_index=False)\n",
    "    .agg({'transactionid': pd.Series.nunique, 'revenue': 'sum'})\n",
    ")\n",
    "ordersADaily.columns = ['date', 'ordersPerDateA', 'revenuePerDateA']\n",
    "\n",
    "ordersACummulative = ordersADaily.apply(\n",
    "    lambda x: ordersADaily[ordersADaily['date'] <= x['date']].agg(\n",
    "        {'date': 'max', 'ordersPerDateA': 'sum', 'revenuePerDateA': 'sum'}\n",
    "    ),\n",
    "    axis=1,\n",
    ").sort_values(by=['date'])\n",
    "ordersACummulative.columns = [\n",
    "    'date',\n",
    "    'ordersCummulativeA',\n",
    "    'revenueCummulativeA',\n",
    "]\n",
    "\n",
    "ordersBDaily = (\n",
    "    orders[orders['group'] == 'B'][['date', 'transactionid', 'visitorid', 'revenue']]\n",
    "    .groupby('date', as_index=False)\n",
    "    .agg({'transactionid': pd.Series.nunique, 'revenue': 'sum'})\n",
    ")\n",
    "ordersBDaily.columns = ['date', 'ordersPerDateB', 'revenuePerDateB']\n",
    "\n",
    "ordersBCummulative = ordersBDaily.apply(\n",
    "    lambda x: ordersBDaily[ordersBDaily['date'] <= x['date']].agg(\n",
    "        {'date': 'max', 'ordersPerDateB': 'sum', 'revenuePerDateB': 'sum'}\n",
    "    ),\n",
    "    axis=1,\n",
    ").sort_values(by=['date'])\n",
    "ordersBCummulative.columns = [\n",
    "    'date',\n",
    "    'ordersCummulativeB',\n",
    "    'revenueCummulativeB',\n",
    "]\n",
    "\n",
    "data = (\n",
    "    ordersADaily.merge(\n",
    "        ordersBDaily, left_on='date', right_on='date', how='left'\n",
    "    )\n",
    "    .merge(ordersACummulative, left_on='date', right_on='date', how='left')\n",
    "    .merge(ordersBCummulative, left_on='date', right_on='date', how='left')\n",
    "    .merge(visitorsADaily, left_on='date', right_on='date', how='left')\n",
    "    .merge(visitorsBDaily, left_on='date', right_on='date', how='left')\n",
    "    .merge(visitorsACummulative, left_on='date', right_on='date', how='left')\n",
    "    .merge(visitorsBCummulative, left_on='date', right_on='date', how='left')\n",
    ")\n",
    "\n",
    "data.head(5)"
   ]
  },
  {
   "cell_type": "code",
   "execution_count": 31,
   "metadata": {},
   "outputs": [],
   "source": [
    "# для пользователей, которые заказывали хотя бы 1 раз, укажем число совершённых заказов\n",
    "ordersByUsersA = (\n",
    "    orders[orders['group'] == 'A']\n",
    "    .groupby('visitorid', as_index=False)\n",
    "    .agg({'transactionid': pd.Series.nunique})\n",
    ")\n",
    "ordersByUsersA.columns = ['visitorid', 'orders']\n",
    "\n",
    "ordersByUsersB = (\n",
    "    orders[orders['group'] == 'B']\n",
    "    .groupby('visitorid', as_index=False)\n",
    "    .agg({'transactionid': pd.Series.nunique})\n",
    ")\n",
    "ordersByUsersB.columns = ['visitorid', 'orders']"
   ]
  },
  {
   "cell_type": "code",
   "execution_count": 32,
   "metadata": {},
   "outputs": [
    {
     "name": "stdout",
     "output_type": "stream",
     "text": [
      "p-value = 0.017\n",
      "Относительный прирост среднего числа заказов группы B = 0.138\n"
     ]
    }
   ],
   "source": [
    "ordersByUsersA = (\n",
    "    orders[orders['group'] == 'A']\n",
    "    .groupby('visitorid', as_index=False)\n",
    "    .agg({'transactionid': pd.Series.nunique})\n",
    ")\n",
    "ordersByUsersA.columns = ['visitorid', 'orders']\n",
    "\n",
    "ordersByUsersB = (\n",
    "    orders[orders['group'] == 'B']\n",
    "    .groupby('visitorid', as_index=False)\n",
    "    .agg({'transactionid': pd.Series.nunique})\n",
    ")\n",
    "ordersByUsersB.columns = ['visitorid', 'orders']\n",
    "\n",
    "sampleA = pd.concat(\n",
    "    [\n",
    "        ordersByUsersA['orders'],\n",
    "        pd.Series(\n",
    "            0,\n",
    "            index=np.arange(\n",
    "                data['visitorsPerDateA'].sum() - len(ordersByUsersA['orders'])\n",
    "            ),\n",
    "            name='orders',\n",
    "        ),\n",
    "    ],\n",
    "    axis=0,\n",
    ")\n",
    "\n",
    "sampleB = pd.concat(\n",
    "    [\n",
    "        ordersByUsersB['orders'],\n",
    "        pd.Series(\n",
    "            0,\n",
    "            index=np.arange(\n",
    "                data['visitorsPerDateB'].sum() - len(ordersByUsersB['orders'])\n",
    "            ),\n",
    "            name='orders',\n",
    "        ),\n",
    "    ],\n",
    "    axis=0,\n",
    ")\n",
    "\n",
    "print('p-value =',\"{0:.3f}\".format(stats.mannwhitneyu(sampleA, sampleB)[1]))\n",
    "\n",
    "print('Относительный прирост среднего числа заказов группы B =',\"{0:.3f}\".format(sampleB.mean() / sampleA.mean() - 1))"
   ]
  },
  {
   "cell_type": "markdown",
   "metadata": {},
   "source": [
    "P-value < 0.05, значит нулевую гипотезу о том, что статистически значимых различий в среднем количестве заказов между группами нет, отвергаем. Анализ \"сырых\" данных сообщает, что в среднем количестве заказов между группами есть статистически значимые различия. Относительный прирост среднего группы В к среднему группы А равен 13,8%."
   ]
  },
  {
   "cell_type": "markdown",
   "metadata": {},
   "source": [
    "### Посчитайте статистическую значимость различий в среднем чеке заказа между группами по «сырым» данным. Сделайте выводы и предположения."
   ]
  },
  {
   "cell_type": "markdown",
   "metadata": {},
   "source": [
    "Теперь проверим статистическую значимость различий в среднем чеке между сегментами. \n",
    "\n",
    "**Нулевая гипотеза:** различий в среднем чеке между группами нет. \n",
    "\n",
    "**Альтернативная гипотеза:** различия в среднем чеке между группами есть."
   ]
  },
  {
   "cell_type": "code",
   "execution_count": 33,
   "metadata": {},
   "outputs": [
    {
     "name": "stdout",
     "output_type": "stream",
     "text": [
      "p-value 0.729\n",
      "Относительный прирост среднего чека группы B = 0.259\n"
     ]
    }
   ],
   "source": [
    "print('p-value','{0:.3f}'.format(stats.mannwhitneyu(orders[orders['group']=='A']['revenue'], orders[orders['group']=='B']['revenue'])[1]))\n",
    "print('Относительный прирост среднего чека группы B =', '{0:.3f}'.format(orders[orders['group']=='B']['revenue'].mean()/orders[orders['group']=='A']['revenue'].mean()-1))"
   ]
  },
  {
   "cell_type": "markdown",
   "metadata": {},
   "source": [
    "P-value > 0.05, значит статистически значимых отличий в среднем чеке между группами нет. При этом относительное различие среднего чека между сегментами очень большое (25,9%). \n",
    "\n",
    "Такое различие может быть вызвано выбросами аномально высокой стоимости заказов, следует \"очистить\" данные от таких выбросов и сравнить результат."
   ]
  },
  {
   "cell_type": "markdown",
   "metadata": {},
   "source": [
    "### Посчитайте статистическую значимость различий в среднем количестве заказов между группами по «очищенным» данным. Сделайте выводы и предположения."
   ]
  },
  {
   "cell_type": "markdown",
   "metadata": {},
   "source": [
    "Как мы выяснили ранее, не более, чем у 5% заказов, чек дороже 28 000 и не более 5% пользователей оформляли больше 2-х заказов. Примем за аномальных пользователей тех, кто совершил от 3 заказов или совершил заказ дороже 28 000 рублей."
   ]
  },
  {
   "cell_type": "code",
   "execution_count": 34,
   "metadata": {},
   "outputs": [
    {
     "name": "stdout",
     "output_type": "stream",
     "text": [
      "1099    148427295\n",
      "18      199603092\n",
      "928     204675465\n",
      "23      237748145\n",
      "37      249864742\n",
      "Name: visitorid, dtype: int64\n",
      "74\n"
     ]
    }
   ],
   "source": [
    "max_orders = 2\n",
    "max_revenue = 28000\n",
    "usersWithManyOrders = pd.concat(\n",
    "    [\n",
    "        ordersByUsersA[ordersByUsersA['orders'] > max_orders]['visitorid'],\n",
    "        ordersByUsersB[ordersByUsersB['orders'] > max_orders]['visitorid'],\n",
    "    ],\n",
    "    axis=0,\n",
    ")\n",
    "usersWithExpensiveOrders = orders[orders['revenue'] > max_revenue]['visitorid']\n",
    "abnormalUsers = (\n",
    "    pd.concat([usersWithManyOrders, usersWithExpensiveOrders], axis=0)\n",
    "    .drop_duplicates()\n",
    "    .sort_values()\n",
    ")\n",
    "print(abnormalUsers.head(5))\n",
    "print(abnormalUsers.shape[0])"
   ]
  },
  {
   "cell_type": "markdown",
   "metadata": {},
   "source": [
    "Всего 74 аномальных пользователя. \n",
    "\n",
    "Теперь узнаем, как их действия повлияли на результаты теста, в котором мы рассматривали следующие гипотезы:\n",
    "    \n",
    "\n",
    "**Нулевая:** различий в среднем количестве заказов между группами нет. \n",
    "\n",
    "**Альтернативная:** различия в среднем количестве заказов между группами есть."
   ]
  },
  {
   "cell_type": "code",
   "execution_count": 35,
   "metadata": {},
   "outputs": [],
   "source": [
    "sampleAFiltered = pd.concat(\n",
    "    [\n",
    "        ordersByUsersA[\n",
    "            np.logical_not(ordersByUsersA['visitorid'].isin(abnormalUsers))\n",
    "        ]['orders'],\n",
    "        pd.Series(\n",
    "            0,\n",
    "            index=np.arange(\n",
    "                data['visitorsPerDateA'].sum() - len(ordersByUsersA['orders'])\n",
    "            ),\n",
    "            name='orders',\n",
    "        ),\n",
    "    ],\n",
    "    axis=0,\n",
    ")\n",
    "\n",
    "sampleBFiltered = pd.concat(\n",
    "    [\n",
    "        ordersByUsersB[\n",
    "            np.logical_not(ordersByUsersB['visitorid'].isin(abnormalUsers))\n",
    "        ]['orders'],\n",
    "        pd.Series(\n",
    "            0,\n",
    "            index=np.arange(\n",
    "                data['visitorsPerDateB'].sum() - len(ordersByUsersB['orders'])\n",
    "            ),\n",
    "            name='orders',\n",
    "        ),\n",
    "    ],\n",
    "    axis=0,\n",
    ")"
   ]
  },
  {
   "cell_type": "code",
   "execution_count": 36,
   "metadata": {},
   "outputs": [
    {
     "name": "stdout",
     "output_type": "stream",
     "text": [
      "p-value 0.013\n",
      "Относительный прирост среднего числа заказов группы B = 0.173\n"
     ]
    }
   ],
   "source": [
    "print('p-value','{0:.3f}'.format(stats.mannwhitneyu(sampleAFiltered, sampleBFiltered)[1]))\n",
    "print('Относительный прирост среднего числа заказов группы B =','{0:.3f}'.format(sampleBFiltered.mean()/sampleAFiltered.mean()-1))\n"
   ]
  },
  {
   "cell_type": "markdown",
   "metadata": {},
   "source": [
    "Результаты по среднему количеству заказов практически не изменились. P-value < 0.05, значит в среднем количестве заказов между группами есть статистически значимые различия. Относительный прирост среднего группы В к среднему группы А равен 17,3%, что также не сильно отличается от показателея по \"сырым\" данным (13,8%)."
   ]
  },
  {
   "cell_type": "markdown",
   "metadata": {},
   "source": [
    "### Посчитайте статистическую значимость различий в среднем чеке заказа между группами по «очищенным» данным. Сделайте выводы и предположения."
   ]
  },
  {
   "cell_type": "markdown",
   "metadata": {},
   "source": [
    "Проверим статистическую значимость различий в среднем чеке между сегментами по \"очищенным\" данным.\n",
    "\n",
    "**Нулевая гипотеза:** различий в среднем чеке между группами нет. \n",
    "\n",
    "**Альтернативная гипотеза:** различия в среднем чеке между группами есть.<b>"
   ]
  },
  {
   "cell_type": "code",
   "execution_count": 37,
   "metadata": {},
   "outputs": [
    {
     "name": "stdout",
     "output_type": "stream",
     "text": [
      "p-value 0.738\n",
      "Относительный прирост среднего чека группы B = -0.020\n"
     ]
    }
   ],
   "source": [
    "print('p-value',\n",
    "    '{0:.3f}'.format(\n",
    "        stats.mannwhitneyu(\n",
    "            orders[\n",
    "                np.logical_and(\n",
    "                    orders['group'] == 'A',\n",
    "                    np.logical_not(orders['visitorid'].isin(abnormalUsers)),\n",
    "                )\n",
    "            ]['revenue'],\n",
    "            orders[\n",
    "                np.logical_and(\n",
    "                    orders['group'] == 'B',\n",
    "                    np.logical_not(orders['visitorid'].isin(abnormalUsers)),\n",
    "                )\n",
    "            ]['revenue'],\n",
    "        )[1]\n",
    "    )\n",
    ")\n",
    "\n",
    "print('Относительный прирост среднего чека группы B =',\n",
    "    \"{0:.3f}\".format(\n",
    "        orders[\n",
    "            np.logical_and(\n",
    "                orders['group'] == 'B',\n",
    "                np.logical_not(orders['visitorid'].isin(abnormalUsers)),\n",
    "            )\n",
    "        ]['revenue'].mean()\n",
    "        / orders[\n",
    "            np.logical_and(\n",
    "                orders['group'] == 'A',\n",
    "                np.logical_not(orders['visitorid'].isin(abnormalUsers)),\n",
    "            )\n",
    "        ]['revenue'].mean()\n",
    "        - 1\n",
    "    )\n",
    ")"
   ]
  },
  {
   "cell_type": "markdown",
   "metadata": {},
   "source": [
    "Значение P-value > 0.05, как и по \"сырым\" данным, значит статистически значимых отличий в среднем чеке между группами нет. При этом относительное различие среднего чека между сегментами стало отрицательным, то есть группа В теперь проигрывает на 2% группе А. По сырым данным группа В опережала группу А почти на 26%. Таким образом, аномалии в суммах среднего чека достаточно сильно повлияли на результаты A/B-теста.\n"
   ]
  },
  {
   "cell_type": "markdown",
   "metadata": {},
   "source": [
    "### Примите решение по результатам теста и объясните его. \n",
    "\n",
    "Варианты решений: \n",
    "1. Остановить тест, зафиксировать победу одной из групп. \n",
    "\n",
    "2. Остановить тест, зафиксировать отсутствие различий между группами. \n",
    "\n",
    "3. Продолжить тест.\n"
   ]
  },
  {
   "cell_type": "markdown",
   "metadata": {},
   "source": [
    "- Имеется статистически значимое различие по среднему количеству заказов между группами А и В и по «сырым», и по данным после фильтрации аномалий;\n",
    "- нет статистически значимого различия по среднему чеку между группами ни по «сырым», ни по данным после фильтрации аномалий;\n",
    "- график различия кумулятивной конверсии между группами сообщает, что результаты группы B лучше результатов группы A и относительный прирост среднего числа заказов группы B подтверждает данный вывод;\n",
    "- график различия кумулятивного среднего чека  между группами А и В говорит о том, что \"сырые\" данные содержат аномальные значения. При подсчете значения относительного прироста среднего чека группы B по \"очищенным\" данным выяснилось, что он практически не отличается от среднего чека группы А (отстает на 2%).\n",
    "\n",
    "\n",
    "Исходя из обнаруженных фактов, тест следует остановить и признать победу группы В. Хоть средний чек по группам и не изменился, но возросла конверсия, а значит и увеличилось количество заказов."
   ]
  }
 ],
 "metadata": {
  "ExecuteTimeLog": [
   {
    "duration": 47,
    "start_time": "2022-11-18T16:32:40.875Z"
   },
   {
    "duration": 389,
    "start_time": "2022-11-18T16:32:47.245Z"
   },
   {
    "duration": 76,
    "start_time": "2022-11-18T16:32:49.989Z"
   },
   {
    "duration": 12,
    "start_time": "2022-11-18T16:33:15.346Z"
   },
   {
    "duration": 12,
    "start_time": "2022-11-18T16:33:26.499Z"
   },
   {
    "duration": 844,
    "start_time": "2022-11-18T16:34:17.352Z"
   },
   {
    "duration": 4,
    "start_time": "2022-11-18T16:41:06.348Z"
   },
   {
    "duration": 8,
    "start_time": "2022-11-18T16:41:14.715Z"
   },
   {
    "duration": 10,
    "start_time": "2022-11-18T16:41:32.938Z"
   },
   {
    "duration": 5,
    "start_time": "2022-11-18T16:42:07.847Z"
   },
   {
    "duration": 12,
    "start_time": "2022-11-18T16:43:24.813Z"
   },
   {
    "duration": 12,
    "start_time": "2022-11-18T16:45:40.593Z"
   },
   {
    "duration": 10,
    "start_time": "2022-11-18T16:47:55.195Z"
   },
   {
    "duration": 12,
    "start_time": "2022-11-18T16:48:02.734Z"
   },
   {
    "duration": 12,
    "start_time": "2022-11-18T16:48:14.378Z"
   },
   {
    "duration": 12,
    "start_time": "2022-11-18T16:48:44.482Z"
   },
   {
    "duration": 9,
    "start_time": "2022-11-18T17:09:32.200Z"
   },
   {
    "duration": 340,
    "start_time": "2022-11-19T08:38:18.450Z"
   },
   {
    "duration": 77,
    "start_time": "2022-11-19T08:38:18.792Z"
   },
   {
    "duration": 10,
    "start_time": "2022-11-19T08:38:18.870Z"
   },
   {
    "duration": 12,
    "start_time": "2022-11-19T08:38:18.882Z"
   },
   {
    "duration": 17,
    "start_time": "2022-11-19T08:38:18.896Z"
   },
   {
    "duration": 9,
    "start_time": "2022-11-19T08:38:18.915Z"
   },
   {
    "duration": 12,
    "start_time": "2022-11-19T08:38:18.926Z"
   },
   {
    "duration": 402,
    "start_time": "2022-11-19T08:38:35.071Z"
   },
   {
    "duration": 38,
    "start_time": "2022-11-19T08:38:35.474Z"
   },
   {
    "duration": 10,
    "start_time": "2022-11-19T08:38:35.513Z"
   },
   {
    "duration": 22,
    "start_time": "2022-11-19T08:38:35.524Z"
   },
   {
    "duration": 16,
    "start_time": "2022-11-19T08:38:35.547Z"
   },
   {
    "duration": 13,
    "start_time": "2022-11-19T08:38:35.564Z"
   },
   {
    "duration": 26,
    "start_time": "2022-11-19T08:38:35.578Z"
   },
   {
    "duration": 99,
    "start_time": "2022-11-19T09:01:47.263Z"
   },
   {
    "duration": 70,
    "start_time": "2022-11-19T09:02:48.709Z"
   },
   {
    "duration": 10,
    "start_time": "2022-11-19T09:03:39.885Z"
   },
   {
    "duration": 9,
    "start_time": "2022-11-19T09:04:29.371Z"
   },
   {
    "duration": 9,
    "start_time": "2022-11-19T09:04:36.938Z"
   },
   {
    "duration": 252,
    "start_time": "2022-11-19T09:05:24.074Z"
   },
   {
    "duration": 372,
    "start_time": "2022-11-19T09:06:15.521Z"
   },
   {
    "duration": 40,
    "start_time": "2022-11-19T09:06:15.895Z"
   },
   {
    "duration": 14,
    "start_time": "2022-11-19T09:06:15.937Z"
   },
   {
    "duration": 10,
    "start_time": "2022-11-19T09:06:15.953Z"
   },
   {
    "duration": 22,
    "start_time": "2022-11-19T09:06:15.965Z"
   },
   {
    "duration": 11,
    "start_time": "2022-11-19T09:06:15.989Z"
   },
   {
    "duration": 16,
    "start_time": "2022-11-19T09:06:16.001Z"
   },
   {
    "duration": 47,
    "start_time": "2022-11-19T09:06:16.019Z"
   },
   {
    "duration": 12,
    "start_time": "2022-11-19T09:06:16.068Z"
   },
   {
    "duration": 21,
    "start_time": "2022-11-19T09:06:16.082Z"
   },
   {
    "duration": 30,
    "start_time": "2022-11-19T09:06:16.105Z"
   },
   {
    "duration": 9,
    "start_time": "2022-11-19T09:06:16.136Z"
   },
   {
    "duration": 10,
    "start_time": "2022-11-19T09:07:08.312Z"
   },
   {
    "duration": 7,
    "start_time": "2022-11-19T09:07:22.937Z"
   },
   {
    "duration": 5,
    "start_time": "2022-11-19T09:07:50.002Z"
   },
   {
    "duration": 5,
    "start_time": "2022-11-19T09:08:08.735Z"
   },
   {
    "duration": 222,
    "start_time": "2022-11-19T10:42:07.973Z"
   },
   {
    "duration": 170,
    "start_time": "2022-11-19T10:42:17.277Z"
   },
   {
    "duration": 170,
    "start_time": "2022-11-19T10:42:24.844Z"
   },
   {
    "duration": 177,
    "start_time": "2022-11-19T10:42:28.402Z"
   },
   {
    "duration": 391,
    "start_time": "2022-11-19T10:42:42.807Z"
   },
   {
    "duration": 39,
    "start_time": "2022-11-19T10:42:43.200Z"
   },
   {
    "duration": 10,
    "start_time": "2022-11-19T10:42:43.241Z"
   },
   {
    "duration": 20,
    "start_time": "2022-11-19T10:42:43.253Z"
   },
   {
    "duration": 20,
    "start_time": "2022-11-19T10:42:43.275Z"
   },
   {
    "duration": 14,
    "start_time": "2022-11-19T10:42:43.297Z"
   },
   {
    "duration": 20,
    "start_time": "2022-11-19T10:42:43.313Z"
   },
   {
    "duration": 50,
    "start_time": "2022-11-19T10:42:43.335Z"
   },
   {
    "duration": 9,
    "start_time": "2022-11-19T10:42:43.387Z"
   },
   {
    "duration": 26,
    "start_time": "2022-11-19T10:42:43.398Z"
   },
   {
    "duration": 15,
    "start_time": "2022-11-19T10:42:43.425Z"
   },
   {
    "duration": 41,
    "start_time": "2022-11-19T10:42:43.441Z"
   },
   {
    "duration": 9,
    "start_time": "2022-11-19T10:42:43.483Z"
   },
   {
    "duration": 79,
    "start_time": "2022-11-19T10:42:43.493Z"
   },
   {
    "duration": 0,
    "start_time": "2022-11-19T10:42:43.574Z"
   },
   {
    "duration": 285,
    "start_time": "2022-11-19T10:42:57.225Z"
   },
   {
    "duration": 183,
    "start_time": "2022-11-19T10:43:07.216Z"
   },
   {
    "duration": 183,
    "start_time": "2022-11-19T10:43:11.579Z"
   },
   {
    "duration": 361,
    "start_time": "2022-11-19T10:43:25.340Z"
   },
   {
    "duration": 38,
    "start_time": "2022-11-19T10:43:25.702Z"
   },
   {
    "duration": 10,
    "start_time": "2022-11-19T10:43:25.741Z"
   },
   {
    "duration": 11,
    "start_time": "2022-11-19T10:43:25.753Z"
   },
   {
    "duration": 25,
    "start_time": "2022-11-19T10:43:25.765Z"
   },
   {
    "duration": 10,
    "start_time": "2022-11-19T10:43:25.791Z"
   },
   {
    "duration": 20,
    "start_time": "2022-11-19T10:43:25.802Z"
   },
   {
    "duration": 48,
    "start_time": "2022-11-19T10:43:25.824Z"
   },
   {
    "duration": 10,
    "start_time": "2022-11-19T10:43:25.873Z"
   },
   {
    "duration": 31,
    "start_time": "2022-11-19T10:43:25.885Z"
   },
   {
    "duration": 17,
    "start_time": "2022-11-19T10:43:25.918Z"
   },
   {
    "duration": 30,
    "start_time": "2022-11-19T10:43:25.937Z"
   },
   {
    "duration": 10,
    "start_time": "2022-11-19T10:43:25.969Z"
   },
   {
    "duration": 19,
    "start_time": "2022-11-19T10:43:25.981Z"
   },
   {
    "duration": 23,
    "start_time": "2022-11-19T10:43:26.001Z"
   },
   {
    "duration": 5,
    "start_time": "2022-11-19T10:44:17.375Z"
   },
   {
    "duration": 81,
    "start_time": "2022-11-19T10:45:34.273Z"
   },
   {
    "duration": 20,
    "start_time": "2022-11-19T10:46:39.490Z"
   },
   {
    "duration": 153,
    "start_time": "2022-11-19T10:47:45.686Z"
   },
   {
    "duration": 119,
    "start_time": "2022-11-19T10:49:31.766Z"
   },
   {
    "duration": 246,
    "start_time": "2022-11-19T10:50:33.534Z"
   },
   {
    "duration": 343,
    "start_time": "2022-11-19T10:52:50.527Z"
   },
   {
    "duration": 254,
    "start_time": "2022-11-19T10:52:59.838Z"
   },
   {
    "duration": 163,
    "start_time": "2022-11-19T10:53:05.282Z"
   },
   {
    "duration": 150,
    "start_time": "2022-11-19T11:13:31.719Z"
   },
   {
    "duration": 207,
    "start_time": "2022-11-19T11:13:40.693Z"
   },
   {
    "duration": 152,
    "start_time": "2022-11-19T11:13:47.557Z"
   },
   {
    "duration": 166,
    "start_time": "2022-11-19T11:14:25.286Z"
   },
   {
    "duration": 158,
    "start_time": "2022-11-19T11:14:32.331Z"
   },
   {
    "duration": 580,
    "start_time": "2022-11-19T11:14:59.008Z"
   },
   {
    "duration": 35,
    "start_time": "2022-11-19T11:14:59.589Z"
   },
   {
    "duration": 13,
    "start_time": "2022-11-19T11:14:59.625Z"
   },
   {
    "duration": 8,
    "start_time": "2022-11-19T11:14:59.639Z"
   },
   {
    "duration": 12,
    "start_time": "2022-11-19T11:14:59.649Z"
   },
   {
    "duration": 10,
    "start_time": "2022-11-19T11:14:59.662Z"
   },
   {
    "duration": 8,
    "start_time": "2022-11-19T11:14:59.673Z"
   },
   {
    "duration": 49,
    "start_time": "2022-11-19T11:14:59.683Z"
   },
   {
    "duration": 9,
    "start_time": "2022-11-19T11:14:59.734Z"
   },
   {
    "duration": 74,
    "start_time": "2022-11-19T11:14:59.745Z"
   },
   {
    "duration": 32,
    "start_time": "2022-11-19T11:14:59.821Z"
   },
   {
    "duration": 58,
    "start_time": "2022-11-19T11:14:59.855Z"
   },
   {
    "duration": 9,
    "start_time": "2022-11-19T11:14:59.915Z"
   },
   {
    "duration": 30,
    "start_time": "2022-11-19T11:14:59.926Z"
   },
   {
    "duration": 18,
    "start_time": "2022-11-19T11:14:59.958Z"
   },
   {
    "duration": 208,
    "start_time": "2022-11-19T11:14:59.978Z"
   },
   {
    "duration": 128,
    "start_time": "2022-11-19T11:15:00.188Z"
   },
   {
    "duration": 270,
    "start_time": "2022-11-19T11:15:00.318Z"
   },
   {
    "duration": 236,
    "start_time": "2022-11-19T11:15:00.589Z"
   },
   {
    "duration": 152,
    "start_time": "2022-11-19T11:15:17.778Z"
   },
   {
    "duration": 219,
    "start_time": "2022-11-19T11:15:41.937Z"
   },
   {
    "duration": 199,
    "start_time": "2022-11-19T11:15:58.195Z"
   },
   {
    "duration": 201,
    "start_time": "2022-11-19T11:19:25.424Z"
   },
   {
    "duration": 201,
    "start_time": "2022-11-19T11:19:34.144Z"
   },
   {
    "duration": 186,
    "start_time": "2022-11-19T11:19:38.136Z"
   },
   {
    "duration": 184,
    "start_time": "2022-11-19T11:19:43.982Z"
   },
   {
    "duration": 174,
    "start_time": "2022-11-19T11:20:47.877Z"
   },
   {
    "duration": 176,
    "start_time": "2022-11-19T11:21:02.021Z"
   },
   {
    "duration": 181,
    "start_time": "2022-11-19T11:21:56.297Z"
   },
   {
    "duration": 185,
    "start_time": "2022-11-19T11:23:46.742Z"
   },
   {
    "duration": 195,
    "start_time": "2022-11-19T11:24:36.979Z"
   },
   {
    "duration": 163,
    "start_time": "2022-11-19T11:32:44.904Z"
   },
   {
    "duration": 207,
    "start_time": "2022-11-19T11:32:51.197Z"
   },
   {
    "duration": 177,
    "start_time": "2022-11-19T11:34:06.904Z"
   },
   {
    "duration": 177,
    "start_time": "2022-11-19T11:34:22.439Z"
   },
   {
    "duration": 270,
    "start_time": "2022-11-19T11:47:01.614Z"
   },
   {
    "duration": 265,
    "start_time": "2022-11-19T11:47:37.606Z"
   },
   {
    "duration": 225,
    "start_time": "2022-11-19T11:47:49.350Z"
   },
   {
    "duration": 297,
    "start_time": "2022-11-19T11:49:00.322Z"
   },
   {
    "duration": 188,
    "start_time": "2022-11-19T12:32:19.487Z"
   },
   {
    "duration": 210,
    "start_time": "2022-11-19T12:32:35.503Z"
   },
   {
    "duration": 9,
    "start_time": "2022-11-19T12:45:04.138Z"
   },
   {
    "duration": 11,
    "start_time": "2022-11-19T12:48:05.942Z"
   },
   {
    "duration": 15,
    "start_time": "2022-11-19T12:48:24.708Z"
   },
   {
    "duration": 11,
    "start_time": "2022-11-19T12:48:30.523Z"
   },
   {
    "duration": 3,
    "start_time": "2022-11-19T12:49:07.138Z"
   },
   {
    "duration": 5,
    "start_time": "2022-11-19T12:53:25.971Z"
   },
   {
    "duration": 5,
    "start_time": "2022-11-19T12:56:23.703Z"
   },
   {
    "duration": 105,
    "start_time": "2022-11-19T12:58:30.311Z"
   },
   {
    "duration": 124,
    "start_time": "2022-11-19T12:59:42.207Z"
   },
   {
    "duration": 178,
    "start_time": "2022-11-19T13:00:13.957Z"
   },
   {
    "duration": 135,
    "start_time": "2022-11-19T13:00:30.597Z"
   },
   {
    "duration": 115,
    "start_time": "2022-11-19T13:01:28.920Z"
   },
   {
    "duration": 129,
    "start_time": "2022-11-19T13:03:51.563Z"
   },
   {
    "duration": 128,
    "start_time": "2022-11-19T13:04:08.921Z"
   },
   {
    "duration": 156,
    "start_time": "2022-11-19T13:05:43.230Z"
   },
   {
    "duration": 150,
    "start_time": "2022-11-19T13:06:36.812Z"
   },
   {
    "duration": 143,
    "start_time": "2022-11-19T13:07:56.217Z"
   },
   {
    "duration": 6,
    "start_time": "2022-11-19T13:19:50.527Z"
   },
   {
    "duration": 7,
    "start_time": "2022-11-19T13:19:58.831Z"
   },
   {
    "duration": 8,
    "start_time": "2022-11-19T13:21:02.582Z"
   },
   {
    "duration": 593,
    "start_time": "2022-11-19T13:21:14.860Z"
   },
   {
    "duration": 36,
    "start_time": "2022-11-19T13:21:15.455Z"
   },
   {
    "duration": 12,
    "start_time": "2022-11-19T13:21:15.493Z"
   },
   {
    "duration": 9,
    "start_time": "2022-11-19T13:21:15.508Z"
   },
   {
    "duration": 13,
    "start_time": "2022-11-19T13:21:15.519Z"
   },
   {
    "duration": 12,
    "start_time": "2022-11-19T13:21:15.533Z"
   },
   {
    "duration": 11,
    "start_time": "2022-11-19T13:21:15.546Z"
   },
   {
    "duration": 46,
    "start_time": "2022-11-19T13:21:15.559Z"
   },
   {
    "duration": 12,
    "start_time": "2022-11-19T13:21:15.606Z"
   },
   {
    "duration": 30,
    "start_time": "2022-11-19T13:21:15.622Z"
   },
   {
    "duration": 14,
    "start_time": "2022-11-19T13:21:15.654Z"
   },
   {
    "duration": 15,
    "start_time": "2022-11-19T13:21:15.669Z"
   },
   {
    "duration": 31,
    "start_time": "2022-11-19T13:21:15.687Z"
   },
   {
    "duration": 9,
    "start_time": "2022-11-19T13:21:15.720Z"
   },
   {
    "duration": 12,
    "start_time": "2022-11-19T13:21:15.730Z"
   },
   {
    "duration": 5,
    "start_time": "2022-11-19T13:21:15.744Z"
   },
   {
    "duration": 178,
    "start_time": "2022-11-19T13:21:15.750Z"
   },
   {
    "duration": 130,
    "start_time": "2022-11-19T13:21:15.930Z"
   },
   {
    "duration": 262,
    "start_time": "2022-11-19T13:21:16.062Z"
   },
   {
    "duration": 261,
    "start_time": "2022-11-19T13:21:16.326Z"
   },
   {
    "duration": 193,
    "start_time": "2022-11-19T13:21:16.589Z"
   },
   {
    "duration": 327,
    "start_time": "2022-11-19T13:21:16.784Z"
   },
   {
    "duration": 240,
    "start_time": "2022-11-19T13:21:17.113Z"
   },
   {
    "duration": 9,
    "start_time": "2022-11-19T13:21:17.355Z"
   },
   {
    "duration": 133,
    "start_time": "2022-11-19T13:21:17.366Z"
   },
   {
    "duration": 4,
    "start_time": "2022-11-19T13:21:17.500Z"
   },
   {
    "duration": 150,
    "start_time": "2022-11-19T13:21:17.506Z"
   },
   {
    "duration": 4,
    "start_time": "2022-11-19T13:21:17.659Z"
   },
   {
    "duration": 9,
    "start_time": "2022-11-19T13:21:17.664Z"
   },
   {
    "duration": 71,
    "start_time": "2022-11-19T13:22:08.658Z"
   },
   {
    "duration": 9,
    "start_time": "2022-11-19T13:22:11.842Z"
   },
   {
    "duration": 9,
    "start_time": "2022-11-19T13:22:17.516Z"
   },
   {
    "duration": 9,
    "start_time": "2022-11-19T13:22:28.881Z"
   },
   {
    "duration": 8,
    "start_time": "2022-11-19T13:22:39.427Z"
   },
   {
    "duration": 7,
    "start_time": "2022-11-19T13:23:00.376Z"
   },
   {
    "duration": 6,
    "start_time": "2022-11-19T13:23:51.047Z"
   },
   {
    "duration": 7,
    "start_time": "2022-11-19T13:23:59.911Z"
   },
   {
    "duration": 8,
    "start_time": "2022-11-19T13:24:16.709Z"
   },
   {
    "duration": 444,
    "start_time": "2022-11-19T14:01:14.153Z"
   },
   {
    "duration": 125,
    "start_time": "2022-11-19T14:04:55.253Z"
   },
   {
    "duration": 199,
    "start_time": "2022-11-19T14:07:27.184Z"
   },
   {
    "duration": 15,
    "start_time": "2022-11-19T14:09:58.912Z"
   },
   {
    "duration": 456,
    "start_time": "2022-11-19T14:10:45.631Z"
   },
   {
    "duration": 213,
    "start_time": "2022-11-19T14:11:34.967Z"
   },
   {
    "duration": 1025,
    "start_time": "2022-11-19T14:12:13.839Z"
   },
   {
    "duration": 37,
    "start_time": "2022-11-19T14:12:14.866Z"
   },
   {
    "duration": 11,
    "start_time": "2022-11-19T14:12:14.905Z"
   },
   {
    "duration": 8,
    "start_time": "2022-11-19T14:12:14.918Z"
   },
   {
    "duration": 17,
    "start_time": "2022-11-19T14:12:14.928Z"
   },
   {
    "duration": 11,
    "start_time": "2022-11-19T14:12:14.947Z"
   },
   {
    "duration": 14,
    "start_time": "2022-11-19T14:12:14.959Z"
   },
   {
    "duration": 43,
    "start_time": "2022-11-19T14:12:14.998Z"
   },
   {
    "duration": 9,
    "start_time": "2022-11-19T14:12:15.043Z"
   },
   {
    "duration": 20,
    "start_time": "2022-11-19T14:12:15.055Z"
   },
   {
    "duration": 9,
    "start_time": "2022-11-19T14:12:15.076Z"
   },
   {
    "duration": 29,
    "start_time": "2022-11-19T14:12:15.086Z"
   },
   {
    "duration": 9,
    "start_time": "2022-11-19T14:12:15.117Z"
   },
   {
    "duration": 12,
    "start_time": "2022-11-19T14:12:15.127Z"
   },
   {
    "duration": 7,
    "start_time": "2022-11-19T14:12:15.140Z"
   },
   {
    "duration": 156,
    "start_time": "2022-11-19T14:12:15.148Z"
   },
   {
    "duration": 116,
    "start_time": "2022-11-19T14:12:15.306Z"
   },
   {
    "duration": 573,
    "start_time": "2022-11-19T14:12:15.424Z"
   },
   {
    "duration": 507,
    "start_time": "2022-11-19T14:12:15.999Z"
   },
   {
    "duration": 335,
    "start_time": "2022-11-19T14:12:16.508Z"
   },
   {
    "duration": 386,
    "start_time": "2022-11-19T14:12:16.844Z"
   },
   {
    "duration": 187,
    "start_time": "2022-11-19T14:12:17.231Z"
   },
   {
    "duration": 10,
    "start_time": "2022-11-19T14:12:17.420Z"
   },
   {
    "duration": 143,
    "start_time": "2022-11-19T14:12:17.432Z"
   },
   {
    "duration": 5,
    "start_time": "2022-11-19T14:12:17.576Z"
   },
   {
    "duration": 155,
    "start_time": "2022-11-19T14:12:17.582Z"
   },
   {
    "duration": 4,
    "start_time": "2022-11-19T14:12:17.739Z"
   },
   {
    "duration": 219,
    "start_time": "2022-11-19T14:12:17.746Z"
   },
   {
    "duration": 445,
    "start_time": "2022-11-19T14:12:17.967Z"
   },
   {
    "duration": 70,
    "start_time": "2022-11-19T14:13:58.567Z"
   },
   {
    "duration": 114,
    "start_time": "2022-11-19T14:14:11.229Z"
   },
   {
    "duration": 135,
    "start_time": "2022-11-19T14:14:46.372Z"
   },
   {
    "duration": 8,
    "start_time": "2022-11-19T14:16:49.998Z"
   },
   {
    "duration": 6,
    "start_time": "2022-11-19T14:17:56.675Z"
   },
   {
    "duration": 13,
    "start_time": "2022-11-19T14:19:08.879Z"
   },
   {
    "duration": 150,
    "start_time": "2022-11-19T14:20:22.421Z"
   },
   {
    "duration": 1228,
    "start_time": "2022-11-21T11:01:43.856Z"
   },
   {
    "duration": 74,
    "start_time": "2022-11-21T11:01:45.086Z"
   },
   {
    "duration": 11,
    "start_time": "2022-11-21T11:01:45.162Z"
   },
   {
    "duration": 19,
    "start_time": "2022-11-21T11:01:45.175Z"
   },
   {
    "duration": 36,
    "start_time": "2022-11-21T11:01:45.196Z"
   },
   {
    "duration": 35,
    "start_time": "2022-11-21T11:01:45.234Z"
   },
   {
    "duration": 26,
    "start_time": "2022-11-21T11:01:45.271Z"
   },
   {
    "duration": 104,
    "start_time": "2022-11-21T11:01:45.298Z"
   },
   {
    "duration": 10,
    "start_time": "2022-11-21T11:01:45.404Z"
   },
   {
    "duration": 53,
    "start_time": "2022-11-21T11:01:45.416Z"
   },
   {
    "duration": 32,
    "start_time": "2022-11-21T11:01:45.470Z"
   },
   {
    "duration": 83,
    "start_time": "2022-11-21T11:01:45.503Z"
   },
   {
    "duration": 9,
    "start_time": "2022-11-21T11:01:45.587Z"
   },
   {
    "duration": 25,
    "start_time": "2022-11-21T11:01:45.598Z"
   },
   {
    "duration": 28,
    "start_time": "2022-11-21T11:01:45.625Z"
   },
   {
    "duration": 176,
    "start_time": "2022-11-21T11:01:45.654Z"
   },
   {
    "duration": 279,
    "start_time": "2022-11-21T11:01:45.831Z"
   },
   {
    "duration": 517,
    "start_time": "2022-11-21T11:01:46.112Z"
   },
   {
    "duration": 575,
    "start_time": "2022-11-21T11:01:46.630Z"
   },
   {
    "duration": 418,
    "start_time": "2022-11-21T11:01:47.207Z"
   },
   {
    "duration": 397,
    "start_time": "2022-11-21T11:01:47.627Z"
   },
   {
    "duration": 198,
    "start_time": "2022-11-21T11:01:48.026Z"
   },
   {
    "duration": 10,
    "start_time": "2022-11-21T11:01:48.225Z"
   },
   {
    "duration": 133,
    "start_time": "2022-11-21T11:01:48.237Z"
   },
   {
    "duration": 5,
    "start_time": "2022-11-21T11:01:48.371Z"
   },
   {
    "duration": 158,
    "start_time": "2022-11-21T11:01:48.378Z"
   },
   {
    "duration": 5,
    "start_time": "2022-11-21T11:01:48.537Z"
   },
   {
    "duration": 223,
    "start_time": "2022-11-21T11:01:48.545Z"
   },
   {
    "duration": 155,
    "start_time": "2022-11-21T11:01:48.770Z"
   },
   {
    "duration": 161,
    "start_time": "2022-11-21T11:01:48.927Z"
   },
   {
    "duration": 10,
    "start_time": "2022-11-21T11:08:18.288Z"
   },
   {
    "duration": 12,
    "start_time": "2022-11-21T11:08:46.705Z"
   },
   {
    "duration": 11,
    "start_time": "2022-11-21T11:09:11.421Z"
   },
   {
    "duration": 13,
    "start_time": "2022-11-21T11:09:24.867Z"
   },
   {
    "duration": 12,
    "start_time": "2022-11-21T11:10:28.489Z"
   },
   {
    "duration": 165,
    "start_time": "2022-11-21T11:10:38.575Z"
   },
   {
    "duration": 173,
    "start_time": "2022-11-21T11:12:42.276Z"
   },
   {
    "duration": 148,
    "start_time": "2022-11-21T11:12:56.379Z"
   },
   {
    "duration": 131,
    "start_time": "2022-11-21T11:13:09.363Z"
   },
   {
    "duration": 1187,
    "start_time": "2022-11-22T10:54:07.552Z"
   },
   {
    "duration": 83,
    "start_time": "2022-11-22T10:54:08.741Z"
   },
   {
    "duration": 11,
    "start_time": "2022-11-22T10:54:08.826Z"
   },
   {
    "duration": 5,
    "start_time": "2022-11-22T10:54:08.839Z"
   },
   {
    "duration": 10,
    "start_time": "2022-11-22T10:54:08.846Z"
   },
   {
    "duration": 9,
    "start_time": "2022-11-22T10:54:08.858Z"
   },
   {
    "duration": 8,
    "start_time": "2022-11-22T10:54:08.869Z"
   },
   {
    "duration": 89,
    "start_time": "2022-11-22T10:54:08.878Z"
   },
   {
    "duration": 10,
    "start_time": "2022-11-22T10:54:08.968Z"
   },
   {
    "duration": 17,
    "start_time": "2022-11-22T10:54:08.981Z"
   },
   {
    "duration": 8,
    "start_time": "2022-11-22T10:54:08.999Z"
   },
   {
    "duration": 62,
    "start_time": "2022-11-22T10:54:09.009Z"
   },
   {
    "duration": 10,
    "start_time": "2022-11-22T10:54:09.072Z"
   },
   {
    "duration": 18,
    "start_time": "2022-11-22T10:54:09.083Z"
   },
   {
    "duration": 12,
    "start_time": "2022-11-22T10:54:09.102Z"
   },
   {
    "duration": 156,
    "start_time": "2022-11-22T10:54:09.116Z"
   },
   {
    "duration": 122,
    "start_time": "2022-11-22T10:54:09.275Z"
   },
   {
    "duration": 270,
    "start_time": "2022-11-22T10:54:09.399Z"
   },
   {
    "duration": 280,
    "start_time": "2022-11-22T10:54:09.670Z"
   },
   {
    "duration": 197,
    "start_time": "2022-11-22T10:54:09.952Z"
   },
   {
    "duration": 370,
    "start_time": "2022-11-22T10:54:10.151Z"
   },
   {
    "duration": 211,
    "start_time": "2022-11-22T10:54:10.523Z"
   },
   {
    "duration": 10,
    "start_time": "2022-11-22T10:54:10.736Z"
   },
   {
    "duration": 151,
    "start_time": "2022-11-22T10:54:10.748Z"
   },
   {
    "duration": 5,
    "start_time": "2022-11-22T10:54:10.901Z"
   },
   {
    "duration": 159,
    "start_time": "2022-11-22T10:54:10.907Z"
   },
   {
    "duration": 11,
    "start_time": "2022-11-22T10:54:11.068Z"
   },
   {
    "duration": 239,
    "start_time": "2022-11-22T10:54:11.083Z"
   },
   {
    "duration": 140,
    "start_time": "2022-11-22T10:54:11.324Z"
   },
   {
    "duration": 172,
    "start_time": "2022-11-22T10:54:11.466Z"
   },
   {
    "duration": 10,
    "start_time": "2022-11-22T10:54:11.639Z"
   },
   {
    "duration": 1048,
    "start_time": "2022-11-23T02:52:38.178Z"
   },
   {
    "duration": 42,
    "start_time": "2022-11-23T02:52:39.227Z"
   },
   {
    "duration": 15,
    "start_time": "2022-11-23T02:52:39.271Z"
   },
   {
    "duration": 11,
    "start_time": "2022-11-23T02:52:39.288Z"
   },
   {
    "duration": 12,
    "start_time": "2022-11-23T02:52:39.300Z"
   },
   {
    "duration": 9,
    "start_time": "2022-11-23T02:52:39.314Z"
   },
   {
    "duration": 14,
    "start_time": "2022-11-23T02:52:39.324Z"
   },
   {
    "duration": 45,
    "start_time": "2022-11-23T02:52:39.339Z"
   },
   {
    "duration": 10,
    "start_time": "2022-11-23T02:52:39.386Z"
   },
   {
    "duration": 21,
    "start_time": "2022-11-23T02:52:39.398Z"
   },
   {
    "duration": 20,
    "start_time": "2022-11-23T02:52:39.421Z"
   },
   {
    "duration": 20,
    "start_time": "2022-11-23T02:52:39.443Z"
   },
   {
    "duration": 12,
    "start_time": "2022-11-23T02:52:39.465Z"
   },
   {
    "duration": 16,
    "start_time": "2022-11-23T02:52:39.478Z"
   },
   {
    "duration": 11,
    "start_time": "2022-11-23T02:52:39.496Z"
   },
   {
    "duration": 179,
    "start_time": "2022-11-23T02:52:39.508Z"
   },
   {
    "duration": 111,
    "start_time": "2022-11-23T02:52:39.689Z"
   },
   {
    "duration": 251,
    "start_time": "2022-11-23T02:52:39.801Z"
   },
   {
    "duration": 254,
    "start_time": "2022-11-23T02:52:40.053Z"
   },
   {
    "duration": 207,
    "start_time": "2022-11-23T02:52:40.308Z"
   },
   {
    "duration": 267,
    "start_time": "2022-11-23T02:52:40.518Z"
   },
   {
    "duration": 183,
    "start_time": "2022-11-23T02:52:40.786Z"
   },
   {
    "duration": 13,
    "start_time": "2022-11-23T02:52:40.970Z"
   },
   {
    "duration": 130,
    "start_time": "2022-11-23T02:52:40.984Z"
   },
   {
    "duration": 5,
    "start_time": "2022-11-23T02:52:41.115Z"
   },
   {
    "duration": 141,
    "start_time": "2022-11-23T02:52:41.122Z"
   },
   {
    "duration": 13,
    "start_time": "2022-11-23T02:52:41.265Z"
   },
   {
    "duration": 201,
    "start_time": "2022-11-23T02:52:41.281Z"
   },
   {
    "duration": 129,
    "start_time": "2022-11-23T02:52:41.484Z"
   },
   {
    "duration": 146,
    "start_time": "2022-11-23T02:52:41.615Z"
   },
   {
    "duration": 15,
    "start_time": "2022-11-23T02:52:41.763Z"
   },
   {
    "duration": 179,
    "start_time": "2022-11-23T03:15:22.610Z"
   },
   {
    "duration": 233,
    "start_time": "2022-11-23T03:15:27.192Z"
   },
   {
    "duration": 179,
    "start_time": "2022-11-23T03:15:42.075Z"
   },
   {
    "duration": 231,
    "start_time": "2022-11-23T03:17:54.698Z"
   },
   {
    "duration": 361,
    "start_time": "2022-11-23T03:22:23.217Z"
   },
   {
    "duration": 286,
    "start_time": "2022-11-23T03:22:30.592Z"
   },
   {
    "duration": 302,
    "start_time": "2022-11-23T03:22:46.981Z"
   },
   {
    "duration": 299,
    "start_time": "2022-11-23T03:22:56.806Z"
   },
   {
    "duration": 311,
    "start_time": "2022-11-23T03:23:01.491Z"
   },
   {
    "duration": 322,
    "start_time": "2022-11-23T03:23:59.371Z"
   },
   {
    "duration": 354,
    "start_time": "2022-11-23T03:24:57.049Z"
   },
   {
    "duration": 323,
    "start_time": "2022-11-23T03:25:07.670Z"
   },
   {
    "duration": 32,
    "start_time": "2022-11-23T03:32:47.567Z"
   },
   {
    "duration": 832,
    "start_time": "2022-11-23T03:34:39.130Z"
   },
   {
    "duration": 743,
    "start_time": "2022-11-23T03:34:51.455Z"
   },
   {
    "duration": 11,
    "start_time": "2022-11-23T03:35:06.325Z"
   },
   {
    "duration": 9,
    "start_time": "2022-11-23T03:35:18.867Z"
   },
   {
    "duration": 10,
    "start_time": "2022-11-23T03:35:24.546Z"
   },
   {
    "duration": 4,
    "start_time": "2022-11-23T03:38:29.756Z"
   },
   {
    "duration": 6,
    "start_time": "2022-11-23T03:39:20.010Z"
   },
   {
    "duration": 6,
    "start_time": "2022-11-23T03:39:31.665Z"
   },
   {
    "duration": 8,
    "start_time": "2022-11-23T03:40:02.926Z"
   },
   {
    "duration": 6,
    "start_time": "2022-11-23T03:48:27.361Z"
   },
   {
    "duration": 1029,
    "start_time": "2022-11-23T06:43:01.374Z"
   },
   {
    "duration": 36,
    "start_time": "2022-11-23T06:43:02.405Z"
   },
   {
    "duration": 10,
    "start_time": "2022-11-23T06:43:02.442Z"
   },
   {
    "duration": 42,
    "start_time": "2022-11-23T06:43:02.454Z"
   },
   {
    "duration": 14,
    "start_time": "2022-11-23T06:43:02.497Z"
   },
   {
    "duration": 14,
    "start_time": "2022-11-23T06:43:02.513Z"
   },
   {
    "duration": 17,
    "start_time": "2022-11-23T06:43:02.528Z"
   },
   {
    "duration": 97,
    "start_time": "2022-11-23T06:43:02.547Z"
   },
   {
    "duration": 8,
    "start_time": "2022-11-23T06:43:02.646Z"
   },
   {
    "duration": 31,
    "start_time": "2022-11-23T06:43:02.656Z"
   },
   {
    "duration": 7,
    "start_time": "2022-11-23T06:43:02.688Z"
   },
   {
    "duration": 13,
    "start_time": "2022-11-23T06:43:02.696Z"
   },
   {
    "duration": 23,
    "start_time": "2022-11-23T06:43:02.710Z"
   },
   {
    "duration": 12,
    "start_time": "2022-11-23T06:43:02.734Z"
   },
   {
    "duration": 26,
    "start_time": "2022-11-23T06:43:02.747Z"
   },
   {
    "duration": 16,
    "start_time": "2022-11-23T06:43:02.775Z"
   },
   {
    "duration": 169,
    "start_time": "2022-11-23T06:43:02.793Z"
   },
   {
    "duration": 113,
    "start_time": "2022-11-23T06:43:02.964Z"
   },
   {
    "duration": 254,
    "start_time": "2022-11-23T06:43:03.079Z"
   },
   {
    "duration": 256,
    "start_time": "2022-11-23T06:43:03.335Z"
   },
   {
    "duration": 186,
    "start_time": "2022-11-23T06:43:03.592Z"
   },
   {
    "duration": 299,
    "start_time": "2022-11-23T06:43:03.779Z"
   },
   {
    "duration": 201,
    "start_time": "2022-11-23T06:43:04.079Z"
   },
   {
    "duration": 335,
    "start_time": "2022-11-23T06:43:04.282Z"
   },
   {
    "duration": 10,
    "start_time": "2022-11-23T06:43:04.619Z"
   },
   {
    "duration": 151,
    "start_time": "2022-11-23T06:43:04.630Z"
   },
   {
    "duration": 5,
    "start_time": "2022-11-23T06:43:04.783Z"
   },
   {
    "duration": 150,
    "start_time": "2022-11-23T06:43:04.790Z"
   },
   {
    "duration": 4,
    "start_time": "2022-11-23T06:43:04.942Z"
   },
   {
    "duration": 215,
    "start_time": "2022-11-23T06:43:04.947Z"
   },
   {
    "duration": 158,
    "start_time": "2022-11-23T06:43:05.163Z"
   },
   {
    "duration": 154,
    "start_time": "2022-11-23T06:43:05.323Z"
   },
   {
    "duration": 9,
    "start_time": "2022-11-23T06:43:05.479Z"
   },
   {
    "duration": 90,
    "start_time": "2022-11-23T06:45:29.200Z"
   },
   {
    "duration": 811,
    "start_time": "2022-11-23T06:45:46.094Z"
   },
   {
    "duration": 719,
    "start_time": "2022-11-23T06:45:58.797Z"
   },
   {
    "duration": 1041,
    "start_time": "2022-11-23T06:46:21.374Z"
   },
   {
    "duration": 36,
    "start_time": "2022-11-23T06:46:22.417Z"
   },
   {
    "duration": 10,
    "start_time": "2022-11-23T06:46:22.455Z"
   },
   {
    "duration": 14,
    "start_time": "2022-11-23T06:46:22.467Z"
   },
   {
    "duration": 22,
    "start_time": "2022-11-23T06:46:22.482Z"
   },
   {
    "duration": 10,
    "start_time": "2022-11-23T06:46:22.506Z"
   },
   {
    "duration": 14,
    "start_time": "2022-11-23T06:46:22.517Z"
   },
   {
    "duration": 70,
    "start_time": "2022-11-23T06:46:22.532Z"
   },
   {
    "duration": 9,
    "start_time": "2022-11-23T06:46:22.604Z"
   },
   {
    "duration": 20,
    "start_time": "2022-11-23T06:46:22.617Z"
   },
   {
    "duration": 8,
    "start_time": "2022-11-23T06:46:22.639Z"
   },
   {
    "duration": 14,
    "start_time": "2022-11-23T06:46:22.649Z"
   },
   {
    "duration": 18,
    "start_time": "2022-11-23T06:46:22.665Z"
   },
   {
    "duration": 9,
    "start_time": "2022-11-23T06:46:22.685Z"
   },
   {
    "duration": 32,
    "start_time": "2022-11-23T06:46:22.695Z"
   },
   {
    "duration": 7,
    "start_time": "2022-11-23T06:46:22.729Z"
   },
   {
    "duration": 157,
    "start_time": "2022-11-23T06:46:22.737Z"
   },
   {
    "duration": 117,
    "start_time": "2022-11-23T06:46:22.895Z"
   },
   {
    "duration": 266,
    "start_time": "2022-11-23T06:46:23.013Z"
   },
   {
    "duration": 496,
    "start_time": "2022-11-23T06:46:23.281Z"
   },
   {
    "duration": 407,
    "start_time": "2022-11-23T06:46:23.779Z"
   },
   {
    "duration": 423,
    "start_time": "2022-11-23T06:46:24.187Z"
   },
   {
    "duration": 471,
    "start_time": "2022-11-23T06:46:24.612Z"
   },
   {
    "duration": 343,
    "start_time": "2022-11-23T06:46:25.085Z"
   },
   {
    "duration": 10,
    "start_time": "2022-11-23T06:46:25.429Z"
   },
   {
    "duration": 143,
    "start_time": "2022-11-23T06:46:25.440Z"
   },
   {
    "duration": 5,
    "start_time": "2022-11-23T06:46:25.584Z"
   },
   {
    "duration": 148,
    "start_time": "2022-11-23T06:46:25.591Z"
   },
   {
    "duration": 5,
    "start_time": "2022-11-23T06:46:25.740Z"
   },
   {
    "duration": 213,
    "start_time": "2022-11-23T06:46:25.746Z"
   },
   {
    "duration": 136,
    "start_time": "2022-11-23T06:46:25.960Z"
   },
   {
    "duration": 145,
    "start_time": "2022-11-23T06:46:26.098Z"
   },
   {
    "duration": 8,
    "start_time": "2022-11-23T06:46:26.245Z"
   },
   {
    "duration": 4,
    "start_time": "2022-11-23T06:48:55.994Z"
   },
   {
    "duration": 80,
    "start_time": "2022-11-23T06:49:08.450Z"
   },
   {
    "duration": 5,
    "start_time": "2022-11-23T06:49:15.189Z"
   },
   {
    "duration": 3,
    "start_time": "2022-11-23T06:49:25.714Z"
   },
   {
    "duration": 5,
    "start_time": "2022-11-23T06:49:43.427Z"
   },
   {
    "duration": 5,
    "start_time": "2022-11-23T06:50:38.632Z"
   },
   {
    "duration": 5,
    "start_time": "2022-11-23T06:50:47.542Z"
   },
   {
    "duration": 52,
    "start_time": "2022-11-23T06:56:53.446Z"
   },
   {
    "duration": 52,
    "start_time": "2022-11-23T06:57:00.616Z"
   },
   {
    "duration": 11,
    "start_time": "2022-11-23T06:57:05.462Z"
   },
   {
    "duration": 5,
    "start_time": "2022-11-23T07:01:43.073Z"
   },
   {
    "duration": 5,
    "start_time": "2022-11-23T07:02:02.538Z"
   },
   {
    "duration": 9,
    "start_time": "2022-11-23T07:02:15.375Z"
   },
   {
    "duration": 110,
    "start_time": "2022-11-23T07:17:28.367Z"
   },
   {
    "duration": 9,
    "start_time": "2022-11-23T07:17:35.143Z"
   },
   {
    "duration": 9,
    "start_time": "2022-11-23T07:18:02.247Z"
   },
   {
    "duration": 10,
    "start_time": "2022-11-23T07:24:32.718Z"
   },
   {
    "duration": 10,
    "start_time": "2022-11-23T07:25:37.650Z"
   },
   {
    "duration": 759,
    "start_time": "2022-11-23T07:26:43.550Z"
   },
   {
    "duration": 8,
    "start_time": "2022-11-23T07:26:52.935Z"
   },
   {
    "duration": 22,
    "start_time": "2022-11-23T07:27:10.203Z"
   },
   {
    "duration": 741,
    "start_time": "2022-11-23T07:27:37.348Z"
   },
   {
    "duration": 13,
    "start_time": "2022-11-23T07:28:00.781Z"
   },
   {
    "duration": 20,
    "start_time": "2022-11-23T07:33:13.547Z"
   },
   {
    "duration": 15,
    "start_time": "2022-11-23T07:33:25.094Z"
   },
   {
    "duration": 22,
    "start_time": "2022-11-23T07:33:57.170Z"
   },
   {
    "duration": 12,
    "start_time": "2022-11-23T07:34:15.785Z"
   },
   {
    "duration": 8,
    "start_time": "2022-11-23T08:13:07.994Z"
   },
   {
    "duration": 11,
    "start_time": "2022-11-23T08:13:17.473Z"
   },
   {
    "duration": 11,
    "start_time": "2022-11-23T08:13:28.103Z"
   },
   {
    "duration": 1019,
    "start_time": "2022-11-23T08:20:21.083Z"
   },
   {
    "duration": 36,
    "start_time": "2022-11-23T08:20:22.104Z"
   },
   {
    "duration": 11,
    "start_time": "2022-11-23T08:20:22.141Z"
   },
   {
    "duration": 8,
    "start_time": "2022-11-23T08:20:22.153Z"
   },
   {
    "duration": 11,
    "start_time": "2022-11-23T08:20:22.162Z"
   },
   {
    "duration": 9,
    "start_time": "2022-11-23T08:20:22.174Z"
   },
   {
    "duration": 10,
    "start_time": "2022-11-23T08:20:22.184Z"
   },
   {
    "duration": 45,
    "start_time": "2022-11-23T08:20:22.195Z"
   },
   {
    "duration": 9,
    "start_time": "2022-11-23T08:20:22.241Z"
   },
   {
    "duration": 19,
    "start_time": "2022-11-23T08:20:22.253Z"
   },
   {
    "duration": 8,
    "start_time": "2022-11-23T08:20:22.274Z"
   },
   {
    "duration": 11,
    "start_time": "2022-11-23T08:20:22.284Z"
   },
   {
    "duration": 19,
    "start_time": "2022-11-23T08:20:22.297Z"
   },
   {
    "duration": 8,
    "start_time": "2022-11-23T08:20:22.317Z"
   },
   {
    "duration": 16,
    "start_time": "2022-11-23T08:20:22.326Z"
   },
   {
    "duration": 8,
    "start_time": "2022-11-23T08:20:22.344Z"
   },
   {
    "duration": 159,
    "start_time": "2022-11-23T08:20:22.353Z"
   },
   {
    "duration": 133,
    "start_time": "2022-11-23T08:20:22.513Z"
   },
   {
    "duration": 280,
    "start_time": "2022-11-23T08:20:22.647Z"
   },
   {
    "duration": 283,
    "start_time": "2022-11-23T08:20:22.929Z"
   },
   {
    "duration": 206,
    "start_time": "2022-11-23T08:20:23.214Z"
   },
   {
    "duration": 295,
    "start_time": "2022-11-23T08:20:23.422Z"
   },
   {
    "duration": 240,
    "start_time": "2022-11-23T08:20:23.718Z"
   },
   {
    "duration": 516,
    "start_time": "2022-11-23T08:20:23.960Z"
   },
   {
    "duration": 11,
    "start_time": "2022-11-23T08:20:24.478Z"
   },
   {
    "duration": 297,
    "start_time": "2022-11-23T08:20:24.491Z"
   },
   {
    "duration": 7,
    "start_time": "2022-11-23T08:20:24.790Z"
   },
   {
    "duration": 377,
    "start_time": "2022-11-23T08:20:24.801Z"
   },
   {
    "duration": 4,
    "start_time": "2022-11-23T08:20:25.180Z"
   },
   {
    "duration": 432,
    "start_time": "2022-11-23T08:20:25.185Z"
   },
   {
    "duration": 269,
    "start_time": "2022-11-23T08:20:25.618Z"
   },
   {
    "duration": 233,
    "start_time": "2022-11-23T08:20:25.889Z"
   },
   {
    "duration": 11,
    "start_time": "2022-11-23T08:20:26.123Z"
   },
   {
    "duration": 11,
    "start_time": "2022-11-23T08:20:26.135Z"
   },
   {
    "duration": 10,
    "start_time": "2022-11-23T08:20:26.147Z"
   },
   {
    "duration": 25,
    "start_time": "2022-11-23T08:20:26.176Z"
   },
   {
    "duration": 14,
    "start_time": "2022-11-23T08:20:26.202Z"
   },
   {
    "duration": 5,
    "start_time": "2022-11-23T09:28:15.777Z"
   },
   {
    "duration": 29,
    "start_time": "2022-11-23T09:28:23.089Z"
   },
   {
    "duration": 30,
    "start_time": "2022-11-23T09:28:32.981Z"
   },
   {
    "duration": 33,
    "start_time": "2022-11-23T09:28:38.298Z"
   },
   {
    "duration": 10,
    "start_time": "2022-11-23T09:30:22.104Z"
   },
   {
    "duration": 1253,
    "start_time": "2023-03-07T10:26:38.156Z"
   },
   {
    "duration": 92,
    "start_time": "2023-03-07T10:26:39.411Z"
   },
   {
    "duration": 10,
    "start_time": "2023-03-07T10:26:39.504Z"
   },
   {
    "duration": 6,
    "start_time": "2023-03-07T10:26:39.516Z"
   },
   {
    "duration": 58,
    "start_time": "2023-03-07T10:26:39.523Z"
   },
   {
    "duration": 11,
    "start_time": "2023-03-07T10:26:39.583Z"
   },
   {
    "duration": 16,
    "start_time": "2023-03-07T10:26:39.595Z"
   },
   {
    "duration": 147,
    "start_time": "2023-03-07T10:26:39.613Z"
   },
   {
    "duration": 25,
    "start_time": "2023-03-07T10:26:39.761Z"
   },
   {
    "duration": 20,
    "start_time": "2023-03-07T10:26:39.789Z"
   },
   {
    "duration": 6,
    "start_time": "2023-03-07T10:26:39.810Z"
   },
   {
    "duration": 7,
    "start_time": "2023-03-07T10:26:39.818Z"
   },
   {
    "duration": 59,
    "start_time": "2023-03-07T10:26:39.879Z"
   },
   {
    "duration": 9,
    "start_time": "2023-03-07T10:26:39.939Z"
   },
   {
    "duration": 38,
    "start_time": "2023-03-07T10:26:39.949Z"
   },
   {
    "duration": 5,
    "start_time": "2023-03-07T10:26:39.988Z"
   },
   {
    "duration": 324,
    "start_time": "2023-03-07T10:26:39.995Z"
   },
   {
    "duration": 258,
    "start_time": "2023-03-07T10:26:40.321Z"
   },
   {
    "duration": 337,
    "start_time": "2023-03-07T10:26:40.581Z"
   },
   {
    "duration": 291,
    "start_time": "2023-03-07T10:26:40.920Z"
   },
   {
    "duration": 194,
    "start_time": "2023-03-07T10:26:41.213Z"
   },
   {
    "duration": 290,
    "start_time": "2023-03-07T10:26:41.409Z"
   },
   {
    "duration": 213,
    "start_time": "2023-03-07T10:26:41.701Z"
   },
   {
    "duration": 296,
    "start_time": "2023-03-07T10:26:41.916Z"
   },
   {
    "duration": 20,
    "start_time": "2023-03-07T10:26:42.213Z"
   },
   {
    "duration": 137,
    "start_time": "2023-03-07T10:26:42.236Z"
   },
   {
    "duration": 7,
    "start_time": "2023-03-07T10:26:42.375Z"
   },
   {
    "duration": 158,
    "start_time": "2023-03-07T10:26:42.386Z"
   },
   {
    "duration": 5,
    "start_time": "2023-03-07T10:26:42.546Z"
   },
   {
    "duration": 210,
    "start_time": "2023-03-07T10:26:42.552Z"
   },
   {
    "duration": 134,
    "start_time": "2023-03-07T10:26:42.764Z"
   },
   {
    "duration": 168,
    "start_time": "2023-03-07T10:26:42.900Z"
   },
   {
    "duration": 11,
    "start_time": "2023-03-07T10:26:43.079Z"
   },
   {
    "duration": 10,
    "start_time": "2023-03-07T10:26:43.092Z"
   },
   {
    "duration": 9,
    "start_time": "2023-03-07T10:26:43.104Z"
   },
   {
    "duration": 22,
    "start_time": "2023-03-07T10:26:43.115Z"
   },
   {
    "duration": 44,
    "start_time": "2023-03-07T10:26:43.139Z"
   },
   {
    "duration": 995,
    "start_time": "2023-03-07T10:32:42.309Z"
   },
   {
    "duration": 37,
    "start_time": "2023-03-07T10:32:43.306Z"
   },
   {
    "duration": 9,
    "start_time": "2023-03-07T10:32:43.344Z"
   },
   {
    "duration": 10,
    "start_time": "2023-03-07T10:32:43.355Z"
   },
   {
    "duration": 16,
    "start_time": "2023-03-07T10:32:43.366Z"
   },
   {
    "duration": 10,
    "start_time": "2023-03-07T10:32:43.383Z"
   },
   {
    "duration": 10,
    "start_time": "2023-03-07T10:32:43.395Z"
   },
   {
    "duration": 53,
    "start_time": "2023-03-07T10:32:43.406Z"
   },
   {
    "duration": 10,
    "start_time": "2023-03-07T10:32:43.460Z"
   },
   {
    "duration": 21,
    "start_time": "2023-03-07T10:32:43.472Z"
   },
   {
    "duration": 16,
    "start_time": "2023-03-07T10:32:43.494Z"
   },
   {
    "duration": 7,
    "start_time": "2023-03-07T10:32:43.511Z"
   },
   {
    "duration": 22,
    "start_time": "2023-03-07T10:32:43.519Z"
   },
   {
    "duration": 9,
    "start_time": "2023-03-07T10:32:43.542Z"
   },
   {
    "duration": 15,
    "start_time": "2023-03-07T10:32:43.552Z"
   },
   {
    "duration": 6,
    "start_time": "2023-03-07T10:32:43.569Z"
   },
   {
    "duration": 174,
    "start_time": "2023-03-07T10:32:43.577Z"
   },
   {
    "duration": 118,
    "start_time": "2023-03-07T10:32:43.753Z"
   },
   {
    "duration": 271,
    "start_time": "2023-03-07T10:32:43.880Z"
   },
   {
    "duration": 268,
    "start_time": "2023-03-07T10:32:44.153Z"
   },
   {
    "duration": 194,
    "start_time": "2023-03-07T10:32:44.422Z"
   },
   {
    "duration": 293,
    "start_time": "2023-03-07T10:32:44.618Z"
   },
   {
    "duration": 221,
    "start_time": "2023-03-07T10:32:44.913Z"
   },
   {
    "duration": 311,
    "start_time": "2023-03-07T10:32:45.135Z"
   },
   {
    "duration": 12,
    "start_time": "2023-03-07T10:32:45.447Z"
   },
   {
    "duration": 142,
    "start_time": "2023-03-07T10:32:45.461Z"
   },
   {
    "duration": 5,
    "start_time": "2023-03-07T10:32:45.605Z"
   },
   {
    "duration": 152,
    "start_time": "2023-03-07T10:32:45.614Z"
   },
   {
    "duration": 12,
    "start_time": "2023-03-07T10:32:45.768Z"
   },
   {
    "duration": 234,
    "start_time": "2023-03-07T10:32:45.781Z"
   },
   {
    "duration": 171,
    "start_time": "2023-03-07T10:32:46.017Z"
   },
   {
    "duration": 164,
    "start_time": "2023-03-07T10:32:46.190Z"
   },
   {
    "duration": 10,
    "start_time": "2023-03-07T10:32:46.356Z"
   },
   {
    "duration": 17,
    "start_time": "2023-03-07T10:32:46.379Z"
   },
   {
    "duration": 35,
    "start_time": "2023-03-07T10:32:46.398Z"
   },
   {
    "duration": 40,
    "start_time": "2023-03-07T10:32:46.434Z"
   },
   {
    "duration": 13,
    "start_time": "2023-03-07T10:32:46.475Z"
   }
  ],
  "kernelspec": {
   "display_name": "Python 3 (ipykernel)",
   "language": "python",
   "name": "python3"
  },
  "language_info": {
   "codemirror_mode": {
    "name": "ipython",
    "version": 3
   },
   "file_extension": ".py",
   "mimetype": "text/x-python",
   "name": "python",
   "nbconvert_exporter": "python",
   "pygments_lexer": "ipython3",
   "version": "3.9.5"
  },
  "toc": {
   "base_numbering": 1,
   "nav_menu": {},
   "number_sections": true,
   "sideBar": true,
   "skip_h1_title": true,
   "title_cell": "Table of Contents",
   "title_sidebar": "Contents",
   "toc_cell": false,
   "toc_position": {
    "height": "calc(100% - 180px)",
    "left": "10px",
    "top": "150px",
    "width": "326.188px"
   },
   "toc_section_display": true,
   "toc_window_display": true
  }
 },
 "nbformat": 4,
 "nbformat_minor": 2
}
