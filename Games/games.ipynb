{
 "cells": [
  {
   "cell_type": "markdown",
   "metadata": {},
   "source": [
    "# Проект \"Стримчик\" #"
   ]
  },
  {
   "cell_type": "markdown",
   "metadata": {},
   "source": [
    "\n",
    "**Цель исследования** — выявить определяющие успешность игры закономерности. Это позволит сделать ставку на потенциально популярный продукт и спланировать рекламные кампании.\n",
    "\n",
    "Исследование пройдёт в **пять этапов**:\n",
    "\n",
    "- Обзор данных.\n",
    "- Предобработка данных.\n",
    "- Исследовательский анализ данных.\n",
    "- Описание портрета пользователя.\n",
    "- Проверка гипотез.\n"
   ]
  },
  {
   "cell_type": "code",
   "execution_count": 1,
   "metadata": {},
   "outputs": [],
   "source": [
    "import pandas as pd\n",
    "import matplotlib.pyplot as plt\n",
    "from scipy import stats as st\n",
    "import numpy as np"
   ]
  },
  {
   "cell_type": "code",
   "execution_count": 2,
   "metadata": {
    "scrolled": true
   },
   "outputs": [
    {
     "data": {
      "text/html": [
       "<div>\n",
       "<style scoped>\n",
       "    .dataframe tbody tr th:only-of-type {\n",
       "        vertical-align: middle;\n",
       "    }\n",
       "\n",
       "    .dataframe tbody tr th {\n",
       "        vertical-align: top;\n",
       "    }\n",
       "\n",
       "    .dataframe thead th {\n",
       "        text-align: right;\n",
       "    }\n",
       "</style>\n",
       "<table border=\"1\" class=\"dataframe\">\n",
       "  <thead>\n",
       "    <tr style=\"text-align: right;\">\n",
       "      <th></th>\n",
       "      <th>Name</th>\n",
       "      <th>Platform</th>\n",
       "      <th>Year_of_Release</th>\n",
       "      <th>Genre</th>\n",
       "      <th>NA_sales</th>\n",
       "      <th>EU_sales</th>\n",
       "      <th>JP_sales</th>\n",
       "      <th>Other_sales</th>\n",
       "      <th>Critic_Score</th>\n",
       "      <th>User_Score</th>\n",
       "      <th>Rating</th>\n",
       "    </tr>\n",
       "  </thead>\n",
       "  <tbody>\n",
       "    <tr>\n",
       "      <th>0</th>\n",
       "      <td>Wii Sports</td>\n",
       "      <td>Wii</td>\n",
       "      <td>2006.0</td>\n",
       "      <td>Sports</td>\n",
       "      <td>41.36</td>\n",
       "      <td>28.96</td>\n",
       "      <td>3.77</td>\n",
       "      <td>8.45</td>\n",
       "      <td>76.0</td>\n",
       "      <td>8</td>\n",
       "      <td>E</td>\n",
       "    </tr>\n",
       "    <tr>\n",
       "      <th>1</th>\n",
       "      <td>Super Mario Bros.</td>\n",
       "      <td>NES</td>\n",
       "      <td>1985.0</td>\n",
       "      <td>Platform</td>\n",
       "      <td>29.08</td>\n",
       "      <td>3.58</td>\n",
       "      <td>6.81</td>\n",
       "      <td>0.77</td>\n",
       "      <td>NaN</td>\n",
       "      <td>NaN</td>\n",
       "      <td>NaN</td>\n",
       "    </tr>\n",
       "    <tr>\n",
       "      <th>2</th>\n",
       "      <td>Mario Kart Wii</td>\n",
       "      <td>Wii</td>\n",
       "      <td>2008.0</td>\n",
       "      <td>Racing</td>\n",
       "      <td>15.68</td>\n",
       "      <td>12.76</td>\n",
       "      <td>3.79</td>\n",
       "      <td>3.29</td>\n",
       "      <td>82.0</td>\n",
       "      <td>8.3</td>\n",
       "      <td>E</td>\n",
       "    </tr>\n",
       "    <tr>\n",
       "      <th>3</th>\n",
       "      <td>Wii Sports Resort</td>\n",
       "      <td>Wii</td>\n",
       "      <td>2009.0</td>\n",
       "      <td>Sports</td>\n",
       "      <td>15.61</td>\n",
       "      <td>10.93</td>\n",
       "      <td>3.28</td>\n",
       "      <td>2.95</td>\n",
       "      <td>80.0</td>\n",
       "      <td>8</td>\n",
       "      <td>E</td>\n",
       "    </tr>\n",
       "    <tr>\n",
       "      <th>4</th>\n",
       "      <td>Pokemon Red/Pokemon Blue</td>\n",
       "      <td>GB</td>\n",
       "      <td>1996.0</td>\n",
       "      <td>Role-Playing</td>\n",
       "      <td>11.27</td>\n",
       "      <td>8.89</td>\n",
       "      <td>10.22</td>\n",
       "      <td>1.00</td>\n",
       "      <td>NaN</td>\n",
       "      <td>NaN</td>\n",
       "      <td>NaN</td>\n",
       "    </tr>\n",
       "  </tbody>\n",
       "</table>\n",
       "</div>"
      ],
      "text/plain": [
       "                       Name Platform  Year_of_Release         Genre  NA_sales  \\\n",
       "0                Wii Sports      Wii           2006.0        Sports     41.36   \n",
       "1         Super Mario Bros.      NES           1985.0      Platform     29.08   \n",
       "2            Mario Kart Wii      Wii           2008.0        Racing     15.68   \n",
       "3         Wii Sports Resort      Wii           2009.0        Sports     15.61   \n",
       "4  Pokemon Red/Pokemon Blue       GB           1996.0  Role-Playing     11.27   \n",
       "\n",
       "   EU_sales  JP_sales  Other_sales  Critic_Score User_Score Rating  \n",
       "0     28.96      3.77         8.45          76.0          8      E  \n",
       "1      3.58      6.81         0.77           NaN        NaN    NaN  \n",
       "2     12.76      3.79         3.29          82.0        8.3      E  \n",
       "3     10.93      3.28         2.95          80.0          8      E  \n",
       "4      8.89     10.22         1.00           NaN        NaN    NaN  "
      ]
     },
     "execution_count": 2,
     "metadata": {},
     "output_type": "execute_result"
    }
   ],
   "source": [
    "data = pd.read_csv('/datasets/games.csv')\n",
    "data.head()\n"
   ]
  },
  {
   "cell_type": "code",
   "execution_count": 3,
   "metadata": {},
   "outputs": [
    {
     "name": "stdout",
     "output_type": "stream",
     "text": [
      "<class 'pandas.core.frame.DataFrame'>\n",
      "RangeIndex: 16715 entries, 0 to 16714\n",
      "Data columns (total 11 columns):\n",
      " #   Column           Non-Null Count  Dtype  \n",
      "---  ------           --------------  -----  \n",
      " 0   Name             16713 non-null  object \n",
      " 1   Platform         16715 non-null  object \n",
      " 2   Year_of_Release  16446 non-null  float64\n",
      " 3   Genre            16713 non-null  object \n",
      " 4   NA_sales         16715 non-null  float64\n",
      " 5   EU_sales         16715 non-null  float64\n",
      " 6   JP_sales         16715 non-null  float64\n",
      " 7   Other_sales      16715 non-null  float64\n",
      " 8   Critic_Score     8137 non-null   float64\n",
      " 9   User_Score       10014 non-null  object \n",
      " 10  Rating           9949 non-null   object \n",
      "dtypes: float64(6), object(5)\n",
      "memory usage: 1.4+ MB\n"
     ]
    }
   ],
   "source": [
    "data.info()"
   ]
  },
  {
   "cell_type": "markdown",
   "metadata": {},
   "source": [
    "Изучив информацию о таблице, можно отметить, что имеются столбцы с пропусками значений. Далее можно подробнее посмотреть насколько много пропусков и в каких именно столбцах:"
   ]
  },
  {
   "cell_type": "code",
   "execution_count": 4,
   "metadata": {},
   "outputs": [
    {
     "data": {
      "text/html": [
       "<style  type=\"text/css\" >\n",
       "#T_bc8de_row0_col0,#T_bc8de_row1_col0,#T_bc8de_row3_col0,#T_bc8de_row4_col0,#T_bc8de_row5_col0,#T_bc8de_row6_col0,#T_bc8de_row7_col0{\n",
       "            background-color:  #3b4cc0;\n",
       "            color:  #f1f1f1;\n",
       "        }#T_bc8de_row2_col0{\n",
       "            background-color:  #465ecf;\n",
       "            color:  #f1f1f1;\n",
       "        }#T_bc8de_row8_col0{\n",
       "            background-color:  #b40426;\n",
       "            color:  #f1f1f1;\n",
       "        }#T_bc8de_row9_col0,#T_bc8de_row10_col0{\n",
       "            background-color:  #f08b6e;\n",
       "            color:  #000000;\n",
       "        }</style><table id=\"T_bc8de_\" ><thead>    <tr>        <th class=\"blank level0\" ></th>        <th class=\"col_heading level0 col0\" >0</th>    </tr></thead><tbody>\n",
       "                <tr>\n",
       "                        <th id=\"T_bc8de_level0_row0\" class=\"row_heading level0 row0\" >Name</th>\n",
       "                        <td id=\"T_bc8de_row0_col0\" class=\"data row0 col0\" >0.000000</td>\n",
       "            </tr>\n",
       "            <tr>\n",
       "                        <th id=\"T_bc8de_level0_row1\" class=\"row_heading level0 row1\" >Platform</th>\n",
       "                        <td id=\"T_bc8de_row1_col0\" class=\"data row1 col0\" >0.000000</td>\n",
       "            </tr>\n",
       "            <tr>\n",
       "                        <th id=\"T_bc8de_level0_row2\" class=\"row_heading level0 row2\" >Year_of_Release</th>\n",
       "                        <td id=\"T_bc8de_row2_col0\" class=\"data row2 col0\" >2.000000</td>\n",
       "            </tr>\n",
       "            <tr>\n",
       "                        <th id=\"T_bc8de_level0_row3\" class=\"row_heading level0 row3\" >Genre</th>\n",
       "                        <td id=\"T_bc8de_row3_col0\" class=\"data row3 col0\" >0.000000</td>\n",
       "            </tr>\n",
       "            <tr>\n",
       "                        <th id=\"T_bc8de_level0_row4\" class=\"row_heading level0 row4\" >NA_sales</th>\n",
       "                        <td id=\"T_bc8de_row4_col0\" class=\"data row4 col0\" >0.000000</td>\n",
       "            </tr>\n",
       "            <tr>\n",
       "                        <th id=\"T_bc8de_level0_row5\" class=\"row_heading level0 row5\" >EU_sales</th>\n",
       "                        <td id=\"T_bc8de_row5_col0\" class=\"data row5 col0\" >0.000000</td>\n",
       "            </tr>\n",
       "            <tr>\n",
       "                        <th id=\"T_bc8de_level0_row6\" class=\"row_heading level0 row6\" >JP_sales</th>\n",
       "                        <td id=\"T_bc8de_row6_col0\" class=\"data row6 col0\" >0.000000</td>\n",
       "            </tr>\n",
       "            <tr>\n",
       "                        <th id=\"T_bc8de_level0_row7\" class=\"row_heading level0 row7\" >Other_sales</th>\n",
       "                        <td id=\"T_bc8de_row7_col0\" class=\"data row7 col0\" >0.000000</td>\n",
       "            </tr>\n",
       "            <tr>\n",
       "                        <th id=\"T_bc8de_level0_row8\" class=\"row_heading level0 row8\" >Critic_Score</th>\n",
       "                        <td id=\"T_bc8de_row8_col0\" class=\"data row8 col0\" >51.000000</td>\n",
       "            </tr>\n",
       "            <tr>\n",
       "                        <th id=\"T_bc8de_level0_row9\" class=\"row_heading level0 row9\" >User_Score</th>\n",
       "                        <td id=\"T_bc8de_row9_col0\" class=\"data row9 col0\" >40.000000</td>\n",
       "            </tr>\n",
       "            <tr>\n",
       "                        <th id=\"T_bc8de_level0_row10\" class=\"row_heading level0 row10\" >Rating</th>\n",
       "                        <td id=\"T_bc8de_row10_col0\" class=\"data row10 col0\" >40.000000</td>\n",
       "            </tr>\n",
       "    </tbody></table>"
      ],
      "text/plain": [
       "<pandas.io.formats.style.Styler at 0x7fc2afa84550>"
      ]
     },
     "execution_count": 4,
     "metadata": {},
     "output_type": "execute_result"
    }
   ],
   "source": [
    "pd.DataFrame(round(data.isna().mean()*100)).style.background_gradient('coolwarm')"
   ]
  },
  {
   "cell_type": "markdown",
   "metadata": {},
   "source": [
    "Построим гистограммы для каждого из столбцов, чтобы предварительно оценить диапазон значений в них и имеющееся распределение:"
   ]
  },
  {
   "cell_type": "code",
   "execution_count": 5,
   "metadata": {
    "scrolled": false
   },
   "outputs": [
    {
     "data": {
      "image/png": "[encoded data removed]",
      "text/plain": [
       "<Figure size 1080x1440 with 6 Axes>"
      ]
     },
     "metadata": {
      "needs_background": "light"
     },
     "output_type": "display_data"
    }
   ],
   "source": [
    "data.hist(figsize=(15, 20));"
   ]
  },
  {
   "cell_type": "markdown",
   "metadata": {},
   "source": [
    "Глядя на графики по каждому из столбцов, можно сказать, что данные по году выпуска игр и оценкам критиков распределены нормально, со скошенностью вправо. Это значит, что медианное значение по данным столбцам будет меньше среднего. \n",
    "    Данные по продажам имеют редкие, но сильно выдающиеся выбросы, поэтому основная масса сгруппирована в один диапазон, что малоинформативно для анализа, нужно еще поработать с этими столбцами. \n",
    "    Также следует перевести некоторые столбцы из типа object в числовые типы, т.к. гистограмма по ним не строится. Проведем эту работу в следующем шаге."
   ]
  },
  {
   "cell_type": "markdown",
   "metadata": {},
   "source": [
    "### Шаг:  Подготовьте данные ###"
   ]
  },
  {
   "cell_type": "markdown",
   "metadata": {},
   "source": [
    "Для начала приведем названия столбцов к нижнему регистру, чтобы было удобнее с ними работать."
   ]
  },
  {
   "cell_type": "code",
   "execution_count": 6,
   "metadata": {},
   "outputs": [],
   "source": [
    "data.columns = data.columns.str.lower() "
   ]
  },
  {
   "cell_type": "code",
   "execution_count": 7,
   "metadata": {},
   "outputs": [
    {
     "data": {
      "text/html": [
       "<div>\n",
       "<style scoped>\n",
       "    .dataframe tbody tr th:only-of-type {\n",
       "        vertical-align: middle;\n",
       "    }\n",
       "\n",
       "    .dataframe tbody tr th {\n",
       "        vertical-align: top;\n",
       "    }\n",
       "\n",
       "    .dataframe thead th {\n",
       "        text-align: right;\n",
       "    }\n",
       "</style>\n",
       "<table border=\"1\" class=\"dataframe\">\n",
       "  <thead>\n",
       "    <tr style=\"text-align: right;\">\n",
       "      <th></th>\n",
       "      <th>name</th>\n",
       "      <th>platform</th>\n",
       "      <th>year_of_release</th>\n",
       "      <th>genre</th>\n",
       "      <th>na_sales</th>\n",
       "      <th>eu_sales</th>\n",
       "      <th>jp_sales</th>\n",
       "      <th>other_sales</th>\n",
       "      <th>critic_score</th>\n",
       "      <th>user_score</th>\n",
       "      <th>rating</th>\n",
       "    </tr>\n",
       "  </thead>\n",
       "  <tbody>\n",
       "    <tr>\n",
       "      <th>0</th>\n",
       "      <td>Wii Sports</td>\n",
       "      <td>Wii</td>\n",
       "      <td>2006.0</td>\n",
       "      <td>Sports</td>\n",
       "      <td>41.36</td>\n",
       "      <td>28.96</td>\n",
       "      <td>3.77</td>\n",
       "      <td>8.45</td>\n",
       "      <td>76.0</td>\n",
       "      <td>8</td>\n",
       "      <td>E</td>\n",
       "    </tr>\n",
       "    <tr>\n",
       "      <th>1</th>\n",
       "      <td>Super Mario Bros.</td>\n",
       "      <td>NES</td>\n",
       "      <td>1985.0</td>\n",
       "      <td>Platform</td>\n",
       "      <td>29.08</td>\n",
       "      <td>3.58</td>\n",
       "      <td>6.81</td>\n",
       "      <td>0.77</td>\n",
       "      <td>NaN</td>\n",
       "      <td>NaN</td>\n",
       "      <td>NaN</td>\n",
       "    </tr>\n",
       "    <tr>\n",
       "      <th>2</th>\n",
       "      <td>Mario Kart Wii</td>\n",
       "      <td>Wii</td>\n",
       "      <td>2008.0</td>\n",
       "      <td>Racing</td>\n",
       "      <td>15.68</td>\n",
       "      <td>12.76</td>\n",
       "      <td>3.79</td>\n",
       "      <td>3.29</td>\n",
       "      <td>82.0</td>\n",
       "      <td>8.3</td>\n",
       "      <td>E</td>\n",
       "    </tr>\n",
       "    <tr>\n",
       "      <th>3</th>\n",
       "      <td>Wii Sports Resort</td>\n",
       "      <td>Wii</td>\n",
       "      <td>2009.0</td>\n",
       "      <td>Sports</td>\n",
       "      <td>15.61</td>\n",
       "      <td>10.93</td>\n",
       "      <td>3.28</td>\n",
       "      <td>2.95</td>\n",
       "      <td>80.0</td>\n",
       "      <td>8</td>\n",
       "      <td>E</td>\n",
       "    </tr>\n",
       "    <tr>\n",
       "      <th>4</th>\n",
       "      <td>Pokemon Red/Pokemon Blue</td>\n",
       "      <td>GB</td>\n",
       "      <td>1996.0</td>\n",
       "      <td>Role-Playing</td>\n",
       "      <td>11.27</td>\n",
       "      <td>8.89</td>\n",
       "      <td>10.22</td>\n",
       "      <td>1.00</td>\n",
       "      <td>NaN</td>\n",
       "      <td>NaN</td>\n",
       "      <td>NaN</td>\n",
       "    </tr>\n",
       "  </tbody>\n",
       "</table>\n",
       "</div>"
      ],
      "text/plain": [
       "                       name platform  year_of_release         genre  na_sales  \\\n",
       "0                Wii Sports      Wii           2006.0        Sports     41.36   \n",
       "1         Super Mario Bros.      NES           1985.0      Platform     29.08   \n",
       "2            Mario Kart Wii      Wii           2008.0        Racing     15.68   \n",
       "3         Wii Sports Resort      Wii           2009.0        Sports     15.61   \n",
       "4  Pokemon Red/Pokemon Blue       GB           1996.0  Role-Playing     11.27   \n",
       "\n",
       "   eu_sales  jp_sales  other_sales  critic_score user_score rating  \n",
       "0     28.96      3.77         8.45          76.0          8      E  \n",
       "1      3.58      6.81         0.77           NaN        NaN    NaN  \n",
       "2     12.76      3.79         3.29          82.0        8.3      E  \n",
       "3     10.93      3.28         2.95          80.0          8      E  \n",
       "4      8.89     10.22         1.00           NaN        NaN    NaN  "
      ]
     },
     "execution_count": 7,
     "metadata": {},
     "output_type": "execute_result"
    }
   ],
   "source": [
    "data.head()"
   ]
  },
  {
   "cell_type": "markdown",
   "metadata": {},
   "source": [
    "Преобразуем данные в нужные типы."
   ]
  },
  {
   "cell_type": "code",
   "execution_count": 8,
   "metadata": {},
   "outputs": [
    {
     "data": {
      "text/plain": [
       "name                object\n",
       "platform            object\n",
       "year_of_release    float64\n",
       "genre               object\n",
       "na_sales           float64\n",
       "eu_sales           float64\n",
       "jp_sales           float64\n",
       "other_sales        float64\n",
       "critic_score       float64\n",
       "user_score          object\n",
       "rating              object\n",
       "dtype: object"
      ]
     },
     "execution_count": 8,
     "metadata": {},
     "output_type": "execute_result"
    }
   ],
   "source": [
    "data.dtypes"
   ]
  },
  {
   "cell_type": "markdown",
   "metadata": {},
   "source": [
    "Столбец с оценками пользователей лучше перевести в числовой тип, чтобы в дальнейшем было удобно применять к нему различные методы. В столбце имеются значения с аббревиатурой 'tbd'(используется, если какая-то информация еще не определена или решение по вопросу не принято), заменим их на NaN, т.к. иначе метод выдает ошибку."
   ]
  },
  {
   "cell_type": "code",
   "execution_count": 9,
   "metadata": {},
   "outputs": [],
   "source": [
    "data['user_score'] = pd.to_numeric(data['user_score'], errors = 'coerce') "
   ]
  },
  {
   "cell_type": "markdown",
   "metadata": {},
   "source": [
    "Столбец с годами выпуска переведем в целочисленный формат, чтобы было более наглядное отображение данных."
   ]
  },
  {
   "cell_type": "code",
   "execution_count": 10,
   "metadata": {},
   "outputs": [
    {
     "data": {
      "text/html": [
       "<div>\n",
       "<style scoped>\n",
       "    .dataframe tbody tr th:only-of-type {\n",
       "        vertical-align: middle;\n",
       "    }\n",
       "\n",
       "    .dataframe tbody tr th {\n",
       "        vertical-align: top;\n",
       "    }\n",
       "\n",
       "    .dataframe thead th {\n",
       "        text-align: right;\n",
       "    }\n",
       "</style>\n",
       "<table border=\"1\" class=\"dataframe\">\n",
       "  <thead>\n",
       "    <tr style=\"text-align: right;\">\n",
       "      <th></th>\n",
       "      <th>name</th>\n",
       "      <th>platform</th>\n",
       "      <th>year_of_release</th>\n",
       "      <th>genre</th>\n",
       "      <th>na_sales</th>\n",
       "      <th>eu_sales</th>\n",
       "      <th>jp_sales</th>\n",
       "      <th>other_sales</th>\n",
       "      <th>critic_score</th>\n",
       "      <th>user_score</th>\n",
       "      <th>rating</th>\n",
       "    </tr>\n",
       "  </thead>\n",
       "  <tbody>\n",
       "    <tr>\n",
       "      <th>0</th>\n",
       "      <td>Wii Sports</td>\n",
       "      <td>Wii</td>\n",
       "      <td>2006</td>\n",
       "      <td>Sports</td>\n",
       "      <td>41.36</td>\n",
       "      <td>28.96</td>\n",
       "      <td>3.77</td>\n",
       "      <td>8.45</td>\n",
       "      <td>76.0</td>\n",
       "      <td>8.0</td>\n",
       "      <td>E</td>\n",
       "    </tr>\n",
       "    <tr>\n",
       "      <th>1</th>\n",
       "      <td>Super Mario Bros.</td>\n",
       "      <td>NES</td>\n",
       "      <td>1985</td>\n",
       "      <td>Platform</td>\n",
       "      <td>29.08</td>\n",
       "      <td>3.58</td>\n",
       "      <td>6.81</td>\n",
       "      <td>0.77</td>\n",
       "      <td>NaN</td>\n",
       "      <td>NaN</td>\n",
       "      <td>NaN</td>\n",
       "    </tr>\n",
       "    <tr>\n",
       "      <th>2</th>\n",
       "      <td>Mario Kart Wii</td>\n",
       "      <td>Wii</td>\n",
       "      <td>2008</td>\n",
       "      <td>Racing</td>\n",
       "      <td>15.68</td>\n",
       "      <td>12.76</td>\n",
       "      <td>3.79</td>\n",
       "      <td>3.29</td>\n",
       "      <td>82.0</td>\n",
       "      <td>8.3</td>\n",
       "      <td>E</td>\n",
       "    </tr>\n",
       "    <tr>\n",
       "      <th>3</th>\n",
       "      <td>Wii Sports Resort</td>\n",
       "      <td>Wii</td>\n",
       "      <td>2009</td>\n",
       "      <td>Sports</td>\n",
       "      <td>15.61</td>\n",
       "      <td>10.93</td>\n",
       "      <td>3.28</td>\n",
       "      <td>2.95</td>\n",
       "      <td>80.0</td>\n",
       "      <td>8.0</td>\n",
       "      <td>E</td>\n",
       "    </tr>\n",
       "    <tr>\n",
       "      <th>4</th>\n",
       "      <td>Pokemon Red/Pokemon Blue</td>\n",
       "      <td>GB</td>\n",
       "      <td>1996</td>\n",
       "      <td>Role-Playing</td>\n",
       "      <td>11.27</td>\n",
       "      <td>8.89</td>\n",
       "      <td>10.22</td>\n",
       "      <td>1.00</td>\n",
       "      <td>NaN</td>\n",
       "      <td>NaN</td>\n",
       "      <td>NaN</td>\n",
       "    </tr>\n",
       "  </tbody>\n",
       "</table>\n",
       "</div>"
      ],
      "text/plain": [
       "                       name platform  year_of_release         genre  na_sales  \\\n",
       "0                Wii Sports      Wii             2006        Sports     41.36   \n",
       "1         Super Mario Bros.      NES             1985      Platform     29.08   \n",
       "2            Mario Kart Wii      Wii             2008        Racing     15.68   \n",
       "3         Wii Sports Resort      Wii             2009        Sports     15.61   \n",
       "4  Pokemon Red/Pokemon Blue       GB             1996  Role-Playing     11.27   \n",
       "\n",
       "   eu_sales  jp_sales  other_sales  critic_score  user_score rating  \n",
       "0     28.96      3.77         8.45          76.0         8.0      E  \n",
       "1      3.58      6.81         0.77           NaN         NaN    NaN  \n",
       "2     12.76      3.79         3.29          82.0         8.3      E  \n",
       "3     10.93      3.28         2.95          80.0         8.0      E  \n",
       "4      8.89     10.22         1.00           NaN         NaN    NaN  "
      ]
     },
     "execution_count": 10,
     "metadata": {},
     "output_type": "execute_result"
    }
   ],
   "source": [
    "data['year_of_release'] = data['year_of_release'].astype('Int64')\n",
    "data.head()"
   ]
  },
  {
   "cell_type": "code",
   "execution_count": 11,
   "metadata": {},
   "outputs": [
    {
     "data": {
      "text/plain": [
       "name                object\n",
       "platform            object\n",
       "year_of_release      Int64\n",
       "genre               object\n",
       "na_sales           float64\n",
       "eu_sales           float64\n",
       "jp_sales           float64\n",
       "other_sales        float64\n",
       "critic_score       float64\n",
       "user_score         float64\n",
       "rating              object\n",
       "dtype: object"
      ]
     },
     "execution_count": 11,
     "metadata": {},
     "output_type": "execute_result"
    }
   ],
   "source": [
    "data.dtypes"
   ]
  },
  {
   "cell_type": "markdown",
   "metadata": {},
   "source": [
    "Также проверили таблицу на наличие явных дубликатых. Их количество = 0."
   ]
  },
  {
   "cell_type": "code",
   "execution_count": 12,
   "metadata": {},
   "outputs": [
    {
     "data": {
      "text/plain": [
       "0"
      ]
     },
     "execution_count": 12,
     "metadata": {},
     "output_type": "execute_result"
    }
   ],
   "source": [
    "data.duplicated().sum()"
   ]
  },
  {
   "cell_type": "markdown",
   "metadata": {},
   "source": [
    "Касаемо пропусков, по столбцам год выпуска, оценка критиков, оценка пользователей - эти пропуски мы заполнять не будем, так как точно их заполнить не получится, а удалять все строки с пропусками по этому столбцу не стоит, так как потеряем другую инфрмацию из строк."
   ]
  },
  {
   "cell_type": "code",
   "execution_count": 13,
   "metadata": {},
   "outputs": [
    {
     "data": {
      "text/plain": [
       "name                  2\n",
       "platform              0\n",
       "year_of_release     269\n",
       "genre                 2\n",
       "na_sales              0\n",
       "eu_sales              0\n",
       "jp_sales              0\n",
       "other_sales           0\n",
       "critic_score       8578\n",
       "user_score         9125\n",
       "rating             6766\n",
       "dtype: int64"
      ]
     },
     "execution_count": 13,
     "metadata": {},
     "output_type": "execute_result"
    }
   ],
   "source": [
    "data.isnull().sum()\n"
   ]
  },
  {
   "cell_type": "markdown",
   "metadata": {},
   "source": [
    "В столбцах name и genre находятся по 2 пропущенных значения, проверим находятся ли они в одной и той же строке и удалим, т.к. эти строки составляют всего 0,01% от всех данных и на результаты анализа не повлияют."
   ]
  },
  {
   "cell_type": "code",
   "execution_count": 14,
   "metadata": {},
   "outputs": [
    {
     "data": {
      "text/html": [
       "<div>\n",
       "<style scoped>\n",
       "    .dataframe tbody tr th:only-of-type {\n",
       "        vertical-align: middle;\n",
       "    }\n",
       "\n",
       "    .dataframe tbody tr th {\n",
       "        vertical-align: top;\n",
       "    }\n",
       "\n",
       "    .dataframe thead th {\n",
       "        text-align: right;\n",
       "    }\n",
       "</style>\n",
       "<table border=\"1\" class=\"dataframe\">\n",
       "  <thead>\n",
       "    <tr style=\"text-align: right;\">\n",
       "      <th></th>\n",
       "      <th>name</th>\n",
       "      <th>platform</th>\n",
       "      <th>year_of_release</th>\n",
       "      <th>genre</th>\n",
       "      <th>na_sales</th>\n",
       "      <th>eu_sales</th>\n",
       "      <th>jp_sales</th>\n",
       "      <th>other_sales</th>\n",
       "      <th>critic_score</th>\n",
       "      <th>user_score</th>\n",
       "      <th>rating</th>\n",
       "    </tr>\n",
       "  </thead>\n",
       "  <tbody>\n",
       "    <tr>\n",
       "      <th>659</th>\n",
       "      <td>NaN</td>\n",
       "      <td>GEN</td>\n",
       "      <td>1993</td>\n",
       "      <td>NaN</td>\n",
       "      <td>1.78</td>\n",
       "      <td>0.53</td>\n",
       "      <td>0.00</td>\n",
       "      <td>0.08</td>\n",
       "      <td>NaN</td>\n",
       "      <td>NaN</td>\n",
       "      <td>NaN</td>\n",
       "    </tr>\n",
       "    <tr>\n",
       "      <th>14244</th>\n",
       "      <td>NaN</td>\n",
       "      <td>GEN</td>\n",
       "      <td>1993</td>\n",
       "      <td>NaN</td>\n",
       "      <td>0.00</td>\n",
       "      <td>0.00</td>\n",
       "      <td>0.03</td>\n",
       "      <td>0.00</td>\n",
       "      <td>NaN</td>\n",
       "      <td>NaN</td>\n",
       "      <td>NaN</td>\n",
       "    </tr>\n",
       "  </tbody>\n",
       "</table>\n",
       "</div>"
      ],
      "text/plain": [
       "      name platform  year_of_release genre  na_sales  eu_sales  jp_sales  \\\n",
       "659    NaN      GEN             1993   NaN      1.78      0.53      0.00   \n",
       "14244  NaN      GEN             1993   NaN      0.00      0.00      0.03   \n",
       "\n",
       "       other_sales  critic_score  user_score rating  \n",
       "659           0.08           NaN         NaN    NaN  \n",
       "14244         0.00           NaN         NaN    NaN  "
      ]
     },
     "metadata": {},
     "output_type": "display_data"
    }
   ],
   "source": [
    "display(data[data['genre'].isna()])"
   ]
  },
  {
   "cell_type": "code",
   "execution_count": 15,
   "metadata": {},
   "outputs": [],
   "source": [
    "data = data.dropna(subset=['genre'])"
   ]
  },
  {
   "cell_type": "code",
   "execution_count": 16,
   "metadata": {},
   "outputs": [
    {
     "data": {
      "text/html": [
       "<div>\n",
       "<style scoped>\n",
       "    .dataframe tbody tr th:only-of-type {\n",
       "        vertical-align: middle;\n",
       "    }\n",
       "\n",
       "    .dataframe tbody tr th {\n",
       "        vertical-align: top;\n",
       "    }\n",
       "\n",
       "    .dataframe thead th {\n",
       "        text-align: right;\n",
       "    }\n",
       "</style>\n",
       "<table border=\"1\" class=\"dataframe\">\n",
       "  <thead>\n",
       "    <tr style=\"text-align: right;\">\n",
       "      <th></th>\n",
       "      <th>name</th>\n",
       "      <th>platform</th>\n",
       "      <th>year_of_release</th>\n",
       "      <th>genre</th>\n",
       "      <th>na_sales</th>\n",
       "      <th>eu_sales</th>\n",
       "      <th>jp_sales</th>\n",
       "      <th>other_sales</th>\n",
       "      <th>critic_score</th>\n",
       "      <th>user_score</th>\n",
       "      <th>rating</th>\n",
       "    </tr>\n",
       "  </thead>\n",
       "  <tbody>\n",
       "  </tbody>\n",
       "</table>\n",
       "</div>"
      ],
      "text/plain": [
       "Empty DataFrame\n",
       "Columns: [name, platform, year_of_release, genre, na_sales, eu_sales, jp_sales, other_sales, critic_score, user_score, rating]\n",
       "Index: []"
      ]
     },
     "metadata": {},
     "output_type": "display_data"
    }
   ],
   "source": [
    "display(data[data['genre'].isna()]) #проверяем, что строки удалены"
   ]
  },
  {
   "cell_type": "markdown",
   "metadata": {},
   "source": [
    "В столбце rating содержится рейтинг от организации ESRB, которая присваивает компьютерным играм подходящую возрастную категорию. В данном столбце имеется достаточно большое количество пропусков (6766), возможно, они возникли из-за того, что не во всех регионах используется именно эта американская система оценки возрастной цензуры. Чтобы иметь полную информацию, в будущем можно порекомендовать рассматривать рейтинги и от других организаций, например европейская PEGI, японская CERO. \n",
    "    \n",
    "   Чтобы не искажать данные и не додумывать возможные пропущенные значения, проставим в строках с пропусками значение 'undefined'. В дальнейшем проанализируем категорию с рейтингом 'undefined' отдельно."
   ]
  },
  {
   "cell_type": "code",
   "execution_count": 17,
   "metadata": {},
   "outputs": [
    {
     "data": {
      "text/html": [
       "<div>\n",
       "<style scoped>\n",
       "    .dataframe tbody tr th:only-of-type {\n",
       "        vertical-align: middle;\n",
       "    }\n",
       "\n",
       "    .dataframe tbody tr th {\n",
       "        vertical-align: top;\n",
       "    }\n",
       "\n",
       "    .dataframe thead th {\n",
       "        text-align: right;\n",
       "    }\n",
       "</style>\n",
       "<table border=\"1\" class=\"dataframe\">\n",
       "  <thead>\n",
       "    <tr style=\"text-align: right;\">\n",
       "      <th></th>\n",
       "      <th>name</th>\n",
       "      <th>platform</th>\n",
       "      <th>year_of_release</th>\n",
       "      <th>genre</th>\n",
       "      <th>na_sales</th>\n",
       "      <th>eu_sales</th>\n",
       "      <th>jp_sales</th>\n",
       "      <th>other_sales</th>\n",
       "      <th>critic_score</th>\n",
       "      <th>user_score</th>\n",
       "      <th>rating</th>\n",
       "    </tr>\n",
       "  </thead>\n",
       "  <tbody>\n",
       "    <tr>\n",
       "      <th>0</th>\n",
       "      <td>Wii Sports</td>\n",
       "      <td>Wii</td>\n",
       "      <td>2006</td>\n",
       "      <td>Sports</td>\n",
       "      <td>41.36</td>\n",
       "      <td>28.96</td>\n",
       "      <td>3.77</td>\n",
       "      <td>8.45</td>\n",
       "      <td>76.0</td>\n",
       "      <td>8.0</td>\n",
       "      <td>E</td>\n",
       "    </tr>\n",
       "    <tr>\n",
       "      <th>1</th>\n",
       "      <td>Super Mario Bros.</td>\n",
       "      <td>NES</td>\n",
       "      <td>1985</td>\n",
       "      <td>Platform</td>\n",
       "      <td>29.08</td>\n",
       "      <td>3.58</td>\n",
       "      <td>6.81</td>\n",
       "      <td>0.77</td>\n",
       "      <td>NaN</td>\n",
       "      <td>NaN</td>\n",
       "      <td>undefined</td>\n",
       "    </tr>\n",
       "    <tr>\n",
       "      <th>2</th>\n",
       "      <td>Mario Kart Wii</td>\n",
       "      <td>Wii</td>\n",
       "      <td>2008</td>\n",
       "      <td>Racing</td>\n",
       "      <td>15.68</td>\n",
       "      <td>12.76</td>\n",
       "      <td>3.79</td>\n",
       "      <td>3.29</td>\n",
       "      <td>82.0</td>\n",
       "      <td>8.3</td>\n",
       "      <td>E</td>\n",
       "    </tr>\n",
       "    <tr>\n",
       "      <th>3</th>\n",
       "      <td>Wii Sports Resort</td>\n",
       "      <td>Wii</td>\n",
       "      <td>2009</td>\n",
       "      <td>Sports</td>\n",
       "      <td>15.61</td>\n",
       "      <td>10.93</td>\n",
       "      <td>3.28</td>\n",
       "      <td>2.95</td>\n",
       "      <td>80.0</td>\n",
       "      <td>8.0</td>\n",
       "      <td>E</td>\n",
       "    </tr>\n",
       "    <tr>\n",
       "      <th>4</th>\n",
       "      <td>Pokemon Red/Pokemon Blue</td>\n",
       "      <td>GB</td>\n",
       "      <td>1996</td>\n",
       "      <td>Role-Playing</td>\n",
       "      <td>11.27</td>\n",
       "      <td>8.89</td>\n",
       "      <td>10.22</td>\n",
       "      <td>1.00</td>\n",
       "      <td>NaN</td>\n",
       "      <td>NaN</td>\n",
       "      <td>undefined</td>\n",
       "    </tr>\n",
       "  </tbody>\n",
       "</table>\n",
       "</div>"
      ],
      "text/plain": [
       "                       name platform  year_of_release         genre  na_sales  \\\n",
       "0                Wii Sports      Wii             2006        Sports     41.36   \n",
       "1         Super Mario Bros.      NES             1985      Platform     29.08   \n",
       "2            Mario Kart Wii      Wii             2008        Racing     15.68   \n",
       "3         Wii Sports Resort      Wii             2009        Sports     15.61   \n",
       "4  Pokemon Red/Pokemon Blue       GB             1996  Role-Playing     11.27   \n",
       "\n",
       "   eu_sales  jp_sales  other_sales  critic_score  user_score     rating  \n",
       "0     28.96      3.77         8.45          76.0         8.0          E  \n",
       "1      3.58      6.81         0.77           NaN         NaN  undefined  \n",
       "2     12.76      3.79         3.29          82.0         8.3          E  \n",
       "3     10.93      3.28         2.95          80.0         8.0          E  \n",
       "4      8.89     10.22         1.00           NaN         NaN  undefined  "
      ]
     },
     "execution_count": 17,
     "metadata": {},
     "output_type": "execute_result"
    }
   ],
   "source": [
    "data['rating'] = data['rating'].fillna('undefined')\n",
    "data.head()"
   ]
  },
  {
   "cell_type": "markdown",
   "metadata": {},
   "source": [
    "Посчитаем суммарные продажи во всех регионах и запишим их в отдельный столбец 'total_sales'."
   ]
  },
  {
   "cell_type": "code",
   "execution_count": 18,
   "metadata": {},
   "outputs": [
    {
     "data": {
      "text/html": [
       "<div>\n",
       "<style scoped>\n",
       "    .dataframe tbody tr th:only-of-type {\n",
       "        vertical-align: middle;\n",
       "    }\n",
       "\n",
       "    .dataframe tbody tr th {\n",
       "        vertical-align: top;\n",
       "    }\n",
       "\n",
       "    .dataframe thead th {\n",
       "        text-align: right;\n",
       "    }\n",
       "</style>\n",
       "<table border=\"1\" class=\"dataframe\">\n",
       "  <thead>\n",
       "    <tr style=\"text-align: right;\">\n",
       "      <th></th>\n",
       "      <th>name</th>\n",
       "      <th>platform</th>\n",
       "      <th>year_of_release</th>\n",
       "      <th>genre</th>\n",
       "      <th>na_sales</th>\n",
       "      <th>eu_sales</th>\n",
       "      <th>jp_sales</th>\n",
       "      <th>other_sales</th>\n",
       "      <th>critic_score</th>\n",
       "      <th>user_score</th>\n",
       "      <th>rating</th>\n",
       "      <th>total_sales</th>\n",
       "    </tr>\n",
       "  </thead>\n",
       "  <tbody>\n",
       "    <tr>\n",
       "      <th>0</th>\n",
       "      <td>Wii Sports</td>\n",
       "      <td>Wii</td>\n",
       "      <td>2006</td>\n",
       "      <td>Sports</td>\n",
       "      <td>41.36</td>\n",
       "      <td>28.96</td>\n",
       "      <td>3.77</td>\n",
       "      <td>8.45</td>\n",
       "      <td>76.0</td>\n",
       "      <td>8.0</td>\n",
       "      <td>E</td>\n",
       "      <td>82.54</td>\n",
       "    </tr>\n",
       "    <tr>\n",
       "      <th>1</th>\n",
       "      <td>Super Mario Bros.</td>\n",
       "      <td>NES</td>\n",
       "      <td>1985</td>\n",
       "      <td>Platform</td>\n",
       "      <td>29.08</td>\n",
       "      <td>3.58</td>\n",
       "      <td>6.81</td>\n",
       "      <td>0.77</td>\n",
       "      <td>NaN</td>\n",
       "      <td>NaN</td>\n",
       "      <td>undefined</td>\n",
       "      <td>40.24</td>\n",
       "    </tr>\n",
       "    <tr>\n",
       "      <th>2</th>\n",
       "      <td>Mario Kart Wii</td>\n",
       "      <td>Wii</td>\n",
       "      <td>2008</td>\n",
       "      <td>Racing</td>\n",
       "      <td>15.68</td>\n",
       "      <td>12.76</td>\n",
       "      <td>3.79</td>\n",
       "      <td>3.29</td>\n",
       "      <td>82.0</td>\n",
       "      <td>8.3</td>\n",
       "      <td>E</td>\n",
       "      <td>35.52</td>\n",
       "    </tr>\n",
       "    <tr>\n",
       "      <th>3</th>\n",
       "      <td>Wii Sports Resort</td>\n",
       "      <td>Wii</td>\n",
       "      <td>2009</td>\n",
       "      <td>Sports</td>\n",
       "      <td>15.61</td>\n",
       "      <td>10.93</td>\n",
       "      <td>3.28</td>\n",
       "      <td>2.95</td>\n",
       "      <td>80.0</td>\n",
       "      <td>8.0</td>\n",
       "      <td>E</td>\n",
       "      <td>32.77</td>\n",
       "    </tr>\n",
       "    <tr>\n",
       "      <th>4</th>\n",
       "      <td>Pokemon Red/Pokemon Blue</td>\n",
       "      <td>GB</td>\n",
       "      <td>1996</td>\n",
       "      <td>Role-Playing</td>\n",
       "      <td>11.27</td>\n",
       "      <td>8.89</td>\n",
       "      <td>10.22</td>\n",
       "      <td>1.00</td>\n",
       "      <td>NaN</td>\n",
       "      <td>NaN</td>\n",
       "      <td>undefined</td>\n",
       "      <td>31.38</td>\n",
       "    </tr>\n",
       "  </tbody>\n",
       "</table>\n",
       "</div>"
      ],
      "text/plain": [
       "                       name platform  year_of_release         genre  na_sales  \\\n",
       "0                Wii Sports      Wii             2006        Sports     41.36   \n",
       "1         Super Mario Bros.      NES             1985      Platform     29.08   \n",
       "2            Mario Kart Wii      Wii             2008        Racing     15.68   \n",
       "3         Wii Sports Resort      Wii             2009        Sports     15.61   \n",
       "4  Pokemon Red/Pokemon Blue       GB             1996  Role-Playing     11.27   \n",
       "\n",
       "   eu_sales  jp_sales  other_sales  critic_score  user_score     rating  \\\n",
       "0     28.96      3.77         8.45          76.0         8.0          E   \n",
       "1      3.58      6.81         0.77           NaN         NaN  undefined   \n",
       "2     12.76      3.79         3.29          82.0         8.3          E   \n",
       "3     10.93      3.28         2.95          80.0         8.0          E   \n",
       "4      8.89     10.22         1.00           NaN         NaN  undefined   \n",
       "\n",
       "   total_sales  \n",
       "0        82.54  \n",
       "1        40.24  \n",
       "2        35.52  \n",
       "3        32.77  \n",
       "4        31.38  "
      ]
     },
     "execution_count": 18,
     "metadata": {},
     "output_type": "execute_result"
    }
   ],
   "source": [
    "data['total_sales'] = data['na_sales'] + data['eu_sales'] + data['jp_sales'] + data['other_sales']\n",
    "data.head()"
   ]
  },
  {
   "cell_type": "markdown",
   "metadata": {},
   "source": [
    "### Шаг: Проведите исследовательский анализ данных ###"
   ]
  },
  {
   "cell_type": "markdown",
   "metadata": {},
   "source": [
    "Посмотрим, сколько игр выпускалось в разные годы. "
   ]
  },
  {
   "cell_type": "code",
   "execution_count": 19,
   "metadata": {},
   "outputs": [
    {
     "data": {
      "text/plain": [
       "1980"
      ]
     },
     "metadata": {},
     "output_type": "display_data"
    },
    {
     "data": {
      "text/plain": [
       "2016"
      ]
     },
     "metadata": {},
     "output_type": "display_data"
    }
   ],
   "source": [
    "display(data['year_of_release'].min(), data['year_of_release'].max())"
   ]
  },
  {
   "cell_type": "code",
   "execution_count": 20,
   "metadata": {},
   "outputs": [
    {
     "data": {
      "image/png": "[encoded data removed]",
      "text/plain": [
       "<Figure size 432x288 with 1 Axes>"
      ]
     },
     "metadata": {
      "needs_background": "light"
     },
     "output_type": "display_data"
    }
   ],
   "source": [
    "data['year_of_release'].hist(bins=37);\n",
    "plt.xlabel('Год выпуска')\n",
    "plt.ylabel('Количество игр')\n",
    "plt.title('Количество выпущенных игр в разные годы');"
   ]
  },
  {
   "cell_type": "markdown",
   "metadata": {},
   "source": [
    "Судя по гистограмме, до 2000 года выпускалось очень малое количество игр, можем отбросить эти значения для данного исследования, т.к. они для нас малоинформативны и неактуальны."
   ]
  },
  {
   "cell_type": "markdown",
   "metadata": {},
   "source": [
    "Посмотрим, как менялись продажи по платформам."
   ]
  },
  {
   "cell_type": "code",
   "execution_count": 21,
   "metadata": {},
   "outputs": [
    {
     "data": {
      "image/png": "[encoded data removed]",
      "text/plain": [
       "<Figure size 432x288 with 1 Axes>"
      ]
     },
     "metadata": {
      "needs_background": "light"
     },
     "output_type": "display_data"
    }
   ],
   "source": [
    "(data\n",
    "    .query('year_of_release > 2000')\n",
    "    .groupby('platform')['total_sales']\n",
    "    .sum()\n",
    "    .sort_values(ascending=False)\n",
    "    .plot(x='platform', y='total_sales', kind='bar')\n",
    ");\n",
    "plt.title('Продажи компьютерных игр на разных платформах');"
   ]
  },
  {
   "cell_type": "markdown",
   "metadata": {},
   "source": [
    "На данном графике мы видим, что имеются 5 столбцов с наибольшими суммарными продажами, остальные платформы сильно оторваны по значениям. Посмотрим какие именно это платформы."
   ]
  },
  {
   "cell_type": "code",
   "execution_count": 22,
   "metadata": {},
   "outputs": [
    {
     "data": {
      "text/plain": [
       "platform\n",
       "PS2     1194.39\n",
       "X360     961.24\n",
       "PS3      931.34\n",
       "Wii      891.18\n",
       "DS       802.76\n",
       "Name: total_sales, dtype: float64"
      ]
     },
     "execution_count": 22,
     "metadata": {},
     "output_type": "execute_result"
    }
   ],
   "source": [
    "top_platform = data.query('year_of_release > 2000').groupby('platform')['total_sales'].sum().sort_values(ascending=False).head(5)\n",
    "top_platform  #выбираем платформы с наибольшими суммарными продажами"
   ]
  },
  {
   "cell_type": "markdown",
   "metadata": {},
   "source": [
    "Далее построим распределение по годам, чтобы понять за какой характерный срок появляются новые и исчезают старые платформы. Будем рассматривать только платформы с наибольшими суммарными продажами."
   ]
  },
  {
   "cell_type": "code",
   "execution_count": 23,
   "metadata": {},
   "outputs": [
    {
     "data": {
      "image/png": "[encoded data removed]",
      "text/plain": [
       "<Figure size 1080x576 with 1 Axes>"
      ]
     },
     "metadata": {
      "needs_background": "light"
     },
     "output_type": "display_data"
    }
   ],
   "source": [
    "(data\n",
    "    .query('platform == [\"PS2\", \"X360\", \"PS3\", \"Wii\", \"DS\"]')\n",
    "    .query('year_of_release > 2000')\n",
    "    .pivot_table(index='year_of_release', columns='platform', values='total_sales', aggfunc='sum')\n",
    "    .plot(grid=True, figsize=(15,8))\n",
    ");"
   ]
  },
  {
   "cell_type": "markdown",
   "metadata": {},
   "source": [
    "При рассмотрении характерных сроков появления и исчезновения платформ с наибольшими суммарными продажами, можно сделать вывод, что этот срок в среднем составляет около 10 лет. Тогда логичнее рассмотреть именно последние 10 лет, как наиболее актуальные данные."
   ]
  },
  {
   "cell_type": "code",
   "execution_count": 24,
   "metadata": {},
   "outputs": [
    {
     "data": {
      "image/png": "[encoded data removed]",
      "text/plain": [
       "<Figure size 1080x576 with 1 Axes>"
      ]
     },
     "metadata": {
      "needs_background": "light"
     },
     "output_type": "display_data"
    }
   ],
   "source": [
    "(data\n",
    "    .query('year_of_release > 2006')\n",
    "    .pivot_table(index='year_of_release', columns='platform', values='total_sales', aggfunc='sum')\n",
    "    .plot(grid=True, figsize=(15,8))\n",
    ");"
   ]
  },
  {
   "cell_type": "markdown",
   "metadata": {},
   "source": [
    "Если рассмотреть как менялись продажи по всем платформам, то мы видим, что к 2014 году все старые лидеры продаж уже практически ушли с рынка. Зато появилось 2 новые платформы PS4 и XOne, которые, видимо, и будут делить рынок в интересующем нас периоде.\n",
    "\n",
    "Таким образом, в качестве актуального для исследования периода, будем считать 2014-2016 года, именно эти данные помогут построить наиболее корректный прогноз на 2017 год."
   ]
  },
  {
   "cell_type": "code",
   "execution_count": 25,
   "metadata": {},
   "outputs": [
    {
     "name": "stdout",
     "output_type": "stream",
     "text": [
      "<class 'pandas.core.frame.DataFrame'>\n",
      "Int64Index: 1689 entries, 31 to 16714\n",
      "Data columns (total 12 columns):\n",
      " #   Column           Non-Null Count  Dtype  \n",
      "---  ------           --------------  -----  \n",
      " 0   name             1689 non-null   object \n",
      " 1   platform         1689 non-null   object \n",
      " 2   year_of_release  1689 non-null   Int64  \n",
      " 3   genre            1689 non-null   object \n",
      " 4   na_sales         1689 non-null   float64\n",
      " 5   eu_sales         1689 non-null   float64\n",
      " 6   jp_sales         1689 non-null   float64\n",
      " 7   other_sales      1689 non-null   float64\n",
      " 8   critic_score     718 non-null    float64\n",
      " 9   user_score       888 non-null    float64\n",
      " 10  rating           1689 non-null   object \n",
      " 11  total_sales      1689 non-null   float64\n",
      "dtypes: Int64(1), float64(7), object(4)\n",
      "memory usage: 173.2+ KB\n"
     ]
    }
   ],
   "source": [
    "data_actual = data.query('year_of_release >= 2014')\n",
    "data_actual.info()"
   ]
  },
  {
   "cell_type": "markdown",
   "metadata": {},
   "source": [
    "После того, как мы отбросили неактуальные для исследования данные, осталось 1689 строк, именно с ними будем работать в дальнейшем."
   ]
  },
  {
   "cell_type": "code",
   "execution_count": 26,
   "metadata": {
    "scrolled": false
   },
   "outputs": [
    {
     "data": {
      "image/png": "[encoded data removed]",
      "text/plain": [
       "<Figure size 1080x720 with 1 Axes>"
      ]
     },
     "metadata": {
      "needs_background": "light"
     },
     "output_type": "display_data"
    }
   ],
   "source": [
    "data_actual.boxplot(column='total_sales', by='platform', figsize=(15,10));\n",
    "plt.ylim(0, 2)\n",
    "plt.show()"
   ]
  },
  {
   "cell_type": "markdown",
   "metadata": {},
   "source": [
    "В результате построения графика «ящик с усами» по глобальным продажам игр в разбивке по платформам можно отметить следующее:\n",
    "- 2 лидирующие платформы PS4 и XOne имеют схожие параметры: ориентировочная граница нормального размаха приблизительно 1,5 млн. проданных копий. Всё, что лежит за ней, считается выбросом. Таких выбросов достаточно много, особенно у платформы  PS4, это значит, что по каким-то играм на этой платформе были высокие продажи, но всё же значения, которые отсёк верхний «ус», — редкие;\n",
    "- медианы у лидирующих платформ также близки по значению - около 0,2 млн. проданных копий, это усредненное значение для продаж игр по этим платформам;\n",
    "- также стоит отметить платформу WiiU с медианой и границей нормального размаха близкими к лидерам, но у нее совсем мало \"выбросов\" в сторону более высоких продаж;\n",
    "- наименее прибыльной платформой в данном периоде является PSP, у которой средние значения продаж близки к 0."
   ]
  },
  {
   "cell_type": "markdown",
   "metadata": {},
   "source": [
    "Рассмотрим, как влияют на продажи внутри одной популярной платформы отзывы пользователей и критиков. Построим диаграмму рассеяния и посчитаем корреляцию между отзывами и продажами."
   ]
  },
  {
   "cell_type": "code",
   "execution_count": 27,
   "metadata": {
    "scrolled": true
   },
   "outputs": [
    {
     "data": {
      "image/png": "[encoded data removed]",
      "text/plain": [
       "<Figure size 432x288 with 1 Axes>"
      ]
     },
     "metadata": {
      "needs_background": "light"
     },
     "output_type": "display_data"
    }
   ],
   "source": [
    "data_actual_ps4 = data_actual.query('platform == \"PS4\"')\n",
    "data_actual_ps4.plot(x='critic_score', y='total_sales', kind='scatter', alpha=0.5);"
   ]
  },
  {
   "cell_type": "code",
   "execution_count": 28,
   "metadata": {},
   "outputs": [
    {
     "data": {
      "text/plain": [
       "0.40266141068104083"
      ]
     },
     "execution_count": 28,
     "metadata": {},
     "output_type": "execute_result"
    }
   ],
   "source": [
    "data_actual_ps4['critic_score'].corr(data_actual_ps4['total_sales'])"
   ]
  },
  {
   "cell_type": "markdown",
   "metadata": {},
   "source": [
    "Линейная связь между продажами игр внутри платформы PS4 и отзывами критиков имеется, но достаточно слабая. Она положительная, т.е. при росте оценок критиков продажи растут, но так бывает не всегда."
   ]
  },
  {
   "cell_type": "code",
   "execution_count": 29,
   "metadata": {},
   "outputs": [
    {
     "data": {
      "image/png": "[encoded data removed]",
      "text/plain": [
       "<Figure size 432x288 with 1 Axes>"
      ]
     },
     "metadata": {
      "needs_background": "light"
     },
     "output_type": "display_data"
    }
   ],
   "source": [
    "data_actual_ps4.plot(x='user_score', y='total_sales', kind='scatter', alpha=0.5);"
   ]
  },
  {
   "cell_type": "code",
   "execution_count": 30,
   "metadata": {},
   "outputs": [
    {
     "data": {
      "text/plain": [
       "-0.040131589472697356"
      ]
     },
     "execution_count": 30,
     "metadata": {},
     "output_type": "execute_result"
    }
   ],
   "source": [
    "data_actual_ps4['user_score'].corr(data_actual_ps4['total_sales'])"
   ]
  },
  {
   "cell_type": "markdown",
   "metadata": {},
   "source": [
    "Линейная связь между оценками пользователей и продажами игр внутри платформы PS4 практически отсутствует. То есть, можно сказать, что покупатели либо не читают отзывы на игры, либо не принимают на их основе решения о покупке той или иной игры."
   ]
  },
  {
   "cell_type": "markdown",
   "metadata": {},
   "source": [
    "Для того, чтобы подтвердить свои выводы далее проанализируем влияние оценок пользователей и критиков по остальным лидирующим платформам."
   ]
  },
  {
   "cell_type": "code",
   "execution_count": 31,
   "metadata": {},
   "outputs": [
    {
     "data": {
      "text/plain": [
       "platform\n",
       "PS4     288.15\n",
       "XOne    140.36\n",
       "3DS      86.68\n",
       "PS3      68.18\n",
       "X360     48.22\n",
       "Name: total_sales, dtype: float64"
      ]
     },
     "execution_count": 31,
     "metadata": {},
     "output_type": "execute_result"
    }
   ],
   "source": [
    "top_platform_actual= data_actual.groupby('platform')['total_sales'].sum().sort_values(ascending=False).head(5)\n",
    "top_platform_actual # взглянем на топ-5 платформ в актуальном периоде"
   ]
  },
  {
   "cell_type": "code",
   "execution_count": 32,
   "metadata": {},
   "outputs": [],
   "source": [
    "data_actual_XOne = data_actual.query('platform == \"XOne\"')\n",
    "data_actual_3DS = data_actual.query('platform == \"3DS\"')\n",
    "data_actual_PS3 = data_actual.query('platform == \"PS3\"')\n",
    "data_actual_X360 = data_actual.query('platform == \"X360\"')"
   ]
  },
  {
   "cell_type": "code",
   "execution_count": 33,
   "metadata": {},
   "outputs": [
    {
     "data": {
      "image/png": "[encoded data removed]",
      "text/plain": [
       "<Figure size 1440x504 with 4 Axes>"
      ]
     },
     "metadata": {
      "needs_background": "light"
     },
     "output_type": "display_data"
    }
   ],
   "source": [
    "fig, axs = plt.subplots(1, 4, figsize=(20, 7));\n",
    "axs[0].scatter(data_actual_XOne['user_score'], data_actual_XOne['total_sales']);\n",
    "axs[1].scatter(data_actual_3DS['user_score'], data_actual_3DS['total_sales']);\n",
    "axs[2].scatter(data_actual_PS3['user_score'], data_actual_PS3['total_sales']);\n",
    "axs[3].scatter(data_actual_X360['user_score'], data_actual_X360['total_sales']);\n",
    "fig.suptitle('Влияние на продажи внутри одной популярной платформы отзывов пользователей');\n",
    "axs[0].set_title('XOne');\n",
    "axs[1].set_title('3DS');\n",
    "axs[2].set_title('PS3');\n",
    "axs[3].set_title('X360');"
   ]
  },
  {
   "cell_type": "code",
   "execution_count": 34,
   "metadata": {},
   "outputs": [
    {
     "data": {
      "text/plain": [
       "-0.0703839280647581"
      ]
     },
     "execution_count": 34,
     "metadata": {},
     "output_type": "execute_result"
    }
   ],
   "source": [
    "data_actual_XOne['user_score'].corr(data_actual_XOne['total_sales'])"
   ]
  },
  {
   "cell_type": "code",
   "execution_count": 35,
   "metadata": {},
   "outputs": [
    {
     "data": {
      "text/plain": [
       "-0.0703839280647581"
      ]
     },
     "execution_count": 35,
     "metadata": {},
     "output_type": "execute_result"
    }
   ],
   "source": [
    "data_actual_XOne['user_score'].corr(data_actual_XOne['total_sales'])"
   ]
  },
  {
   "cell_type": "code",
   "execution_count": 36,
   "metadata": {},
   "outputs": [
    {
     "data": {
      "text/plain": [
       "-0.16676141347662118"
      ]
     },
     "execution_count": 36,
     "metadata": {},
     "output_type": "execute_result"
    }
   ],
   "source": [
    "data_actual_PS3['user_score'].corr(data_actual_PS3['total_sales'])"
   ]
  },
  {
   "cell_type": "code",
   "execution_count": 37,
   "metadata": {},
   "outputs": [
    {
     "data": {
      "text/plain": [
       "-0.138444570945665"
      ]
     },
     "execution_count": 37,
     "metadata": {},
     "output_type": "execute_result"
    }
   ],
   "source": [
    "data_actual_X360['user_score'].corr(data_actual_X360['total_sales'])"
   ]
  },
  {
   "cell_type": "markdown",
   "metadata": {},
   "source": [
    "Продажи игр внутри других топовых платформ также, как и у платформы PS4 не имеют зависимости от отзывов пользователей. Их линейная связь отрицательна, но она настолько слаба, что на неё не стоит ориентироваться."
   ]
  },
  {
   "cell_type": "code",
   "execution_count": 38,
   "metadata": {},
   "outputs": [
    {
     "data": {
      "image/png": "[encoded data removed]",
      "text/plain": [
       "<Figure size 1440x504 with 4 Axes>"
      ]
     },
     "metadata": {
      "needs_background": "light"
     },
     "output_type": "display_data"
    }
   ],
   "source": [
    "fig, axs = plt.subplots(1, 4, figsize=(20, 7));\n",
    "axs[0].scatter(data_actual_XOne['critic_score'], data_actual_XOne['total_sales']);\n",
    "axs[1].scatter(data_actual_3DS['critic_score'], data_actual_3DS['total_sales']);\n",
    "axs[2].scatter(data_actual_PS3['critic_score'], data_actual_PS3['total_sales']);\n",
    "axs[3].scatter(data_actual_X360['critic_score'], data_actual_X360['total_sales']);\n",
    "fig.suptitle('Влияние на продажи внутри одной популярной платформы отзывов критиков');\n",
    "axs[0].set_title('XOne');\n",
    "axs[1].set_title('3DS');\n",
    "axs[2].set_title('PS3');\n",
    "axs[3].set_title('X360');"
   ]
  },
  {
   "cell_type": "code",
   "execution_count": 39,
   "metadata": {},
   "outputs": [
    {
     "data": {
      "text/plain": [
       "0.42867694370333226"
      ]
     },
     "execution_count": 39,
     "metadata": {},
     "output_type": "execute_result"
    }
   ],
   "source": [
    "data_actual_XOne['critic_score'].corr(data_actual_XOne['total_sales'])"
   ]
  },
  {
   "cell_type": "code",
   "execution_count": 40,
   "metadata": {},
   "outputs": [
    {
     "data": {
      "text/plain": [
       "0.314117492869051"
      ]
     },
     "execution_count": 40,
     "metadata": {},
     "output_type": "execute_result"
    }
   ],
   "source": [
    "data_actual_3DS['critic_score'].corr(data_actual_3DS['total_sales'])"
   ]
  },
  {
   "cell_type": "code",
   "execution_count": 41,
   "metadata": {},
   "outputs": [
    {
     "data": {
      "text/plain": [
       "0.44657460493190704"
      ]
     },
     "execution_count": 41,
     "metadata": {},
     "output_type": "execute_result"
    }
   ],
   "source": [
    "data_actual_PS3['critic_score'].corr(data_actual_PS3['total_sales'])"
   ]
  },
  {
   "cell_type": "code",
   "execution_count": 42,
   "metadata": {},
   "outputs": [
    {
     "data": {
      "text/plain": [
       "0.5257228356581523"
      ]
     },
     "execution_count": 42,
     "metadata": {},
     "output_type": "execute_result"
    }
   ],
   "source": [
    "data_actual_X360['critic_score'].corr(data_actual_X360['total_sales'])"
   ]
  },
  {
   "cell_type": "markdown",
   "metadata": {},
   "source": [
    "   По продажам игр внутри топовых платформ, как по PS4, наблюдается похожая связь с отзывами критиков. Она положительная, т.е. при росте оценок критиков продажи тоже растут, но достаточно слабо.\n",
    "   "
   ]
  },
  {
   "cell_type": "markdown",
   "metadata": {},
   "source": [
    "Далее посмотрим на общее распределение игр по жанрам."
   ]
  },
  {
   "cell_type": "code",
   "execution_count": 43,
   "metadata": {},
   "outputs": [
    {
     "data": {
      "image/png": "[encoded data removed]",
      "text/plain": [
       "<Figure size 432x288 with 1 Axes>"
      ]
     },
     "metadata": {
      "needs_background": "light"
     },
     "output_type": "display_data"
    }
   ],
   "source": [
    "(data_actual\n",
    "    .pivot_table(index='genre', values='total_sales', aggfunc='median')\n",
    "    .plot(kind='bar')\n",
    ");\n",
    "plt.title ('Распределение продаж игр по жанрам');"
   ]
  },
  {
   "cell_type": "markdown",
   "metadata": {},
   "source": [
    "Самым прибыльным жанром компьютерных игр является Shooter, его медианные продажи в 2 раза превышают продажи следующего по популярности жанра компбютерных игр - Sports. \n",
    "Наименее прибыльные жанры - это Adventure и Puzzle, у них очень низкие продажи, по сравнению с остальными жанрами."
   ]
  },
  {
   "cell_type": "markdown",
   "metadata": {},
   "source": [
    "### Шаг: Составьте портрет пользователя каждого региона ###"
   ]
  },
  {
   "cell_type": "markdown",
   "metadata": {},
   "source": [
    "- Самые популярные платформы (топ-5) для пользователя каждого региона. Опишите различия в долях продаж."
   ]
  },
  {
   "cell_type": "code",
   "execution_count": 44,
   "metadata": {},
   "outputs": [],
   "source": [
    "platform_group_na = (data_actual\n",
    "    .groupby('platform')\n",
    "    .agg({'na_sales':'sum'})\n",
    ")\n",
    "platform_group_na.columns=['na_sum']\n",
    "platform_group_na = platform_group_na.sort_values(by='na_sum', ascending=False).head(5)\n",
    "platform_group_na['ratio'] = 100*platform_group_na['na_sum']/(platform_group_na['na_sum'].sum())\n",
    "\n",
    "platform_group_na = np.round(platform_group_na)"
   ]
  },
  {
   "cell_type": "code",
   "execution_count": 45,
   "metadata": {},
   "outputs": [],
   "source": [
    "platform_group_eu = (data_actual\n",
    "    .groupby('platform')\n",
    "    .agg({'eu_sales':'sum'})\n",
    ")\n",
    "platform_group_eu.columns=['eu_sum']\n",
    "platform_group_eu = platform_group_eu.sort_values(by='eu_sum', ascending=False).head(5)\n",
    "platform_group_eu['ratio'] = 100*platform_group_eu['eu_sum']/(platform_group_eu['eu_sum'].sum())\n",
    "\n",
    "platform_group_eu = np.round(platform_group_eu)"
   ]
  },
  {
   "cell_type": "code",
   "execution_count": 46,
   "metadata": {},
   "outputs": [],
   "source": [
    "platform_group_jp = (data_actual\n",
    "    .groupby('platform')\n",
    "    .agg({'jp_sales':'sum'})\n",
    ")\n",
    "platform_group_jp.columns=['jp_sum']\n",
    "platform_group_jp = platform_group_jp.sort_values(by='jp_sum', ascending=False).head(5)\n",
    "platform_group_jp['ratio'] = 100*platform_group_jp['jp_sum']/(platform_group_jp['jp_sum'].sum())\n",
    "\n",
    "platform_group_jp = np.round(platform_group_jp)"
   ]
  },
  {
   "cell_type": "code",
   "execution_count": 47,
   "metadata": {},
   "outputs": [
    {
     "data": {
      "text/html": [
       "<div>\n",
       "<style scoped>\n",
       "    .dataframe tbody tr th:only-of-type {\n",
       "        vertical-align: middle;\n",
       "    }\n",
       "\n",
       "    .dataframe tbody tr th {\n",
       "        vertical-align: top;\n",
       "    }\n",
       "\n",
       "    .dataframe thead th {\n",
       "        text-align: right;\n",
       "    }\n",
       "</style>\n",
       "<table border=\"1\" class=\"dataframe\">\n",
       "  <thead>\n",
       "    <tr style=\"text-align: right;\">\n",
       "      <th></th>\n",
       "      <th>name</th>\n",
       "      <th>platform</th>\n",
       "      <th>year_of_release</th>\n",
       "      <th>genre</th>\n",
       "      <th>na_sales</th>\n",
       "      <th>eu_sales</th>\n",
       "      <th>jp_sales</th>\n",
       "      <th>other_sales</th>\n",
       "      <th>critic_score</th>\n",
       "      <th>user_score</th>\n",
       "      <th>rating</th>\n",
       "      <th>total_sales</th>\n",
       "    </tr>\n",
       "  </thead>\n",
       "  <tbody>\n",
       "    <tr>\n",
       "      <th>31</th>\n",
       "      <td>Call of Duty: Black Ops 3</td>\n",
       "      <td>PS4</td>\n",
       "      <td>2015</td>\n",
       "      <td>Shooter</td>\n",
       "      <td>6.03</td>\n",
       "      <td>5.86</td>\n",
       "      <td>0.36</td>\n",
       "      <td>2.38</td>\n",
       "      <td>NaN</td>\n",
       "      <td>NaN</td>\n",
       "      <td>undefined</td>\n",
       "      <td>14.63</td>\n",
       "    </tr>\n",
       "    <tr>\n",
       "      <th>42</th>\n",
       "      <td>Grand Theft Auto V</td>\n",
       "      <td>PS4</td>\n",
       "      <td>2014</td>\n",
       "      <td>Action</td>\n",
       "      <td>3.96</td>\n",
       "      <td>6.31</td>\n",
       "      <td>0.38</td>\n",
       "      <td>1.97</td>\n",
       "      <td>97.0</td>\n",
       "      <td>8.3</td>\n",
       "      <td>M</td>\n",
       "      <td>12.62</td>\n",
       "    </tr>\n",
       "    <tr>\n",
       "      <th>47</th>\n",
       "      <td>Pokemon Omega Ruby/Pokemon Alpha Sapphire</td>\n",
       "      <td>3DS</td>\n",
       "      <td>2014</td>\n",
       "      <td>Role-Playing</td>\n",
       "      <td>4.35</td>\n",
       "      <td>3.49</td>\n",
       "      <td>3.10</td>\n",
       "      <td>0.74</td>\n",
       "      <td>NaN</td>\n",
       "      <td>NaN</td>\n",
       "      <td>undefined</td>\n",
       "      <td>11.68</td>\n",
       "    </tr>\n",
       "    <tr>\n",
       "      <th>77</th>\n",
       "      <td>FIFA 16</td>\n",
       "      <td>PS4</td>\n",
       "      <td>2015</td>\n",
       "      <td>Sports</td>\n",
       "      <td>1.12</td>\n",
       "      <td>6.12</td>\n",
       "      <td>0.06</td>\n",
       "      <td>1.28</td>\n",
       "      <td>82.0</td>\n",
       "      <td>4.3</td>\n",
       "      <td>E</td>\n",
       "      <td>8.58</td>\n",
       "    </tr>\n",
       "    <tr>\n",
       "      <th>87</th>\n",
       "      <td>Star Wars Battlefront (2015)</td>\n",
       "      <td>PS4</td>\n",
       "      <td>2015</td>\n",
       "      <td>Shooter</td>\n",
       "      <td>2.99</td>\n",
       "      <td>3.49</td>\n",
       "      <td>0.22</td>\n",
       "      <td>1.28</td>\n",
       "      <td>NaN</td>\n",
       "      <td>NaN</td>\n",
       "      <td>undefined</td>\n",
       "      <td>7.98</td>\n",
       "    </tr>\n",
       "    <tr>\n",
       "      <th>...</th>\n",
       "      <td>...</td>\n",
       "      <td>...</td>\n",
       "      <td>...</td>\n",
       "      <td>...</td>\n",
       "      <td>...</td>\n",
       "      <td>...</td>\n",
       "      <td>...</td>\n",
       "      <td>...</td>\n",
       "      <td>...</td>\n",
       "      <td>...</td>\n",
       "      <td>...</td>\n",
       "      <td>...</td>\n",
       "    </tr>\n",
       "    <tr>\n",
       "      <th>16703</th>\n",
       "      <td>Strawberry Nauts</td>\n",
       "      <td>PSV</td>\n",
       "      <td>2016</td>\n",
       "      <td>Adventure</td>\n",
       "      <td>0.00</td>\n",
       "      <td>0.00</td>\n",
       "      <td>0.01</td>\n",
       "      <td>0.00</td>\n",
       "      <td>NaN</td>\n",
       "      <td>NaN</td>\n",
       "      <td>undefined</td>\n",
       "      <td>0.01</td>\n",
       "    </tr>\n",
       "    <tr>\n",
       "      <th>16707</th>\n",
       "      <td>Aiyoku no Eustia</td>\n",
       "      <td>PSV</td>\n",
       "      <td>2014</td>\n",
       "      <td>Misc</td>\n",
       "      <td>0.00</td>\n",
       "      <td>0.00</td>\n",
       "      <td>0.01</td>\n",
       "      <td>0.00</td>\n",
       "      <td>NaN</td>\n",
       "      <td>NaN</td>\n",
       "      <td>undefined</td>\n",
       "      <td>0.01</td>\n",
       "    </tr>\n",
       "    <tr>\n",
       "      <th>16710</th>\n",
       "      <td>Samurai Warriors: Sanada Maru</td>\n",
       "      <td>PS3</td>\n",
       "      <td>2016</td>\n",
       "      <td>Action</td>\n",
       "      <td>0.00</td>\n",
       "      <td>0.00</td>\n",
       "      <td>0.01</td>\n",
       "      <td>0.00</td>\n",
       "      <td>NaN</td>\n",
       "      <td>NaN</td>\n",
       "      <td>undefined</td>\n",
       "      <td>0.01</td>\n",
       "    </tr>\n",
       "    <tr>\n",
       "      <th>16712</th>\n",
       "      <td>Haitaka no Psychedelica</td>\n",
       "      <td>PSV</td>\n",
       "      <td>2016</td>\n",
       "      <td>Adventure</td>\n",
       "      <td>0.00</td>\n",
       "      <td>0.00</td>\n",
       "      <td>0.01</td>\n",
       "      <td>0.00</td>\n",
       "      <td>NaN</td>\n",
       "      <td>NaN</td>\n",
       "      <td>undefined</td>\n",
       "      <td>0.01</td>\n",
       "    </tr>\n",
       "    <tr>\n",
       "      <th>16714</th>\n",
       "      <td>Winning Post 8 2016</td>\n",
       "      <td>PSV</td>\n",
       "      <td>2016</td>\n",
       "      <td>Simulation</td>\n",
       "      <td>0.00</td>\n",
       "      <td>0.00</td>\n",
       "      <td>0.01</td>\n",
       "      <td>0.00</td>\n",
       "      <td>NaN</td>\n",
       "      <td>NaN</td>\n",
       "      <td>undefined</td>\n",
       "      <td>0.01</td>\n",
       "    </tr>\n",
       "  </tbody>\n",
       "</table>\n",
       "<p>1689 rows × 12 columns</p>\n",
       "</div>"
      ],
      "text/plain": [
       "                                            name platform  year_of_release  \\\n",
       "31                     Call of Duty: Black Ops 3      PS4             2015   \n",
       "42                            Grand Theft Auto V      PS4             2014   \n",
       "47     Pokemon Omega Ruby/Pokemon Alpha Sapphire      3DS             2014   \n",
       "77                                       FIFA 16      PS4             2015   \n",
       "87                  Star Wars Battlefront (2015)      PS4             2015   \n",
       "...                                          ...      ...              ...   \n",
       "16703                           Strawberry Nauts      PSV             2016   \n",
       "16707                           Aiyoku no Eustia      PSV             2014   \n",
       "16710              Samurai Warriors: Sanada Maru      PS3             2016   \n",
       "16712                    Haitaka no Psychedelica      PSV             2016   \n",
       "16714                        Winning Post 8 2016      PSV             2016   \n",
       "\n",
       "              genre  na_sales  eu_sales  jp_sales  other_sales  critic_score  \\\n",
       "31          Shooter      6.03      5.86      0.36         2.38           NaN   \n",
       "42           Action      3.96      6.31      0.38         1.97          97.0   \n",
       "47     Role-Playing      4.35      3.49      3.10         0.74           NaN   \n",
       "77           Sports      1.12      6.12      0.06         1.28          82.0   \n",
       "87          Shooter      2.99      3.49      0.22         1.28           NaN   \n",
       "...             ...       ...       ...       ...          ...           ...   \n",
       "16703     Adventure      0.00      0.00      0.01         0.00           NaN   \n",
       "16707          Misc      0.00      0.00      0.01         0.00           NaN   \n",
       "16710        Action      0.00      0.00      0.01         0.00           NaN   \n",
       "16712     Adventure      0.00      0.00      0.01         0.00           NaN   \n",
       "16714    Simulation      0.00      0.00      0.01         0.00           NaN   \n",
       "\n",
       "       user_score     rating  total_sales  \n",
       "31            NaN  undefined        14.63  \n",
       "42            8.3          M        12.62  \n",
       "47            NaN  undefined        11.68  \n",
       "77            4.3          E         8.58  \n",
       "87            NaN  undefined         7.98  \n",
       "...           ...        ...          ...  \n",
       "16703         NaN  undefined         0.01  \n",
       "16707         NaN  undefined         0.01  \n",
       "16710         NaN  undefined         0.01  \n",
       "16712         NaN  undefined         0.01  \n",
       "16714         NaN  undefined         0.01  \n",
       "\n",
       "[1689 rows x 12 columns]"
      ]
     },
     "execution_count": 47,
     "metadata": {},
     "output_type": "execute_result"
    }
   ],
   "source": [
    "data_actual"
   ]
  },
  {
   "cell_type": "code",
   "execution_count": 48,
   "metadata": {},
   "outputs": [
    {
     "data": {
      "text/html": [
       "<div>\n",
       "<style scoped>\n",
       "    .dataframe tbody tr th:only-of-type {\n",
       "        vertical-align: middle;\n",
       "    }\n",
       "\n",
       "    .dataframe tbody tr th {\n",
       "        vertical-align: top;\n",
       "    }\n",
       "\n",
       "    .dataframe thead th {\n",
       "        text-align: right;\n",
       "    }\n",
       "</style>\n",
       "<table border=\"1\" class=\"dataframe\">\n",
       "  <thead>\n",
       "    <tr style=\"text-align: right;\">\n",
       "      <th></th>\n",
       "      <th>na_sum</th>\n",
       "      <th>ratio</th>\n",
       "    </tr>\n",
       "    <tr>\n",
       "      <th>platform</th>\n",
       "      <th></th>\n",
       "      <th></th>\n",
       "    </tr>\n",
       "  </thead>\n",
       "  <tbody>\n",
       "    <tr>\n",
       "      <th>PS4</th>\n",
       "      <td>99.0</td>\n",
       "      <td>39.0</td>\n",
       "    </tr>\n",
       "    <tr>\n",
       "      <th>XOne</th>\n",
       "      <td>81.0</td>\n",
       "      <td>32.0</td>\n",
       "    </tr>\n",
       "    <tr>\n",
       "      <th>X360</th>\n",
       "      <td>28.0</td>\n",
       "      <td>11.0</td>\n",
       "    </tr>\n",
       "    <tr>\n",
       "      <th>3DS</th>\n",
       "      <td>23.0</td>\n",
       "      <td>9.0</td>\n",
       "    </tr>\n",
       "    <tr>\n",
       "      <th>PS3</th>\n",
       "      <td>22.0</td>\n",
       "      <td>9.0</td>\n",
       "    </tr>\n",
       "  </tbody>\n",
       "</table>\n",
       "</div>"
      ],
      "text/plain": [
       "          na_sum  ratio\n",
       "platform               \n",
       "PS4         99.0   39.0\n",
       "XOne        81.0   32.0\n",
       "X360        28.0   11.0\n",
       "3DS         23.0    9.0\n",
       "PS3         22.0    9.0"
      ]
     },
     "metadata": {},
     "output_type": "display_data"
    },
    {
     "data": {
      "text/html": [
       "<div>\n",
       "<style scoped>\n",
       "    .dataframe tbody tr th:only-of-type {\n",
       "        vertical-align: middle;\n",
       "    }\n",
       "\n",
       "    .dataframe tbody tr th {\n",
       "        vertical-align: top;\n",
       "    }\n",
       "\n",
       "    .dataframe thead th {\n",
       "        text-align: right;\n",
       "    }\n",
       "</style>\n",
       "<table border=\"1\" class=\"dataframe\">\n",
       "  <thead>\n",
       "    <tr style=\"text-align: right;\">\n",
       "      <th></th>\n",
       "      <th>eu_sum</th>\n",
       "      <th>ratio</th>\n",
       "    </tr>\n",
       "    <tr>\n",
       "      <th>platform</th>\n",
       "      <th></th>\n",
       "      <th></th>\n",
       "    </tr>\n",
       "  </thead>\n",
       "  <tbody>\n",
       "    <tr>\n",
       "      <th>PS4</th>\n",
       "      <td>130.0</td>\n",
       "      <td>55.0</td>\n",
       "    </tr>\n",
       "    <tr>\n",
       "      <th>XOne</th>\n",
       "      <td>46.0</td>\n",
       "      <td>20.0</td>\n",
       "    </tr>\n",
       "    <tr>\n",
       "      <th>PS3</th>\n",
       "      <td>26.0</td>\n",
       "      <td>11.0</td>\n",
       "    </tr>\n",
       "    <tr>\n",
       "      <th>PC</th>\n",
       "      <td>18.0</td>\n",
       "      <td>8.0</td>\n",
       "    </tr>\n",
       "    <tr>\n",
       "      <th>3DS</th>\n",
       "      <td>16.0</td>\n",
       "      <td>7.0</td>\n",
       "    </tr>\n",
       "  </tbody>\n",
       "</table>\n",
       "</div>"
      ],
      "text/plain": [
       "          eu_sum  ratio\n",
       "platform               \n",
       "PS4        130.0   55.0\n",
       "XOne        46.0   20.0\n",
       "PS3         26.0   11.0\n",
       "PC          18.0    8.0\n",
       "3DS         16.0    7.0"
      ]
     },
     "metadata": {},
     "output_type": "display_data"
    },
    {
     "data": {
      "text/html": [
       "<div>\n",
       "<style scoped>\n",
       "    .dataframe tbody tr th:only-of-type {\n",
       "        vertical-align: middle;\n",
       "    }\n",
       "\n",
       "    .dataframe tbody tr th {\n",
       "        vertical-align: top;\n",
       "    }\n",
       "\n",
       "    .dataframe thead th {\n",
       "        text-align: right;\n",
       "    }\n",
       "</style>\n",
       "<table border=\"1\" class=\"dataframe\">\n",
       "  <thead>\n",
       "    <tr style=\"text-align: right;\">\n",
       "      <th></th>\n",
       "      <th>jp_sum</th>\n",
       "      <th>ratio</th>\n",
       "    </tr>\n",
       "    <tr>\n",
       "      <th>platform</th>\n",
       "      <th></th>\n",
       "      <th></th>\n",
       "    </tr>\n",
       "  </thead>\n",
       "  <tbody>\n",
       "    <tr>\n",
       "      <th>3DS</th>\n",
       "      <td>44.0</td>\n",
       "      <td>48.0</td>\n",
       "    </tr>\n",
       "    <tr>\n",
       "      <th>PS4</th>\n",
       "      <td>15.0</td>\n",
       "      <td>16.0</td>\n",
       "    </tr>\n",
       "    <tr>\n",
       "      <th>PSV</th>\n",
       "      <td>15.0</td>\n",
       "      <td>16.0</td>\n",
       "    </tr>\n",
       "    <tr>\n",
       "      <th>PS3</th>\n",
       "      <td>11.0</td>\n",
       "      <td>12.0</td>\n",
       "    </tr>\n",
       "    <tr>\n",
       "      <th>WiiU</th>\n",
       "      <td>7.0</td>\n",
       "      <td>8.0</td>\n",
       "    </tr>\n",
       "  </tbody>\n",
       "</table>\n",
       "</div>"
      ],
      "text/plain": [
       "          jp_sum  ratio\n",
       "platform               \n",
       "3DS         44.0   48.0\n",
       "PS4         15.0   16.0\n",
       "PSV         15.0   16.0\n",
       "PS3         11.0   12.0\n",
       "WiiU         7.0    8.0"
      ]
     },
     "metadata": {},
     "output_type": "display_data"
    }
   ],
   "source": [
    "display(platform_group_na, platform_group_eu, platform_group_jp)"
   ]
  },
  {
   "cell_type": "code",
   "execution_count": 49,
   "metadata": {},
   "outputs": [
    {
     "data": {
      "image/png": "[encoded data removed]",
      "text/plain": [
       "<Figure size 1080x504 with 3 Axes>"
      ]
     },
     "metadata": {},
     "output_type": "display_data"
    }
   ],
   "source": [
    "fig, axs = plt.subplots(1, 3, figsize=(15, 7));\n",
    "axs[0].pie(platform_group_na['ratio'], labels=['PS4', 'XOne', 'X360', '3DS', 'PS3'], autopct='%1.1f%%');\n",
    "axs[1].pie(platform_group_eu['ratio'], labels=['PS4', 'XOne', 'PS3', 'PC', '3DS'], autopct='%1.1f%%');\n",
    "axs[2].pie(platform_group_jp['ratio'], labels=['3DS', 'PS4', 'PSV', 'PS3', 'WiiU'], autopct='%1.1f%%');\n",
    "fig.suptitle('ТОП-5 платформ в регионах');\n",
    "axs[0].set_title('NA');\n",
    "axs[1].set_title('EU');\n",
    "axs[2].set_title('JP');"
   ]
  },
  {
   "cell_type": "markdown",
   "metadata": {},
   "source": [
    "На американском рынке лидерами продаж среди платформ выступили PS4 и XOne, доля продаж игр на этих платформах составила 39% и 32% соответственно. Далее со значительным отставанием в продажах идут платформы X360, 3DS и PS3, доли продаж игр на таких платформах составляют 11% и менее от общей суммы продаж за выбранный период."
   ]
  },
  {
   "cell_type": "markdown",
   "metadata": {},
   "source": [
    "В Европе, в отличии от Америки, среди платформ лидирует всего одна - PS4, продажи игр на ней занимают более половины продаж по всем платформам (55%). Остальные популярные платформы из Топ-5 платформ(XOne, PS3, PC, 3DS) имеют долю продаж 20% и меньше."
   ]
  },
  {
   "cell_type": "markdown",
   "metadata": {},
   "source": [
    "Японский рынок значительно отличается от Америки и Европы, здесь лидирующую позицию занимает одна платформа - 3DS, доля продаж игр на этой платформе составяет почти 48%. Остальные платформы (PS4, PSV, PS3, WiiU) идут в сильном отрыве от лидера, по ним доля продаж составляет 16% и меньше."
   ]
  },
  {
   "cell_type": "markdown",
   "metadata": {},
   "source": [
    "- Самые популярные жанры (топ-5) для пользователя каждого региона. Поясните разницу."
   ]
  },
  {
   "cell_type": "code",
   "execution_count": 50,
   "metadata": {},
   "outputs": [],
   "source": [
    "genre_group_na = (data_actual\n",
    "    .groupby('genre')\n",
    "    .agg({'na_sales':'sum'})\n",
    ")\n",
    "genre_group_na.columns=['na_sum']\n",
    "genre_group_na = genre_group_na.sort_values(by='na_sum', ascending=False).head(5)\n",
    "genre_group_na['ratio'] = 100*genre_group_na['na_sum']/(genre_group_na['na_sum'].sum())\n",
    "\n",
    "genre_group_na = np.round(genre_group_na)"
   ]
  },
  {
   "cell_type": "code",
   "execution_count": 51,
   "metadata": {},
   "outputs": [],
   "source": [
    "genre_group_eu = (data_actual\n",
    "    .groupby('genre')\n",
    "    .agg({'eu_sales':'sum'})\n",
    ")\n",
    "genre_group_eu.columns=['eu_sum']\n",
    "genre_group_eu = genre_group_eu.sort_values(by='eu_sum', ascending=False).head(5)\n",
    "genre_group_eu['ratio'] = 100*genre_group_eu['eu_sum']/(genre_group_eu['eu_sum'].sum())\n",
    "\n",
    "genre_group_eu = np.round(genre_group_eu)"
   ]
  },
  {
   "cell_type": "code",
   "execution_count": 52,
   "metadata": {},
   "outputs": [],
   "source": [
    "genre_group_jp = (data_actual\n",
    "    .groupby('genre')\n",
    "    .agg({'jp_sales':'sum'})\n",
    ")\n",
    "genre_group_jp.columns=['jp_sum']\n",
    "genre_group_jp = genre_group_jp.sort_values(by='jp_sum', ascending=False).head(5)\n",
    "genre_group_jp['ratio'] = 100*genre_group_jp['jp_sum']/(genre_group_jp['jp_sum'].sum())\n",
    "\n",
    "genre_group_jp = np.round(genre_group_jp)"
   ]
  },
  {
   "cell_type": "code",
   "execution_count": 53,
   "metadata": {},
   "outputs": [
    {
     "data": {
      "text/html": [
       "<div>\n",
       "<style scoped>\n",
       "    .dataframe tbody tr th:only-of-type {\n",
       "        vertical-align: middle;\n",
       "    }\n",
       "\n",
       "    .dataframe tbody tr th {\n",
       "        vertical-align: top;\n",
       "    }\n",
       "\n",
       "    .dataframe thead th {\n",
       "        text-align: right;\n",
       "    }\n",
       "</style>\n",
       "<table border=\"1\" class=\"dataframe\">\n",
       "  <thead>\n",
       "    <tr style=\"text-align: right;\">\n",
       "      <th></th>\n",
       "      <th>na_sum</th>\n",
       "      <th>ratio</th>\n",
       "    </tr>\n",
       "    <tr>\n",
       "      <th>genre</th>\n",
       "      <th></th>\n",
       "      <th></th>\n",
       "    </tr>\n",
       "  </thead>\n",
       "  <tbody>\n",
       "    <tr>\n",
       "      <th>Shooter</th>\n",
       "      <td>79.0</td>\n",
       "      <td>32.0</td>\n",
       "    </tr>\n",
       "    <tr>\n",
       "      <th>Action</th>\n",
       "      <td>73.0</td>\n",
       "      <td>29.0</td>\n",
       "    </tr>\n",
       "    <tr>\n",
       "      <th>Sports</th>\n",
       "      <td>46.0</td>\n",
       "      <td>19.0</td>\n",
       "    </tr>\n",
       "    <tr>\n",
       "      <th>Role-Playing</th>\n",
       "      <td>33.0</td>\n",
       "      <td>14.0</td>\n",
       "    </tr>\n",
       "    <tr>\n",
       "      <th>Misc</th>\n",
       "      <td>15.0</td>\n",
       "      <td>6.0</td>\n",
       "    </tr>\n",
       "  </tbody>\n",
       "</table>\n",
       "</div>"
      ],
      "text/plain": [
       "              na_sum  ratio\n",
       "genre                      \n",
       "Shooter         79.0   32.0\n",
       "Action          73.0   29.0\n",
       "Sports          46.0   19.0\n",
       "Role-Playing    33.0   14.0\n",
       "Misc            15.0    6.0"
      ]
     },
     "metadata": {},
     "output_type": "display_data"
    },
    {
     "data": {
      "text/html": [
       "<div>\n",
       "<style scoped>\n",
       "    .dataframe tbody tr th:only-of-type {\n",
       "        vertical-align: middle;\n",
       "    }\n",
       "\n",
       "    .dataframe tbody tr th {\n",
       "        vertical-align: top;\n",
       "    }\n",
       "\n",
       "    .dataframe thead th {\n",
       "        text-align: right;\n",
       "    }\n",
       "</style>\n",
       "<table border=\"1\" class=\"dataframe\">\n",
       "  <thead>\n",
       "    <tr style=\"text-align: right;\">\n",
       "      <th></th>\n",
       "      <th>eu_sum</th>\n",
       "      <th>ratio</th>\n",
       "    </tr>\n",
       "    <tr>\n",
       "      <th>genre</th>\n",
       "      <th></th>\n",
       "      <th></th>\n",
       "    </tr>\n",
       "  </thead>\n",
       "  <tbody>\n",
       "    <tr>\n",
       "      <th>Action</th>\n",
       "      <td>75.0</td>\n",
       "      <td>33.0</td>\n",
       "    </tr>\n",
       "    <tr>\n",
       "      <th>Shooter</th>\n",
       "      <td>66.0</td>\n",
       "      <td>29.0</td>\n",
       "    </tr>\n",
       "    <tr>\n",
       "      <th>Sports</th>\n",
       "      <td>46.0</td>\n",
       "      <td>20.0</td>\n",
       "    </tr>\n",
       "    <tr>\n",
       "      <th>Role-Playing</th>\n",
       "      <td>28.0</td>\n",
       "      <td>12.0</td>\n",
       "    </tr>\n",
       "    <tr>\n",
       "      <th>Racing</th>\n",
       "      <td>14.0</td>\n",
       "      <td>6.0</td>\n",
       "    </tr>\n",
       "  </tbody>\n",
       "</table>\n",
       "</div>"
      ],
      "text/plain": [
       "              eu_sum  ratio\n",
       "genre                      \n",
       "Action          75.0   33.0\n",
       "Shooter         66.0   29.0\n",
       "Sports          46.0   20.0\n",
       "Role-Playing    28.0   12.0\n",
       "Racing          14.0    6.0"
      ]
     },
     "metadata": {},
     "output_type": "display_data"
    },
    {
     "data": {
      "text/html": [
       "<div>\n",
       "<style scoped>\n",
       "    .dataframe tbody tr th:only-of-type {\n",
       "        vertical-align: middle;\n",
       "    }\n",
       "\n",
       "    .dataframe tbody tr th {\n",
       "        vertical-align: top;\n",
       "    }\n",
       "\n",
       "    .dataframe thead th {\n",
       "        text-align: right;\n",
       "    }\n",
       "</style>\n",
       "<table border=\"1\" class=\"dataframe\">\n",
       "  <thead>\n",
       "    <tr style=\"text-align: right;\">\n",
       "      <th></th>\n",
       "      <th>jp_sum</th>\n",
       "      <th>ratio</th>\n",
       "    </tr>\n",
       "    <tr>\n",
       "      <th>genre</th>\n",
       "      <th></th>\n",
       "      <th></th>\n",
       "    </tr>\n",
       "  </thead>\n",
       "  <tbody>\n",
       "    <tr>\n",
       "      <th>Role-Playing</th>\n",
       "      <td>31.0</td>\n",
       "      <td>40.0</td>\n",
       "    </tr>\n",
       "    <tr>\n",
       "      <th>Action</th>\n",
       "      <td>30.0</td>\n",
       "      <td>38.0</td>\n",
       "    </tr>\n",
       "    <tr>\n",
       "      <th>Fighting</th>\n",
       "      <td>6.0</td>\n",
       "      <td>8.0</td>\n",
       "    </tr>\n",
       "    <tr>\n",
       "      <th>Misc</th>\n",
       "      <td>6.0</td>\n",
       "      <td>7.0</td>\n",
       "    </tr>\n",
       "    <tr>\n",
       "      <th>Shooter</th>\n",
       "      <td>5.0</td>\n",
       "      <td>6.0</td>\n",
       "    </tr>\n",
       "  </tbody>\n",
       "</table>\n",
       "</div>"
      ],
      "text/plain": [
       "              jp_sum  ratio\n",
       "genre                      \n",
       "Role-Playing    31.0   40.0\n",
       "Action          30.0   38.0\n",
       "Fighting         6.0    8.0\n",
       "Misc             6.0    7.0\n",
       "Shooter          5.0    6.0"
      ]
     },
     "metadata": {},
     "output_type": "display_data"
    }
   ],
   "source": [
    "display(genre_group_na, genre_group_eu, genre_group_jp)"
   ]
  },
  {
   "cell_type": "code",
   "execution_count": 54,
   "metadata": {},
   "outputs": [
    {
     "data": {
      "image/png": "[encoded data removed]",
      "text/plain": [
       "<Figure size 1080x504 with 3 Axes>"
      ]
     },
     "metadata": {},
     "output_type": "display_data"
    }
   ],
   "source": [
    "fig, axs = plt.subplots(1,3, figsize=(15,7));\n",
    "axs[0].pie(genre_group_na['ratio'], labels=['Shooter', 'Action', 'Sports', 'Role-Playing', 'Misc'], autopct='%1.1f%%');\n",
    "axs[1].pie(genre_group_eu['ratio'], labels=['Action', 'Shooter', 'Sports', 'Role-Playing', 'Racing'], autopct='%1.1f%%');\n",
    "axs[2].pie(genre_group_jp['ratio'], labels=['Role-Playing', 'Action', 'Fighting', 'Misc', 'Shooter'], autopct='%1.1f%%');\n",
    "fig.suptitle('ТОП-5 жанров в регионах');\n",
    "axs[0].set_title('NA');\n",
    "axs[1].set_title('EU');\n",
    "axs[2].set_title('JP');"
   ]
  },
  {
   "cell_type": "markdown",
   "metadata": {},
   "source": [
    "Среди наиболее популярных жанров игр в Северной Америке можно выделить: Shooter, Action и Sports. Доли продаж игр этих жанров составляют 32%, 29% и 19% соответственно. Также достаточно популярны Role-Playing и Misc."
   ]
  },
  {
   "cell_type": "markdown",
   "metadata": {},
   "source": [
    "В Европе похожая с Америкой тенденция. Здесь также популярны Action, Shooter и Sports (доли продаж 33%, 29% и 20% соответственно). Также популярность имеют такие жанры, как Role-Playing и Racing."
   ]
  },
  {
   "cell_type": "markdown",
   "metadata": {},
   "source": [
    "В Японии, конечно, предпочтения жанров не похожи на американские и европейские. Можно выделить 2 наиболее популярных жанра - Role-Playing и Action (доля продаж игр в таком жанре составляет 40% и 38% соответственно). Жанры Fighting, Misc и Shooter имеют доли продаж от 8% и менее."
   ]
  },
  {
   "cell_type": "markdown",
   "metadata": {},
   "source": [
    "- Влияет ли рейтинг ESRB на продажи в отдельном регионе?"
   ]
  },
  {
   "cell_type": "code",
   "execution_count": 55,
   "metadata": {},
   "outputs": [],
   "source": [
    "rating_group_na = (data_actual\n",
    "    .groupby('rating')\n",
    "    .agg({'na_sales':'sum'})\n",
    ")\n",
    "rating_group_na.columns=['na_sum']\n",
    "rating_group_na = rating_group_na.sort_values(by='na_sum', ascending=False).head(5)\n",
    "rating_group_na['ratio'] = 100*rating_group_na['na_sum']/(rating_group_na['na_sum'].sum())\n",
    "\n",
    "rating_group_na = np.round(rating_group_na)"
   ]
  },
  {
   "cell_type": "code",
   "execution_count": 56,
   "metadata": {},
   "outputs": [],
   "source": [
    "rating_group_eu = (data_actual\n",
    "    .groupby('rating')\n",
    "    .agg({'eu_sales':'sum'})\n",
    ")\n",
    "rating_group_eu.columns=['eu_sum']\n",
    "rating_group_eu = rating_group_eu.sort_values(by='eu_sum', ascending=False).head(5)\n",
    "rating_group_eu['ratio'] = 100*rating_group_eu['eu_sum']/(rating_group_eu['eu_sum'].sum())\n",
    "\n",
    "rating_group_eu = np.round(rating_group_eu)"
   ]
  },
  {
   "cell_type": "code",
   "execution_count": 57,
   "metadata": {},
   "outputs": [],
   "source": [
    "rating_group_jp = (data_actual\n",
    "    .groupby('rating')\n",
    "    .agg({'jp_sales':'sum'})\n",
    ")\n",
    "rating_group_jp.columns=['jp_sum']\n",
    "rating_group_jp = rating_group_jp.sort_values(by='jp_sum', ascending=False).head(5)\n",
    "rating_group_jp['ratio'] = 100*rating_group_jp['jp_sum']/(rating_group_jp['jp_sum'].sum())\n",
    "\n",
    "rating_group_jp = np.round(rating_group_jp)"
   ]
  },
  {
   "cell_type": "code",
   "execution_count": 58,
   "metadata": {},
   "outputs": [
    {
     "data": {
      "text/html": [
       "<div>\n",
       "<style scoped>\n",
       "    .dataframe tbody tr th:only-of-type {\n",
       "        vertical-align: middle;\n",
       "    }\n",
       "\n",
       "    .dataframe tbody tr th {\n",
       "        vertical-align: top;\n",
       "    }\n",
       "\n",
       "    .dataframe thead th {\n",
       "        text-align: right;\n",
       "    }\n",
       "</style>\n",
       "<table border=\"1\" class=\"dataframe\">\n",
       "  <thead>\n",
       "    <tr style=\"text-align: right;\">\n",
       "      <th></th>\n",
       "      <th>na_sum</th>\n",
       "      <th>ratio</th>\n",
       "    </tr>\n",
       "    <tr>\n",
       "      <th>rating</th>\n",
       "      <th></th>\n",
       "      <th></th>\n",
       "    </tr>\n",
       "  </thead>\n",
       "  <tbody>\n",
       "    <tr>\n",
       "      <th>M</th>\n",
       "      <td>96.0</td>\n",
       "      <td>34.0</td>\n",
       "    </tr>\n",
       "    <tr>\n",
       "      <th>undefined</th>\n",
       "      <td>65.0</td>\n",
       "      <td>23.0</td>\n",
       "    </tr>\n",
       "    <tr>\n",
       "      <th>E</th>\n",
       "      <td>51.0</td>\n",
       "      <td>18.0</td>\n",
       "    </tr>\n",
       "    <tr>\n",
       "      <th>T</th>\n",
       "      <td>39.0</td>\n",
       "      <td>14.0</td>\n",
       "    </tr>\n",
       "    <tr>\n",
       "      <th>E10+</th>\n",
       "      <td>33.0</td>\n",
       "      <td>12.0</td>\n",
       "    </tr>\n",
       "  </tbody>\n",
       "</table>\n",
       "</div>"
      ],
      "text/plain": [
       "           na_sum  ratio\n",
       "rating                  \n",
       "M            96.0   34.0\n",
       "undefined    65.0   23.0\n",
       "E            51.0   18.0\n",
       "T            39.0   14.0\n",
       "E10+         33.0   12.0"
      ]
     },
     "metadata": {},
     "output_type": "display_data"
    },
    {
     "data": {
      "text/html": [
       "<div>\n",
       "<style scoped>\n",
       "    .dataframe tbody tr th:only-of-type {\n",
       "        vertical-align: middle;\n",
       "    }\n",
       "\n",
       "    .dataframe tbody tr th {\n",
       "        vertical-align: top;\n",
       "    }\n",
       "\n",
       "    .dataframe thead th {\n",
       "        text-align: right;\n",
       "    }\n",
       "</style>\n",
       "<table border=\"1\" class=\"dataframe\">\n",
       "  <thead>\n",
       "    <tr style=\"text-align: right;\">\n",
       "      <th></th>\n",
       "      <th>eu_sum</th>\n",
       "      <th>ratio</th>\n",
       "    </tr>\n",
       "    <tr>\n",
       "      <th>rating</th>\n",
       "      <th></th>\n",
       "      <th></th>\n",
       "    </tr>\n",
       "  </thead>\n",
       "  <tbody>\n",
       "    <tr>\n",
       "      <th>M</th>\n",
       "      <td>93.0</td>\n",
       "      <td>35.0</td>\n",
       "    </tr>\n",
       "    <tr>\n",
       "      <th>undefined</th>\n",
       "      <td>59.0</td>\n",
       "      <td>22.0</td>\n",
       "    </tr>\n",
       "    <tr>\n",
       "      <th>E</th>\n",
       "      <td>58.0</td>\n",
       "      <td>21.0</td>\n",
       "    </tr>\n",
       "    <tr>\n",
       "      <th>T</th>\n",
       "      <td>34.0</td>\n",
       "      <td>13.0</td>\n",
       "    </tr>\n",
       "    <tr>\n",
       "      <th>E10+</th>\n",
       "      <td>26.0</td>\n",
       "      <td>10.0</td>\n",
       "    </tr>\n",
       "  </tbody>\n",
       "</table>\n",
       "</div>"
      ],
      "text/plain": [
       "           eu_sum  ratio\n",
       "rating                  \n",
       "M            93.0   35.0\n",
       "undefined    59.0   22.0\n",
       "E            58.0   21.0\n",
       "T            34.0   13.0\n",
       "E10+         26.0   10.0"
      ]
     },
     "metadata": {},
     "output_type": "display_data"
    },
    {
     "data": {
      "text/html": [
       "<div>\n",
       "<style scoped>\n",
       "    .dataframe tbody tr th:only-of-type {\n",
       "        vertical-align: middle;\n",
       "    }\n",
       "\n",
       "    .dataframe tbody tr th {\n",
       "        vertical-align: top;\n",
       "    }\n",
       "\n",
       "    .dataframe thead th {\n",
       "        text-align: right;\n",
       "    }\n",
       "</style>\n",
       "<table border=\"1\" class=\"dataframe\">\n",
       "  <thead>\n",
       "    <tr style=\"text-align: right;\">\n",
       "      <th></th>\n",
       "      <th>jp_sum</th>\n",
       "      <th>ratio</th>\n",
       "    </tr>\n",
       "    <tr>\n",
       "      <th>rating</th>\n",
       "      <th></th>\n",
       "      <th></th>\n",
       "    </tr>\n",
       "  </thead>\n",
       "  <tbody>\n",
       "    <tr>\n",
       "      <th>undefined</th>\n",
       "      <td>57.0</td>\n",
       "      <td>61.0</td>\n",
       "    </tr>\n",
       "    <tr>\n",
       "      <th>T</th>\n",
       "      <td>15.0</td>\n",
       "      <td>16.0</td>\n",
       "    </tr>\n",
       "    <tr>\n",
       "      <th>E</th>\n",
       "      <td>9.0</td>\n",
       "      <td>10.0</td>\n",
       "    </tr>\n",
       "    <tr>\n",
       "      <th>M</th>\n",
       "      <td>8.0</td>\n",
       "      <td>9.0</td>\n",
       "    </tr>\n",
       "    <tr>\n",
       "      <th>E10+</th>\n",
       "      <td>4.0</td>\n",
       "      <td>5.0</td>\n",
       "    </tr>\n",
       "  </tbody>\n",
       "</table>\n",
       "</div>"
      ],
      "text/plain": [
       "           jp_sum  ratio\n",
       "rating                  \n",
       "undefined    57.0   61.0\n",
       "T            15.0   16.0\n",
       "E             9.0   10.0\n",
       "M             8.0    9.0\n",
       "E10+          4.0    5.0"
      ]
     },
     "metadata": {},
     "output_type": "display_data"
    }
   ],
   "source": [
    "display(rating_group_na, rating_group_eu, rating_group_jp)"
   ]
  },
  {
   "cell_type": "code",
   "execution_count": 59,
   "metadata": {},
   "outputs": [
    {
     "data": {
      "image/png": "[encoded data removed]",
      "text/plain": [
       "<Figure size 1080x504 with 3 Axes>"
      ]
     },
     "metadata": {},
     "output_type": "display_data"
    }
   ],
   "source": [
    "fig, axs = plt.subplots(1,3, figsize=(15,7));\n",
    "axs[0].pie(rating_group_na['ratio'], labels=['M', 'undefined', 'E', 'T', 'E10+'], autopct='%1.1f%%');\n",
    "axs[1].pie(rating_group_eu['ratio'], labels=['M', 'undefined', 'E', 'T', 'E10+'], autopct='%1.1f%%');\n",
    "axs[2].pie(rating_group_jp['ratio'], labels=['undefined', 'T', 'E', 'M', 'E10+'], autopct='%1.1f%%');\n",
    "fig.suptitle('ТОП-5 жанров в регионах');\n",
    "axs[0].set_title('NA');\n",
    "axs[1].set_title('EU');\n",
    "axs[2].set_title('JP');"
   ]
  },
  {
   "cell_type": "markdown",
   "metadata": {},
   "source": [
    " На американском рынке наиболее востребованны игры с рейтингом \"M\" («Mature») — «От 17 лет». Проекты с данным рейтингом могут содержать достаточно жестокое насилие, большое количество крови с расчленением, непристойные сексуальные сцены или грубую ненормативную лексику, нежелательную для младшей аудитории.\n",
    "Такие игры имеют 34% продаж от всех игр в регионе. \n",
    "\n",
    "Во вторую категорию попадают игры с не определенным рейтингом, доля продаж таких игр 23%.\n",
    "\n",
    "Третья категория по популярности - игры с рейтингом «E» («Everyone») «Для всех»: Содержание вполне подходит для возрастной категории старше 6 лет; такие игры могут понравиться и взрослым."
   ]
  },
  {
   "cell_type": "markdown",
   "metadata": {},
   "source": [
    "На европейском рынке показатели влияния рейтинга ESRB на продажи почти не отличаются от американских. Игры с рейтингом \"M\" также наиболее популярны."
   ]
  },
  {
   "cell_type": "markdown",
   "metadata": {},
   "source": [
    "Японский рынок имеет свои тенденции. Здесь наиболее популярны игры, рейтинг которых не определен. Возможно, это связано с тем, что для продаж в Японии не обязательно играм присваивать рейтинг ESRB и они используют свой - от организации CERO, наших данных недостаточно,чтобы провести полноценный анализ по данному критерию на рынке Японии.\n",
    "\n",
    "Также попурярны игры категории «T» («Teen») — «Подросткам 13—19 лет». Проекты из данной категории могут содержать насилие, непристойные сцены, грубый юмор, в меру откровенное сексуальное содержимое, кровь или нечастое использование ненормативной лексики. Доля продаж игр с таким рейтингом составляет 15%."
   ]
  },
  {
   "cell_type": "markdown",
   "metadata": {},
   "source": [
    "### Шаг: Проверьте гипотезы ###"
   ]
  },
  {
   "cell_type": "markdown",
   "metadata": {},
   "source": [
    " #### Средние пользовательские рейтинги платформ Xbox One и PC одинаковые;"
   ]
  },
  {
   "cell_type": "markdown",
   "metadata": {},
   "source": [
    "Сформулируем гипотезы:\n",
    "\n",
    "Н(0): rating_XOne == rating_PC    **Средние пользовательские рейтинги платформ Xbox One и PC одинаковые**\n",
    "\n",
    "Н(1): rating_XOne != rating_PC    **Средние пользовательские рейтинги платформ Xbox One и PC отличаются**\n"
   ]
  },
  {
   "cell_type": "markdown",
   "metadata": {},
   "source": [
    "Чтобы понять, можем ли мы для проверки гипотезы применять t-тест, нужно проверить 3 условия:\n",
    "- совокупности не должны зависить друг от друга (у нас они независимы);\n",
    "- выборочные средние должны быть нормально распределены (это мы проверяем на гистограммах ниже);\n",
    "- Дисперсии рассматриваемых совокупностей должны быть равны (т.к. у нас достаточно большие и одинаковые по размеру выборки, к тому же в обеих измерена одна и та же переменная — нет оснований полагать, что разброс будет сильно отличаться)"
   ]
  },
  {
   "cell_type": "code",
   "execution_count": 60,
   "metadata": {},
   "outputs": [],
   "source": [
    "rating_XOne = data_actual.query('platform == \"XOne\"')['user_score'].dropna()\n",
    "rating_PC = data_actual.query('platform == \"PC\"')['user_score'].dropna()"
   ]
  },
  {
   "cell_type": "code",
   "execution_count": 61,
   "metadata": {},
   "outputs": [
    {
     "data": {
      "image/png": "[encoded data removed]",
      "text/plain": [
       "<Figure size 432x288 with 1 Axes>"
      ]
     },
     "metadata": {
      "needs_background": "light"
     },
     "output_type": "display_data"
    }
   ],
   "source": [
    "rating_XOne.hist();"
   ]
  },
  {
   "cell_type": "code",
   "execution_count": 62,
   "metadata": {},
   "outputs": [
    {
     "data": {
      "image/png": "[encoded data removed]",
      "text/plain": [
       "<Figure size 432x288 with 1 Axes>"
      ]
     },
     "metadata": {
      "needs_background": "light"
     },
     "output_type": "display_data"
    }
   ],
   "source": [
    "rating_PC.hist();"
   ]
  },
  {
   "cell_type": "code",
   "execution_count": 63,
   "metadata": {},
   "outputs": [
    {
     "data": {
      "text/plain": [
       "Ttest_indResult(statistic=1.6285882029651313, pvalue=0.10450507919348415)"
      ]
     },
     "metadata": {},
     "output_type": "display_data"
    },
    {
     "name": "stdout",
     "output_type": "stream",
     "text": [
      "p-значение: 0.10450507919348415\n",
      "Не получилось отвергнуть нулевую гипотезу\n"
     ]
    }
   ],
   "source": [
    "alpha = .05 # критический уровень статистической значимости(общепринятое пороговое значение)\n",
    "results = st.ttest_ind(\n",
    "    rating_XOne, \n",
    "    rating_PC)\n",
    "\n",
    "display(results)\n",
    "print('p-значение:', results.pvalue)\n",
    "\n",
    "if results.pvalue < alpha:\n",
    "    print(\"Отвергаем нулевую гипотезу\")\n",
    "else:\n",
    "    print(\"Не получилось отвергнуть нулевую гипотезу\")"
   ]
  },
  {
   "cell_type": "markdown",
   "metadata": {},
   "source": [
    "Значение p-value показывает: вероятность случайно получить такое или большее различие равно 10%. Это слишком большая вероятность, чтобы делать вывод о значимом различии между средними пользовательскими рейтингами.\n",
    "\n",
    "Таким образом, наши данные не противоречат гипотезе:  rating_XOne == rating_PC."
   ]
  },
  {
   "cell_type": "markdown",
   "metadata": {},
   "source": [
    "#### Средние пользовательские рейтинги жанров Action (англ. «действие», экшен-игры) и Sports (англ. «спортивные соревнования») разные."
   ]
  },
  {
   "cell_type": "markdown",
   "metadata": {},
   "source": [
    "Сформулируем гипотезы:\n",
    "\n",
    "Н(0): rating_Action == rating_Sports   **Средние пользовательские рейтинги жанров Action и Sports одинаковые**\n",
    "\n",
    "Н(1): rating_Action != rating_Sports   **Средние пользовательские рейтинги жанров Action и Sports разные**\n"
   ]
  },
  {
   "cell_type": "code",
   "execution_count": 64,
   "metadata": {},
   "outputs": [],
   "source": [
    "rating_Action = data_actual.query('genre == \"Action\"')['user_score'].dropna()\n",
    "rating_Sports = data_actual.query('genre == \"Sports\"')['user_score'].dropna()"
   ]
  },
  {
   "cell_type": "code",
   "execution_count": 65,
   "metadata": {},
   "outputs": [
    {
     "data": {
      "image/png": "[encoded data removed]",
      "text/plain": [
       "<Figure size 432x288 with 1 Axes>"
      ]
     },
     "metadata": {
      "needs_background": "light"
     },
     "output_type": "display_data"
    }
   ],
   "source": [
    "rating_Action.hist();"
   ]
  },
  {
   "cell_type": "code",
   "execution_count": 66,
   "metadata": {},
   "outputs": [
    {
     "data": {
      "image/png": "[encoded data removed]",
      "text/plain": [
       "<Figure size 432x288 with 1 Axes>"
      ]
     },
     "metadata": {
      "needs_background": "light"
     },
     "output_type": "display_data"
    }
   ],
   "source": [
    "rating_Sports.hist();"
   ]
  },
  {
   "cell_type": "code",
   "execution_count": 67,
   "metadata": {},
   "outputs": [
    {
     "data": {
      "text/plain": [
       "Ttest_indResult(statistic=9.425173048948047, pvalue=2.8711147985105864e-19)"
      ]
     },
     "metadata": {},
     "output_type": "display_data"
    },
    {
     "name": "stdout",
     "output_type": "stream",
     "text": [
      "p-значение: 2.8711147985105864e-19\n",
      "Отвергаем нулевую гипотезу\n"
     ]
    }
   ],
   "source": [
    "alpha = .05 # критический уровень статистической значимости(общепринятое пороговое значение)\n",
    "results = st.ttest_ind(\n",
    "    rating_Action, \n",
    "    rating_Sports)\n",
    "\n",
    "display(results)\n",
    "print('p-значение:', results.pvalue)\n",
    "\n",
    "if results.pvalue < alpha:\n",
    "    print(\"Отвергаем нулевую гипотезу\")\n",
    "else:\n",
    "    print(\"Не получилось отвергнуть нулевую гипотезу\")"
   ]
  },
  {
   "cell_type": "markdown",
   "metadata": {},
   "source": [
    "В данном случае средние статистически значимо отличаются друг от друга, вероятность случайно получить такую разницу меньше 5%. Так как наша гипотеза была: rating_Action == rating_Sports, то у нас  есть смысл принять решение об отвержении нулевой гипотезы. Это значит, что средние пользовательские рейтинги жанров Action и Sports разные."
   ]
  },
  {
   "cell_type": "markdown",
   "metadata": {},
   "source": [
    "**Цель исследования** — выявить определяющие успешность игры закономерности. Это позволит сделать ставку на потенциально популярный продукт и спланировать рекламные кампании.\n",
    "\n",
    "\n",
    "Таким образом, в ходе исследования были выявлены следующие зкономерности, определяющие успешность игры:\n",
    "- на данный момент на рынке лидируют 2 платформы: PS4 и XOne. Если смотреть в разрезе регионов, то такое лидерство характерно для Америки и Европы, в Японии же лидирующую позицию занимает платформа 3DS.\n",
    "- самым прибыльным жанром игр являются Shooter, его медианные продажи в 2 раза превышают продажи следующего по популярности жанра компбютерных игр - Sports.\n",
    "- на европейском и американском рынке показатели влияния рейтинга ESRB на продажи почти не отличаются от американских. Игры с рейтингом \"M\" и \"Е\" наиболее популярны. В Японии наиболее популярны игры с рейтингом «T». Но важно учитывать, что не во всех регионах используется именно эта американская система оценки возрастной цензуры. Чтобы иметь полную информацию, в будущем можно порекомендовать рассматривать рейтинги и от других организаций, например европейская PEGI, японская CERO. \n",
    "- линейная связь между продажами игр и отзывами критиков имеется, хоть и не слишком сильная. А вот отзывы пользователей не оказывают влияния на продажи.\n",
    "\n",
    "После проверки гипотез можно сделать вывод, что средние пользовательские рейтинги платформ Xbox One и PC одинаковые, а также средние пользовательские рейтинги жанров Action и Sports разные. Но нужно отметить, что пользовательские рейтинги практически не оказывают влияния на решение о покупке игры.\n",
    "\n",
    "\n"
   ]
  }
 ],
 "metadata": {
  "ExecuteTimeLog": [
   {
    "duration": 494,
    "start_time": "2022-09-21T09:14:01.119Z"
   },
   {
    "duration": 12,
    "start_time": "2022-09-21T09:14:19.676Z"
   },
   {
    "duration": 11,
    "start_time": "2022-09-21T09:50:04.556Z"
   },
   {
    "duration": 440,
    "start_time": "2022-09-21T09:50:53.840Z"
   },
   {
    "duration": 668,
    "start_time": "2022-09-21T09:51:27.364Z"
   },
   {
    "duration": 49,
    "start_time": "2022-09-22T10:43:05.671Z"
   },
   {
    "duration": 661,
    "start_time": "2022-09-22T10:43:14.776Z"
   },
   {
    "duration": 15,
    "start_time": "2022-09-22T10:43:15.439Z"
   },
   {
    "duration": 11,
    "start_time": "2022-09-22T10:43:15.456Z"
   },
   {
    "duration": 477,
    "start_time": "2022-09-22T10:43:15.468Z"
   },
   {
    "duration": 777,
    "start_time": "2022-09-22T10:43:15.947Z"
   },
   {
    "duration": 5,
    "start_time": "2022-09-22T10:45:33.473Z"
   },
   {
    "duration": 78,
    "start_time": "2022-09-22T10:47:04.876Z"
   },
   {
    "duration": 8,
    "start_time": "2022-09-22T10:47:29.146Z"
   },
   {
    "duration": 481,
    "start_time": "2022-09-22T10:47:43.204Z"
   },
   {
    "duration": 15,
    "start_time": "2022-09-22T10:47:43.688Z"
   },
   {
    "duration": 11,
    "start_time": "2022-09-22T10:47:43.706Z"
   },
   {
    "duration": 330,
    "start_time": "2022-09-22T10:47:43.719Z"
   },
   {
    "duration": 787,
    "start_time": "2022-09-22T10:47:44.051Z"
   },
   {
    "duration": 85,
    "start_time": "2022-09-22T10:47:44.839Z"
   },
   {
    "duration": 0,
    "start_time": "2022-09-22T10:47:44.926Z"
   },
   {
    "duration": 8,
    "start_time": "2022-09-22T10:48:04.410Z"
   },
   {
    "duration": 10,
    "start_time": "2022-09-22T10:50:04.222Z"
   },
   {
    "duration": 475,
    "start_time": "2022-09-22T10:50:14.717Z"
   },
   {
    "duration": 15,
    "start_time": "2022-09-22T10:50:15.194Z"
   },
   {
    "duration": 10,
    "start_time": "2022-09-22T10:50:15.210Z"
   },
   {
    "duration": 354,
    "start_time": "2022-09-22T10:50:15.222Z"
   },
   {
    "duration": 875,
    "start_time": "2022-09-22T10:50:15.578Z"
   },
   {
    "duration": 91,
    "start_time": "2022-09-22T10:50:16.455Z"
   },
   {
    "duration": 0,
    "start_time": "2022-09-22T10:50:16.548Z"
   },
   {
    "duration": 541,
    "start_time": "2022-09-22T10:50:34.794Z"
   },
   {
    "duration": 16,
    "start_time": "2022-09-22T10:50:35.338Z"
   },
   {
    "duration": 17,
    "start_time": "2022-09-22T10:50:35.357Z"
   },
   {
    "duration": 326,
    "start_time": "2022-09-22T10:50:35.376Z"
   },
   {
    "duration": 805,
    "start_time": "2022-09-22T10:50:35.704Z"
   },
   {
    "duration": 85,
    "start_time": "2022-09-22T10:50:36.511Z"
   },
   {
    "duration": 0,
    "start_time": "2022-09-22T10:50:36.599Z"
   },
   {
    "duration": 10,
    "start_time": "2022-09-22T10:52:10.960Z"
   },
   {
    "duration": 26,
    "start_time": "2022-09-22T11:00:55.042Z"
   },
   {
    "duration": 23,
    "start_time": "2022-09-22T11:01:13.173Z"
   },
   {
    "duration": 22,
    "start_time": "2022-09-22T11:01:34.573Z"
   },
   {
    "duration": 473,
    "start_time": "2022-09-22T11:01:42.027Z"
   },
   {
    "duration": 14,
    "start_time": "2022-09-22T11:01:42.502Z"
   },
   {
    "duration": 9,
    "start_time": "2022-09-22T11:01:42.518Z"
   },
   {
    "duration": 324,
    "start_time": "2022-09-22T11:01:42.530Z"
   },
   {
    "duration": 825,
    "start_time": "2022-09-22T11:01:42.856Z"
   },
   {
    "duration": 106,
    "start_time": "2022-09-22T11:01:43.683Z"
   },
   {
    "duration": 0,
    "start_time": "2022-09-22T11:01:43.791Z"
   },
   {
    "duration": 4,
    "start_time": "2022-09-22T11:02:04.170Z"
   },
   {
    "duration": 8,
    "start_time": "2022-09-22T11:02:13.730Z"
   },
   {
    "duration": 497,
    "start_time": "2022-09-22T11:02:23.296Z"
   },
   {
    "duration": 16,
    "start_time": "2022-09-22T11:02:23.796Z"
   },
   {
    "duration": 11,
    "start_time": "2022-09-22T11:02:23.813Z"
   },
   {
    "duration": 324,
    "start_time": "2022-09-22T11:02:23.826Z"
   },
   {
    "duration": 826,
    "start_time": "2022-09-22T11:02:24.153Z"
   },
   {
    "duration": 75,
    "start_time": "2022-09-22T11:02:24.981Z"
   },
   {
    "duration": 0,
    "start_time": "2022-09-22T11:02:25.058Z"
   },
   {
    "duration": 493,
    "start_time": "2022-09-22T11:02:44.702Z"
   },
   {
    "duration": 16,
    "start_time": "2022-09-22T11:02:45.197Z"
   },
   {
    "duration": 10,
    "start_time": "2022-09-22T11:02:45.214Z"
   },
   {
    "duration": 336,
    "start_time": "2022-09-22T11:02:45.226Z"
   },
   {
    "duration": 763,
    "start_time": "2022-09-22T11:02:45.564Z"
   },
   {
    "duration": 14,
    "start_time": "2022-09-22T11:02:46.329Z"
   },
   {
    "duration": 8,
    "start_time": "2022-09-22T11:02:46.345Z"
   },
   {
    "duration": 5,
    "start_time": "2022-09-22T11:03:41.198Z"
   },
   {
    "duration": 14,
    "start_time": "2022-09-22T11:03:57.463Z"
   },
   {
    "duration": 3,
    "start_time": "2022-09-22T11:04:36.142Z"
   },
   {
    "duration": 16,
    "start_time": "2022-09-22T11:04:39.125Z"
   },
   {
    "duration": 446,
    "start_time": "2022-09-22T11:04:47.543Z"
   },
   {
    "duration": 15,
    "start_time": "2022-09-22T11:04:47.991Z"
   },
   {
    "duration": 10,
    "start_time": "2022-09-22T11:04:48.007Z"
   },
   {
    "duration": 334,
    "start_time": "2022-09-22T11:04:48.019Z"
   },
   {
    "duration": 799,
    "start_time": "2022-09-22T11:04:48.354Z"
   },
   {
    "duration": 3,
    "start_time": "2022-09-22T11:04:49.155Z"
   },
   {
    "duration": 18,
    "start_time": "2022-09-22T11:04:49.160Z"
   },
   {
    "duration": 13,
    "start_time": "2022-09-22T11:04:49.180Z"
   },
   {
    "duration": 3,
    "start_time": "2022-09-22T11:08:18.762Z"
   },
   {
    "duration": 663,
    "start_time": "2022-09-22T11:08:26.179Z"
   },
   {
    "duration": 9,
    "start_time": "2022-09-22T11:09:20.257Z"
   },
   {
    "duration": 6,
    "start_time": "2022-09-22T11:09:33.280Z"
   },
   {
    "duration": 4,
    "start_time": "2022-09-22T11:11:13.530Z"
   },
   {
    "duration": 17,
    "start_time": "2022-09-22T11:16:42.129Z"
   },
   {
    "duration": 452,
    "start_time": "2022-09-22T11:17:08.140Z"
   },
   {
    "duration": 15,
    "start_time": "2022-09-22T11:17:08.594Z"
   },
   {
    "duration": 11,
    "start_time": "2022-09-22T11:17:08.611Z"
   },
   {
    "duration": 319,
    "start_time": "2022-09-22T11:17:08.623Z"
   },
   {
    "duration": 852,
    "start_time": "2022-09-22T11:17:08.944Z"
   },
   {
    "duration": 4,
    "start_time": "2022-09-22T11:17:09.798Z"
   },
   {
    "duration": 20,
    "start_time": "2022-09-22T11:17:09.803Z"
   },
   {
    "duration": 11,
    "start_time": "2022-09-22T11:17:09.825Z"
   },
   {
    "duration": 15,
    "start_time": "2022-09-22T11:17:09.838Z"
   },
   {
    "duration": 102,
    "start_time": "2022-09-22T11:17:09.855Z"
   },
   {
    "duration": 0,
    "start_time": "2022-09-22T11:17:09.959Z"
   },
   {
    "duration": 8,
    "start_time": "2022-09-22T11:19:18.522Z"
   },
   {
    "duration": 941,
    "start_time": "2022-09-22T11:19:40.403Z"
   },
   {
    "duration": 16,
    "start_time": "2022-09-22T11:21:20.637Z"
   },
   {
    "duration": 25,
    "start_time": "2022-09-22T11:22:00.373Z"
   },
   {
    "duration": 551,
    "start_time": "2022-09-22T11:22:07.060Z"
   },
   {
    "duration": 15,
    "start_time": "2022-09-22T11:22:07.614Z"
   },
   {
    "duration": 25,
    "start_time": "2022-09-22T11:22:07.631Z"
   },
   {
    "duration": 312,
    "start_time": "2022-09-22T11:22:07.658Z"
   },
   {
    "duration": 814,
    "start_time": "2022-09-22T11:22:07.973Z"
   },
   {
    "duration": 3,
    "start_time": "2022-09-22T11:22:08.789Z"
   },
   {
    "duration": 18,
    "start_time": "2022-09-22T11:22:08.794Z"
   },
   {
    "duration": 8,
    "start_time": "2022-09-22T11:22:08.813Z"
   },
   {
    "duration": 12,
    "start_time": "2022-09-22T11:22:08.823Z"
   },
   {
    "duration": 100,
    "start_time": "2022-09-22T11:22:08.837Z"
   },
   {
    "duration": 0,
    "start_time": "2022-09-22T11:22:08.939Z"
   },
   {
    "duration": 644,
    "start_time": "2022-09-22T11:22:23.624Z"
   },
   {
    "duration": 18,
    "start_time": "2022-09-22T11:22:49.361Z"
   },
   {
    "duration": 16,
    "start_time": "2022-09-22T11:22:57.637Z"
   },
   {
    "duration": 16,
    "start_time": "2022-09-22T11:23:01.278Z"
   },
   {
    "duration": 482,
    "start_time": "2022-09-22T11:23:07.128Z"
   },
   {
    "duration": 16,
    "start_time": "2022-09-22T11:23:07.611Z"
   },
   {
    "duration": 9,
    "start_time": "2022-09-22T11:23:07.629Z"
   },
   {
    "duration": 323,
    "start_time": "2022-09-22T11:23:07.640Z"
   },
   {
    "duration": 827,
    "start_time": "2022-09-22T11:23:07.965Z"
   },
   {
    "duration": 3,
    "start_time": "2022-09-22T11:23:08.794Z"
   },
   {
    "duration": 26,
    "start_time": "2022-09-22T11:23:08.799Z"
   },
   {
    "duration": 16,
    "start_time": "2022-09-22T11:23:08.827Z"
   },
   {
    "duration": 21,
    "start_time": "2022-09-22T11:23:08.845Z"
   },
   {
    "duration": 114,
    "start_time": "2022-09-22T11:23:08.868Z"
   },
   {
    "duration": 0,
    "start_time": "2022-09-22T11:23:08.983Z"
   },
   {
    "duration": 521,
    "start_time": "2022-09-22T11:23:24.664Z"
   },
   {
    "duration": 16,
    "start_time": "2022-09-22T11:23:25.187Z"
   },
   {
    "duration": 11,
    "start_time": "2022-09-22T11:23:25.204Z"
   },
   {
    "duration": 333,
    "start_time": "2022-09-22T11:23:25.217Z"
   },
   {
    "duration": 795,
    "start_time": "2022-09-22T11:23:25.553Z"
   },
   {
    "duration": 3,
    "start_time": "2022-09-22T11:23:26.350Z"
   },
   {
    "duration": 21,
    "start_time": "2022-09-22T11:23:26.355Z"
   },
   {
    "duration": 14,
    "start_time": "2022-09-22T11:23:26.378Z"
   },
   {
    "duration": 11,
    "start_time": "2022-09-22T11:23:26.394Z"
   },
   {
    "duration": 739,
    "start_time": "2022-09-22T11:23:26.406Z"
   },
   {
    "duration": 0,
    "start_time": "2022-09-22T11:23:27.146Z"
   },
   {
    "duration": 499,
    "start_time": "2022-09-22T11:23:59.895Z"
   },
   {
    "duration": 15,
    "start_time": "2022-09-22T11:24:00.396Z"
   },
   {
    "duration": 12,
    "start_time": "2022-09-22T11:24:00.413Z"
   },
   {
    "duration": 316,
    "start_time": "2022-09-22T11:24:00.427Z"
   },
   {
    "duration": 820,
    "start_time": "2022-09-22T11:24:00.745Z"
   },
   {
    "duration": 4,
    "start_time": "2022-09-22T11:24:01.567Z"
   },
   {
    "duration": 43,
    "start_time": "2022-09-22T11:24:01.573Z"
   },
   {
    "duration": 39,
    "start_time": "2022-09-22T11:24:01.618Z"
   },
   {
    "duration": 53,
    "start_time": "2022-09-22T11:24:01.658Z"
   },
   {
    "duration": 807,
    "start_time": "2022-09-22T11:24:01.714Z"
   },
   {
    "duration": 0,
    "start_time": "2022-09-22T11:24:02.523Z"
   },
   {
    "duration": 15,
    "start_time": "2022-09-22T11:25:59.969Z"
   },
   {
    "duration": 478,
    "start_time": "2022-09-22T11:26:09.429Z"
   },
   {
    "duration": 17,
    "start_time": "2022-09-22T11:26:09.909Z"
   },
   {
    "duration": 10,
    "start_time": "2022-09-22T11:26:09.928Z"
   },
   {
    "duration": 474,
    "start_time": "2022-09-22T11:26:09.940Z"
   },
   {
    "duration": 834,
    "start_time": "2022-09-22T11:26:10.415Z"
   },
   {
    "duration": 5,
    "start_time": "2022-09-22T11:26:11.251Z"
   },
   {
    "duration": 20,
    "start_time": "2022-09-22T11:26:11.257Z"
   },
   {
    "duration": 7,
    "start_time": "2022-09-22T11:26:11.288Z"
   },
   {
    "duration": 14,
    "start_time": "2022-09-22T11:26:11.296Z"
   },
   {
    "duration": 103,
    "start_time": "2022-09-22T11:26:11.313Z"
   },
   {
    "duration": 0,
    "start_time": "2022-09-22T11:26:11.418Z"
   },
   {
    "duration": 13,
    "start_time": "2022-09-22T11:27:31.730Z"
   },
   {
    "duration": 454,
    "start_time": "2022-09-22T11:27:38.318Z"
   },
   {
    "duration": 13,
    "start_time": "2022-09-22T11:27:38.774Z"
   },
   {
    "duration": 8,
    "start_time": "2022-09-22T11:27:38.788Z"
   },
   {
    "duration": 293,
    "start_time": "2022-09-22T11:27:38.798Z"
   },
   {
    "duration": 772,
    "start_time": "2022-09-22T11:27:39.093Z"
   },
   {
    "duration": 4,
    "start_time": "2022-09-22T11:27:39.867Z"
   },
   {
    "duration": 27,
    "start_time": "2022-09-22T11:27:39.872Z"
   },
   {
    "duration": 7,
    "start_time": "2022-09-22T11:27:39.901Z"
   },
   {
    "duration": 9,
    "start_time": "2022-09-22T11:27:39.910Z"
   },
   {
    "duration": 95,
    "start_time": "2022-09-22T11:27:39.920Z"
   },
   {
    "duration": 0,
    "start_time": "2022-09-22T11:27:40.017Z"
   },
   {
    "duration": 23,
    "start_time": "2022-09-22T11:28:10.722Z"
   },
   {
    "duration": 17,
    "start_time": "2022-09-22T11:28:27.335Z"
   },
   {
    "duration": 18,
    "start_time": "2022-09-22T11:31:14.546Z"
   },
   {
    "duration": 512,
    "start_time": "2022-09-22T11:31:22.576Z"
   },
   {
    "duration": 15,
    "start_time": "2022-09-22T11:31:23.090Z"
   },
   {
    "duration": 11,
    "start_time": "2022-09-22T11:31:23.107Z"
   },
   {
    "duration": 352,
    "start_time": "2022-09-22T11:31:23.120Z"
   },
   {
    "duration": 840,
    "start_time": "2022-09-22T11:31:23.474Z"
   },
   {
    "duration": 4,
    "start_time": "2022-09-22T11:31:24.315Z"
   },
   {
    "duration": 21,
    "start_time": "2022-09-22T11:31:24.321Z"
   },
   {
    "duration": 10,
    "start_time": "2022-09-22T11:31:24.344Z"
   },
   {
    "duration": 9,
    "start_time": "2022-09-22T11:31:24.356Z"
   },
   {
    "duration": 33,
    "start_time": "2022-09-22T11:31:24.367Z"
   },
   {
    "duration": 9,
    "start_time": "2022-09-22T11:31:24.402Z"
   },
   {
    "duration": 83,
    "start_time": "2022-09-22T11:31:38.707Z"
   },
   {
    "duration": 19,
    "start_time": "2022-09-22T11:31:49.684Z"
   },
   {
    "duration": 21,
    "start_time": "2022-09-22T11:32:24.235Z"
   },
   {
    "duration": 6,
    "start_time": "2022-09-22T11:32:34.953Z"
   },
   {
    "duration": 24,
    "start_time": "2022-09-22T11:32:44.056Z"
   },
   {
    "duration": 473,
    "start_time": "2022-09-22T11:32:54.120Z"
   },
   {
    "duration": 16,
    "start_time": "2022-09-22T11:32:54.595Z"
   },
   {
    "duration": 11,
    "start_time": "2022-09-22T11:32:54.612Z"
   },
   {
    "duration": 337,
    "start_time": "2022-09-22T11:32:54.625Z"
   },
   {
    "duration": 851,
    "start_time": "2022-09-22T11:32:54.964Z"
   },
   {
    "duration": 4,
    "start_time": "2022-09-22T11:32:55.817Z"
   },
   {
    "duration": 20,
    "start_time": "2022-09-22T11:32:55.822Z"
   },
   {
    "duration": 6,
    "start_time": "2022-09-22T11:32:55.844Z"
   },
   {
    "duration": 9,
    "start_time": "2022-09-22T11:32:55.852Z"
   },
   {
    "duration": 44,
    "start_time": "2022-09-22T11:32:55.863Z"
   },
   {
    "duration": 6,
    "start_time": "2022-09-22T11:32:55.910Z"
   },
   {
    "duration": 470,
    "start_time": "2022-09-22T11:33:07.432Z"
   },
   {
    "duration": 15,
    "start_time": "2022-09-22T11:33:07.904Z"
   },
   {
    "duration": 15,
    "start_time": "2022-09-22T11:33:07.921Z"
   },
   {
    "duration": 350,
    "start_time": "2022-09-22T11:33:07.939Z"
   },
   {
    "duration": 838,
    "start_time": "2022-09-22T11:33:08.291Z"
   },
   {
    "duration": 4,
    "start_time": "2022-09-22T11:33:09.131Z"
   },
   {
    "duration": 45,
    "start_time": "2022-09-22T11:33:09.136Z"
   },
   {
    "duration": 30,
    "start_time": "2022-09-22T11:33:09.183Z"
   },
   {
    "duration": 25,
    "start_time": "2022-09-22T11:33:09.215Z"
   },
   {
    "duration": 42,
    "start_time": "2022-09-22T11:33:09.242Z"
   },
   {
    "duration": 5,
    "start_time": "2022-09-22T11:33:09.285Z"
   },
   {
    "duration": 522,
    "start_time": "2022-09-22T11:33:19.372Z"
   },
   {
    "duration": 20,
    "start_time": "2022-09-22T11:33:19.896Z"
   },
   {
    "duration": 11,
    "start_time": "2022-09-22T11:33:19.918Z"
   },
   {
    "duration": 333,
    "start_time": "2022-09-22T11:33:19.932Z"
   },
   {
    "duration": 785,
    "start_time": "2022-09-22T11:33:20.267Z"
   },
   {
    "duration": 4,
    "start_time": "2022-09-22T11:33:21.054Z"
   },
   {
    "duration": 26,
    "start_time": "2022-09-22T11:33:21.060Z"
   },
   {
    "duration": 9,
    "start_time": "2022-09-22T11:33:21.089Z"
   },
   {
    "duration": 13,
    "start_time": "2022-09-22T11:33:21.100Z"
   },
   {
    "duration": 22,
    "start_time": "2022-09-22T11:33:21.115Z"
   },
   {
    "duration": 4,
    "start_time": "2022-09-22T11:33:21.139Z"
   },
   {
    "duration": 97,
    "start_time": "2022-09-22T11:33:52.413Z"
   },
   {
    "duration": 487,
    "start_time": "2022-09-22T11:35:47.590Z"
   },
   {
    "duration": 15,
    "start_time": "2022-09-22T11:35:48.079Z"
   },
   {
    "duration": 10,
    "start_time": "2022-09-22T11:35:48.096Z"
   },
   {
    "duration": 362,
    "start_time": "2022-09-22T11:35:48.108Z"
   },
   {
    "duration": 763,
    "start_time": "2022-09-22T11:35:48.471Z"
   },
   {
    "duration": 4,
    "start_time": "2022-09-22T11:35:49.236Z"
   },
   {
    "duration": 47,
    "start_time": "2022-09-22T11:35:49.242Z"
   },
   {
    "duration": 9,
    "start_time": "2022-09-22T11:35:49.290Z"
   },
   {
    "duration": 17,
    "start_time": "2022-09-22T11:35:49.300Z"
   },
   {
    "duration": 64,
    "start_time": "2022-09-22T11:35:49.319Z"
   },
   {
    "duration": 5,
    "start_time": "2022-09-22T11:35:49.385Z"
   },
   {
    "duration": 88,
    "start_time": "2022-09-22T11:38:19.798Z"
   },
   {
    "duration": 493,
    "start_time": "2022-09-22T11:38:37.164Z"
   },
   {
    "duration": 15,
    "start_time": "2022-09-22T11:38:37.658Z"
   },
   {
    "duration": 9,
    "start_time": "2022-09-22T11:38:37.674Z"
   },
   {
    "duration": 299,
    "start_time": "2022-09-22T11:38:37.685Z"
   },
   {
    "duration": 781,
    "start_time": "2022-09-22T11:38:37.986Z"
   },
   {
    "duration": 4,
    "start_time": "2022-09-22T11:38:38.768Z"
   },
   {
    "duration": 27,
    "start_time": "2022-09-22T11:38:38.773Z"
   },
   {
    "duration": 8,
    "start_time": "2022-09-22T11:38:38.802Z"
   },
   {
    "duration": 14,
    "start_time": "2022-09-22T11:38:38.812Z"
   },
   {
    "duration": 35,
    "start_time": "2022-09-22T11:38:38.828Z"
   },
   {
    "duration": 5,
    "start_time": "2022-09-22T11:38:38.865Z"
   },
   {
    "duration": 5,
    "start_time": "2022-09-22T11:38:53.355Z"
   },
   {
    "duration": 15,
    "start_time": "2022-09-22T11:39:23.556Z"
   },
   {
    "duration": 546,
    "start_time": "2022-09-22T11:40:10.868Z"
   },
   {
    "duration": 17,
    "start_time": "2022-09-22T11:40:11.416Z"
   },
   {
    "duration": 19,
    "start_time": "2022-09-22T11:40:11.435Z"
   },
   {
    "duration": 371,
    "start_time": "2022-09-22T11:40:11.456Z"
   },
   {
    "duration": 925,
    "start_time": "2022-09-22T11:40:11.830Z"
   },
   {
    "duration": 3,
    "start_time": "2022-09-22T11:40:12.759Z"
   },
   {
    "duration": 26,
    "start_time": "2022-09-22T11:40:12.764Z"
   },
   {
    "duration": 11,
    "start_time": "2022-09-22T11:40:12.792Z"
   },
   {
    "duration": 11,
    "start_time": "2022-09-22T11:40:12.804Z"
   },
   {
    "duration": 25,
    "start_time": "2022-09-22T11:40:12.817Z"
   },
   {
    "duration": 5,
    "start_time": "2022-09-22T11:40:12.844Z"
   },
   {
    "duration": 482,
    "start_time": "2022-09-22T11:40:33.906Z"
   },
   {
    "duration": 16,
    "start_time": "2022-09-22T11:40:34.390Z"
   },
   {
    "duration": 16,
    "start_time": "2022-09-22T11:40:34.408Z"
   },
   {
    "duration": 327,
    "start_time": "2022-09-22T11:40:34.426Z"
   },
   {
    "duration": 815,
    "start_time": "2022-09-22T11:40:34.756Z"
   },
   {
    "duration": 3,
    "start_time": "2022-09-22T11:40:35.573Z"
   },
   {
    "duration": 20,
    "start_time": "2022-09-22T11:40:35.578Z"
   },
   {
    "duration": 7,
    "start_time": "2022-09-22T11:40:35.600Z"
   },
   {
    "duration": 11,
    "start_time": "2022-09-22T11:40:35.609Z"
   },
   {
    "duration": 1317,
    "start_time": "2022-09-22T11:40:35.621Z"
   },
   {
    "duration": 0,
    "start_time": "2022-09-22T11:40:36.940Z"
   },
   {
    "duration": 451,
    "start_time": "2022-09-22T11:40:56.329Z"
   },
   {
    "duration": 16,
    "start_time": "2022-09-22T11:40:56.781Z"
   },
   {
    "duration": 13,
    "start_time": "2022-09-22T11:40:56.799Z"
   },
   {
    "duration": 310,
    "start_time": "2022-09-22T11:40:56.814Z"
   },
   {
    "duration": 831,
    "start_time": "2022-09-22T11:40:57.126Z"
   },
   {
    "duration": 4,
    "start_time": "2022-09-22T11:40:57.959Z"
   },
   {
    "duration": 50,
    "start_time": "2022-09-22T11:40:57.965Z"
   },
   {
    "duration": 38,
    "start_time": "2022-09-22T11:40:58.016Z"
   },
   {
    "duration": 24,
    "start_time": "2022-09-22T11:40:58.056Z"
   },
   {
    "duration": 40,
    "start_time": "2022-09-22T11:40:58.082Z"
   },
   {
    "duration": 5,
    "start_time": "2022-09-22T11:40:58.124Z"
   },
   {
    "duration": 507,
    "start_time": "2022-09-22T11:41:20.409Z"
   },
   {
    "duration": 14,
    "start_time": "2022-09-22T11:41:20.918Z"
   },
   {
    "duration": 10,
    "start_time": "2022-09-22T11:41:20.934Z"
   },
   {
    "duration": 327,
    "start_time": "2022-09-22T11:41:20.946Z"
   },
   {
    "duration": 879,
    "start_time": "2022-09-22T11:41:21.276Z"
   },
   {
    "duration": 3,
    "start_time": "2022-09-22T11:41:22.157Z"
   },
   {
    "duration": 28,
    "start_time": "2022-09-22T11:41:22.162Z"
   },
   {
    "duration": 8,
    "start_time": "2022-09-22T11:41:22.192Z"
   },
   {
    "duration": 11,
    "start_time": "2022-09-22T11:41:22.202Z"
   },
   {
    "duration": 20,
    "start_time": "2022-09-22T11:41:22.215Z"
   },
   {
    "duration": 4,
    "start_time": "2022-09-22T11:41:22.237Z"
   },
   {
    "duration": 503,
    "start_time": "2022-09-22T11:41:37.496Z"
   },
   {
    "duration": 15,
    "start_time": "2022-09-22T11:41:38.001Z"
   },
   {
    "duration": 10,
    "start_time": "2022-09-22T11:41:38.017Z"
   },
   {
    "duration": 314,
    "start_time": "2022-09-22T11:41:38.028Z"
   },
   {
    "duration": 798,
    "start_time": "2022-09-22T11:41:38.344Z"
   },
   {
    "duration": 4,
    "start_time": "2022-09-22T11:41:39.143Z"
   },
   {
    "duration": 21,
    "start_time": "2022-09-22T11:41:39.149Z"
   },
   {
    "duration": 18,
    "start_time": "2022-09-22T11:41:39.171Z"
   },
   {
    "duration": 8,
    "start_time": "2022-09-22T11:41:39.191Z"
   },
   {
    "duration": 23,
    "start_time": "2022-09-22T11:41:39.200Z"
   },
   {
    "duration": 5,
    "start_time": "2022-09-22T11:41:39.225Z"
   },
   {
    "duration": 11,
    "start_time": "2022-09-22T11:43:50.576Z"
   },
   {
    "duration": 17,
    "start_time": "2022-09-22T11:53:15.418Z"
   },
   {
    "duration": 17,
    "start_time": "2022-09-22T12:09:38.941Z"
   },
   {
    "duration": 8,
    "start_time": "2022-09-22T12:12:18.283Z"
   },
   {
    "duration": 278,
    "start_time": "2022-09-22T12:16:20.948Z"
   },
   {
    "duration": 142,
    "start_time": "2022-09-22T12:16:52.243Z"
   },
   {
    "duration": 171,
    "start_time": "2022-09-22T12:18:04.862Z"
   },
   {
    "duration": 136,
    "start_time": "2022-09-22T12:18:25.512Z"
   },
   {
    "duration": 195,
    "start_time": "2022-09-22T12:18:59.636Z"
   },
   {
    "duration": 9,
    "start_time": "2022-09-22T12:19:22.085Z"
   },
   {
    "duration": 8,
    "start_time": "2022-09-22T12:19:48.849Z"
   },
   {
    "duration": 9,
    "start_time": "2022-09-22T12:20:02.879Z"
   },
   {
    "duration": 8,
    "start_time": "2022-09-22T12:20:19.863Z"
   },
   {
    "duration": 9,
    "start_time": "2022-09-22T12:20:39.590Z"
   },
   {
    "duration": 444,
    "start_time": "2022-09-22T12:20:50.046Z"
   },
   {
    "duration": 21,
    "start_time": "2022-09-22T12:20:50.492Z"
   },
   {
    "duration": 29,
    "start_time": "2022-09-22T12:20:50.515Z"
   },
   {
    "duration": 323,
    "start_time": "2022-09-22T12:20:50.547Z"
   },
   {
    "duration": 808,
    "start_time": "2022-09-22T12:20:50.872Z"
   },
   {
    "duration": 8,
    "start_time": "2022-09-22T12:20:51.682Z"
   },
   {
    "duration": 31,
    "start_time": "2022-09-22T12:20:51.692Z"
   },
   {
    "duration": 17,
    "start_time": "2022-09-22T12:20:51.725Z"
   },
   {
    "duration": 17,
    "start_time": "2022-09-22T12:20:51.744Z"
   },
   {
    "duration": 29,
    "start_time": "2022-09-22T12:20:51.765Z"
   },
   {
    "duration": 7,
    "start_time": "2022-09-22T12:20:51.795Z"
   },
   {
    "duration": 101,
    "start_time": "2022-09-22T12:20:51.804Z"
   },
   {
    "duration": 12,
    "start_time": "2022-09-22T12:20:51.907Z"
   },
   {
    "duration": 30,
    "start_time": "2022-09-22T12:20:51.921Z"
   },
   {
    "duration": 16,
    "start_time": "2022-09-22T12:20:51.953Z"
   },
   {
    "duration": 323,
    "start_time": "2022-09-22T12:20:51.971Z"
   },
   {
    "duration": 216,
    "start_time": "2022-09-22T12:21:10.975Z"
   },
   {
    "duration": 7,
    "start_time": "2022-09-22T12:22:25.013Z"
   },
   {
    "duration": 80,
    "start_time": "2022-09-22T12:23:17.183Z"
   },
   {
    "duration": 10,
    "start_time": "2022-09-22T12:23:21.286Z"
   },
   {
    "duration": 456,
    "start_time": "2022-09-22T12:23:31.839Z"
   },
   {
    "duration": 19,
    "start_time": "2022-09-22T12:23:32.298Z"
   },
   {
    "duration": 13,
    "start_time": "2022-09-22T12:23:32.320Z"
   },
   {
    "duration": 319,
    "start_time": "2022-09-22T12:23:32.335Z"
   },
   {
    "duration": 776,
    "start_time": "2022-09-22T12:23:32.657Z"
   },
   {
    "duration": 4,
    "start_time": "2022-09-22T12:23:33.435Z"
   },
   {
    "duration": 17,
    "start_time": "2022-09-22T12:23:33.440Z"
   },
   {
    "duration": 7,
    "start_time": "2022-09-22T12:23:33.459Z"
   },
   {
    "duration": 23,
    "start_time": "2022-09-22T12:23:33.468Z"
   },
   {
    "duration": 20,
    "start_time": "2022-09-22T12:23:33.493Z"
   },
   {
    "duration": 5,
    "start_time": "2022-09-22T12:23:33.515Z"
   },
   {
    "duration": 98,
    "start_time": "2022-09-22T12:23:33.522Z"
   },
   {
    "duration": 11,
    "start_time": "2022-09-22T12:23:33.622Z"
   },
   {
    "duration": 18,
    "start_time": "2022-09-22T12:23:33.636Z"
   },
   {
    "duration": 92,
    "start_time": "2022-09-22T12:23:33.656Z"
   },
   {
    "duration": 0,
    "start_time": "2022-09-22T12:23:33.750Z"
   },
   {
    "duration": 8,
    "start_time": "2022-09-22T12:23:40.598Z"
   },
   {
    "duration": 520,
    "start_time": "2022-09-22T12:23:49.867Z"
   },
   {
    "duration": 15,
    "start_time": "2022-09-22T12:23:50.389Z"
   },
   {
    "duration": 13,
    "start_time": "2022-09-22T12:23:50.406Z"
   },
   {
    "duration": 300,
    "start_time": "2022-09-22T12:23:50.421Z"
   },
   {
    "duration": 770,
    "start_time": "2022-09-22T12:23:50.723Z"
   },
   {
    "duration": 4,
    "start_time": "2022-09-22T12:23:51.495Z"
   },
   {
    "duration": 31,
    "start_time": "2022-09-22T12:23:51.500Z"
   },
   {
    "duration": 18,
    "start_time": "2022-09-22T12:23:51.533Z"
   },
   {
    "duration": 13,
    "start_time": "2022-09-22T12:23:51.553Z"
   },
   {
    "duration": 31,
    "start_time": "2022-09-22T12:23:51.568Z"
   },
   {
    "duration": 5,
    "start_time": "2022-09-22T12:23:51.601Z"
   },
   {
    "duration": 87,
    "start_time": "2022-09-22T12:23:51.608Z"
   },
   {
    "duration": 10,
    "start_time": "2022-09-22T12:23:51.697Z"
   },
   {
    "duration": 16,
    "start_time": "2022-09-22T12:23:51.710Z"
   },
   {
    "duration": 9,
    "start_time": "2022-09-22T12:23:51.728Z"
   },
   {
    "duration": 380,
    "start_time": "2022-09-22T12:23:51.739Z"
   },
   {
    "duration": 9,
    "start_time": "2022-09-22T12:28:57.210Z"
   },
   {
    "duration": 8,
    "start_time": "2022-09-22T12:29:14.794Z"
   },
   {
    "duration": 10,
    "start_time": "2022-09-22T12:30:05.393Z"
   },
   {
    "duration": 10,
    "start_time": "2022-09-22T12:30:28.205Z"
   },
   {
    "duration": 136,
    "start_time": "2022-09-22T12:38:56.737Z"
   },
   {
    "duration": 4,
    "start_time": "2022-09-22T12:44:00.918Z"
   },
   {
    "duration": 502,
    "start_time": "2022-09-22T12:44:12.920Z"
   },
   {
    "duration": 14,
    "start_time": "2022-09-22T12:44:13.425Z"
   },
   {
    "duration": 21,
    "start_time": "2022-09-22T12:44:13.441Z"
   },
   {
    "duration": 340,
    "start_time": "2022-09-22T12:44:13.464Z"
   },
   {
    "duration": 795,
    "start_time": "2022-09-22T12:44:13.806Z"
   },
   {
    "duration": 3,
    "start_time": "2022-09-22T12:44:14.603Z"
   },
   {
    "duration": 24,
    "start_time": "2022-09-22T12:44:14.608Z"
   },
   {
    "duration": 12,
    "start_time": "2022-09-22T12:44:14.634Z"
   },
   {
    "duration": 11,
    "start_time": "2022-09-22T12:44:14.648Z"
   },
   {
    "duration": 41,
    "start_time": "2022-09-22T12:44:14.661Z"
   },
   {
    "duration": 5,
    "start_time": "2022-09-22T12:44:14.703Z"
   },
   {
    "duration": 103,
    "start_time": "2022-09-22T12:44:14.710Z"
   },
   {
    "duration": 10,
    "start_time": "2022-09-22T12:44:14.814Z"
   },
   {
    "duration": 18,
    "start_time": "2022-09-22T12:44:14.826Z"
   },
   {
    "duration": 25,
    "start_time": "2022-09-22T12:44:14.846Z"
   },
   {
    "duration": 311,
    "start_time": "2022-09-22T12:44:14.873Z"
   },
   {
    "duration": 5,
    "start_time": "2022-09-22T12:44:15.189Z"
   },
   {
    "duration": 157,
    "start_time": "2022-09-22T12:44:15.196Z"
   },
   {
    "duration": 135,
    "start_time": "2022-09-22T12:45:31.029Z"
   },
   {
    "duration": 161,
    "start_time": "2022-09-22T12:45:53.434Z"
   },
   {
    "duration": 385,
    "start_time": "2022-09-22T12:49:04.348Z"
   },
   {
    "duration": 150,
    "start_time": "2022-09-22T12:49:21.860Z"
   },
   {
    "duration": 120,
    "start_time": "2022-09-22T12:49:37.603Z"
   },
   {
    "duration": 9,
    "start_time": "2022-09-22T12:49:59.633Z"
   },
   {
    "duration": 8,
    "start_time": "2022-09-22T12:50:10.033Z"
   },
   {
    "duration": 74,
    "start_time": "2022-09-22T12:50:57.896Z"
   },
   {
    "duration": 126,
    "start_time": "2022-09-22T12:51:09.404Z"
   },
   {
    "duration": 140,
    "start_time": "2022-09-22T12:53:12.971Z"
   },
   {
    "duration": 58,
    "start_time": "2022-09-23T20:49:41.067Z"
   },
   {
    "duration": 6,
    "start_time": "2022-09-23T20:49:56.162Z"
   },
   {
    "duration": 550,
    "start_time": "2022-09-23T20:51:00.260Z"
   },
   {
    "duration": 13,
    "start_time": "2022-09-23T20:51:00.811Z"
   },
   {
    "duration": 9,
    "start_time": "2022-09-23T20:51:00.825Z"
   },
   {
    "duration": 464,
    "start_time": "2022-09-23T20:51:00.835Z"
   },
   {
    "duration": 727,
    "start_time": "2022-09-23T20:51:01.302Z"
   },
   {
    "duration": 4,
    "start_time": "2022-09-23T20:51:02.032Z"
   },
   {
    "duration": 23,
    "start_time": "2022-09-23T20:51:02.038Z"
   },
   {
    "duration": 7,
    "start_time": "2022-09-23T20:51:02.063Z"
   },
   {
    "duration": 29,
    "start_time": "2022-09-23T20:51:02.071Z"
   },
   {
    "duration": 84,
    "start_time": "2022-09-23T20:51:02.102Z"
   },
   {
    "duration": 0,
    "start_time": "2022-09-23T20:51:02.188Z"
   },
   {
    "duration": 0,
    "start_time": "2022-09-23T20:51:02.189Z"
   },
   {
    "duration": 0,
    "start_time": "2022-09-23T20:51:02.200Z"
   },
   {
    "duration": 0,
    "start_time": "2022-09-23T20:51:02.202Z"
   },
   {
    "duration": 0,
    "start_time": "2022-09-23T20:51:02.203Z"
   },
   {
    "duration": 0,
    "start_time": "2022-09-23T20:51:02.272Z"
   },
   {
    "duration": 0,
    "start_time": "2022-09-23T20:51:02.273Z"
   },
   {
    "duration": 0,
    "start_time": "2022-09-23T20:51:02.274Z"
   },
   {
    "duration": 0,
    "start_time": "2022-09-23T20:51:02.275Z"
   },
   {
    "duration": 437,
    "start_time": "2022-09-23T20:51:45.407Z"
   },
   {
    "duration": 13,
    "start_time": "2022-09-23T20:51:45.846Z"
   },
   {
    "duration": 11,
    "start_time": "2022-09-23T20:51:45.860Z"
   },
   {
    "duration": 308,
    "start_time": "2022-09-23T20:51:45.873Z"
   },
   {
    "duration": 699,
    "start_time": "2022-09-23T20:51:46.182Z"
   },
   {
    "duration": 3,
    "start_time": "2022-09-23T20:51:46.883Z"
   },
   {
    "duration": 21,
    "start_time": "2022-09-23T20:51:46.888Z"
   },
   {
    "duration": 6,
    "start_time": "2022-09-23T20:51:46.911Z"
   },
   {
    "duration": 10,
    "start_time": "2022-09-23T20:51:46.919Z"
   },
   {
    "duration": 84,
    "start_time": "2022-09-23T20:51:46.931Z"
   },
   {
    "duration": 0,
    "start_time": "2022-09-23T20:51:47.017Z"
   },
   {
    "duration": 0,
    "start_time": "2022-09-23T20:51:47.018Z"
   },
   {
    "duration": 0,
    "start_time": "2022-09-23T20:51:47.020Z"
   },
   {
    "duration": 0,
    "start_time": "2022-09-23T20:51:47.021Z"
   },
   {
    "duration": 0,
    "start_time": "2022-09-23T20:51:47.022Z"
   },
   {
    "duration": 0,
    "start_time": "2022-09-23T20:51:47.077Z"
   },
   {
    "duration": 0,
    "start_time": "2022-09-23T20:51:47.079Z"
   },
   {
    "duration": 0,
    "start_time": "2022-09-23T20:51:47.080Z"
   },
   {
    "duration": 0,
    "start_time": "2022-09-23T20:51:47.100Z"
   },
   {
    "duration": 441,
    "start_time": "2022-09-23T20:52:01.143Z"
   },
   {
    "duration": 14,
    "start_time": "2022-09-23T20:52:01.586Z"
   },
   {
    "duration": 16,
    "start_time": "2022-09-23T20:52:01.602Z"
   },
   {
    "duration": 268,
    "start_time": "2022-09-23T20:52:01.620Z"
   },
   {
    "duration": 720,
    "start_time": "2022-09-23T20:52:01.891Z"
   },
   {
    "duration": 3,
    "start_time": "2022-09-23T20:52:02.613Z"
   },
   {
    "duration": 18,
    "start_time": "2022-09-23T20:52:02.617Z"
   },
   {
    "duration": 9,
    "start_time": "2022-09-23T20:52:02.637Z"
   },
   {
    "duration": 15,
    "start_time": "2022-09-23T20:52:02.648Z"
   },
   {
    "duration": 19,
    "start_time": "2022-09-23T20:52:02.665Z"
   },
   {
    "duration": 5,
    "start_time": "2022-09-23T20:52:02.699Z"
   },
   {
    "duration": 77,
    "start_time": "2022-09-23T20:52:02.706Z"
   },
   {
    "duration": 18,
    "start_time": "2022-09-23T20:52:02.785Z"
   },
   {
    "duration": 15,
    "start_time": "2022-09-23T20:52:02.805Z"
   },
   {
    "duration": 13,
    "start_time": "2022-09-23T20:52:02.822Z"
   },
   {
    "duration": 179,
    "start_time": "2022-09-23T20:52:02.836Z"
   },
   {
    "duration": 113,
    "start_time": "2022-09-23T20:52:03.017Z"
   },
   {
    "duration": 7,
    "start_time": "2022-09-23T20:52:03.132Z"
   },
   {
    "duration": 155,
    "start_time": "2022-09-23T20:52:03.142Z"
   },
   {
    "duration": 17,
    "start_time": "2022-09-23T20:54:16.385Z"
   },
   {
    "duration": 5,
    "start_time": "2022-09-23T20:54:27.912Z"
   },
   {
    "duration": 15,
    "start_time": "2022-09-23T20:56:39.002Z"
   },
   {
    "duration": 7,
    "start_time": "2022-09-23T20:57:24.746Z"
   },
   {
    "duration": 93,
    "start_time": "2022-09-23T20:58:02.991Z"
   },
   {
    "duration": 10,
    "start_time": "2022-09-23T20:58:34.119Z"
   },
   {
    "duration": 401,
    "start_time": "2022-09-23T20:58:51.256Z"
   },
   {
    "duration": 14,
    "start_time": "2022-09-23T20:58:51.659Z"
   },
   {
    "duration": 7,
    "start_time": "2022-09-23T20:58:51.675Z"
   },
   {
    "duration": 259,
    "start_time": "2022-09-23T20:58:51.684Z"
   },
   {
    "duration": 732,
    "start_time": "2022-09-23T20:58:51.945Z"
   },
   {
    "duration": 3,
    "start_time": "2022-09-23T20:58:52.679Z"
   },
   {
    "duration": 22,
    "start_time": "2022-09-23T20:58:52.683Z"
   },
   {
    "duration": 8,
    "start_time": "2022-09-23T20:58:52.707Z"
   },
   {
    "duration": 9,
    "start_time": "2022-09-23T20:58:52.716Z"
   },
   {
    "duration": 20,
    "start_time": "2022-09-23T20:58:52.726Z"
   },
   {
    "duration": 4,
    "start_time": "2022-09-23T20:58:52.748Z"
   },
   {
    "duration": 90,
    "start_time": "2022-09-23T20:58:52.754Z"
   },
   {
    "duration": 9,
    "start_time": "2022-09-23T20:58:52.845Z"
   },
   {
    "duration": 15,
    "start_time": "2022-09-23T20:58:52.856Z"
   },
   {
    "duration": 83,
    "start_time": "2022-09-23T20:58:52.873Z"
   },
   {
    "duration": 0,
    "start_time": "2022-09-23T20:58:52.958Z"
   },
   {
    "duration": 0,
    "start_time": "2022-09-23T20:58:52.959Z"
   },
   {
    "duration": 0,
    "start_time": "2022-09-23T20:58:52.959Z"
   },
   {
    "duration": 0,
    "start_time": "2022-09-23T20:58:52.960Z"
   },
   {
    "duration": 10,
    "start_time": "2022-09-23T20:59:42.121Z"
   },
   {
    "duration": 395,
    "start_time": "2022-09-23T21:00:26.359Z"
   },
   {
    "duration": 12,
    "start_time": "2022-09-23T21:00:26.756Z"
   },
   {
    "duration": 27,
    "start_time": "2022-09-23T21:00:26.770Z"
   },
   {
    "duration": 289,
    "start_time": "2022-09-23T21:00:26.798Z"
   },
   {
    "duration": 745,
    "start_time": "2022-09-23T21:00:27.089Z"
   },
   {
    "duration": 3,
    "start_time": "2022-09-23T21:00:27.835Z"
   },
   {
    "duration": 20,
    "start_time": "2022-09-23T21:00:27.840Z"
   },
   {
    "duration": 8,
    "start_time": "2022-09-23T21:00:27.862Z"
   },
   {
    "duration": 14,
    "start_time": "2022-09-23T21:00:27.871Z"
   },
   {
    "duration": 24,
    "start_time": "2022-09-23T21:00:27.887Z"
   },
   {
    "duration": 5,
    "start_time": "2022-09-23T21:00:27.912Z"
   },
   {
    "duration": 86,
    "start_time": "2022-09-23T21:00:27.919Z"
   },
   {
    "duration": 8,
    "start_time": "2022-09-23T21:00:28.007Z"
   },
   {
    "duration": 43,
    "start_time": "2022-09-23T21:00:28.017Z"
   },
   {
    "duration": 89,
    "start_time": "2022-09-23T21:00:28.062Z"
   },
   {
    "duration": 0,
    "start_time": "2022-09-23T21:00:28.153Z"
   },
   {
    "duration": 0,
    "start_time": "2022-09-23T21:00:28.154Z"
   },
   {
    "duration": 0,
    "start_time": "2022-09-23T21:00:28.155Z"
   },
   {
    "duration": 0,
    "start_time": "2022-09-23T21:00:28.156Z"
   },
   {
    "duration": 435,
    "start_time": "2022-09-23T21:00:43.322Z"
   },
   {
    "duration": 13,
    "start_time": "2022-09-23T21:00:43.759Z"
   },
   {
    "duration": 8,
    "start_time": "2022-09-23T21:00:43.773Z"
   },
   {
    "duration": 327,
    "start_time": "2022-09-23T21:00:43.783Z"
   },
   {
    "duration": 805,
    "start_time": "2022-09-23T21:00:44.112Z"
   },
   {
    "duration": 3,
    "start_time": "2022-09-23T21:00:44.919Z"
   },
   {
    "duration": 104,
    "start_time": "2022-09-23T21:00:44.923Z"
   },
   {
    "duration": 17,
    "start_time": "2022-09-23T21:00:45.029Z"
   },
   {
    "duration": 11,
    "start_time": "2022-09-23T21:00:45.048Z"
   },
   {
    "duration": 38,
    "start_time": "2022-09-23T21:00:45.061Z"
   },
   {
    "duration": 4,
    "start_time": "2022-09-23T21:00:45.101Z"
   },
   {
    "duration": 74,
    "start_time": "2022-09-23T21:00:45.106Z"
   },
   {
    "duration": 20,
    "start_time": "2022-09-23T21:00:45.181Z"
   },
   {
    "duration": 16,
    "start_time": "2022-09-23T21:00:45.203Z"
   },
   {
    "duration": 3,
    "start_time": "2022-09-23T21:00:45.220Z"
   },
   {
    "duration": 188,
    "start_time": "2022-09-23T21:00:45.224Z"
   },
   {
    "duration": 121,
    "start_time": "2022-09-23T21:00:45.414Z"
   },
   {
    "duration": 8,
    "start_time": "2022-09-23T21:00:45.536Z"
   },
   {
    "duration": 155,
    "start_time": "2022-09-23T21:00:45.545Z"
   },
   {
    "duration": 6,
    "start_time": "2022-09-23T21:03:20.621Z"
   },
   {
    "duration": 7,
    "start_time": "2022-09-23T21:03:36.987Z"
   },
   {
    "duration": 5,
    "start_time": "2022-09-23T21:04:15.314Z"
   },
   {
    "duration": 4,
    "start_time": "2022-09-23T21:04:39.617Z"
   },
   {
    "duration": 156,
    "start_time": "2022-09-23T21:05:05.832Z"
   },
   {
    "duration": 184,
    "start_time": "2022-09-23T21:05:11.590Z"
   },
   {
    "duration": 72,
    "start_time": "2022-09-23T21:19:38.299Z"
   },
   {
    "duration": 9,
    "start_time": "2022-09-23T21:20:10.536Z"
   },
   {
    "duration": 6,
    "start_time": "2022-09-23T21:20:53.750Z"
   },
   {
    "duration": 7,
    "start_time": "2022-09-23T21:28:19.600Z"
   },
   {
    "duration": 18,
    "start_time": "2022-09-23T21:28:41.175Z"
   },
   {
    "duration": 19,
    "start_time": "2022-09-23T21:29:11.238Z"
   },
   {
    "duration": 398,
    "start_time": "2022-09-23T21:29:22.351Z"
   },
   {
    "duration": 12,
    "start_time": "2022-09-23T21:29:22.751Z"
   },
   {
    "duration": 8,
    "start_time": "2022-09-23T21:29:22.764Z"
   },
   {
    "duration": 262,
    "start_time": "2022-09-23T21:29:22.773Z"
   },
   {
    "duration": 700,
    "start_time": "2022-09-23T21:29:23.037Z"
   },
   {
    "duration": 3,
    "start_time": "2022-09-23T21:29:23.739Z"
   },
   {
    "duration": 18,
    "start_time": "2022-09-23T21:29:23.743Z"
   },
   {
    "duration": 6,
    "start_time": "2022-09-23T21:29:23.763Z"
   },
   {
    "duration": 9,
    "start_time": "2022-09-23T21:29:23.770Z"
   },
   {
    "duration": 30,
    "start_time": "2022-09-23T21:29:23.780Z"
   },
   {
    "duration": 4,
    "start_time": "2022-09-23T21:29:23.811Z"
   },
   {
    "duration": 66,
    "start_time": "2022-09-23T21:29:23.817Z"
   },
   {
    "duration": 17,
    "start_time": "2022-09-23T21:29:23.884Z"
   },
   {
    "duration": 14,
    "start_time": "2022-09-23T21:29:23.903Z"
   },
   {
    "duration": 4,
    "start_time": "2022-09-23T21:29:23.919Z"
   },
   {
    "duration": 176,
    "start_time": "2022-09-23T21:29:23.924Z"
   },
   {
    "duration": 7,
    "start_time": "2022-09-23T21:29:24.102Z"
   },
   {
    "duration": 19,
    "start_time": "2022-09-23T21:29:24.110Z"
   },
   {
    "duration": 141,
    "start_time": "2022-09-23T21:29:24.131Z"
   },
   {
    "duration": 8,
    "start_time": "2022-09-23T21:29:24.273Z"
   },
   {
    "duration": 173,
    "start_time": "2022-09-23T21:29:24.283Z"
   },
   {
    "duration": 115,
    "start_time": "2022-09-23T21:30:22.802Z"
   },
   {
    "duration": 118,
    "start_time": "2022-09-23T21:30:34.009Z"
   },
   {
    "duration": 111,
    "start_time": "2022-09-23T21:33:28.274Z"
   },
   {
    "duration": 12,
    "start_time": "2022-09-23T21:33:37.716Z"
   },
   {
    "duration": 26,
    "start_time": "2022-09-23T21:34:25.881Z"
   },
   {
    "duration": 25,
    "start_time": "2022-09-23T21:34:40.529Z"
   },
   {
    "duration": 429,
    "start_time": "2022-09-23T21:35:05.739Z"
   },
   {
    "duration": 13,
    "start_time": "2022-09-23T21:35:06.170Z"
   },
   {
    "duration": 10,
    "start_time": "2022-09-23T21:35:06.185Z"
   },
   {
    "duration": 268,
    "start_time": "2022-09-23T21:35:06.196Z"
   },
   {
    "duration": 687,
    "start_time": "2022-09-23T21:35:06.466Z"
   },
   {
    "duration": 3,
    "start_time": "2022-09-23T21:35:07.155Z"
   },
   {
    "duration": 18,
    "start_time": "2022-09-23T21:35:07.159Z"
   },
   {
    "duration": 8,
    "start_time": "2022-09-23T21:35:07.178Z"
   },
   {
    "duration": 19,
    "start_time": "2022-09-23T21:35:07.187Z"
   },
   {
    "duration": 20,
    "start_time": "2022-09-23T21:35:07.208Z"
   },
   {
    "duration": 4,
    "start_time": "2022-09-23T21:35:07.230Z"
   },
   {
    "duration": 81,
    "start_time": "2022-09-23T21:35:07.235Z"
   },
   {
    "duration": 7,
    "start_time": "2022-09-23T21:35:07.318Z"
   },
   {
    "duration": 16,
    "start_time": "2022-09-23T21:35:07.327Z"
   },
   {
    "duration": 5,
    "start_time": "2022-09-23T21:35:07.344Z"
   },
   {
    "duration": 183,
    "start_time": "2022-09-23T21:35:07.351Z"
   },
   {
    "duration": 6,
    "start_time": "2022-09-23T21:35:07.536Z"
   },
   {
    "duration": 22,
    "start_time": "2022-09-23T21:35:07.543Z"
   },
   {
    "duration": 126,
    "start_time": "2022-09-23T21:35:07.566Z"
   },
   {
    "duration": 8,
    "start_time": "2022-09-23T21:35:07.700Z"
   },
   {
    "duration": 152,
    "start_time": "2022-09-23T21:35:07.709Z"
   },
   {
    "duration": 99,
    "start_time": "2022-09-23T21:37:04.283Z"
   },
   {
    "duration": 8,
    "start_time": "2022-09-23T21:37:36.848Z"
   },
   {
    "duration": 632,
    "start_time": "2022-09-23T21:39:20.820Z"
   },
   {
    "duration": 14,
    "start_time": "2022-09-23T21:39:21.454Z"
   },
   {
    "duration": 7,
    "start_time": "2022-09-23T21:39:21.472Z"
   },
   {
    "duration": 53,
    "start_time": "2022-09-23T21:39:21.481Z"
   },
   {
    "duration": 652,
    "start_time": "2022-09-23T21:39:21.535Z"
   },
   {
    "duration": 3,
    "start_time": "2022-09-23T21:39:22.189Z"
   },
   {
    "duration": 18,
    "start_time": "2022-09-23T21:39:22.193Z"
   },
   {
    "duration": 10,
    "start_time": "2022-09-23T21:39:22.213Z"
   },
   {
    "duration": 8,
    "start_time": "2022-09-23T21:39:22.224Z"
   },
   {
    "duration": 16,
    "start_time": "2022-09-23T21:39:22.234Z"
   },
   {
    "duration": 4,
    "start_time": "2022-09-23T21:39:22.251Z"
   },
   {
    "duration": 83,
    "start_time": "2022-09-23T21:39:22.256Z"
   },
   {
    "duration": 7,
    "start_time": "2022-09-23T21:39:22.341Z"
   },
   {
    "duration": 14,
    "start_time": "2022-09-23T21:39:22.349Z"
   },
   {
    "duration": 4,
    "start_time": "2022-09-23T21:39:22.365Z"
   },
   {
    "duration": 180,
    "start_time": "2022-09-23T21:39:22.370Z"
   },
   {
    "duration": 114,
    "start_time": "2022-09-23T21:39:22.551Z"
   },
   {
    "duration": 8,
    "start_time": "2022-09-23T21:39:22.667Z"
   },
   {
    "duration": 170,
    "start_time": "2022-09-23T21:39:22.676Z"
   },
   {
    "duration": 7,
    "start_time": "2022-09-23T21:41:12.374Z"
   },
   {
    "duration": 10,
    "start_time": "2022-09-23T21:42:52.267Z"
   },
   {
    "duration": 101,
    "start_time": "2022-09-23T21:46:49.711Z"
   },
   {
    "duration": 67,
    "start_time": "2022-09-23T21:47:58.860Z"
   },
   {
    "duration": 650,
    "start_time": "2022-09-23T21:48:21.389Z"
   },
   {
    "duration": 14,
    "start_time": "2022-09-23T21:48:22.041Z"
   },
   {
    "duration": 20,
    "start_time": "2022-09-23T21:48:22.056Z"
   },
   {
    "duration": 63,
    "start_time": "2022-09-23T21:48:22.078Z"
   },
   {
    "duration": 685,
    "start_time": "2022-09-23T21:48:22.143Z"
   },
   {
    "duration": 3,
    "start_time": "2022-09-23T21:48:22.830Z"
   },
   {
    "duration": 36,
    "start_time": "2022-09-23T21:48:22.835Z"
   },
   {
    "duration": 28,
    "start_time": "2022-09-23T21:48:22.872Z"
   },
   {
    "duration": 33,
    "start_time": "2022-09-23T21:48:22.902Z"
   },
   {
    "duration": 28,
    "start_time": "2022-09-23T21:48:22.937Z"
   },
   {
    "duration": 19,
    "start_time": "2022-09-23T21:48:22.967Z"
   },
   {
    "duration": 84,
    "start_time": "2022-09-23T21:48:22.988Z"
   },
   {
    "duration": 9,
    "start_time": "2022-09-23T21:48:23.073Z"
   },
   {
    "duration": 50,
    "start_time": "2022-09-23T21:48:23.085Z"
   },
   {
    "duration": 7,
    "start_time": "2022-09-23T21:48:23.136Z"
   },
   {
    "duration": 186,
    "start_time": "2022-09-23T21:48:23.145Z"
   },
   {
    "duration": 110,
    "start_time": "2022-09-23T21:48:23.333Z"
   },
   {
    "duration": 11,
    "start_time": "2022-09-23T21:48:23.444Z"
   },
   {
    "duration": 55,
    "start_time": "2022-09-23T21:48:23.457Z"
   },
   {
    "duration": 90,
    "start_time": "2022-09-23T21:48:49.376Z"
   },
   {
    "duration": 437,
    "start_time": "2022-09-23T21:49:20.862Z"
   },
   {
    "duration": 325,
    "start_time": "2022-09-23T21:50:04.006Z"
   },
   {
    "duration": 341,
    "start_time": "2022-09-23T21:50:47.028Z"
   },
   {
    "duration": 26,
    "start_time": "2022-09-23T21:51:08.564Z"
   },
   {
    "duration": 24,
    "start_time": "2022-09-23T21:52:05.336Z"
   },
   {
    "duration": 153,
    "start_time": "2022-09-23T21:52:19.082Z"
   },
   {
    "duration": 121,
    "start_time": "2022-09-23T21:52:25.516Z"
   },
   {
    "duration": 141,
    "start_time": "2022-09-23T21:52:49.430Z"
   },
   {
    "duration": 209,
    "start_time": "2022-09-23T21:53:23.444Z"
   },
   {
    "duration": 127,
    "start_time": "2022-09-23T21:53:37.467Z"
   },
   {
    "duration": 140,
    "start_time": "2022-09-23T21:53:55.520Z"
   },
   {
    "duration": 134,
    "start_time": "2022-09-23T21:54:36.671Z"
   },
   {
    "duration": 131,
    "start_time": "2022-09-23T21:54:47.048Z"
   },
   {
    "duration": 623,
    "start_time": "2022-09-23T21:57:50.842Z"
   },
   {
    "duration": 12,
    "start_time": "2022-09-23T21:57:51.467Z"
   },
   {
    "duration": 8,
    "start_time": "2022-09-23T21:57:51.481Z"
   },
   {
    "duration": 47,
    "start_time": "2022-09-23T21:57:51.490Z"
   },
   {
    "duration": 662,
    "start_time": "2022-09-23T21:57:51.538Z"
   },
   {
    "duration": 4,
    "start_time": "2022-09-23T21:57:52.202Z"
   },
   {
    "duration": 14,
    "start_time": "2022-09-23T21:57:52.208Z"
   },
   {
    "duration": 8,
    "start_time": "2022-09-23T21:57:52.224Z"
   },
   {
    "duration": 12,
    "start_time": "2022-09-23T21:57:52.234Z"
   },
   {
    "duration": 15,
    "start_time": "2022-09-23T21:57:52.248Z"
   },
   {
    "duration": 4,
    "start_time": "2022-09-23T21:57:52.265Z"
   },
   {
    "duration": 94,
    "start_time": "2022-09-23T21:57:52.270Z"
   },
   {
    "duration": 7,
    "start_time": "2022-09-23T21:57:52.365Z"
   },
   {
    "duration": 27,
    "start_time": "2022-09-23T21:57:52.374Z"
   },
   {
    "duration": 5,
    "start_time": "2022-09-23T21:57:52.402Z"
   },
   {
    "duration": 158,
    "start_time": "2022-09-23T21:57:52.408Z"
   },
   {
    "duration": 111,
    "start_time": "2022-09-23T21:57:52.567Z"
   },
   {
    "duration": 11,
    "start_time": "2022-09-23T21:57:52.680Z"
   },
   {
    "duration": 126,
    "start_time": "2022-09-23T21:57:52.700Z"
   },
   {
    "duration": 141,
    "start_time": "2022-09-23T21:57:52.827Z"
   },
   {
    "duration": 146,
    "start_time": "2022-09-23T21:57:52.969Z"
   },
   {
    "duration": 129,
    "start_time": "2022-09-23T21:57:53.117Z"
   },
   {
    "duration": 138,
    "start_time": "2022-09-23T21:57:53.247Z"
   },
   {
    "duration": 183,
    "start_time": "2022-09-23T22:02:33.450Z"
   },
   {
    "duration": 216,
    "start_time": "2022-09-23T22:02:52.779Z"
   },
   {
    "duration": 374,
    "start_time": "2022-09-23T22:04:15.232Z"
   },
   {
    "duration": 440,
    "start_time": "2022-09-23T22:11:54.188Z"
   },
   {
    "duration": 636,
    "start_time": "2022-09-23T22:18:20.723Z"
   },
   {
    "duration": 12,
    "start_time": "2022-09-23T22:18:21.361Z"
   },
   {
    "duration": 8,
    "start_time": "2022-09-23T22:18:21.375Z"
   },
   {
    "duration": 52,
    "start_time": "2022-09-23T22:18:21.384Z"
   },
   {
    "duration": 765,
    "start_time": "2022-09-23T22:18:21.438Z"
   },
   {
    "duration": 4,
    "start_time": "2022-09-23T22:18:22.205Z"
   },
   {
    "duration": 19,
    "start_time": "2022-09-23T22:18:22.210Z"
   },
   {
    "duration": 7,
    "start_time": "2022-09-23T22:18:22.230Z"
   },
   {
    "duration": 9,
    "start_time": "2022-09-23T22:18:22.239Z"
   },
   {
    "duration": 16,
    "start_time": "2022-09-23T22:18:22.250Z"
   },
   {
    "duration": 83,
    "start_time": "2022-09-23T22:18:22.267Z"
   },
   {
    "duration": 18,
    "start_time": "2022-09-23T22:18:22.352Z"
   },
   {
    "duration": 8,
    "start_time": "2022-09-23T22:18:22.372Z"
   },
   {
    "duration": 33,
    "start_time": "2022-09-23T22:18:22.381Z"
   },
   {
    "duration": 6,
    "start_time": "2022-09-23T22:18:22.416Z"
   },
   {
    "duration": 190,
    "start_time": "2022-09-23T22:18:22.424Z"
   },
   {
    "duration": 113,
    "start_time": "2022-09-23T22:18:22.616Z"
   },
   {
    "duration": 12,
    "start_time": "2022-09-23T22:18:22.731Z"
   },
   {
    "duration": 154,
    "start_time": "2022-09-23T22:18:22.744Z"
   },
   {
    "duration": 171,
    "start_time": "2022-09-23T22:18:22.900Z"
   },
   {
    "duration": 168,
    "start_time": "2022-09-23T22:18:23.073Z"
   },
   {
    "duration": 149,
    "start_time": "2022-09-23T22:18:23.243Z"
   },
   {
    "duration": 168,
    "start_time": "2022-09-23T22:18:23.395Z"
   },
   {
    "duration": 282,
    "start_time": "2022-09-23T22:18:23.565Z"
   },
   {
    "duration": 325,
    "start_time": "2022-09-23T22:18:23.849Z"
   },
   {
    "duration": 5,
    "start_time": "2022-09-23T22:20:22.642Z"
   },
   {
    "duration": 23,
    "start_time": "2022-09-23T22:20:40.217Z"
   },
   {
    "duration": 16,
    "start_time": "2022-09-23T22:20:53.470Z"
   },
   {
    "duration": 627,
    "start_time": "2022-09-23T22:22:44.360Z"
   },
   {
    "duration": 14,
    "start_time": "2022-09-23T22:22:44.988Z"
   },
   {
    "duration": 11,
    "start_time": "2022-09-23T22:22:45.003Z"
   },
   {
    "duration": 59,
    "start_time": "2022-09-23T22:22:45.016Z"
   },
   {
    "duration": 722,
    "start_time": "2022-09-23T22:22:45.077Z"
   },
   {
    "duration": 4,
    "start_time": "2022-09-23T22:22:45.800Z"
   },
   {
    "duration": 15,
    "start_time": "2022-09-23T22:22:45.805Z"
   },
   {
    "duration": 7,
    "start_time": "2022-09-23T22:22:45.821Z"
   },
   {
    "duration": 10,
    "start_time": "2022-09-23T22:22:45.829Z"
   },
   {
    "duration": 96,
    "start_time": "2022-09-23T22:22:45.841Z"
   },
   {
    "duration": 5,
    "start_time": "2022-09-23T22:22:45.938Z"
   },
   {
    "duration": 19,
    "start_time": "2022-09-23T22:22:45.944Z"
   },
   {
    "duration": 9,
    "start_time": "2022-09-23T22:22:45.964Z"
   },
   {
    "duration": 42,
    "start_time": "2022-09-23T22:22:45.974Z"
   },
   {
    "duration": 5,
    "start_time": "2022-09-23T22:22:46.018Z"
   },
   {
    "duration": 192,
    "start_time": "2022-09-23T22:22:46.025Z"
   },
   {
    "duration": 122,
    "start_time": "2022-09-23T22:22:46.218Z"
   },
   {
    "duration": 11,
    "start_time": "2022-09-23T22:22:46.341Z"
   },
   {
    "duration": 148,
    "start_time": "2022-09-23T22:22:46.354Z"
   },
   {
    "duration": 153,
    "start_time": "2022-09-23T22:22:46.503Z"
   },
   {
    "duration": 160,
    "start_time": "2022-09-23T22:22:46.657Z"
   },
   {
    "duration": 149,
    "start_time": "2022-09-23T22:22:46.819Z"
   },
   {
    "duration": 156,
    "start_time": "2022-09-23T22:22:46.970Z"
   },
   {
    "duration": 259,
    "start_time": "2022-09-23T22:22:47.128Z"
   },
   {
    "duration": 335,
    "start_time": "2022-09-23T22:22:47.389Z"
   },
   {
    "duration": 14,
    "start_time": "2022-09-23T22:22:47.725Z"
   },
   {
    "duration": 67,
    "start_time": "2022-09-23T22:26:19.764Z"
   },
   {
    "duration": 95,
    "start_time": "2022-09-23T22:27:12.352Z"
   },
   {
    "duration": 99,
    "start_time": "2022-09-23T22:27:30.152Z"
   },
   {
    "duration": 172,
    "start_time": "2022-09-23T22:32:11.132Z"
   },
   {
    "duration": 113,
    "start_time": "2022-09-23T22:33:44.596Z"
   },
   {
    "duration": 636,
    "start_time": "2022-09-23T22:34:10.034Z"
   },
   {
    "duration": 14,
    "start_time": "2022-09-23T22:34:10.672Z"
   },
   {
    "duration": 21,
    "start_time": "2022-09-23T22:34:10.687Z"
   },
   {
    "duration": 51,
    "start_time": "2022-09-23T22:34:10.709Z"
   },
   {
    "duration": 701,
    "start_time": "2022-09-23T22:34:10.761Z"
   },
   {
    "duration": 4,
    "start_time": "2022-09-23T22:34:11.464Z"
   },
   {
    "duration": 18,
    "start_time": "2022-09-23T22:34:11.469Z"
   },
   {
    "duration": 15,
    "start_time": "2022-09-23T22:34:11.489Z"
   },
   {
    "duration": 14,
    "start_time": "2022-09-23T22:34:11.506Z"
   },
   {
    "duration": 87,
    "start_time": "2022-09-23T22:34:11.523Z"
   },
   {
    "duration": 4,
    "start_time": "2022-09-23T22:34:11.612Z"
   },
   {
    "duration": 28,
    "start_time": "2022-09-23T22:34:11.618Z"
   },
   {
    "duration": 8,
    "start_time": "2022-09-23T22:34:11.648Z"
   },
   {
    "duration": 27,
    "start_time": "2022-09-23T22:34:11.659Z"
   },
   {
    "duration": 13,
    "start_time": "2022-09-23T22:34:11.688Z"
   },
   {
    "duration": 169,
    "start_time": "2022-09-23T22:34:11.703Z"
   },
   {
    "duration": 115,
    "start_time": "2022-09-23T22:34:11.874Z"
   },
   {
    "duration": 14,
    "start_time": "2022-09-23T22:34:11.990Z"
   },
   {
    "duration": 135,
    "start_time": "2022-09-23T22:34:12.005Z"
   },
   {
    "duration": 152,
    "start_time": "2022-09-23T22:34:12.142Z"
   },
   {
    "duration": 159,
    "start_time": "2022-09-23T22:34:12.295Z"
   },
   {
    "duration": 161,
    "start_time": "2022-09-23T22:34:12.456Z"
   },
   {
    "duration": 160,
    "start_time": "2022-09-23T22:34:12.619Z"
   },
   {
    "duration": 247,
    "start_time": "2022-09-23T22:34:12.780Z"
   },
   {
    "duration": 328,
    "start_time": "2022-09-23T22:34:13.029Z"
   },
   {
    "duration": 13,
    "start_time": "2022-09-23T22:34:13.359Z"
   },
   {
    "duration": 208,
    "start_time": "2022-09-23T22:34:13.374Z"
   },
   {
    "duration": 94,
    "start_time": "2022-09-23T22:36:12.721Z"
   },
   {
    "duration": 178,
    "start_time": "2022-09-23T22:36:47.895Z"
   },
   {
    "duration": 18,
    "start_time": "2022-09-23T22:40:20.876Z"
   },
   {
    "duration": 103,
    "start_time": "2022-09-23T22:45:51.708Z"
   },
   {
    "duration": 99,
    "start_time": "2022-09-23T22:55:46.313Z"
   },
   {
    "duration": 110,
    "start_time": "2022-09-23T22:55:56.449Z"
   },
   {
    "duration": 14,
    "start_time": "2022-09-23T23:05:03.137Z"
   },
   {
    "duration": 137,
    "start_time": "2022-09-23T23:06:32.172Z"
   },
   {
    "duration": 87,
    "start_time": "2022-09-23T23:06:55.219Z"
   },
   {
    "duration": 128,
    "start_time": "2022-09-23T23:07:02.078Z"
   },
   {
    "duration": 644,
    "start_time": "2022-09-23T23:07:08.539Z"
   },
   {
    "duration": 13,
    "start_time": "2022-09-23T23:07:09.185Z"
   },
   {
    "duration": 9,
    "start_time": "2022-09-23T23:07:09.199Z"
   },
   {
    "duration": 47,
    "start_time": "2022-09-23T23:07:09.210Z"
   },
   {
    "duration": 718,
    "start_time": "2022-09-23T23:07:09.259Z"
   },
   {
    "duration": 3,
    "start_time": "2022-09-23T23:07:09.979Z"
   },
   {
    "duration": 24,
    "start_time": "2022-09-23T23:07:09.984Z"
   },
   {
    "duration": 13,
    "start_time": "2022-09-23T23:07:10.009Z"
   },
   {
    "duration": 12,
    "start_time": "2022-09-23T23:07:10.023Z"
   },
   {
    "duration": 79,
    "start_time": "2022-09-23T23:07:10.037Z"
   },
   {
    "duration": 5,
    "start_time": "2022-09-23T23:07:10.118Z"
   },
   {
    "duration": 18,
    "start_time": "2022-09-23T23:07:10.124Z"
   },
   {
    "duration": 7,
    "start_time": "2022-09-23T23:07:10.143Z"
   },
   {
    "duration": 18,
    "start_time": "2022-09-23T23:07:10.152Z"
   },
   {
    "duration": 4,
    "start_time": "2022-09-23T23:07:10.171Z"
   },
   {
    "duration": 186,
    "start_time": "2022-09-23T23:07:10.176Z"
   },
   {
    "duration": 112,
    "start_time": "2022-09-23T23:07:10.363Z"
   },
   {
    "duration": 11,
    "start_time": "2022-09-23T23:07:10.477Z"
   },
   {
    "duration": 123,
    "start_time": "2022-09-23T23:07:10.499Z"
   },
   {
    "duration": 147,
    "start_time": "2022-09-23T23:07:10.624Z"
   },
   {
    "duration": 149,
    "start_time": "2022-09-23T23:07:10.773Z"
   },
   {
    "duration": 133,
    "start_time": "2022-09-23T23:07:10.923Z"
   },
   {
    "duration": 155,
    "start_time": "2022-09-23T23:07:11.057Z"
   },
   {
    "duration": 233,
    "start_time": "2022-09-23T23:07:11.214Z"
   },
   {
    "duration": 333,
    "start_time": "2022-09-23T23:07:11.449Z"
   },
   {
    "duration": 19,
    "start_time": "2022-09-23T23:07:11.784Z"
   },
   {
    "duration": 115,
    "start_time": "2022-09-23T23:07:11.804Z"
   },
   {
    "duration": 149,
    "start_time": "2022-09-23T23:07:11.922Z"
   },
   {
    "duration": 14,
    "start_time": "2022-09-23T23:07:12.072Z"
   },
   {
    "duration": 6,
    "start_time": "2022-09-23T23:08:18.106Z"
   },
   {
    "duration": 190,
    "start_time": "2022-09-23T23:08:52.056Z"
   },
   {
    "duration": 68,
    "start_time": "2022-09-23T23:10:14.535Z"
   },
   {
    "duration": 8,
    "start_time": "2022-09-23T23:10:22.436Z"
   },
   {
    "duration": 4,
    "start_time": "2022-09-23T23:10:34.996Z"
   },
   {
    "duration": 135,
    "start_time": "2022-09-23T23:11:08.170Z"
   },
   {
    "duration": 5,
    "start_time": "2022-09-23T23:11:26.028Z"
   },
   {
    "duration": 135,
    "start_time": "2022-09-23T23:15:40.887Z"
   },
   {
    "duration": 5,
    "start_time": "2022-09-23T23:15:59.462Z"
   },
   {
    "duration": 124,
    "start_time": "2022-09-23T23:16:34.036Z"
   },
   {
    "duration": 5,
    "start_time": "2022-09-23T23:17:12.025Z"
   },
   {
    "duration": 9,
    "start_time": "2022-09-23T23:18:06.984Z"
   },
   {
    "duration": 3,
    "start_time": "2022-09-23T23:22:09.262Z"
   },
   {
    "duration": 10,
    "start_time": "2022-09-23T23:22:31.437Z"
   },
   {
    "duration": 5,
    "start_time": "2022-09-23T23:23:44.611Z"
   },
   {
    "duration": 8,
    "start_time": "2022-09-23T23:24:19.661Z"
   },
   {
    "duration": 5,
    "start_time": "2022-09-23T23:24:43.078Z"
   },
   {
    "duration": 5,
    "start_time": "2022-09-23T23:24:53.607Z"
   },
   {
    "duration": 4,
    "start_time": "2022-09-23T23:25:00.005Z"
   },
   {
    "duration": 5,
    "start_time": "2022-09-23T23:25:10.519Z"
   },
   {
    "duration": 270,
    "start_time": "2022-09-23T23:30:21.967Z"
   },
   {
    "duration": 227,
    "start_time": "2022-09-23T23:30:49.654Z"
   },
   {
    "duration": 626,
    "start_time": "2022-09-23T23:31:45.943Z"
   },
   {
    "duration": 13,
    "start_time": "2022-09-23T23:31:46.571Z"
   },
   {
    "duration": 8,
    "start_time": "2022-09-23T23:31:46.585Z"
   },
   {
    "duration": 50,
    "start_time": "2022-09-23T23:31:46.595Z"
   },
   {
    "duration": 691,
    "start_time": "2022-09-23T23:31:46.647Z"
   },
   {
    "duration": 3,
    "start_time": "2022-09-23T23:31:47.339Z"
   },
   {
    "duration": 21,
    "start_time": "2022-09-23T23:31:47.343Z"
   },
   {
    "duration": 11,
    "start_time": "2022-09-23T23:31:47.366Z"
   },
   {
    "duration": 15,
    "start_time": "2022-09-23T23:31:47.378Z"
   },
   {
    "duration": 20,
    "start_time": "2022-09-23T23:31:47.394Z"
   },
   {
    "duration": 5,
    "start_time": "2022-09-23T23:31:47.415Z"
   },
   {
    "duration": 88,
    "start_time": "2022-09-23T23:31:47.422Z"
   },
   {
    "duration": 8,
    "start_time": "2022-09-23T23:31:47.512Z"
   },
   {
    "duration": 17,
    "start_time": "2022-09-23T23:31:47.523Z"
   },
   {
    "duration": 5,
    "start_time": "2022-09-23T23:31:47.541Z"
   },
   {
    "duration": 196,
    "start_time": "2022-09-23T23:31:47.547Z"
   },
   {
    "duration": 121,
    "start_time": "2022-09-23T23:31:47.745Z"
   },
   {
    "duration": 11,
    "start_time": "2022-09-23T23:31:47.868Z"
   },
   {
    "duration": 143,
    "start_time": "2022-09-23T23:31:47.881Z"
   },
   {
    "duration": 150,
    "start_time": "2022-09-23T23:31:48.025Z"
   },
   {
    "duration": 150,
    "start_time": "2022-09-23T23:31:48.176Z"
   },
   {
    "duration": 131,
    "start_time": "2022-09-23T23:31:48.328Z"
   },
   {
    "duration": 145,
    "start_time": "2022-09-23T23:31:48.461Z"
   },
   {
    "duration": 252,
    "start_time": "2022-09-23T23:31:48.607Z"
   },
   {
    "duration": 298,
    "start_time": "2022-09-23T23:31:48.861Z"
   },
   {
    "duration": 14,
    "start_time": "2022-09-23T23:31:49.161Z"
   },
   {
    "duration": 117,
    "start_time": "2022-09-23T23:31:49.176Z"
   },
   {
    "duration": 145,
    "start_time": "2022-09-23T23:31:49.299Z"
   },
   {
    "duration": 5,
    "start_time": "2022-09-23T23:31:49.446Z"
   },
   {
    "duration": 214,
    "start_time": "2022-09-23T23:31:49.453Z"
   },
   {
    "duration": 4,
    "start_time": "2022-09-23T23:31:49.669Z"
   },
   {
    "duration": 142,
    "start_time": "2022-09-23T23:31:49.675Z"
   },
   {
    "duration": 5,
    "start_time": "2022-09-23T23:31:49.822Z"
   },
   {
    "duration": 146,
    "start_time": "2022-09-23T23:31:49.829Z"
   },
   {
    "duration": 5,
    "start_time": "2022-09-23T23:31:49.977Z"
   },
   {
    "duration": 22152,
    "start_time": "2022-09-23T23:31:49.984Z"
   },
   {
    "duration": 18,
    "start_time": "2022-09-23T23:32:12.138Z"
   },
   {
    "duration": 216,
    "start_time": "2022-09-23T23:32:25.462Z"
   },
   {
    "duration": 78,
    "start_time": "2022-09-23T23:33:33.681Z"
   },
   {
    "duration": 8,
    "start_time": "2022-09-23T23:33:47.038Z"
   },
   {
    "duration": 156,
    "start_time": "2022-09-23T23:33:52.630Z"
   },
   {
    "duration": 14,
    "start_time": "2022-09-23T23:36:23.195Z"
   },
   {
    "duration": 706,
    "start_time": "2022-09-23T23:37:43.878Z"
   },
   {
    "duration": 13,
    "start_time": "2022-09-23T23:37:44.586Z"
   },
   {
    "duration": 8,
    "start_time": "2022-09-23T23:37:44.600Z"
   },
   {
    "duration": 52,
    "start_time": "2022-09-23T23:37:44.609Z"
   },
   {
    "duration": 717,
    "start_time": "2022-09-23T23:37:44.662Z"
   },
   {
    "duration": 3,
    "start_time": "2022-09-23T23:37:45.381Z"
   },
   {
    "duration": 20,
    "start_time": "2022-09-23T23:37:45.386Z"
   },
   {
    "duration": 9,
    "start_time": "2022-09-23T23:37:45.407Z"
   },
   {
    "duration": 11,
    "start_time": "2022-09-23T23:37:45.417Z"
   },
   {
    "duration": 16,
    "start_time": "2022-09-23T23:37:45.430Z"
   },
   {
    "duration": 4,
    "start_time": "2022-09-23T23:37:45.448Z"
   },
   {
    "duration": 87,
    "start_time": "2022-09-23T23:37:45.454Z"
   },
   {
    "duration": 8,
    "start_time": "2022-09-23T23:37:45.543Z"
   },
   {
    "duration": 14,
    "start_time": "2022-09-23T23:37:45.555Z"
   },
   {
    "duration": 4,
    "start_time": "2022-09-23T23:37:45.571Z"
   },
   {
    "duration": 188,
    "start_time": "2022-09-23T23:37:45.576Z"
   },
   {
    "duration": 108,
    "start_time": "2022-09-23T23:37:45.765Z"
   },
   {
    "duration": 11,
    "start_time": "2022-09-23T23:37:45.875Z"
   },
   {
    "duration": 129,
    "start_time": "2022-09-23T23:37:45.888Z"
   },
   {
    "duration": 150,
    "start_time": "2022-09-23T23:37:46.019Z"
   },
   {
    "duration": 156,
    "start_time": "2022-09-23T23:37:46.170Z"
   },
   {
    "duration": 138,
    "start_time": "2022-09-23T23:37:46.328Z"
   },
   {
    "duration": 146,
    "start_time": "2022-09-23T23:37:46.468Z"
   },
   {
    "duration": 248,
    "start_time": "2022-09-23T23:37:46.615Z"
   },
   {
    "duration": 290,
    "start_time": "2022-09-23T23:37:46.864Z"
   },
   {
    "duration": 14,
    "start_time": "2022-09-23T23:37:47.156Z"
   },
   {
    "duration": 112,
    "start_time": "2022-09-23T23:37:47.172Z"
   },
   {
    "duration": 141,
    "start_time": "2022-09-23T23:37:47.286Z"
   },
   {
    "duration": 6,
    "start_time": "2022-09-23T23:37:47.428Z"
   },
   {
    "duration": 208,
    "start_time": "2022-09-23T23:37:47.435Z"
   },
   {
    "duration": 5,
    "start_time": "2022-09-23T23:37:47.645Z"
   },
   {
    "duration": 128,
    "start_time": "2022-09-23T23:37:47.651Z"
   },
   {
    "duration": 5,
    "start_time": "2022-09-23T23:37:47.781Z"
   },
   {
    "duration": 122,
    "start_time": "2022-09-23T23:37:47.799Z"
   },
   {
    "duration": 5,
    "start_time": "2022-09-23T23:37:47.923Z"
   },
   {
    "duration": 277,
    "start_time": "2022-09-23T23:37:47.929Z"
   },
   {
    "duration": 13,
    "start_time": "2022-09-23T23:37:48.208Z"
   },
   {
    "duration": 306,
    "start_time": "2022-09-23T23:39:24.704Z"
   },
   {
    "duration": 288,
    "start_time": "2022-09-23T23:39:36.725Z"
   },
   {
    "duration": 611,
    "start_time": "2022-09-23T23:50:50.843Z"
   },
   {
    "duration": 13,
    "start_time": "2022-09-23T23:50:51.456Z"
   },
   {
    "duration": 9,
    "start_time": "2022-09-23T23:50:51.471Z"
   },
   {
    "duration": 50,
    "start_time": "2022-09-23T23:50:51.482Z"
   },
   {
    "duration": 652,
    "start_time": "2022-09-23T23:50:51.534Z"
   },
   {
    "duration": 3,
    "start_time": "2022-09-23T23:50:52.188Z"
   },
   {
    "duration": 15,
    "start_time": "2022-09-23T23:50:52.199Z"
   },
   {
    "duration": 6,
    "start_time": "2022-09-23T23:50:52.215Z"
   },
   {
    "duration": 9,
    "start_time": "2022-09-23T23:50:52.223Z"
   },
   {
    "duration": 16,
    "start_time": "2022-09-23T23:50:52.234Z"
   },
   {
    "duration": 5,
    "start_time": "2022-09-23T23:50:52.251Z"
   },
   {
    "duration": 100,
    "start_time": "2022-09-23T23:50:52.258Z"
   },
   {
    "duration": 9,
    "start_time": "2022-09-23T23:50:52.360Z"
   },
   {
    "duration": 30,
    "start_time": "2022-09-23T23:50:52.373Z"
   },
   {
    "duration": 8,
    "start_time": "2022-09-23T23:50:52.405Z"
   },
   {
    "duration": 188,
    "start_time": "2022-09-23T23:50:52.414Z"
   },
   {
    "duration": 112,
    "start_time": "2022-09-23T23:50:52.604Z"
   },
   {
    "duration": 14,
    "start_time": "2022-09-23T23:50:52.717Z"
   },
   {
    "duration": 147,
    "start_time": "2022-09-23T23:50:52.733Z"
   },
   {
    "duration": 155,
    "start_time": "2022-09-23T23:50:52.882Z"
   },
   {
    "duration": 148,
    "start_time": "2022-09-23T23:50:53.038Z"
   },
   {
    "duration": 137,
    "start_time": "2022-09-23T23:50:53.188Z"
   },
   {
    "duration": 143,
    "start_time": "2022-09-23T23:50:53.327Z"
   },
   {
    "duration": 235,
    "start_time": "2022-09-23T23:50:53.472Z"
   },
   {
    "duration": 320,
    "start_time": "2022-09-23T23:50:53.709Z"
   },
   {
    "duration": 12,
    "start_time": "2022-09-23T23:50:54.031Z"
   },
   {
    "duration": 129,
    "start_time": "2022-09-23T23:50:54.045Z"
   },
   {
    "duration": 138,
    "start_time": "2022-09-23T23:50:54.176Z"
   },
   {
    "duration": 4,
    "start_time": "2022-09-23T23:50:54.316Z"
   },
   {
    "duration": 234,
    "start_time": "2022-09-23T23:50:54.322Z"
   },
   {
    "duration": 5,
    "start_time": "2022-09-23T23:50:54.558Z"
   },
   {
    "duration": 137,
    "start_time": "2022-09-23T23:50:54.564Z"
   },
   {
    "duration": 5,
    "start_time": "2022-09-23T23:50:54.702Z"
   },
   {
    "duration": 133,
    "start_time": "2022-09-23T23:50:54.708Z"
   },
   {
    "duration": 6,
    "start_time": "2022-09-23T23:50:54.843Z"
   },
   {
    "duration": 325,
    "start_time": "2022-09-23T23:50:54.851Z"
   },
   {
    "duration": 14,
    "start_time": "2022-09-23T23:50:55.178Z"
   },
   {
    "duration": 75,
    "start_time": "2022-09-24T00:36:52.092Z"
   },
   {
    "duration": 11,
    "start_time": "2022-09-24T00:37:33.182Z"
   },
   {
    "duration": 230,
    "start_time": "2022-09-24T00:38:18.640Z"
   },
   {
    "duration": 12,
    "start_time": "2022-09-24T00:38:36.108Z"
   },
   {
    "duration": 12,
    "start_time": "2022-09-24T00:38:48.648Z"
   },
   {
    "duration": 13,
    "start_time": "2022-09-24T00:39:00.505Z"
   },
   {
    "duration": 10,
    "start_time": "2022-09-24T00:39:33.736Z"
   },
   {
    "duration": 12,
    "start_time": "2022-09-24T00:39:43.791Z"
   },
   {
    "duration": 627,
    "start_time": "2022-09-24T00:39:58.203Z"
   },
   {
    "duration": 12,
    "start_time": "2022-09-24T00:39:58.832Z"
   },
   {
    "duration": 7,
    "start_time": "2022-09-24T00:39:58.845Z"
   },
   {
    "duration": 55,
    "start_time": "2022-09-24T00:39:58.853Z"
   },
   {
    "duration": 655,
    "start_time": "2022-09-24T00:39:58.909Z"
   },
   {
    "duration": 3,
    "start_time": "2022-09-24T00:39:59.566Z"
   },
   {
    "duration": 17,
    "start_time": "2022-09-24T00:39:59.570Z"
   },
   {
    "duration": 13,
    "start_time": "2022-09-24T00:39:59.588Z"
   },
   {
    "duration": 9,
    "start_time": "2022-09-24T00:39:59.602Z"
   },
   {
    "duration": 67,
    "start_time": "2022-09-24T00:39:59.613Z"
   },
   {
    "duration": 4,
    "start_time": "2022-09-24T00:39:59.682Z"
   },
   {
    "duration": 14,
    "start_time": "2022-09-24T00:39:59.700Z"
   },
   {
    "duration": 6,
    "start_time": "2022-09-24T00:39:59.716Z"
   },
   {
    "duration": 13,
    "start_time": "2022-09-24T00:39:59.724Z"
   },
   {
    "duration": 5,
    "start_time": "2022-09-24T00:39:59.738Z"
   },
   {
    "duration": 170,
    "start_time": "2022-09-24T00:39:59.744Z"
   },
   {
    "duration": 102,
    "start_time": "2022-09-24T00:39:59.916Z"
   },
   {
    "duration": 10,
    "start_time": "2022-09-24T00:40:00.020Z"
   },
   {
    "duration": 136,
    "start_time": "2022-09-24T00:40:00.031Z"
   },
   {
    "duration": 141,
    "start_time": "2022-09-24T00:40:00.169Z"
   },
   {
    "duration": 157,
    "start_time": "2022-09-24T00:40:00.311Z"
   },
   {
    "duration": 147,
    "start_time": "2022-09-24T00:40:00.472Z"
   },
   {
    "duration": 149,
    "start_time": "2022-09-24T00:40:00.621Z"
   },
   {
    "duration": 239,
    "start_time": "2022-09-24T00:40:00.772Z"
   },
   {
    "duration": 289,
    "start_time": "2022-09-24T00:40:01.013Z"
   },
   {
    "duration": 12,
    "start_time": "2022-09-24T00:40:01.304Z"
   },
   {
    "duration": 112,
    "start_time": "2022-09-24T00:40:01.317Z"
   },
   {
    "duration": 135,
    "start_time": "2022-09-24T00:40:01.433Z"
   },
   {
    "duration": 6,
    "start_time": "2022-09-24T00:40:01.570Z"
   },
   {
    "duration": 201,
    "start_time": "2022-09-24T00:40:01.578Z"
   },
   {
    "duration": 4,
    "start_time": "2022-09-24T00:40:01.781Z"
   },
   {
    "duration": 135,
    "start_time": "2022-09-24T00:40:01.786Z"
   },
   {
    "duration": 4,
    "start_time": "2022-09-24T00:40:01.923Z"
   },
   {
    "duration": 130,
    "start_time": "2022-09-24T00:40:01.928Z"
   },
   {
    "duration": 5,
    "start_time": "2022-09-24T00:40:02.059Z"
   },
   {
    "duration": 324,
    "start_time": "2022-09-24T00:40:02.065Z"
   },
   {
    "duration": 74,
    "start_time": "2022-09-24T00:40:02.391Z"
   },
   {
    "duration": 0,
    "start_time": "2022-09-24T00:40:02.467Z"
   },
   {
    "duration": 13,
    "start_time": "2022-09-24T00:40:34.408Z"
   },
   {
    "duration": 13,
    "start_time": "2022-09-24T00:41:13.511Z"
   },
   {
    "duration": 67,
    "start_time": "2022-09-24T00:41:47.669Z"
   },
   {
    "duration": 10,
    "start_time": "2022-09-24T00:41:52.982Z"
   },
   {
    "duration": 9,
    "start_time": "2022-09-24T00:43:34.602Z"
   },
   {
    "duration": 11,
    "start_time": "2022-09-24T00:43:41.615Z"
   },
   {
    "duration": 10,
    "start_time": "2022-09-24T00:45:09.397Z"
   },
   {
    "duration": 10,
    "start_time": "2022-09-24T00:46:13.010Z"
   },
   {
    "duration": 10,
    "start_time": "2022-09-24T00:46:45.828Z"
   },
   {
    "duration": 11,
    "start_time": "2022-09-24T00:47:38.068Z"
   },
   {
    "duration": 11,
    "start_time": "2022-09-24T00:48:18.708Z"
   },
   {
    "duration": 11,
    "start_time": "2022-09-24T00:48:50.083Z"
   },
   {
    "duration": 11,
    "start_time": "2022-09-24T00:52:38.120Z"
   },
   {
    "duration": 10,
    "start_time": "2022-09-24T00:52:53.497Z"
   },
   {
    "duration": 10,
    "start_time": "2022-09-24T00:54:31.307Z"
   },
   {
    "duration": 10,
    "start_time": "2022-09-24T00:54:53.995Z"
   },
   {
    "duration": 12,
    "start_time": "2022-09-24T00:55:05.537Z"
   },
   {
    "duration": 12,
    "start_time": "2022-09-24T00:55:24.529Z"
   },
   {
    "duration": 10,
    "start_time": "2022-09-24T00:56:22.125Z"
   },
   {
    "duration": 11,
    "start_time": "2022-09-24T00:57:11.426Z"
   },
   {
    "duration": 41,
    "start_time": "2022-09-25T07:16:25.945Z"
   },
   {
    "duration": 6,
    "start_time": "2022-09-25T07:16:47.341Z"
   },
   {
    "duration": 924,
    "start_time": "2022-09-25T07:16:54.791Z"
   },
   {
    "duration": 12,
    "start_time": "2022-09-25T07:16:55.717Z"
   },
   {
    "duration": 17,
    "start_time": "2022-09-25T07:16:55.730Z"
   },
   {
    "duration": 55,
    "start_time": "2022-09-25T07:16:55.748Z"
   },
   {
    "duration": 753,
    "start_time": "2022-09-25T07:16:55.805Z"
   },
   {
    "duration": 4,
    "start_time": "2022-09-25T07:16:56.559Z"
   },
   {
    "duration": 27,
    "start_time": "2022-09-25T07:16:56.564Z"
   },
   {
    "duration": 15,
    "start_time": "2022-09-25T07:16:56.593Z"
   },
   {
    "duration": 18,
    "start_time": "2022-09-25T07:16:56.610Z"
   },
   {
    "duration": 77,
    "start_time": "2022-09-25T07:16:56.630Z"
   },
   {
    "duration": 4,
    "start_time": "2022-09-25T07:16:56.709Z"
   },
   {
    "duration": 22,
    "start_time": "2022-09-25T07:16:56.715Z"
   },
   {
    "duration": 12,
    "start_time": "2022-09-25T07:16:56.739Z"
   },
   {
    "duration": 24,
    "start_time": "2022-09-25T07:16:56.752Z"
   },
   {
    "duration": 5,
    "start_time": "2022-09-25T07:16:56.778Z"
   },
   {
    "duration": 161,
    "start_time": "2022-09-25T07:16:56.784Z"
   },
   {
    "duration": 106,
    "start_time": "2022-09-25T07:16:56.946Z"
   },
   {
    "duration": 10,
    "start_time": "2022-09-25T07:16:57.053Z"
   },
   {
    "duration": 133,
    "start_time": "2022-09-25T07:16:57.065Z"
   },
   {
    "duration": 147,
    "start_time": "2022-09-25T07:16:57.199Z"
   },
   {
    "duration": 156,
    "start_time": "2022-09-25T07:16:57.348Z"
   },
   {
    "duration": 132,
    "start_time": "2022-09-25T07:16:57.506Z"
   },
   {
    "duration": 137,
    "start_time": "2022-09-25T07:16:57.640Z"
   },
   {
    "duration": 282,
    "start_time": "2022-09-25T07:16:57.778Z"
   },
   {
    "duration": 682,
    "start_time": "2022-09-25T07:16:58.062Z"
   },
   {
    "duration": 12,
    "start_time": "2022-09-25T07:16:58.745Z"
   },
   {
    "duration": 210,
    "start_time": "2022-09-25T07:16:58.758Z"
   },
   {
    "duration": 399,
    "start_time": "2022-09-25T07:16:59.030Z"
   },
   {
    "duration": 11,
    "start_time": "2022-09-25T07:16:59.431Z"
   },
   {
    "duration": 481,
    "start_time": "2022-09-25T07:16:59.443Z"
   },
   {
    "duration": 7,
    "start_time": "2022-09-25T07:16:59.926Z"
   },
   {
    "duration": 203,
    "start_time": "2022-09-25T07:16:59.935Z"
   },
   {
    "duration": 5,
    "start_time": "2022-09-25T07:17:00.141Z"
   },
   {
    "duration": 145,
    "start_time": "2022-09-25T07:17:00.147Z"
   },
   {
    "duration": 5,
    "start_time": "2022-09-25T07:17:00.293Z"
   },
   {
    "duration": 309,
    "start_time": "2022-09-25T07:17:00.300Z"
   },
   {
    "duration": 17,
    "start_time": "2022-09-25T07:17:00.611Z"
   },
   {
    "duration": 22,
    "start_time": "2022-09-25T07:17:00.629Z"
   },
   {
    "duration": 27,
    "start_time": "2022-09-25T07:17:00.653Z"
   },
   {
    "duration": 34,
    "start_time": "2022-09-25T07:17:00.682Z"
   },
   {
    "duration": 36,
    "start_time": "2022-09-25T07:17:00.717Z"
   },
   {
    "duration": 14,
    "start_time": "2022-09-25T07:17:00.754Z"
   },
   {
    "duration": 21,
    "start_time": "2022-09-25T07:17:00.769Z"
   },
   {
    "duration": 10,
    "start_time": "2022-09-25T07:17:23.052Z"
   },
   {
    "duration": 15,
    "start_time": "2022-09-25T07:19:12.241Z"
   },
   {
    "duration": 22,
    "start_time": "2022-09-25T07:21:33.633Z"
   },
   {
    "duration": 11,
    "start_time": "2022-09-25T07:22:51.815Z"
   },
   {
    "duration": 16,
    "start_time": "2022-09-25T07:25:19.997Z"
   },
   {
    "duration": 12,
    "start_time": "2022-09-25T07:26:25.108Z"
   },
   {
    "duration": 680,
    "start_time": "2022-09-25T07:30:44.369Z"
   },
   {
    "duration": 14,
    "start_time": "2022-09-25T07:30:45.051Z"
   },
   {
    "duration": 10,
    "start_time": "2022-09-25T07:30:45.066Z"
   },
   {
    "duration": 62,
    "start_time": "2022-09-25T07:30:45.077Z"
   },
   {
    "duration": 780,
    "start_time": "2022-09-25T07:30:45.142Z"
   },
   {
    "duration": 4,
    "start_time": "2022-09-25T07:30:45.924Z"
   },
   {
    "duration": 25,
    "start_time": "2022-09-25T07:30:45.930Z"
   },
   {
    "duration": 13,
    "start_time": "2022-09-25T07:30:45.957Z"
   },
   {
    "duration": 13,
    "start_time": "2022-09-25T07:30:45.972Z"
   },
   {
    "duration": 23,
    "start_time": "2022-09-25T07:30:45.987Z"
   },
   {
    "duration": 6,
    "start_time": "2022-09-25T07:30:46.022Z"
   },
   {
    "duration": 77,
    "start_time": "2022-09-25T07:30:46.029Z"
   },
   {
    "duration": 12,
    "start_time": "2022-09-25T07:30:46.125Z"
   },
   {
    "duration": 25,
    "start_time": "2022-09-25T07:30:46.141Z"
   },
   {
    "duration": 21,
    "start_time": "2022-09-25T07:30:46.168Z"
   },
   {
    "duration": 230,
    "start_time": "2022-09-25T07:30:46.191Z"
   },
   {
    "duration": 133,
    "start_time": "2022-09-25T07:30:46.423Z"
   },
   {
    "duration": 16,
    "start_time": "2022-09-25T07:30:46.558Z"
   },
   {
    "duration": 146,
    "start_time": "2022-09-25T07:30:46.576Z"
   },
   {
    "duration": 160,
    "start_time": "2022-09-25T07:30:46.723Z"
   },
   {
    "duration": 155,
    "start_time": "2022-09-25T07:30:46.885Z"
   },
   {
    "duration": 139,
    "start_time": "2022-09-25T07:30:47.041Z"
   },
   {
    "duration": 141,
    "start_time": "2022-09-25T07:30:47.182Z"
   },
   {
    "duration": 287,
    "start_time": "2022-09-25T07:30:47.325Z"
   },
   {
    "duration": 327,
    "start_time": "2022-09-25T07:30:47.614Z"
   },
   {
    "duration": 12,
    "start_time": "2022-09-25T07:30:47.943Z"
   },
   {
    "duration": 126,
    "start_time": "2022-09-25T07:30:47.956Z"
   },
   {
    "duration": 137,
    "start_time": "2022-09-25T07:30:48.084Z"
   },
   {
    "duration": 5,
    "start_time": "2022-09-25T07:30:48.223Z"
   },
   {
    "duration": 293,
    "start_time": "2022-09-25T07:30:48.229Z"
   },
   {
    "duration": 5,
    "start_time": "2022-09-25T07:30:48.523Z"
   },
   {
    "duration": 332,
    "start_time": "2022-09-25T07:30:48.529Z"
   },
   {
    "duration": 58,
    "start_time": "2022-09-25T07:30:48.863Z"
   },
   {
    "duration": 241,
    "start_time": "2022-09-25T07:30:48.924Z"
   },
   {
    "duration": 4,
    "start_time": "2022-09-25T07:30:49.167Z"
   },
   {
    "duration": 700,
    "start_time": "2022-09-25T07:30:49.222Z"
   },
   {
    "duration": 16,
    "start_time": "2022-09-25T07:30:49.923Z"
   },
   {
    "duration": 22,
    "start_time": "2022-09-25T07:30:49.940Z"
   },
   {
    "duration": 13,
    "start_time": "2022-09-25T07:30:49.964Z"
   },
   {
    "duration": 19,
    "start_time": "2022-09-25T07:30:50.025Z"
   },
   {
    "duration": 14,
    "start_time": "2022-09-25T07:30:50.047Z"
   },
   {
    "duration": 23,
    "start_time": "2022-09-25T07:30:50.063Z"
   },
   {
    "duration": 49,
    "start_time": "2022-09-25T07:30:50.087Z"
   },
   {
    "duration": 28,
    "start_time": "2022-09-25T07:30:50.138Z"
   },
   {
    "duration": 15,
    "start_time": "2022-09-25T07:32:05.215Z"
   },
   {
    "duration": 4,
    "start_time": "2022-09-25T07:34:42.804Z"
   },
   {
    "duration": 80,
    "start_time": "2022-09-25T07:34:55.918Z"
   },
   {
    "duration": 238,
    "start_time": "2022-09-25T07:35:02.910Z"
   },
   {
    "duration": 669,
    "start_time": "2022-09-25T07:35:30.240Z"
   },
   {
    "duration": 12,
    "start_time": "2022-09-25T07:35:30.911Z"
   },
   {
    "duration": 7,
    "start_time": "2022-09-25T07:35:30.925Z"
   },
   {
    "duration": 47,
    "start_time": "2022-09-25T07:35:30.933Z"
   },
   {
    "duration": 705,
    "start_time": "2022-09-25T07:35:30.982Z"
   },
   {
    "duration": 3,
    "start_time": "2022-09-25T07:35:31.688Z"
   },
   {
    "duration": 29,
    "start_time": "2022-09-25T07:35:31.693Z"
   },
   {
    "duration": 8,
    "start_time": "2022-09-25T07:35:31.723Z"
   },
   {
    "duration": 9,
    "start_time": "2022-09-25T07:35:31.733Z"
   },
   {
    "duration": 20,
    "start_time": "2022-09-25T07:35:31.744Z"
   },
   {
    "duration": 4,
    "start_time": "2022-09-25T07:35:31.766Z"
   },
   {
    "duration": 94,
    "start_time": "2022-09-25T07:35:31.772Z"
   },
   {
    "duration": 9,
    "start_time": "2022-09-25T07:35:31.867Z"
   },
   {
    "duration": 37,
    "start_time": "2022-09-25T07:35:31.880Z"
   },
   {
    "duration": 7,
    "start_time": "2022-09-25T07:35:31.918Z"
   },
   {
    "duration": 189,
    "start_time": "2022-09-25T07:35:31.927Z"
   },
   {
    "duration": 117,
    "start_time": "2022-09-25T07:35:32.117Z"
   },
   {
    "duration": 12,
    "start_time": "2022-09-25T07:35:32.236Z"
   },
   {
    "duration": 149,
    "start_time": "2022-09-25T07:35:32.250Z"
   },
   {
    "duration": 192,
    "start_time": "2022-09-25T07:35:32.400Z"
   },
   {
    "duration": 234,
    "start_time": "2022-09-25T07:35:32.594Z"
   },
   {
    "duration": 308,
    "start_time": "2022-09-25T07:35:32.829Z"
   },
   {
    "duration": 299,
    "start_time": "2022-09-25T07:35:33.138Z"
   },
   {
    "duration": 529,
    "start_time": "2022-09-25T07:35:33.439Z"
   },
   {
    "duration": 611,
    "start_time": "2022-09-25T07:35:33.970Z"
   },
   {
    "duration": 15,
    "start_time": "2022-09-25T07:35:34.582Z"
   },
   {
    "duration": 124,
    "start_time": "2022-09-25T07:35:34.599Z"
   },
   {
    "duration": 144,
    "start_time": "2022-09-25T07:35:34.725Z"
   },
   {
    "duration": 4,
    "start_time": "2022-09-25T07:35:34.871Z"
   },
   {
    "duration": 231,
    "start_time": "2022-09-25T07:35:34.877Z"
   },
   {
    "duration": 14,
    "start_time": "2022-09-25T07:35:35.109Z"
   },
   {
    "duration": 142,
    "start_time": "2022-09-25T07:35:35.125Z"
   },
   {
    "duration": 5,
    "start_time": "2022-09-25T07:35:35.268Z"
   },
   {
    "duration": 164,
    "start_time": "2022-09-25T07:35:35.274Z"
   },
   {
    "duration": 6,
    "start_time": "2022-09-25T07:35:35.440Z"
   },
   {
    "duration": 413,
    "start_time": "2022-09-25T07:35:35.447Z"
   },
   {
    "duration": 274,
    "start_time": "2022-09-25T07:35:35.862Z"
   },
   {
    "duration": 0,
    "start_time": "2022-09-25T07:35:36.139Z"
   },
   {
    "duration": 0,
    "start_time": "2022-09-25T07:35:36.141Z"
   },
   {
    "duration": 0,
    "start_time": "2022-09-25T07:35:36.142Z"
   },
   {
    "duration": 0,
    "start_time": "2022-09-25T07:35:36.144Z"
   },
   {
    "duration": 0,
    "start_time": "2022-09-25T07:35:36.145Z"
   },
   {
    "duration": 0,
    "start_time": "2022-09-25T07:35:36.146Z"
   },
   {
    "duration": 0,
    "start_time": "2022-09-25T07:35:36.147Z"
   },
   {
    "duration": 125,
    "start_time": "2022-09-25T07:35:46.449Z"
   },
   {
    "duration": 77,
    "start_time": "2022-09-25T07:36:15.965Z"
   },
   {
    "duration": 616,
    "start_time": "2022-09-25T07:36:31.270Z"
   },
   {
    "duration": 13,
    "start_time": "2022-09-25T07:36:31.888Z"
   },
   {
    "duration": 34,
    "start_time": "2022-09-25T07:36:31.902Z"
   },
   {
    "duration": 79,
    "start_time": "2022-09-25T07:36:31.938Z"
   },
   {
    "duration": 724,
    "start_time": "2022-09-25T07:36:32.019Z"
   },
   {
    "duration": 3,
    "start_time": "2022-09-25T07:36:32.745Z"
   },
   {
    "duration": 38,
    "start_time": "2022-09-25T07:36:32.749Z"
   },
   {
    "duration": 40,
    "start_time": "2022-09-25T07:36:32.789Z"
   },
   {
    "duration": 28,
    "start_time": "2022-09-25T07:36:32.830Z"
   },
   {
    "duration": 89,
    "start_time": "2022-09-25T07:36:32.861Z"
   },
   {
    "duration": 4,
    "start_time": "2022-09-25T07:36:32.952Z"
   },
   {
    "duration": 18,
    "start_time": "2022-09-25T07:36:32.957Z"
   },
   {
    "duration": 7,
    "start_time": "2022-09-25T07:36:32.976Z"
   },
   {
    "duration": 20,
    "start_time": "2022-09-25T07:36:32.985Z"
   },
   {
    "duration": 17,
    "start_time": "2022-09-25T07:36:33.006Z"
   },
   {
    "duration": 169,
    "start_time": "2022-09-25T07:36:33.025Z"
   },
   {
    "duration": 115,
    "start_time": "2022-09-25T07:36:33.196Z"
   },
   {
    "duration": 16,
    "start_time": "2022-09-25T07:36:33.312Z"
   },
   {
    "duration": 144,
    "start_time": "2022-09-25T07:36:33.329Z"
   },
   {
    "duration": 157,
    "start_time": "2022-09-25T07:36:33.474Z"
   },
   {
    "duration": 160,
    "start_time": "2022-09-25T07:36:33.632Z"
   },
   {
    "duration": 138,
    "start_time": "2022-09-25T07:36:33.794Z"
   },
   {
    "duration": 289,
    "start_time": "2022-09-25T07:36:33.934Z"
   },
   {
    "duration": 463,
    "start_time": "2022-09-25T07:36:34.225Z"
   },
   {
    "duration": 671,
    "start_time": "2022-09-25T07:36:34.689Z"
   },
   {
    "duration": 61,
    "start_time": "2022-09-25T07:36:35.361Z"
   },
   {
    "duration": 160,
    "start_time": "2022-09-25T07:36:35.424Z"
   },
   {
    "duration": 130,
    "start_time": "2022-09-25T07:36:35.624Z"
   },
   {
    "duration": 5,
    "start_time": "2022-09-25T07:36:35.755Z"
   },
   {
    "duration": 195,
    "start_time": "2022-09-25T07:36:35.761Z"
   },
   {
    "duration": 4,
    "start_time": "2022-09-25T07:36:35.958Z"
   },
   {
    "duration": 166,
    "start_time": "2022-09-25T07:36:35.963Z"
   },
   {
    "duration": 5,
    "start_time": "2022-09-25T07:36:36.130Z"
   },
   {
    "duration": 145,
    "start_time": "2022-09-25T07:36:36.137Z"
   },
   {
    "duration": 4,
    "start_time": "2022-09-25T07:36:36.284Z"
   },
   {
    "duration": 302,
    "start_time": "2022-09-25T07:36:36.290Z"
   },
   {
    "duration": 86,
    "start_time": "2022-09-25T07:36:36.594Z"
   },
   {
    "duration": 0,
    "start_time": "2022-09-25T07:36:36.682Z"
   },
   {
    "duration": 0,
    "start_time": "2022-09-25T07:36:36.683Z"
   },
   {
    "duration": 0,
    "start_time": "2022-09-25T07:36:36.685Z"
   },
   {
    "duration": 0,
    "start_time": "2022-09-25T07:36:36.686Z"
   },
   {
    "duration": 0,
    "start_time": "2022-09-25T07:36:36.687Z"
   },
   {
    "duration": 0,
    "start_time": "2022-09-25T07:36:36.688Z"
   },
   {
    "duration": 0,
    "start_time": "2022-09-25T07:36:36.690Z"
   },
   {
    "duration": 13,
    "start_time": "2022-09-25T07:37:29.320Z"
   },
   {
    "duration": 14,
    "start_time": "2022-09-25T07:37:33.775Z"
   },
   {
    "duration": 9,
    "start_time": "2022-09-25T07:37:46.943Z"
   },
   {
    "duration": 13,
    "start_time": "2022-09-25T07:38:18.973Z"
   },
   {
    "duration": 19,
    "start_time": "2022-09-25T07:38:49.678Z"
   },
   {
    "duration": 11,
    "start_time": "2022-09-25T07:38:53.981Z"
   },
   {
    "duration": 19,
    "start_time": "2022-09-25T07:39:09.427Z"
   },
   {
    "duration": 649,
    "start_time": "2022-09-25T07:40:42.754Z"
   },
   {
    "duration": 17,
    "start_time": "2022-09-25T07:40:43.405Z"
   },
   {
    "duration": 14,
    "start_time": "2022-09-25T07:40:43.429Z"
   },
   {
    "duration": 63,
    "start_time": "2022-09-25T07:40:43.445Z"
   },
   {
    "duration": 781,
    "start_time": "2022-09-25T07:40:43.528Z"
   },
   {
    "duration": 11,
    "start_time": "2022-09-25T07:40:44.310Z"
   },
   {
    "duration": 19,
    "start_time": "2022-09-25T07:40:44.323Z"
   },
   {
    "duration": 10,
    "start_time": "2022-09-25T07:40:44.344Z"
   },
   {
    "duration": 11,
    "start_time": "2022-09-25T07:40:44.356Z"
   },
   {
    "duration": 20,
    "start_time": "2022-09-25T07:40:44.369Z"
   },
   {
    "duration": 5,
    "start_time": "2022-09-25T07:40:44.390Z"
   },
   {
    "duration": 98,
    "start_time": "2022-09-25T07:40:44.397Z"
   },
   {
    "duration": 9,
    "start_time": "2022-09-25T07:40:44.497Z"
   },
   {
    "duration": 17,
    "start_time": "2022-09-25T07:40:44.521Z"
   },
   {
    "duration": 14,
    "start_time": "2022-09-25T07:40:44.541Z"
   },
   {
    "duration": 186,
    "start_time": "2022-09-25T07:40:44.557Z"
   },
   {
    "duration": 135,
    "start_time": "2022-09-25T07:40:44.745Z"
   },
   {
    "duration": 13,
    "start_time": "2022-09-25T07:40:44.884Z"
   },
   {
    "duration": 185,
    "start_time": "2022-09-25T07:40:44.899Z"
   },
   {
    "duration": 181,
    "start_time": "2022-09-25T07:40:45.086Z"
   },
   {
    "duration": 175,
    "start_time": "2022-09-25T07:40:45.269Z"
   },
   {
    "duration": 175,
    "start_time": "2022-09-25T07:40:45.446Z"
   },
   {
    "duration": 168,
    "start_time": "2022-09-25T07:40:45.627Z"
   },
   {
    "duration": 296,
    "start_time": "2022-09-25T07:40:45.796Z"
   },
   {
    "duration": 412,
    "start_time": "2022-09-25T07:40:46.094Z"
   },
   {
    "duration": 26,
    "start_time": "2022-09-25T07:40:46.508Z"
   },
   {
    "duration": 124,
    "start_time": "2022-09-25T07:40:46.536Z"
   },
   {
    "duration": 140,
    "start_time": "2022-09-25T07:40:46.661Z"
   },
   {
    "duration": 5,
    "start_time": "2022-09-25T07:40:46.802Z"
   },
   {
    "duration": 197,
    "start_time": "2022-09-25T07:40:46.808Z"
   },
   {
    "duration": 17,
    "start_time": "2022-09-25T07:40:47.006Z"
   },
   {
    "duration": 135,
    "start_time": "2022-09-25T07:40:47.024Z"
   },
   {
    "duration": 5,
    "start_time": "2022-09-25T07:40:47.160Z"
   },
   {
    "duration": 134,
    "start_time": "2022-09-25T07:40:47.166Z"
   },
   {
    "duration": 4,
    "start_time": "2022-09-25T07:40:47.302Z"
   },
   {
    "duration": 327,
    "start_time": "2022-09-25T07:40:47.308Z"
   },
   {
    "duration": 14,
    "start_time": "2022-09-25T07:40:47.636Z"
   },
   {
    "duration": 10,
    "start_time": "2022-09-25T07:40:47.652Z"
   },
   {
    "duration": 13,
    "start_time": "2022-09-25T07:40:47.665Z"
   },
   {
    "duration": 26,
    "start_time": "2022-09-25T07:40:47.680Z"
   },
   {
    "duration": 11,
    "start_time": "2022-09-25T07:40:47.724Z"
   },
   {
    "duration": 21,
    "start_time": "2022-09-25T07:40:47.736Z"
   },
   {
    "duration": 13,
    "start_time": "2022-09-25T07:40:47.758Z"
   },
   {
    "duration": 34,
    "start_time": "2022-09-25T07:46:31.013Z"
   },
   {
    "duration": 13,
    "start_time": "2022-09-25T07:48:57.833Z"
   },
   {
    "duration": 13,
    "start_time": "2022-09-25T07:51:02.246Z"
   },
   {
    "duration": 13,
    "start_time": "2022-09-25T07:51:36.837Z"
   },
   {
    "duration": 68,
    "start_time": "2022-09-25T07:53:37.192Z"
   },
   {
    "duration": 11,
    "start_time": "2022-09-25T07:53:56.543Z"
   },
   {
    "duration": 14,
    "start_time": "2022-09-25T07:54:22.059Z"
   },
   {
    "duration": 13,
    "start_time": "2022-09-25T07:55:07.547Z"
   },
   {
    "duration": 592,
    "start_time": "2022-09-25T07:56:21.371Z"
   },
   {
    "duration": 11,
    "start_time": "2022-09-25T07:56:21.965Z"
   },
   {
    "duration": 6,
    "start_time": "2022-09-25T07:56:21.978Z"
   },
   {
    "duration": 58,
    "start_time": "2022-09-25T07:56:21.986Z"
   },
   {
    "duration": 662,
    "start_time": "2022-09-25T07:56:22.046Z"
   },
   {
    "duration": 3,
    "start_time": "2022-09-25T07:56:22.710Z"
   },
   {
    "duration": 19,
    "start_time": "2022-09-25T07:56:22.714Z"
   },
   {
    "duration": 7,
    "start_time": "2022-09-25T07:56:22.735Z"
   },
   {
    "duration": 12,
    "start_time": "2022-09-25T07:56:22.743Z"
   },
   {
    "duration": 90,
    "start_time": "2022-09-25T07:56:22.757Z"
   },
   {
    "duration": 5,
    "start_time": "2022-09-25T07:56:22.848Z"
   },
   {
    "duration": 16,
    "start_time": "2022-09-25T07:56:22.854Z"
   },
   {
    "duration": 8,
    "start_time": "2022-09-25T07:56:22.872Z"
   },
   {
    "duration": 15,
    "start_time": "2022-09-25T07:56:22.881Z"
   },
   {
    "duration": 28,
    "start_time": "2022-09-25T07:56:22.898Z"
   },
   {
    "duration": 155,
    "start_time": "2022-09-25T07:56:22.927Z"
   },
   {
    "duration": 97,
    "start_time": "2022-09-25T07:56:23.084Z"
   },
   {
    "duration": 10,
    "start_time": "2022-09-25T07:56:23.183Z"
   },
   {
    "duration": 132,
    "start_time": "2022-09-25T07:56:23.194Z"
   },
   {
    "duration": 145,
    "start_time": "2022-09-25T07:56:23.327Z"
   },
   {
    "duration": 135,
    "start_time": "2022-09-25T07:56:23.474Z"
   },
   {
    "duration": 134,
    "start_time": "2022-09-25T07:56:23.611Z"
   },
   {
    "duration": 143,
    "start_time": "2022-09-25T07:56:23.746Z"
   },
   {
    "duration": 241,
    "start_time": "2022-09-25T07:56:23.891Z"
   },
   {
    "duration": 280,
    "start_time": "2022-09-25T07:56:24.133Z"
   },
   {
    "duration": 18,
    "start_time": "2022-09-25T07:56:24.415Z"
   },
   {
    "duration": 111,
    "start_time": "2022-09-25T07:56:24.435Z"
   },
   {
    "duration": 137,
    "start_time": "2022-09-25T07:56:24.550Z"
   },
   {
    "duration": 6,
    "start_time": "2022-09-25T07:56:24.689Z"
   },
   {
    "duration": 191,
    "start_time": "2022-09-25T07:56:24.696Z"
   },
   {
    "duration": 5,
    "start_time": "2022-09-25T07:56:24.888Z"
   },
   {
    "duration": 120,
    "start_time": "2022-09-25T07:56:24.895Z"
   },
   {
    "duration": 5,
    "start_time": "2022-09-25T07:56:25.021Z"
   },
   {
    "duration": 125,
    "start_time": "2022-09-25T07:56:25.028Z"
   },
   {
    "duration": 5,
    "start_time": "2022-09-25T07:56:25.155Z"
   },
   {
    "duration": 309,
    "start_time": "2022-09-25T07:56:25.161Z"
   },
   {
    "duration": 12,
    "start_time": "2022-09-25T07:56:25.472Z"
   },
   {
    "duration": 13,
    "start_time": "2022-09-25T07:56:25.486Z"
   },
   {
    "duration": 28,
    "start_time": "2022-09-25T07:56:25.501Z"
   },
   {
    "duration": 9,
    "start_time": "2022-09-25T07:56:25.530Z"
   },
   {
    "duration": 11,
    "start_time": "2022-09-25T07:56:25.540Z"
   },
   {
    "duration": 14,
    "start_time": "2022-09-25T07:56:25.552Z"
   },
   {
    "duration": 12,
    "start_time": "2022-09-25T07:56:25.568Z"
   },
   {
    "duration": 10,
    "start_time": "2022-09-25T07:58:07.086Z"
   },
   {
    "duration": 10,
    "start_time": "2022-09-25T07:58:39.404Z"
   },
   {
    "duration": 10,
    "start_time": "2022-09-25T07:58:59.532Z"
   },
   {
    "duration": 12,
    "start_time": "2022-09-25T08:00:49.046Z"
   },
   {
    "duration": 12,
    "start_time": "2022-09-25T08:01:23.871Z"
   },
   {
    "duration": 12,
    "start_time": "2022-09-25T08:01:52.533Z"
   },
   {
    "duration": 206,
    "start_time": "2022-09-25T09:05:58.560Z"
   },
   {
    "duration": 230,
    "start_time": "2022-09-25T09:06:06.261Z"
   },
   {
    "duration": 198,
    "start_time": "2022-09-25T09:06:14.496Z"
   },
   {
    "duration": 270,
    "start_time": "2022-09-25T09:06:22.080Z"
   },
   {
    "duration": 231,
    "start_time": "2022-09-25T09:06:33.270Z"
   },
   {
    "duration": 236,
    "start_time": "2022-09-25T09:06:47.335Z"
   },
   {
    "duration": 240,
    "start_time": "2022-09-25T09:06:59.645Z"
   },
   {
    "duration": 601,
    "start_time": "2022-09-25T09:11:04.581Z"
   },
   {
    "duration": 12,
    "start_time": "2022-09-25T09:11:05.184Z"
   },
   {
    "duration": 7,
    "start_time": "2022-09-25T09:11:05.197Z"
   },
   {
    "duration": 48,
    "start_time": "2022-09-25T09:11:05.206Z"
   },
   {
    "duration": 874,
    "start_time": "2022-09-25T09:11:05.256Z"
   },
   {
    "duration": 4,
    "start_time": "2022-09-25T09:11:06.132Z"
   },
   {
    "duration": 24,
    "start_time": "2022-09-25T09:11:06.138Z"
   },
   {
    "duration": 15,
    "start_time": "2022-09-25T09:11:06.164Z"
   },
   {
    "duration": 18,
    "start_time": "2022-09-25T09:11:06.180Z"
   },
   {
    "duration": 87,
    "start_time": "2022-09-25T09:11:06.201Z"
   },
   {
    "duration": 5,
    "start_time": "2022-09-25T09:11:06.290Z"
   },
   {
    "duration": 32,
    "start_time": "2022-09-25T09:11:06.296Z"
   },
   {
    "duration": 10,
    "start_time": "2022-09-25T09:11:06.330Z"
   },
   {
    "duration": 16,
    "start_time": "2022-09-25T09:11:06.342Z"
   },
   {
    "duration": 5,
    "start_time": "2022-09-25T09:11:06.360Z"
   },
   {
    "duration": 175,
    "start_time": "2022-09-25T09:11:06.367Z"
   },
   {
    "duration": 107,
    "start_time": "2022-09-25T09:11:06.544Z"
   },
   {
    "duration": 11,
    "start_time": "2022-09-25T09:11:06.652Z"
   },
   {
    "duration": 136,
    "start_time": "2022-09-25T09:11:06.664Z"
   },
   {
    "duration": 144,
    "start_time": "2022-09-25T09:11:06.801Z"
   },
   {
    "duration": 145,
    "start_time": "2022-09-25T09:11:06.946Z"
   },
   {
    "duration": 145,
    "start_time": "2022-09-25T09:11:07.092Z"
   },
   {
    "duration": 149,
    "start_time": "2022-09-25T09:11:07.239Z"
   },
   {
    "duration": 242,
    "start_time": "2022-09-25T09:11:07.390Z"
   },
   {
    "duration": 308,
    "start_time": "2022-09-25T09:11:07.633Z"
   },
   {
    "duration": 11,
    "start_time": "2022-09-25T09:11:07.943Z"
   },
   {
    "duration": 247,
    "start_time": "2022-09-25T09:11:07.956Z"
   },
   {
    "duration": 416,
    "start_time": "2022-09-25T09:11:08.206Z"
   },
   {
    "duration": 5,
    "start_time": "2022-09-25T09:11:08.623Z"
   },
   {
    "duration": 220,
    "start_time": "2022-09-25T09:11:08.629Z"
   },
   {
    "duration": 4,
    "start_time": "2022-09-25T09:11:08.851Z"
   },
   {
    "duration": 273,
    "start_time": "2022-09-25T09:11:08.856Z"
   },
   {
    "duration": 5,
    "start_time": "2022-09-25T09:11:09.131Z"
   },
   {
    "duration": 221,
    "start_time": "2022-09-25T09:11:09.137Z"
   },
   {
    "duration": 4,
    "start_time": "2022-09-25T09:11:09.360Z"
   },
   {
    "duration": 537,
    "start_time": "2022-09-25T09:11:09.366Z"
   },
   {
    "duration": 19,
    "start_time": "2022-09-25T09:11:09.905Z"
   },
   {
    "duration": 12,
    "start_time": "2022-09-25T09:11:09.925Z"
   },
   {
    "duration": 12,
    "start_time": "2022-09-25T09:11:09.939Z"
   },
   {
    "duration": 12,
    "start_time": "2022-09-25T09:11:09.952Z"
   },
   {
    "duration": 17,
    "start_time": "2022-09-25T09:11:09.965Z"
   },
   {
    "duration": 11,
    "start_time": "2022-09-25T09:11:09.983Z"
   },
   {
    "duration": 13,
    "start_time": "2022-09-25T09:11:10.022Z"
   },
   {
    "duration": 13,
    "start_time": "2022-09-25T09:14:06.335Z"
   },
   {
    "duration": 694,
    "start_time": "2022-09-25T10:15:55.812Z"
   },
   {
    "duration": 13,
    "start_time": "2022-09-25T10:15:56.508Z"
   },
   {
    "duration": 9,
    "start_time": "2022-09-25T10:15:56.523Z"
   },
   {
    "duration": 47,
    "start_time": "2022-09-25T10:15:56.534Z"
   },
   {
    "duration": 690,
    "start_time": "2022-09-25T10:15:56.582Z"
   },
   {
    "duration": 3,
    "start_time": "2022-09-25T10:15:57.273Z"
   },
   {
    "duration": 16,
    "start_time": "2022-09-25T10:15:57.277Z"
   },
   {
    "duration": 6,
    "start_time": "2022-09-25T10:15:57.295Z"
   },
   {
    "duration": 19,
    "start_time": "2022-09-25T10:15:57.303Z"
   },
   {
    "duration": 68,
    "start_time": "2022-09-25T10:15:57.324Z"
   },
   {
    "duration": 4,
    "start_time": "2022-09-25T10:15:57.393Z"
   },
   {
    "duration": 32,
    "start_time": "2022-09-25T10:15:57.398Z"
   },
   {
    "duration": 8,
    "start_time": "2022-09-25T10:15:57.431Z"
   },
   {
    "duration": 15,
    "start_time": "2022-09-25T10:15:57.441Z"
   },
   {
    "duration": 7,
    "start_time": "2022-09-25T10:15:57.457Z"
   },
   {
    "duration": 161,
    "start_time": "2022-09-25T10:15:57.467Z"
   },
   {
    "duration": 117,
    "start_time": "2022-09-25T10:15:57.630Z"
   },
   {
    "duration": 10,
    "start_time": "2022-09-25T10:15:57.749Z"
   },
   {
    "duration": 240,
    "start_time": "2022-09-25T10:15:57.760Z"
   },
   {
    "duration": 289,
    "start_time": "2022-09-25T10:15:58.001Z"
   },
   {
    "duration": 12,
    "start_time": "2022-09-25T10:15:58.292Z"
   },
   {
    "duration": 284,
    "start_time": "2022-09-25T10:15:58.305Z"
   },
   {
    "duration": 130,
    "start_time": "2022-09-25T10:15:58.590Z"
   },
   {
    "duration": 4,
    "start_time": "2022-09-25T10:15:58.722Z"
   },
   {
    "duration": 131,
    "start_time": "2022-09-25T10:15:58.728Z"
   },
   {
    "duration": 4,
    "start_time": "2022-09-25T10:15:58.861Z"
   },
   {
    "duration": 133,
    "start_time": "2022-09-25T10:15:58.867Z"
   },
   {
    "duration": 5,
    "start_time": "2022-09-25T10:15:59.002Z"
   },
   {
    "duration": 121,
    "start_time": "2022-09-25T10:15:59.008Z"
   },
   {
    "duration": 5,
    "start_time": "2022-09-25T10:15:59.130Z"
   },
   {
    "duration": 298,
    "start_time": "2022-09-25T10:15:59.136Z"
   },
   {
    "duration": 12,
    "start_time": "2022-09-25T10:15:59.436Z"
   },
   {
    "duration": 10,
    "start_time": "2022-09-25T10:15:59.449Z"
   },
   {
    "duration": 10,
    "start_time": "2022-09-25T10:15:59.461Z"
   },
   {
    "duration": 12,
    "start_time": "2022-09-25T10:15:59.473Z"
   },
   {
    "duration": 12,
    "start_time": "2022-09-25T10:15:59.486Z"
   },
   {
    "duration": 10,
    "start_time": "2022-09-25T10:15:59.522Z"
   },
   {
    "duration": 11,
    "start_time": "2022-09-25T10:15:59.533Z"
   },
   {
    "duration": 650,
    "start_time": "2022-09-25T10:17:43.134Z"
   },
   {
    "duration": 13,
    "start_time": "2022-09-25T10:17:43.786Z"
   },
   {
    "duration": 9,
    "start_time": "2022-09-25T10:17:43.801Z"
   },
   {
    "duration": 45,
    "start_time": "2022-09-25T10:17:43.812Z"
   },
   {
    "duration": 729,
    "start_time": "2022-09-25T10:17:43.859Z"
   },
   {
    "duration": 3,
    "start_time": "2022-09-25T10:17:44.590Z"
   },
   {
    "duration": 27,
    "start_time": "2022-09-25T10:17:44.595Z"
   },
   {
    "duration": 21,
    "start_time": "2022-09-25T10:17:44.624Z"
   },
   {
    "duration": 11,
    "start_time": "2022-09-25T10:17:44.647Z"
   },
   {
    "duration": 77,
    "start_time": "2022-09-25T10:17:44.662Z"
   },
   {
    "duration": 4,
    "start_time": "2022-09-25T10:17:44.741Z"
   },
   {
    "duration": 24,
    "start_time": "2022-09-25T10:17:44.747Z"
   },
   {
    "duration": 7,
    "start_time": "2022-09-25T10:17:44.772Z"
   },
   {
    "duration": 15,
    "start_time": "2022-09-25T10:17:44.781Z"
   },
   {
    "duration": 4,
    "start_time": "2022-09-25T10:17:44.797Z"
   },
   {
    "duration": 182,
    "start_time": "2022-09-25T10:17:44.822Z"
   },
   {
    "duration": 131,
    "start_time": "2022-09-25T10:17:45.006Z"
   },
   {
    "duration": 13,
    "start_time": "2022-09-25T10:17:45.139Z"
   },
   {
    "duration": 294,
    "start_time": "2022-09-25T10:17:45.154Z"
   },
   {
    "duration": 346,
    "start_time": "2022-09-25T10:17:45.450Z"
   },
   {
    "duration": 25,
    "start_time": "2022-09-25T10:17:45.797Z"
   },
   {
    "duration": 321,
    "start_time": "2022-09-25T10:17:45.824Z"
   },
   {
    "duration": 179,
    "start_time": "2022-09-25T10:17:46.147Z"
   },
   {
    "duration": 5,
    "start_time": "2022-09-25T10:17:46.328Z"
   },
   {
    "duration": 144,
    "start_time": "2022-09-25T10:17:46.335Z"
   },
   {
    "duration": 5,
    "start_time": "2022-09-25T10:17:46.481Z"
   },
   {
    "duration": 149,
    "start_time": "2022-09-25T10:17:46.488Z"
   },
   {
    "duration": 5,
    "start_time": "2022-09-25T10:17:46.639Z"
   },
   {
    "duration": 137,
    "start_time": "2022-09-25T10:17:46.646Z"
   },
   {
    "duration": 5,
    "start_time": "2022-09-25T10:17:46.784Z"
   },
   {
    "duration": 301,
    "start_time": "2022-09-25T10:17:46.790Z"
   },
   {
    "duration": 12,
    "start_time": "2022-09-25T10:17:47.093Z"
   },
   {
    "duration": 21,
    "start_time": "2022-09-25T10:17:47.106Z"
   },
   {
    "duration": 12,
    "start_time": "2022-09-25T10:17:47.128Z"
   },
   {
    "duration": 11,
    "start_time": "2022-09-25T10:17:47.141Z"
   },
   {
    "duration": 11,
    "start_time": "2022-09-25T10:17:47.153Z"
   },
   {
    "duration": 15,
    "start_time": "2022-09-25T10:17:47.165Z"
   },
   {
    "duration": 11,
    "start_time": "2022-09-25T10:17:47.182Z"
   },
   {
    "duration": 6,
    "start_time": "2022-09-25T10:19:28.944Z"
   },
   {
    "duration": 205,
    "start_time": "2022-09-25T10:20:53.175Z"
   },
   {
    "duration": 5,
    "start_time": "2022-09-25T10:21:02.069Z"
   },
   {
    "duration": 68,
    "start_time": "2022-09-25T10:21:20.468Z"
   },
   {
    "duration": 115,
    "start_time": "2022-09-25T10:21:37.539Z"
   },
   {
    "duration": 4,
    "start_time": "2022-09-25T10:21:52.035Z"
   },
   {
    "duration": 126,
    "start_time": "2022-09-25T10:22:48.303Z"
   },
   {
    "duration": 126,
    "start_time": "2022-09-25T10:22:53.223Z"
   },
   {
    "duration": 133,
    "start_time": "2022-09-25T10:22:58.117Z"
   },
   {
    "duration": 137,
    "start_time": "2022-09-25T10:24:31.939Z"
   },
   {
    "duration": 120,
    "start_time": "2022-09-25T10:24:40.376Z"
   },
   {
    "duration": 131,
    "start_time": "2022-09-25T10:32:11.190Z"
   },
   {
    "duration": 122,
    "start_time": "2022-09-25T10:32:23.629Z"
   },
   {
    "duration": 150,
    "start_time": "2022-09-25T10:32:38.276Z"
   },
   {
    "duration": 122,
    "start_time": "2022-09-25T10:44:49.017Z"
   },
   {
    "duration": 5,
    "start_time": "2022-09-25T10:45:04.389Z"
   },
   {
    "duration": 173,
    "start_time": "2022-09-25T10:48:00.012Z"
   },
   {
    "duration": 5,
    "start_time": "2022-09-25T10:48:21.772Z"
   },
   {
    "duration": 346,
    "start_time": "2022-09-25T10:49:44.447Z"
   },
   {
    "duration": 142,
    "start_time": "2022-09-25T10:50:57.327Z"
   },
   {
    "duration": 117,
    "start_time": "2022-09-25T10:51:09.532Z"
   },
   {
    "duration": 5,
    "start_time": "2022-09-25T10:51:37.273Z"
   },
   {
    "duration": 147,
    "start_time": "2022-09-25T10:51:44.897Z"
   },
   {
    "duration": 7,
    "start_time": "2022-09-25T10:55:33.782Z"
   },
   {
    "duration": 144,
    "start_time": "2022-09-25T10:57:07.291Z"
   },
   {
    "duration": 5,
    "start_time": "2022-09-25T10:57:33.931Z"
   },
   {
    "duration": 104,
    "start_time": "2022-09-25T10:57:52.983Z"
   },
   {
    "duration": 4,
    "start_time": "2022-09-25T10:58:06.559Z"
   },
   {
    "duration": 7,
    "start_time": "2022-09-25T10:58:16.167Z"
   },
   {
    "duration": 605,
    "start_time": "2022-09-25T11:00:24.176Z"
   },
   {
    "duration": 14,
    "start_time": "2022-09-25T11:00:24.783Z"
   },
   {
    "duration": 8,
    "start_time": "2022-09-25T11:00:24.798Z"
   },
   {
    "duration": 51,
    "start_time": "2022-09-25T11:00:24.807Z"
   },
   {
    "duration": 666,
    "start_time": "2022-09-25T11:00:24.860Z"
   },
   {
    "duration": 3,
    "start_time": "2022-09-25T11:00:25.528Z"
   },
   {
    "duration": 18,
    "start_time": "2022-09-25T11:00:25.532Z"
   },
   {
    "duration": 8,
    "start_time": "2022-09-25T11:00:25.551Z"
   },
   {
    "duration": 14,
    "start_time": "2022-09-25T11:00:25.560Z"
   },
   {
    "duration": 20,
    "start_time": "2022-09-25T11:00:25.575Z"
   },
   {
    "duration": 4,
    "start_time": "2022-09-25T11:00:25.596Z"
   },
   {
    "duration": 76,
    "start_time": "2022-09-25T11:00:25.602Z"
   },
   {
    "duration": 9,
    "start_time": "2022-09-25T11:00:25.679Z"
   },
   {
    "duration": 31,
    "start_time": "2022-09-25T11:00:25.691Z"
   },
   {
    "duration": 6,
    "start_time": "2022-09-25T11:00:25.724Z"
   },
   {
    "duration": 167,
    "start_time": "2022-09-25T11:00:25.731Z"
   },
   {
    "duration": 113,
    "start_time": "2022-09-25T11:00:25.900Z"
   },
   {
    "duration": 17,
    "start_time": "2022-09-25T11:00:26.015Z"
   },
   {
    "duration": 275,
    "start_time": "2022-09-25T11:00:26.033Z"
   },
   {
    "duration": 304,
    "start_time": "2022-09-25T11:00:26.309Z"
   },
   {
    "duration": 19,
    "start_time": "2022-09-25T11:00:26.614Z"
   },
   {
    "duration": 256,
    "start_time": "2022-09-25T11:00:26.635Z"
   },
   {
    "duration": 147,
    "start_time": "2022-09-25T11:00:26.893Z"
   },
   {
    "duration": 5,
    "start_time": "2022-09-25T11:00:27.042Z"
   },
   {
    "duration": 131,
    "start_time": "2022-09-25T11:00:27.048Z"
   },
   {
    "duration": 5,
    "start_time": "2022-09-25T11:00:27.181Z"
   },
   {
    "duration": 10,
    "start_time": "2022-09-25T11:00:27.188Z"
   },
   {
    "duration": 163,
    "start_time": "2022-09-25T11:00:27.200Z"
   },
   {
    "duration": 6,
    "start_time": "2022-09-25T11:00:27.366Z"
   },
   {
    "duration": 121,
    "start_time": "2022-09-25T11:00:27.374Z"
   },
   {
    "duration": 8,
    "start_time": "2022-09-25T11:00:27.496Z"
   },
   {
    "duration": 330,
    "start_time": "2022-09-25T11:00:27.505Z"
   },
   {
    "duration": 12,
    "start_time": "2022-09-25T11:00:27.837Z"
   },
   {
    "duration": 16,
    "start_time": "2022-09-25T11:00:27.851Z"
   },
   {
    "duration": 15,
    "start_time": "2022-09-25T11:00:27.869Z"
   },
   {
    "duration": 18,
    "start_time": "2022-09-25T11:00:27.886Z"
   },
   {
    "duration": 26,
    "start_time": "2022-09-25T11:00:27.906Z"
   },
   {
    "duration": 97,
    "start_time": "2022-09-25T11:00:27.933Z"
   },
   {
    "duration": 15,
    "start_time": "2022-09-25T11:00:28.032Z"
   },
   {
    "duration": 12,
    "start_time": "2022-09-25T11:04:49.037Z"
   },
   {
    "duration": 12,
    "start_time": "2022-09-25T11:13:04.229Z"
   },
   {
    "duration": 13,
    "start_time": "2022-09-25T11:17:21.003Z"
   },
   {
    "duration": 1302,
    "start_time": "2022-09-25T11:45:34.426Z"
   },
   {
    "duration": 28,
    "start_time": "2022-09-25T11:45:35.732Z"
   },
   {
    "duration": 11,
    "start_time": "2022-09-25T11:45:35.763Z"
   },
   {
    "duration": 80,
    "start_time": "2022-09-25T11:45:35.775Z"
   },
   {
    "duration": 772,
    "start_time": "2022-09-25T11:45:35.857Z"
   },
   {
    "duration": 4,
    "start_time": "2022-09-25T11:45:36.631Z"
   },
   {
    "duration": 26,
    "start_time": "2022-09-25T11:45:36.637Z"
   },
   {
    "duration": 13,
    "start_time": "2022-09-25T11:45:36.664Z"
   },
   {
    "duration": 10,
    "start_time": "2022-09-25T11:45:36.679Z"
   },
   {
    "duration": 18,
    "start_time": "2022-09-25T11:45:36.691Z"
   },
   {
    "duration": 12,
    "start_time": "2022-09-25T11:45:36.711Z"
   },
   {
    "duration": 22,
    "start_time": "2022-09-25T11:45:36.724Z"
   },
   {
    "duration": 9,
    "start_time": "2022-09-25T11:45:36.747Z"
   },
   {
    "duration": 16,
    "start_time": "2022-09-25T11:45:36.759Z"
   },
   {
    "duration": 9,
    "start_time": "2022-09-25T11:45:36.777Z"
   },
   {
    "duration": 184,
    "start_time": "2022-09-25T11:45:36.788Z"
   },
   {
    "duration": 120,
    "start_time": "2022-09-25T11:45:36.973Z"
   },
   {
    "duration": 13,
    "start_time": "2022-09-25T11:45:37.095Z"
   },
   {
    "duration": 250,
    "start_time": "2022-09-25T11:45:37.110Z"
   },
   {
    "duration": 337,
    "start_time": "2022-09-25T11:45:37.363Z"
   },
   {
    "duration": 29,
    "start_time": "2022-09-25T11:45:37.703Z"
   },
   {
    "duration": 355,
    "start_time": "2022-09-25T11:45:37.735Z"
   },
   {
    "duration": 137,
    "start_time": "2022-09-25T11:45:38.091Z"
   },
   {
    "duration": 6,
    "start_time": "2022-09-25T11:45:38.230Z"
   },
   {
    "duration": 129,
    "start_time": "2022-09-25T11:45:38.237Z"
   },
   {
    "duration": 4,
    "start_time": "2022-09-25T11:45:38.369Z"
   },
   {
    "duration": 11,
    "start_time": "2022-09-25T11:45:38.374Z"
   },
   {
    "duration": 150,
    "start_time": "2022-09-25T11:45:38.386Z"
   },
   {
    "duration": 5,
    "start_time": "2022-09-25T11:45:38.537Z"
   },
   {
    "duration": 126,
    "start_time": "2022-09-25T11:45:38.544Z"
   },
   {
    "duration": 4,
    "start_time": "2022-09-25T11:45:38.672Z"
   },
   {
    "duration": 313,
    "start_time": "2022-09-25T11:45:38.678Z"
   },
   {
    "duration": 13,
    "start_time": "2022-09-25T11:45:38.993Z"
   },
   {
    "duration": 12,
    "start_time": "2022-09-25T11:45:39.021Z"
   },
   {
    "duration": 16,
    "start_time": "2022-09-25T11:45:39.035Z"
   },
   {
    "duration": 14,
    "start_time": "2022-09-25T11:45:39.052Z"
   },
   {
    "duration": 15,
    "start_time": "2022-09-25T11:45:39.067Z"
   },
   {
    "duration": 39,
    "start_time": "2022-09-25T11:45:39.084Z"
   },
   {
    "duration": 14,
    "start_time": "2022-09-25T11:45:39.125Z"
   },
   {
    "duration": 21,
    "start_time": "2022-09-25T11:45:39.141Z"
   },
   {
    "duration": 12,
    "start_time": "2022-09-25T11:45:39.165Z"
   },
   {
    "duration": 14,
    "start_time": "2022-09-25T11:45:39.179Z"
   },
   {
    "duration": 8,
    "start_time": "2022-09-25T11:52:02.635Z"
   },
   {
    "duration": 8,
    "start_time": "2022-09-25T11:52:23.480Z"
   },
   {
    "duration": 6,
    "start_time": "2022-09-25T11:52:30.209Z"
   },
   {
    "duration": 11,
    "start_time": "2022-09-25T11:52:35.575Z"
   },
   {
    "duration": 7,
    "start_time": "2022-09-25T11:53:15.111Z"
   },
   {
    "duration": 10,
    "start_time": "2022-09-25T11:53:23.621Z"
   },
   {
    "duration": 10,
    "start_time": "2022-09-25T11:54:31.276Z"
   },
   {
    "duration": 103,
    "start_time": "2022-09-25T11:55:10.083Z"
   },
   {
    "duration": 27,
    "start_time": "2022-09-25T11:55:37.240Z"
   },
   {
    "duration": 27,
    "start_time": "2022-09-25T11:55:53.825Z"
   },
   {
    "duration": 38,
    "start_time": "2022-09-25T11:56:13.279Z"
   },
   {
    "duration": 1093,
    "start_time": "2022-09-25T11:56:21.796Z"
   },
   {
    "duration": 13,
    "start_time": "2022-09-25T11:56:22.891Z"
   },
   {
    "duration": 9,
    "start_time": "2022-09-25T11:56:22.906Z"
   },
   {
    "duration": 47,
    "start_time": "2022-09-25T11:56:22.917Z"
   },
   {
    "duration": 683,
    "start_time": "2022-09-25T11:56:22.966Z"
   },
   {
    "duration": 2,
    "start_time": "2022-09-25T11:56:23.651Z"
   },
   {
    "duration": 15,
    "start_time": "2022-09-25T11:56:23.655Z"
   },
   {
    "duration": 8,
    "start_time": "2022-09-25T11:56:23.672Z"
   },
   {
    "duration": 11,
    "start_time": "2022-09-25T11:56:23.682Z"
   },
   {
    "duration": 29,
    "start_time": "2022-09-25T11:56:23.695Z"
   },
   {
    "duration": 4,
    "start_time": "2022-09-25T11:56:23.725Z"
   },
   {
    "duration": 15,
    "start_time": "2022-09-25T11:56:23.731Z"
   },
   {
    "duration": 7,
    "start_time": "2022-09-25T11:56:23.747Z"
   },
   {
    "duration": 14,
    "start_time": "2022-09-25T11:56:23.756Z"
   },
   {
    "duration": 4,
    "start_time": "2022-09-25T11:56:23.771Z"
   },
   {
    "duration": 199,
    "start_time": "2022-09-25T11:56:23.776Z"
   },
   {
    "duration": 106,
    "start_time": "2022-09-25T11:56:23.977Z"
   },
   {
    "duration": 11,
    "start_time": "2022-09-25T11:56:24.084Z"
   },
   {
    "duration": 248,
    "start_time": "2022-09-25T11:56:24.096Z"
   },
   {
    "duration": 296,
    "start_time": "2022-09-25T11:56:24.345Z"
   },
   {
    "duration": 12,
    "start_time": "2022-09-25T11:56:24.643Z"
   },
   {
    "duration": 319,
    "start_time": "2022-09-25T11:56:24.656Z"
   },
   {
    "duration": 130,
    "start_time": "2022-09-25T11:56:24.977Z"
   },
   {
    "duration": 4,
    "start_time": "2022-09-25T11:56:25.109Z"
   },
   {
    "duration": 128,
    "start_time": "2022-09-25T11:56:25.121Z"
   },
   {
    "duration": 4,
    "start_time": "2022-09-25T11:56:25.250Z"
   },
   {
    "duration": 8,
    "start_time": "2022-09-25T11:56:25.256Z"
   },
   {
    "duration": 129,
    "start_time": "2022-09-25T11:56:25.267Z"
   },
   {
    "duration": 4,
    "start_time": "2022-09-25T11:56:25.398Z"
   },
   {
    "duration": 117,
    "start_time": "2022-09-25T11:56:25.404Z"
   },
   {
    "duration": 5,
    "start_time": "2022-09-25T11:56:25.523Z"
   },
   {
    "duration": 308,
    "start_time": "2022-09-25T11:56:25.529Z"
   },
   {
    "duration": 13,
    "start_time": "2022-09-25T11:56:25.838Z"
   },
   {
    "duration": 12,
    "start_time": "2022-09-25T11:56:25.853Z"
   },
   {
    "duration": 11,
    "start_time": "2022-09-25T11:56:25.866Z"
   },
   {
    "duration": 10,
    "start_time": "2022-09-25T11:56:25.878Z"
   },
   {
    "duration": 39,
    "start_time": "2022-09-25T11:56:25.890Z"
   },
   {
    "duration": 10,
    "start_time": "2022-09-25T11:56:25.930Z"
   },
   {
    "duration": 10,
    "start_time": "2022-09-25T11:56:25.941Z"
   },
   {
    "duration": 20,
    "start_time": "2022-09-25T11:56:25.952Z"
   },
   {
    "duration": 27,
    "start_time": "2022-09-25T11:56:25.973Z"
   },
   {
    "duration": 53,
    "start_time": "2022-09-25T11:56:26.002Z"
   },
   {
    "duration": 0,
    "start_time": "2022-09-25T11:56:26.057Z"
   },
   {
    "duration": 0,
    "start_time": "2022-09-25T11:56:26.058Z"
   },
   {
    "duration": 8,
    "start_time": "2022-09-25T11:56:41.400Z"
   },
   {
    "duration": 103,
    "start_time": "2022-09-25T11:57:20.696Z"
   },
   {
    "duration": 9,
    "start_time": "2022-09-25T11:57:34.729Z"
   },
   {
    "duration": 42,
    "start_time": "2022-09-25T11:58:22.404Z"
   },
   {
    "duration": 9,
    "start_time": "2022-09-25T11:58:29.629Z"
   },
   {
    "duration": 13,
    "start_time": "2022-09-25T11:59:19.923Z"
   },
   {
    "duration": 7,
    "start_time": "2022-09-25T12:01:14.867Z"
   },
   {
    "duration": 8,
    "start_time": "2022-09-25T12:01:54.653Z"
   },
   {
    "duration": 1106,
    "start_time": "2022-09-25T12:02:07.506Z"
   },
   {
    "duration": 12,
    "start_time": "2022-09-25T12:02:08.614Z"
   },
   {
    "duration": 7,
    "start_time": "2022-09-25T12:02:08.628Z"
   },
   {
    "duration": 52,
    "start_time": "2022-09-25T12:02:08.637Z"
   },
   {
    "duration": 672,
    "start_time": "2022-09-25T12:02:08.691Z"
   },
   {
    "duration": 8,
    "start_time": "2022-09-25T12:02:09.365Z"
   },
   {
    "duration": 18,
    "start_time": "2022-09-25T12:02:09.375Z"
   },
   {
    "duration": 6,
    "start_time": "2022-09-25T12:02:09.395Z"
   },
   {
    "duration": 12,
    "start_time": "2022-09-25T12:02:09.403Z"
   },
   {
    "duration": 17,
    "start_time": "2022-09-25T12:02:09.417Z"
   },
   {
    "duration": 4,
    "start_time": "2022-09-25T12:02:09.435Z"
   },
   {
    "duration": 17,
    "start_time": "2022-09-25T12:02:09.440Z"
   },
   {
    "duration": 7,
    "start_time": "2022-09-25T12:02:09.458Z"
   },
   {
    "duration": 15,
    "start_time": "2022-09-25T12:02:09.467Z"
   },
   {
    "duration": 4,
    "start_time": "2022-09-25T12:02:09.484Z"
   },
   {
    "duration": 188,
    "start_time": "2022-09-25T12:02:09.489Z"
   },
   {
    "duration": 113,
    "start_time": "2022-09-25T12:02:09.678Z"
   },
   {
    "duration": 11,
    "start_time": "2022-09-25T12:02:09.792Z"
   },
   {
    "duration": 236,
    "start_time": "2022-09-25T12:02:09.804Z"
   },
   {
    "duration": 291,
    "start_time": "2022-09-25T12:02:10.041Z"
   },
   {
    "duration": 11,
    "start_time": "2022-09-25T12:02:10.334Z"
   },
   {
    "duration": 321,
    "start_time": "2022-09-25T12:02:10.347Z"
   },
   {
    "duration": 128,
    "start_time": "2022-09-25T12:02:10.670Z"
   },
   {
    "duration": 4,
    "start_time": "2022-09-25T12:02:10.800Z"
   },
   {
    "duration": 129,
    "start_time": "2022-09-25T12:02:10.805Z"
   },
   {
    "duration": 4,
    "start_time": "2022-09-25T12:02:10.936Z"
   },
   {
    "duration": 10,
    "start_time": "2022-09-25T12:02:10.941Z"
   },
   {
    "duration": 142,
    "start_time": "2022-09-25T12:02:10.953Z"
   },
   {
    "duration": 5,
    "start_time": "2022-09-25T12:02:11.096Z"
   },
   {
    "duration": 124,
    "start_time": "2022-09-25T12:02:11.103Z"
   },
   {
    "duration": 6,
    "start_time": "2022-09-25T12:02:11.228Z"
   },
   {
    "duration": 326,
    "start_time": "2022-09-25T12:02:11.235Z"
   },
   {
    "duration": 13,
    "start_time": "2022-09-25T12:02:11.563Z"
   },
   {
    "duration": 17,
    "start_time": "2022-09-25T12:02:11.578Z"
   },
   {
    "duration": 27,
    "start_time": "2022-09-25T12:02:11.596Z"
   },
   {
    "duration": 15,
    "start_time": "2022-09-25T12:02:11.624Z"
   },
   {
    "duration": 12,
    "start_time": "2022-09-25T12:02:11.641Z"
   },
   {
    "duration": 19,
    "start_time": "2022-09-25T12:02:11.654Z"
   },
   {
    "duration": 10,
    "start_time": "2022-09-25T12:02:11.674Z"
   },
   {
    "duration": 10,
    "start_time": "2022-09-25T12:02:11.686Z"
   },
   {
    "duration": 12,
    "start_time": "2022-09-25T12:02:11.721Z"
   },
   {
    "duration": 10,
    "start_time": "2022-09-25T12:02:11.734Z"
   },
   {
    "duration": 14,
    "start_time": "2022-09-25T12:02:11.745Z"
   },
   {
    "duration": 16,
    "start_time": "2022-09-25T12:04:22.085Z"
   },
   {
    "duration": 10,
    "start_time": "2022-09-25T12:04:39.802Z"
   },
   {
    "duration": 9,
    "start_time": "2022-09-25T12:04:57.917Z"
   },
   {
    "duration": 10,
    "start_time": "2022-09-25T12:07:04.996Z"
   },
   {
    "duration": 117,
    "start_time": "2022-09-25T12:12:16.802Z"
   },
   {
    "duration": 118,
    "start_time": "2022-09-25T12:12:37.232Z"
   },
   {
    "duration": 115,
    "start_time": "2022-09-25T12:18:29.985Z"
   },
   {
    "duration": 131,
    "start_time": "2022-09-25T12:18:45.146Z"
   },
   {
    "duration": 5,
    "start_time": "2022-09-25T12:26:19.378Z"
   },
   {
    "duration": 1082,
    "start_time": "2022-09-25T12:26:39.615Z"
   },
   {
    "duration": 13,
    "start_time": "2022-09-25T12:26:40.699Z"
   },
   {
    "duration": 20,
    "start_time": "2022-09-25T12:26:40.713Z"
   },
   {
    "duration": 66,
    "start_time": "2022-09-25T12:26:40.734Z"
   },
   {
    "duration": 661,
    "start_time": "2022-09-25T12:26:40.801Z"
   },
   {
    "duration": 3,
    "start_time": "2022-09-25T12:26:41.463Z"
   },
   {
    "duration": 41,
    "start_time": "2022-09-25T12:26:41.467Z"
   },
   {
    "duration": 21,
    "start_time": "2022-09-25T12:26:41.510Z"
   },
   {
    "duration": 25,
    "start_time": "2022-09-25T12:26:41.533Z"
   },
   {
    "duration": 36,
    "start_time": "2022-09-25T12:26:41.560Z"
   },
   {
    "duration": 4,
    "start_time": "2022-09-25T12:26:41.597Z"
   },
   {
    "duration": 32,
    "start_time": "2022-09-25T12:26:41.603Z"
   },
   {
    "duration": 13,
    "start_time": "2022-09-25T12:26:41.636Z"
   },
   {
    "duration": 23,
    "start_time": "2022-09-25T12:26:41.650Z"
   },
   {
    "duration": 22,
    "start_time": "2022-09-25T12:26:41.674Z"
   },
   {
    "duration": 169,
    "start_time": "2022-09-25T12:26:41.698Z"
   },
   {
    "duration": 111,
    "start_time": "2022-09-25T12:26:41.868Z"
   },
   {
    "duration": 12,
    "start_time": "2022-09-25T12:26:41.981Z"
   },
   {
    "duration": 282,
    "start_time": "2022-09-25T12:26:41.994Z"
   },
   {
    "duration": 305,
    "start_time": "2022-09-25T12:26:42.278Z"
   },
   {
    "duration": 13,
    "start_time": "2022-09-25T12:26:42.584Z"
   },
   {
    "duration": 338,
    "start_time": "2022-09-25T12:26:42.598Z"
   },
   {
    "duration": 135,
    "start_time": "2022-09-25T12:26:42.938Z"
   },
   {
    "duration": 4,
    "start_time": "2022-09-25T12:26:43.075Z"
   },
   {
    "duration": 136,
    "start_time": "2022-09-25T12:26:43.081Z"
   },
   {
    "duration": 4,
    "start_time": "2022-09-25T12:26:43.221Z"
   },
   {
    "duration": 22,
    "start_time": "2022-09-25T12:26:43.226Z"
   },
   {
    "duration": 136,
    "start_time": "2022-09-25T12:26:43.251Z"
   },
   {
    "duration": 5,
    "start_time": "2022-09-25T12:26:43.389Z"
   },
   {
    "duration": 115,
    "start_time": "2022-09-25T12:26:43.395Z"
   },
   {
    "duration": 13,
    "start_time": "2022-09-25T12:26:43.511Z"
   },
   {
    "duration": 319,
    "start_time": "2022-09-25T12:26:43.525Z"
   },
   {
    "duration": 11,
    "start_time": "2022-09-25T12:26:43.846Z"
   },
   {
    "duration": 16,
    "start_time": "2022-09-25T12:26:43.859Z"
   },
   {
    "duration": 30,
    "start_time": "2022-09-25T12:26:43.876Z"
   },
   {
    "duration": 23,
    "start_time": "2022-09-25T12:26:43.908Z"
   },
   {
    "duration": 12,
    "start_time": "2022-09-25T12:26:43.933Z"
   },
   {
    "duration": 10,
    "start_time": "2022-09-25T12:26:43.946Z"
   },
   {
    "duration": 13,
    "start_time": "2022-09-25T12:26:43.958Z"
   },
   {
    "duration": 11,
    "start_time": "2022-09-25T12:26:43.972Z"
   },
   {
    "duration": 11,
    "start_time": "2022-09-25T12:26:43.984Z"
   },
   {
    "duration": 25,
    "start_time": "2022-09-25T12:26:43.996Z"
   },
   {
    "duration": 125,
    "start_time": "2022-09-25T12:26:44.023Z"
   },
   {
    "duration": 123,
    "start_time": "2022-09-25T12:26:44.149Z"
   },
   {
    "duration": 4,
    "start_time": "2022-09-25T12:26:44.274Z"
   },
   {
    "duration": 10,
    "start_time": "2022-09-25T12:26:44.280Z"
   },
   {
    "duration": 4,
    "start_time": "2022-09-25T12:26:44.292Z"
   },
   {
    "duration": 31,
    "start_time": "2022-09-25T12:26:44.297Z"
   },
   {
    "duration": 174,
    "start_time": "2022-09-25T12:28:06.081Z"
   },
   {
    "duration": 114,
    "start_time": "2022-09-25T12:28:14.680Z"
   },
   {
    "duration": 169,
    "start_time": "2022-09-25T12:28:28.672Z"
   },
   {
    "duration": 106,
    "start_time": "2022-09-25T12:29:11.133Z"
   },
   {
    "duration": 135,
    "start_time": "2022-09-25T12:30:44.362Z"
   },
   {
    "duration": 6,
    "start_time": "2022-09-25T12:49:41.918Z"
   },
   {
    "duration": 5,
    "start_time": "2022-09-25T12:59:06.350Z"
   },
   {
    "duration": 4,
    "start_time": "2022-09-25T13:00:31.018Z"
   },
   {
    "duration": 1118,
    "start_time": "2022-09-25T13:11:42.801Z"
   },
   {
    "duration": 13,
    "start_time": "2022-09-25T13:11:43.920Z"
   },
   {
    "duration": 45,
    "start_time": "2022-09-25T13:11:43.934Z"
   },
   {
    "duration": 729,
    "start_time": "2022-09-25T13:11:43.980Z"
   },
   {
    "duration": 10,
    "start_time": "2022-09-25T13:11:44.712Z"
   },
   {
    "duration": 15,
    "start_time": "2022-09-25T13:11:44.723Z"
   },
   {
    "duration": 9,
    "start_time": "2022-09-25T13:11:44.739Z"
   },
   {
    "duration": 14,
    "start_time": "2022-09-25T13:11:44.750Z"
   },
   {
    "duration": 19,
    "start_time": "2022-09-25T13:11:44.765Z"
   },
   {
    "duration": 5,
    "start_time": "2022-09-25T13:11:44.785Z"
   },
   {
    "duration": 36,
    "start_time": "2022-09-25T13:11:44.792Z"
   },
   {
    "duration": 10,
    "start_time": "2022-09-25T13:11:44.830Z"
   },
   {
    "duration": 16,
    "start_time": "2022-09-25T13:11:44.842Z"
   },
   {
    "duration": 5,
    "start_time": "2022-09-25T13:11:44.861Z"
   },
   {
    "duration": 195,
    "start_time": "2022-09-25T13:11:44.867Z"
   },
   {
    "duration": 121,
    "start_time": "2022-09-25T13:11:45.064Z"
   },
   {
    "duration": 12,
    "start_time": "2022-09-25T13:11:45.186Z"
   },
   {
    "duration": 280,
    "start_time": "2022-09-25T13:11:45.200Z"
   },
   {
    "duration": 342,
    "start_time": "2022-09-25T13:11:45.482Z"
   },
   {
    "duration": 15,
    "start_time": "2022-09-25T13:11:45.826Z"
   },
   {
    "duration": 454,
    "start_time": "2022-09-25T13:11:45.843Z"
   },
   {
    "duration": 150,
    "start_time": "2022-09-25T13:11:46.299Z"
   },
   {
    "duration": 5,
    "start_time": "2022-09-25T13:11:46.450Z"
   },
   {
    "duration": 145,
    "start_time": "2022-09-25T13:11:46.457Z"
   },
   {
    "duration": 5,
    "start_time": "2022-09-25T13:11:46.604Z"
   },
   {
    "duration": 8,
    "start_time": "2022-09-25T13:11:46.622Z"
   },
   {
    "duration": 148,
    "start_time": "2022-09-25T13:11:46.632Z"
   },
   {
    "duration": 5,
    "start_time": "2022-09-25T13:11:46.782Z"
   },
   {
    "duration": 130,
    "start_time": "2022-09-25T13:11:46.789Z"
   },
   {
    "duration": 7,
    "start_time": "2022-09-25T13:11:46.922Z"
   },
   {
    "duration": 316,
    "start_time": "2022-09-25T13:11:46.931Z"
   },
   {
    "duration": 14,
    "start_time": "2022-09-25T13:11:47.249Z"
   },
   {
    "duration": 12,
    "start_time": "2022-09-25T13:11:47.264Z"
   },
   {
    "duration": 14,
    "start_time": "2022-09-25T13:11:47.278Z"
   },
   {
    "duration": 33,
    "start_time": "2022-09-25T13:11:47.294Z"
   },
   {
    "duration": 14,
    "start_time": "2022-09-25T13:11:47.329Z"
   },
   {
    "duration": 19,
    "start_time": "2022-09-25T13:11:47.344Z"
   },
   {
    "duration": 17,
    "start_time": "2022-09-25T13:11:47.364Z"
   },
   {
    "duration": 11,
    "start_time": "2022-09-25T13:11:47.383Z"
   },
   {
    "duration": 31,
    "start_time": "2022-09-25T13:11:47.395Z"
   },
   {
    "duration": 8,
    "start_time": "2022-09-25T13:11:47.429Z"
   },
   {
    "duration": 131,
    "start_time": "2022-09-25T13:11:47.438Z"
   },
   {
    "duration": 132,
    "start_time": "2022-09-25T13:11:47.570Z"
   },
   {
    "duration": 5,
    "start_time": "2022-09-25T13:11:47.703Z"
   },
   {
    "duration": 16,
    "start_time": "2022-09-25T13:11:47.709Z"
   },
   {
    "duration": 135,
    "start_time": "2022-09-25T13:11:47.726Z"
   },
   {
    "duration": 113,
    "start_time": "2022-09-25T13:11:47.863Z"
   },
   {
    "duration": 5,
    "start_time": "2022-09-25T13:11:47.977Z"
   },
   {
    "duration": 1076,
    "start_time": "2022-09-25T13:56:47.817Z"
   },
   {
    "duration": 12,
    "start_time": "2022-09-25T13:56:48.895Z"
   },
   {
    "duration": 56,
    "start_time": "2022-09-25T13:56:48.909Z"
   },
   {
    "duration": 648,
    "start_time": "2022-09-25T13:56:48.967Z"
   },
   {
    "duration": 5,
    "start_time": "2022-09-25T13:56:49.617Z"
   },
   {
    "duration": 24,
    "start_time": "2022-09-25T13:56:49.624Z"
   },
   {
    "duration": 5,
    "start_time": "2022-09-25T13:56:49.650Z"
   },
   {
    "duration": 11,
    "start_time": "2022-09-25T13:56:49.657Z"
   },
   {
    "duration": 17,
    "start_time": "2022-09-25T13:56:49.669Z"
   },
   {
    "duration": 4,
    "start_time": "2022-09-25T13:56:49.688Z"
   },
   {
    "duration": 16,
    "start_time": "2022-09-25T13:56:49.693Z"
   },
   {
    "duration": 8,
    "start_time": "2022-09-25T13:56:49.722Z"
   },
   {
    "duration": 15,
    "start_time": "2022-09-25T13:56:49.732Z"
   },
   {
    "duration": 6,
    "start_time": "2022-09-25T13:56:49.748Z"
   },
   {
    "duration": 185,
    "start_time": "2022-09-25T13:56:49.755Z"
   },
   {
    "duration": 125,
    "start_time": "2022-09-25T13:56:49.942Z"
   },
   {
    "duration": 11,
    "start_time": "2022-09-25T13:56:50.069Z"
   },
   {
    "duration": 234,
    "start_time": "2022-09-25T13:56:50.082Z"
   },
   {
    "duration": 305,
    "start_time": "2022-09-25T13:56:50.317Z"
   },
   {
    "duration": 13,
    "start_time": "2022-09-25T13:56:50.623Z"
   },
   {
    "duration": 315,
    "start_time": "2022-09-25T13:56:50.637Z"
   },
   {
    "duration": 147,
    "start_time": "2022-09-25T13:56:50.953Z"
   },
   {
    "duration": 5,
    "start_time": "2022-09-25T13:56:51.102Z"
   },
   {
    "duration": 133,
    "start_time": "2022-09-25T13:56:51.108Z"
   },
   {
    "duration": 4,
    "start_time": "2022-09-25T13:56:51.242Z"
   },
   {
    "duration": 8,
    "start_time": "2022-09-25T13:56:51.248Z"
   },
   {
    "duration": 136,
    "start_time": "2022-09-25T13:56:51.258Z"
   },
   {
    "duration": 5,
    "start_time": "2022-09-25T13:56:51.398Z"
   },
   {
    "duration": 117,
    "start_time": "2022-09-25T13:56:51.404Z"
   },
   {
    "duration": 5,
    "start_time": "2022-09-25T13:56:51.523Z"
   },
   {
    "duration": 296,
    "start_time": "2022-09-25T13:56:51.529Z"
   },
   {
    "duration": 11,
    "start_time": "2022-09-25T13:56:51.827Z"
   },
   {
    "duration": 12,
    "start_time": "2022-09-25T13:56:51.839Z"
   },
   {
    "duration": 11,
    "start_time": "2022-09-25T13:56:51.852Z"
   },
   {
    "duration": 10,
    "start_time": "2022-09-25T13:56:51.864Z"
   },
   {
    "duration": 13,
    "start_time": "2022-09-25T13:56:51.875Z"
   },
   {
    "duration": 36,
    "start_time": "2022-09-25T13:56:51.890Z"
   },
   {
    "duration": 11,
    "start_time": "2022-09-25T13:56:51.928Z"
   },
   {
    "duration": 12,
    "start_time": "2022-09-25T13:56:51.940Z"
   },
   {
    "duration": 10,
    "start_time": "2022-09-25T13:56:51.953Z"
   },
   {
    "duration": 6,
    "start_time": "2022-09-25T13:56:51.964Z"
   },
   {
    "duration": 139,
    "start_time": "2022-09-25T13:56:51.971Z"
   },
   {
    "duration": 123,
    "start_time": "2022-09-25T13:56:52.111Z"
   },
   {
    "duration": 4,
    "start_time": "2022-09-25T13:56:52.236Z"
   },
   {
    "duration": 13,
    "start_time": "2022-09-25T13:56:52.241Z"
   },
   {
    "duration": 122,
    "start_time": "2022-09-25T13:56:52.255Z"
   },
   {
    "duration": 106,
    "start_time": "2022-09-25T13:56:52.378Z"
   },
   {
    "duration": 4,
    "start_time": "2022-09-25T13:56:52.486Z"
   },
   {
    "duration": 1262,
    "start_time": "2022-09-25T15:36:21.459Z"
   },
   {
    "duration": 14,
    "start_time": "2022-09-25T15:36:22.724Z"
   },
   {
    "duration": 61,
    "start_time": "2022-09-25T15:36:22.740Z"
   },
   {
    "duration": 887,
    "start_time": "2022-09-25T15:36:22.803Z"
   },
   {
    "duration": 3,
    "start_time": "2022-09-25T15:36:23.692Z"
   },
   {
    "duration": 20,
    "start_time": "2022-09-25T15:36:23.697Z"
   },
   {
    "duration": 12,
    "start_time": "2022-09-25T15:36:23.719Z"
   },
   {
    "duration": 22,
    "start_time": "2022-09-25T15:36:23.733Z"
   },
   {
    "duration": 22,
    "start_time": "2022-09-25T15:36:23.757Z"
   },
   {
    "duration": 6,
    "start_time": "2022-09-25T15:36:23.780Z"
   },
   {
    "duration": 19,
    "start_time": "2022-09-25T15:36:23.787Z"
   },
   {
    "duration": 8,
    "start_time": "2022-09-25T15:36:23.808Z"
   },
   {
    "duration": 46,
    "start_time": "2022-09-25T15:36:23.817Z"
   },
   {
    "duration": 6,
    "start_time": "2022-09-25T15:36:23.867Z"
   },
   {
    "duration": 210,
    "start_time": "2022-09-25T15:36:23.875Z"
   },
   {
    "duration": 135,
    "start_time": "2022-09-25T15:36:24.087Z"
   },
   {
    "duration": 12,
    "start_time": "2022-09-25T15:36:24.224Z"
   },
   {
    "duration": 274,
    "start_time": "2022-09-25T15:36:24.237Z"
   },
   {
    "duration": 379,
    "start_time": "2022-09-25T15:36:24.512Z"
   },
   {
    "duration": 17,
    "start_time": "2022-09-25T15:36:24.893Z"
   },
   {
    "duration": 426,
    "start_time": "2022-09-25T15:36:24.912Z"
   },
   {
    "duration": 169,
    "start_time": "2022-09-25T15:36:25.340Z"
   },
   {
    "duration": 6,
    "start_time": "2022-09-25T15:36:25.511Z"
   },
   {
    "duration": 176,
    "start_time": "2022-09-25T15:36:25.518Z"
   },
   {
    "duration": 6,
    "start_time": "2022-09-25T15:36:25.696Z"
   },
   {
    "duration": 16,
    "start_time": "2022-09-25T15:36:25.703Z"
   },
   {
    "duration": 178,
    "start_time": "2022-09-25T15:36:25.720Z"
   },
   {
    "duration": 6,
    "start_time": "2022-09-25T15:36:25.900Z"
   },
   {
    "duration": 152,
    "start_time": "2022-09-25T15:36:25.907Z"
   },
   {
    "duration": 7,
    "start_time": "2022-09-25T15:36:26.064Z"
   },
   {
    "duration": 376,
    "start_time": "2022-09-25T15:36:26.072Z"
   },
   {
    "duration": 23,
    "start_time": "2022-09-25T15:36:26.450Z"
   },
   {
    "duration": 14,
    "start_time": "2022-09-25T15:36:26.475Z"
   },
   {
    "duration": 17,
    "start_time": "2022-09-25T15:36:26.490Z"
   },
   {
    "duration": 12,
    "start_time": "2022-09-25T15:36:26.508Z"
   },
   {
    "duration": 50,
    "start_time": "2022-09-25T15:36:26.522Z"
   },
   {
    "duration": 14,
    "start_time": "2022-09-25T15:36:26.575Z"
   },
   {
    "duration": 15,
    "start_time": "2022-09-25T15:36:26.590Z"
   },
   {
    "duration": 16,
    "start_time": "2022-09-25T15:36:26.607Z"
   },
   {
    "duration": 39,
    "start_time": "2022-09-25T15:36:26.624Z"
   },
   {
    "duration": 19,
    "start_time": "2022-09-25T15:36:26.669Z"
   },
   {
    "duration": 160,
    "start_time": "2022-09-25T15:36:26.690Z"
   },
   {
    "duration": 152,
    "start_time": "2022-09-25T15:36:26.855Z"
   },
   {
    "duration": 5,
    "start_time": "2022-09-25T15:36:27.009Z"
   },
   {
    "duration": 16,
    "start_time": "2022-09-25T15:36:27.016Z"
   },
   {
    "duration": 179,
    "start_time": "2022-09-25T15:36:27.034Z"
   },
   {
    "duration": 138,
    "start_time": "2022-09-25T15:36:27.216Z"
   },
   {
    "duration": 6,
    "start_time": "2022-09-25T15:36:27.356Z"
   },
   {
    "duration": 68,
    "start_time": "2022-09-25T16:23:00.621Z"
   },
   {
    "duration": 1238,
    "start_time": "2022-09-25T16:23:07.894Z"
   },
   {
    "duration": 113,
    "start_time": "2022-09-25T16:23:11.165Z"
   },
   {
    "duration": 1327,
    "start_time": "2022-09-26T06:57:51.974Z"
   },
   {
    "duration": 114,
    "start_time": "2022-09-26T06:57:53.303Z"
   },
   {
    "duration": 15,
    "start_time": "2022-09-26T06:57:53.418Z"
   },
   {
    "duration": 59,
    "start_time": "2022-09-26T06:57:53.436Z"
   },
   {
    "duration": 786,
    "start_time": "2022-09-26T06:57:53.496Z"
   },
   {
    "duration": 8,
    "start_time": "2022-09-26T06:57:54.284Z"
   },
   {
    "duration": 40,
    "start_time": "2022-09-26T06:57:54.294Z"
   },
   {
    "duration": 12,
    "start_time": "2022-09-26T06:57:54.336Z"
   },
   {
    "duration": 25,
    "start_time": "2022-09-26T06:57:54.350Z"
   },
   {
    "duration": 24,
    "start_time": "2022-09-26T06:57:54.378Z"
   },
   {
    "duration": 5,
    "start_time": "2022-09-26T06:57:54.404Z"
   },
   {
    "duration": 40,
    "start_time": "2022-09-26T06:57:54.410Z"
   },
   {
    "duration": 14,
    "start_time": "2022-09-26T06:57:54.452Z"
   },
   {
    "duration": 17,
    "start_time": "2022-09-26T06:57:54.468Z"
   },
   {
    "duration": 6,
    "start_time": "2022-09-26T06:57:54.489Z"
   },
   {
    "duration": 219,
    "start_time": "2022-09-26T06:57:54.496Z"
   },
   {
    "duration": 136,
    "start_time": "2022-09-26T06:57:54.717Z"
   },
   {
    "duration": 19,
    "start_time": "2022-09-26T06:57:54.856Z"
   },
   {
    "duration": 312,
    "start_time": "2022-09-26T06:57:54.877Z"
   },
   {
    "duration": 373,
    "start_time": "2022-09-26T06:57:55.192Z"
   },
   {
    "duration": 13,
    "start_time": "2022-09-26T06:57:55.568Z"
   },
   {
    "duration": 351,
    "start_time": "2022-09-26T06:57:55.584Z"
   },
   {
    "duration": 152,
    "start_time": "2022-09-26T06:57:55.937Z"
   },
   {
    "duration": 5,
    "start_time": "2022-09-26T06:57:56.091Z"
   },
   {
    "duration": 192,
    "start_time": "2022-09-26T06:57:56.098Z"
   },
   {
    "duration": 6,
    "start_time": "2022-09-26T06:57:56.292Z"
   },
   {
    "duration": 22,
    "start_time": "2022-09-26T06:57:56.299Z"
   },
   {
    "duration": 229,
    "start_time": "2022-09-26T06:57:56.326Z"
   },
   {
    "duration": 8,
    "start_time": "2022-09-26T06:57:56.557Z"
   },
   {
    "duration": 150,
    "start_time": "2022-09-26T06:57:56.567Z"
   },
   {
    "duration": 6,
    "start_time": "2022-09-26T06:57:56.719Z"
   },
   {
    "duration": 362,
    "start_time": "2022-09-26T06:57:56.734Z"
   },
   {
    "duration": 14,
    "start_time": "2022-09-26T06:57:57.098Z"
   },
   {
    "duration": 32,
    "start_time": "2022-09-26T06:57:57.114Z"
   },
   {
    "duration": 13,
    "start_time": "2022-09-26T06:57:57.148Z"
   },
   {
    "duration": 24,
    "start_time": "2022-09-26T06:57:57.163Z"
   },
   {
    "duration": 18,
    "start_time": "2022-09-26T06:57:57.189Z"
   },
   {
    "duration": 28,
    "start_time": "2022-09-26T06:57:57.210Z"
   },
   {
    "duration": 20,
    "start_time": "2022-09-26T06:57:57.239Z"
   },
   {
    "duration": 25,
    "start_time": "2022-09-26T06:57:57.261Z"
   },
   {
    "duration": 19,
    "start_time": "2022-09-26T06:57:57.288Z"
   },
   {
    "duration": 28,
    "start_time": "2022-09-26T06:57:57.309Z"
   },
   {
    "duration": 169,
    "start_time": "2022-09-26T06:57:57.339Z"
   },
   {
    "duration": 151,
    "start_time": "2022-09-26T06:57:57.510Z"
   },
   {
    "duration": 6,
    "start_time": "2022-09-26T06:57:57.662Z"
   },
   {
    "duration": 21,
    "start_time": "2022-09-26T06:57:57.671Z"
   },
   {
    "duration": 153,
    "start_time": "2022-09-26T06:57:57.693Z"
   },
   {
    "duration": 119,
    "start_time": "2022-09-26T06:57:57.848Z"
   },
   {
    "duration": 5,
    "start_time": "2022-09-26T06:57:57.969Z"
   },
   {
    "duration": 8,
    "start_time": "2022-09-26T07:19:49.522Z"
   },
   {
    "duration": 17,
    "start_time": "2022-09-26T07:19:58.715Z"
   },
   {
    "duration": 17,
    "start_time": "2022-09-26T07:20:08.557Z"
   },
   {
    "duration": 263,
    "start_time": "2022-09-26T07:22:08.638Z"
   },
   {
    "duration": 200,
    "start_time": "2022-09-26T07:34:04.158Z"
   },
   {
    "duration": 130,
    "start_time": "2022-09-26T07:35:07.387Z"
   },
   {
    "duration": 125,
    "start_time": "2022-09-26T07:35:32.018Z"
   },
   {
    "duration": 118,
    "start_time": "2022-09-26T07:35:52.328Z"
   },
   {
    "duration": 113,
    "start_time": "2022-09-26T07:37:28.884Z"
   },
   {
    "duration": 109,
    "start_time": "2022-09-26T07:37:45.867Z"
   },
   {
    "duration": 114,
    "start_time": "2022-09-26T07:38:32.363Z"
   },
   {
    "duration": 111,
    "start_time": "2022-09-26T07:38:49.552Z"
   },
   {
    "duration": 197,
    "start_time": "2022-09-26T07:39:19.629Z"
   },
   {
    "duration": 188,
    "start_time": "2022-09-26T07:39:28.680Z"
   },
   {
    "duration": 353,
    "start_time": "2022-09-26T07:49:01.341Z"
   },
   {
    "duration": 189,
    "start_time": "2022-09-26T07:49:30.608Z"
   },
   {
    "duration": 198,
    "start_time": "2022-09-26T07:49:38.107Z"
   },
   {
    "duration": 129,
    "start_time": "2022-09-26T08:06:51.419Z"
   },
   {
    "duration": 5,
    "start_time": "2022-09-26T08:07:06.132Z"
   },
   {
    "duration": 127,
    "start_time": "2022-09-26T08:07:28.803Z"
   },
   {
    "duration": 5,
    "start_time": "2022-09-26T08:07:42.290Z"
   },
   {
    "duration": 133,
    "start_time": "2022-09-26T08:08:22.398Z"
   },
   {
    "duration": 5,
    "start_time": "2022-09-26T08:09:18.751Z"
   },
   {
    "duration": 135,
    "start_time": "2022-09-26T08:09:48.004Z"
   },
   {
    "duration": 5,
    "start_time": "2022-09-26T08:10:04.203Z"
   },
   {
    "duration": 121,
    "start_time": "2022-09-26T08:10:38.204Z"
   },
   {
    "duration": 5,
    "start_time": "2022-09-26T08:11:05.863Z"
   },
   {
    "duration": 106,
    "start_time": "2022-09-26T08:11:30.936Z"
   },
   {
    "duration": 4,
    "start_time": "2022-09-26T08:11:54.600Z"
   },
   {
    "duration": 128,
    "start_time": "2022-09-26T08:12:36.988Z"
   },
   {
    "duration": 6,
    "start_time": "2022-09-26T08:13:02.740Z"
   },
   {
    "duration": 126,
    "start_time": "2022-09-26T08:13:37.975Z"
   },
   {
    "duration": 5,
    "start_time": "2022-09-26T08:14:00.499Z"
   },
   {
    "duration": 402,
    "start_time": "2022-09-26T08:17:34.576Z"
   },
   {
    "duration": 314,
    "start_time": "2022-09-26T08:17:55.038Z"
   },
   {
    "duration": 350,
    "start_time": "2022-09-26T08:18:00.944Z"
   },
   {
    "duration": 1236,
    "start_time": "2022-09-26T08:19:01.083Z"
   },
   {
    "duration": 906,
    "start_time": "2022-09-26T08:19:15.386Z"
   },
   {
    "duration": 1149,
    "start_time": "2022-09-26T08:19:35.027Z"
   },
   {
    "duration": 80,
    "start_time": "2022-09-26T08:19:36.179Z"
   },
   {
    "duration": 17,
    "start_time": "2022-09-26T08:19:36.261Z"
   },
   {
    "duration": 80,
    "start_time": "2022-09-26T08:19:36.281Z"
   },
   {
    "duration": 797,
    "start_time": "2022-09-26T08:19:36.363Z"
   },
   {
    "duration": 4,
    "start_time": "2022-09-26T08:19:37.162Z"
   },
   {
    "duration": 20,
    "start_time": "2022-09-26T08:19:37.167Z"
   },
   {
    "duration": 7,
    "start_time": "2022-09-26T08:19:37.189Z"
   },
   {
    "duration": 11,
    "start_time": "2022-09-26T08:19:37.197Z"
   },
   {
    "duration": 28,
    "start_time": "2022-09-26T08:19:37.210Z"
   },
   {
    "duration": 5,
    "start_time": "2022-09-26T08:19:37.240Z"
   },
   {
    "duration": 25,
    "start_time": "2022-09-26T08:19:37.247Z"
   },
   {
    "duration": 9,
    "start_time": "2022-09-26T08:19:37.274Z"
   },
   {
    "duration": 15,
    "start_time": "2022-09-26T08:19:37.285Z"
   },
   {
    "duration": 49,
    "start_time": "2022-09-26T08:19:37.302Z"
   },
   {
    "duration": 8,
    "start_time": "2022-09-26T08:19:37.353Z"
   },
   {
    "duration": 205,
    "start_time": "2022-09-26T08:19:37.362Z"
   },
   {
    "duration": 208,
    "start_time": "2022-09-26T08:19:37.569Z"
   },
   {
    "duration": 12,
    "start_time": "2022-09-26T08:19:37.779Z"
   },
   {
    "duration": 264,
    "start_time": "2022-09-26T08:19:37.793Z"
   },
   {
    "duration": 351,
    "start_time": "2022-09-26T08:19:38.059Z"
   },
   {
    "duration": 12,
    "start_time": "2022-09-26T08:19:38.412Z"
   },
   {
    "duration": 410,
    "start_time": "2022-09-26T08:19:38.434Z"
   },
   {
    "duration": 155,
    "start_time": "2022-09-26T08:19:38.846Z"
   },
   {
    "duration": 5,
    "start_time": "2022-09-26T08:19:39.003Z"
   },
   {
    "duration": 147,
    "start_time": "2022-09-26T08:19:39.009Z"
   },
   {
    "duration": 5,
    "start_time": "2022-09-26T08:19:39.157Z"
   },
   {
    "duration": 12,
    "start_time": "2022-09-26T08:19:39.165Z"
   },
   {
    "duration": 150,
    "start_time": "2022-09-26T08:19:39.178Z"
   },
   {
    "duration": 5,
    "start_time": "2022-09-26T08:19:39.340Z"
   },
   {
    "duration": 137,
    "start_time": "2022-09-26T08:19:39.347Z"
   },
   {
    "duration": 6,
    "start_time": "2022-09-26T08:19:39.485Z"
   },
   {
    "duration": 147,
    "start_time": "2022-09-26T08:19:39.492Z"
   },
   {
    "duration": 5,
    "start_time": "2022-09-26T08:19:39.641Z"
   },
   {
    "duration": 170,
    "start_time": "2022-09-26T08:19:39.648Z"
   },
   {
    "duration": 4,
    "start_time": "2022-09-26T08:19:39.820Z"
   },
   {
    "duration": 133,
    "start_time": "2022-09-26T08:19:39.834Z"
   },
   {
    "duration": 5,
    "start_time": "2022-09-26T08:19:39.969Z"
   },
   {
    "duration": 125,
    "start_time": "2022-09-26T08:19:39.976Z"
   },
   {
    "duration": 5,
    "start_time": "2022-09-26T08:19:40.103Z"
   },
   {
    "duration": 184,
    "start_time": "2022-09-26T08:19:40.109Z"
   },
   {
    "duration": 6,
    "start_time": "2022-09-26T08:19:40.295Z"
   },
   {
    "duration": 226,
    "start_time": "2022-09-26T08:19:40.302Z"
   },
   {
    "duration": 6,
    "start_time": "2022-09-26T08:19:40.530Z"
   },
   {
    "duration": 973,
    "start_time": "2022-09-26T08:19:40.538Z"
   },
   {
    "duration": 0,
    "start_time": "2022-09-26T08:19:41.513Z"
   },
   {
    "duration": 0,
    "start_time": "2022-09-26T08:19:41.514Z"
   },
   {
    "duration": 0,
    "start_time": "2022-09-26T08:19:41.515Z"
   },
   {
    "duration": 0,
    "start_time": "2022-09-26T08:19:41.516Z"
   },
   {
    "duration": 0,
    "start_time": "2022-09-26T08:19:41.517Z"
   },
   {
    "duration": 0,
    "start_time": "2022-09-26T08:19:41.518Z"
   },
   {
    "duration": 0,
    "start_time": "2022-09-26T08:19:41.519Z"
   },
   {
    "duration": 0,
    "start_time": "2022-09-26T08:19:41.520Z"
   },
   {
    "duration": 0,
    "start_time": "2022-09-26T08:19:41.521Z"
   },
   {
    "duration": 0,
    "start_time": "2022-09-26T08:19:41.522Z"
   },
   {
    "duration": 0,
    "start_time": "2022-09-26T08:19:41.522Z"
   },
   {
    "duration": 0,
    "start_time": "2022-09-26T08:19:41.523Z"
   },
   {
    "duration": 0,
    "start_time": "2022-09-26T08:19:41.524Z"
   },
   {
    "duration": 0,
    "start_time": "2022-09-26T08:19:41.526Z"
   },
   {
    "duration": 0,
    "start_time": "2022-09-26T08:19:41.527Z"
   },
   {
    "duration": 0,
    "start_time": "2022-09-26T08:19:41.528Z"
   },
   {
    "duration": 0,
    "start_time": "2022-09-26T08:19:41.529Z"
   },
   {
    "duration": 193,
    "start_time": "2022-09-26T08:20:00.128Z"
   },
   {
    "duration": 174,
    "start_time": "2022-09-26T08:41:55.396Z"
   },
   {
    "duration": 1044,
    "start_time": "2022-09-26T08:42:43.169Z"
   },
   {
    "duration": 66,
    "start_time": "2022-09-26T08:42:44.215Z"
   },
   {
    "duration": 15,
    "start_time": "2022-09-26T08:42:44.283Z"
   },
   {
    "duration": 61,
    "start_time": "2022-09-26T08:42:44.300Z"
   },
   {
    "duration": 742,
    "start_time": "2022-09-26T08:42:44.362Z"
   },
   {
    "duration": 3,
    "start_time": "2022-09-26T08:42:45.106Z"
   },
   {
    "duration": 43,
    "start_time": "2022-09-26T08:42:45.111Z"
   },
   {
    "duration": 59,
    "start_time": "2022-09-26T08:42:45.156Z"
   },
   {
    "duration": 38,
    "start_time": "2022-09-26T08:42:45.217Z"
   },
   {
    "duration": 56,
    "start_time": "2022-09-26T08:42:45.259Z"
   },
   {
    "duration": 7,
    "start_time": "2022-09-26T08:42:45.317Z"
   },
   {
    "duration": 35,
    "start_time": "2022-09-26T08:42:45.326Z"
   },
   {
    "duration": 32,
    "start_time": "2022-09-26T08:42:45.362Z"
   },
   {
    "duration": 40,
    "start_time": "2022-09-26T08:42:45.396Z"
   },
   {
    "duration": 50,
    "start_time": "2022-09-26T08:42:45.438Z"
   },
   {
    "duration": 6,
    "start_time": "2022-09-26T08:42:45.489Z"
   },
   {
    "duration": 234,
    "start_time": "2022-09-26T08:42:45.497Z"
   },
   {
    "duration": 212,
    "start_time": "2022-09-26T08:42:45.733Z"
   },
   {
    "duration": 13,
    "start_time": "2022-09-26T08:42:45.946Z"
   },
   {
    "duration": 341,
    "start_time": "2022-09-26T08:42:45.960Z"
   },
   {
    "duration": 393,
    "start_time": "2022-09-26T08:42:46.303Z"
   },
   {
    "duration": 12,
    "start_time": "2022-09-26T08:42:46.698Z"
   },
   {
    "duration": 389,
    "start_time": "2022-09-26T08:42:46.711Z"
   },
   {
    "duration": 147,
    "start_time": "2022-09-26T08:42:47.102Z"
   },
   {
    "duration": 6,
    "start_time": "2022-09-26T08:42:47.250Z"
   },
   {
    "duration": 163,
    "start_time": "2022-09-26T08:42:47.258Z"
   },
   {
    "duration": 5,
    "start_time": "2022-09-26T08:42:47.423Z"
   },
   {
    "duration": 27,
    "start_time": "2022-09-26T08:42:47.436Z"
   },
   {
    "duration": 175,
    "start_time": "2022-09-26T08:42:47.465Z"
   },
   {
    "duration": 7,
    "start_time": "2022-09-26T08:42:47.642Z"
   },
   {
    "duration": 200,
    "start_time": "2022-09-26T08:42:47.652Z"
   },
   {
    "duration": 5,
    "start_time": "2022-09-26T08:42:47.853Z"
   },
   {
    "duration": 160,
    "start_time": "2022-09-26T08:42:47.860Z"
   },
   {
    "duration": 5,
    "start_time": "2022-09-26T08:42:48.022Z"
   },
   {
    "duration": 197,
    "start_time": "2022-09-26T08:42:48.034Z"
   },
   {
    "duration": 5,
    "start_time": "2022-09-26T08:42:48.233Z"
   },
   {
    "duration": 165,
    "start_time": "2022-09-26T08:42:48.240Z"
   },
   {
    "duration": 5,
    "start_time": "2022-09-26T08:42:48.406Z"
   },
   {
    "duration": 158,
    "start_time": "2022-09-26T08:42:48.413Z"
   },
   {
    "duration": 6,
    "start_time": "2022-09-26T08:42:48.573Z"
   },
   {
    "duration": 202,
    "start_time": "2022-09-26T08:42:48.581Z"
   },
   {
    "duration": 5,
    "start_time": "2022-09-26T08:42:48.785Z"
   },
   {
    "duration": 239,
    "start_time": "2022-09-26T08:42:48.791Z"
   },
   {
    "duration": 5,
    "start_time": "2022-09-26T08:42:49.032Z"
   },
   {
    "duration": 227,
    "start_time": "2022-09-26T08:42:49.038Z"
   },
   {
    "duration": 14,
    "start_time": "2022-09-26T08:42:49.266Z"
   },
   {
    "duration": 51,
    "start_time": "2022-09-26T08:42:49.281Z"
   },
   {
    "duration": 63,
    "start_time": "2022-09-26T08:42:49.334Z"
   },
   {
    "duration": 65,
    "start_time": "2022-09-26T08:42:49.399Z"
   },
   {
    "duration": 18,
    "start_time": "2022-09-26T08:42:49.466Z"
   },
   {
    "duration": 49,
    "start_time": "2022-09-26T08:42:49.486Z"
   },
   {
    "duration": 74,
    "start_time": "2022-09-26T08:42:49.537Z"
   },
   {
    "duration": 42,
    "start_time": "2022-09-26T08:42:49.612Z"
   },
   {
    "duration": 52,
    "start_time": "2022-09-26T08:42:49.656Z"
   },
   {
    "duration": 56,
    "start_time": "2022-09-26T08:42:49.710Z"
   },
   {
    "duration": 154,
    "start_time": "2022-09-26T08:42:49.767Z"
   },
   {
    "duration": 148,
    "start_time": "2022-09-26T08:42:49.924Z"
   },
   {
    "duration": 6,
    "start_time": "2022-09-26T08:42:50.074Z"
   },
   {
    "duration": 55,
    "start_time": "2022-09-26T08:42:50.082Z"
   },
   {
    "duration": 295,
    "start_time": "2022-09-26T08:42:50.140Z"
   },
   {
    "duration": 209,
    "start_time": "2022-09-26T08:42:50.438Z"
   },
   {
    "duration": 6,
    "start_time": "2022-09-26T08:42:50.649Z"
   },
   {
    "duration": 56,
    "start_time": "2022-09-27T03:19:20.587Z"
   },
   {
    "duration": 48,
    "start_time": "2022-09-27T03:19:31.360Z"
   },
   {
    "duration": 1221,
    "start_time": "2022-09-27T03:19:40.003Z"
   },
   {
    "duration": 106,
    "start_time": "2022-09-27T03:19:41.226Z"
   },
   {
    "duration": 14,
    "start_time": "2022-09-27T03:19:41.333Z"
   },
   {
    "duration": 53,
    "start_time": "2022-09-27T03:19:41.349Z"
   },
   {
    "duration": 727,
    "start_time": "2022-09-27T03:19:41.403Z"
   },
   {
    "duration": 3,
    "start_time": "2022-09-27T03:19:42.132Z"
   },
   {
    "duration": 16,
    "start_time": "2022-09-27T03:19:42.136Z"
   },
   {
    "duration": 10,
    "start_time": "2022-09-27T03:19:42.153Z"
   },
   {
    "duration": 7,
    "start_time": "2022-09-27T03:19:42.177Z"
   },
   {
    "duration": 20,
    "start_time": "2022-09-27T03:19:42.187Z"
   },
   {
    "duration": 5,
    "start_time": "2022-09-27T03:19:42.208Z"
   },
   {
    "duration": 19,
    "start_time": "2022-09-27T03:19:42.214Z"
   },
   {
    "duration": 9,
    "start_time": "2022-09-27T03:19:42.235Z"
   },
   {
    "duration": 117,
    "start_time": "2022-09-27T03:19:42.246Z"
   },
   {
    "duration": 0,
    "start_time": "2022-09-27T03:19:42.366Z"
   },
   {
    "duration": 0,
    "start_time": "2022-09-27T03:19:42.368Z"
   },
   {
    "duration": 0,
    "start_time": "2022-09-27T03:19:42.376Z"
   },
   {
    "duration": 0,
    "start_time": "2022-09-27T03:19:42.378Z"
   },
   {
    "duration": 0,
    "start_time": "2022-09-27T03:19:42.379Z"
   },
   {
    "duration": 0,
    "start_time": "2022-09-27T03:19:42.380Z"
   },
   {
    "duration": 0,
    "start_time": "2022-09-27T03:19:42.382Z"
   },
   {
    "duration": 0,
    "start_time": "2022-09-27T03:19:42.383Z"
   },
   {
    "duration": 0,
    "start_time": "2022-09-27T03:19:42.385Z"
   },
   {
    "duration": 0,
    "start_time": "2022-09-27T03:19:42.386Z"
   },
   {
    "duration": 0,
    "start_time": "2022-09-27T03:19:42.387Z"
   },
   {
    "duration": 0,
    "start_time": "2022-09-27T03:19:42.388Z"
   },
   {
    "duration": 0,
    "start_time": "2022-09-27T03:19:42.390Z"
   },
   {
    "duration": 0,
    "start_time": "2022-09-27T03:19:42.391Z"
   },
   {
    "duration": 0,
    "start_time": "2022-09-27T03:19:42.392Z"
   },
   {
    "duration": 0,
    "start_time": "2022-09-27T03:19:42.393Z"
   },
   {
    "duration": 0,
    "start_time": "2022-09-27T03:19:42.395Z"
   },
   {
    "duration": 0,
    "start_time": "2022-09-27T03:19:42.396Z"
   },
   {
    "duration": 0,
    "start_time": "2022-09-27T03:19:42.397Z"
   },
   {
    "duration": 0,
    "start_time": "2022-09-27T03:19:42.399Z"
   },
   {
    "duration": 0,
    "start_time": "2022-09-27T03:19:42.400Z"
   },
   {
    "duration": 0,
    "start_time": "2022-09-27T03:19:42.401Z"
   },
   {
    "duration": 0,
    "start_time": "2022-09-27T03:19:42.402Z"
   },
   {
    "duration": 0,
    "start_time": "2022-09-27T03:19:42.403Z"
   },
   {
    "duration": 0,
    "start_time": "2022-09-27T03:19:42.404Z"
   },
   {
    "duration": 0,
    "start_time": "2022-09-27T03:19:42.406Z"
   },
   {
    "duration": 0,
    "start_time": "2022-09-27T03:19:42.407Z"
   },
   {
    "duration": 0,
    "start_time": "2022-09-27T03:19:42.408Z"
   },
   {
    "duration": 0,
    "start_time": "2022-09-27T03:19:42.409Z"
   },
   {
    "duration": 0,
    "start_time": "2022-09-27T03:19:42.410Z"
   },
   {
    "duration": 0,
    "start_time": "2022-09-27T03:19:42.411Z"
   },
   {
    "duration": 0,
    "start_time": "2022-09-27T03:19:42.412Z"
   },
   {
    "duration": 0,
    "start_time": "2022-09-27T03:19:42.477Z"
   },
   {
    "duration": 0,
    "start_time": "2022-09-27T03:19:42.478Z"
   },
   {
    "duration": 0,
    "start_time": "2022-09-27T03:19:42.479Z"
   },
   {
    "duration": 0,
    "start_time": "2022-09-27T03:19:42.480Z"
   },
   {
    "duration": 0,
    "start_time": "2022-09-27T03:19:42.480Z"
   },
   {
    "duration": 0,
    "start_time": "2022-09-27T03:19:42.482Z"
   },
   {
    "duration": 0,
    "start_time": "2022-09-27T03:19:42.483Z"
   },
   {
    "duration": 0,
    "start_time": "2022-09-27T03:19:42.483Z"
   },
   {
    "duration": 0,
    "start_time": "2022-09-27T03:19:42.484Z"
   },
   {
    "duration": 0,
    "start_time": "2022-09-27T03:19:42.486Z"
   },
   {
    "duration": 0,
    "start_time": "2022-09-27T03:19:42.487Z"
   },
   {
    "duration": 0,
    "start_time": "2022-09-27T03:19:42.488Z"
   },
   {
    "duration": 0,
    "start_time": "2022-09-27T03:19:42.489Z"
   },
   {
    "duration": 0,
    "start_time": "2022-09-27T03:19:42.490Z"
   },
   {
    "duration": 0,
    "start_time": "2022-09-27T03:19:42.490Z"
   },
   {
    "duration": 0,
    "start_time": "2022-09-27T03:19:42.491Z"
   },
   {
    "duration": 0,
    "start_time": "2022-09-27T03:19:42.492Z"
   },
   {
    "duration": 9,
    "start_time": "2022-09-27T03:20:04.529Z"
   },
   {
    "duration": 1068,
    "start_time": "2022-09-27T03:20:21.844Z"
   },
   {
    "duration": 62,
    "start_time": "2022-09-27T03:20:22.914Z"
   },
   {
    "duration": 12,
    "start_time": "2022-09-27T03:20:22.977Z"
   },
   {
    "duration": 51,
    "start_time": "2022-09-27T03:20:22.991Z"
   },
   {
    "duration": 707,
    "start_time": "2022-09-27T03:20:23.044Z"
   },
   {
    "duration": 3,
    "start_time": "2022-09-27T03:20:23.753Z"
   },
   {
    "duration": 20,
    "start_time": "2022-09-27T03:20:23.757Z"
   },
   {
    "duration": 7,
    "start_time": "2022-09-27T03:20:23.779Z"
   },
   {
    "duration": 8,
    "start_time": "2022-09-27T03:20:23.787Z"
   },
   {
    "duration": 14,
    "start_time": "2022-09-27T03:20:23.797Z"
   },
   {
    "duration": 4,
    "start_time": "2022-09-27T03:20:23.813Z"
   },
   {
    "duration": 17,
    "start_time": "2022-09-27T03:20:23.818Z"
   },
   {
    "duration": 7,
    "start_time": "2022-09-27T03:20:23.837Z"
   },
   {
    "duration": 9,
    "start_time": "2022-09-27T03:20:23.876Z"
   },
   {
    "duration": 21,
    "start_time": "2022-09-27T03:20:23.886Z"
   },
   {
    "duration": 23,
    "start_time": "2022-09-27T03:20:23.908Z"
   },
   {
    "duration": 11,
    "start_time": "2022-09-27T03:20:23.932Z"
   },
   {
    "duration": 193,
    "start_time": "2022-09-27T03:20:23.945Z"
   },
   {
    "duration": 340,
    "start_time": "2022-09-27T03:20:24.140Z"
   },
   {
    "duration": 11,
    "start_time": "2022-09-27T03:20:24.481Z"
   },
   {
    "duration": 526,
    "start_time": "2022-09-27T03:20:24.494Z"
   },
   {
    "duration": 687,
    "start_time": "2022-09-27T03:20:25.022Z"
   },
   {
    "duration": 66,
    "start_time": "2022-09-27T03:20:25.711Z"
   },
   {
    "duration": 370,
    "start_time": "2022-09-27T03:20:25.778Z"
   },
   {
    "duration": 155,
    "start_time": "2022-09-27T03:20:26.149Z"
   },
   {
    "duration": 5,
    "start_time": "2022-09-27T03:20:26.305Z"
   },
   {
    "duration": 144,
    "start_time": "2022-09-27T03:20:26.311Z"
   },
   {
    "duration": 5,
    "start_time": "2022-09-27T03:20:26.458Z"
   },
   {
    "duration": 24,
    "start_time": "2022-09-27T03:20:26.464Z"
   },
   {
    "duration": 228,
    "start_time": "2022-09-27T03:20:26.489Z"
   },
   {
    "duration": 5,
    "start_time": "2022-09-27T03:20:26.719Z"
   },
   {
    "duration": 140,
    "start_time": "2022-09-27T03:20:26.726Z"
   },
   {
    "duration": 12,
    "start_time": "2022-09-27T03:20:26.867Z"
   },
   {
    "duration": 175,
    "start_time": "2022-09-27T03:20:26.880Z"
   },
   {
    "duration": 5,
    "start_time": "2022-09-27T03:20:27.056Z"
   },
   {
    "duration": 145,
    "start_time": "2022-09-27T03:20:27.062Z"
   },
   {
    "duration": 5,
    "start_time": "2022-09-27T03:20:27.208Z"
   },
   {
    "duration": 139,
    "start_time": "2022-09-27T03:20:27.214Z"
   },
   {
    "duration": 4,
    "start_time": "2022-09-27T03:20:27.355Z"
   },
   {
    "duration": 120,
    "start_time": "2022-09-27T03:20:27.361Z"
   },
   {
    "duration": 5,
    "start_time": "2022-09-27T03:20:27.482Z"
   },
   {
    "duration": 143,
    "start_time": "2022-09-27T03:20:27.488Z"
   },
   {
    "duration": 5,
    "start_time": "2022-09-27T03:20:27.632Z"
   },
   {
    "duration": 202,
    "start_time": "2022-09-27T03:20:27.638Z"
   },
   {
    "duration": 4,
    "start_time": "2022-09-27T03:20:27.842Z"
   },
   {
    "duration": 179,
    "start_time": "2022-09-27T03:20:27.847Z"
   },
   {
    "duration": 11,
    "start_time": "2022-09-27T03:20:28.028Z"
   },
   {
    "duration": 11,
    "start_time": "2022-09-27T03:20:28.041Z"
   },
   {
    "duration": 24,
    "start_time": "2022-09-27T03:20:28.054Z"
   },
   {
    "duration": 12,
    "start_time": "2022-09-27T03:20:28.079Z"
   },
   {
    "duration": 12,
    "start_time": "2022-09-27T03:20:28.092Z"
   },
   {
    "duration": 11,
    "start_time": "2022-09-27T03:20:28.105Z"
   },
   {
    "duration": 20,
    "start_time": "2022-09-27T03:20:28.118Z"
   },
   {
    "duration": 11,
    "start_time": "2022-09-27T03:20:28.139Z"
   },
   {
    "duration": 37,
    "start_time": "2022-09-27T03:20:28.151Z"
   },
   {
    "duration": 10,
    "start_time": "2022-09-27T03:20:28.190Z"
   },
   {
    "duration": 146,
    "start_time": "2022-09-27T03:20:28.201Z"
   },
   {
    "duration": 127,
    "start_time": "2022-09-27T03:20:28.349Z"
   },
   {
    "duration": 5,
    "start_time": "2022-09-27T03:20:28.478Z"
   },
   {
    "duration": 9,
    "start_time": "2022-09-27T03:20:28.485Z"
   },
   {
    "duration": 139,
    "start_time": "2022-09-27T03:20:28.496Z"
   },
   {
    "duration": 114,
    "start_time": "2022-09-27T03:20:28.637Z"
   },
   {
    "duration": 6,
    "start_time": "2022-09-27T03:20:28.753Z"
   },
   {
    "duration": 13,
    "start_time": "2022-09-27T03:21:22.940Z"
   },
   {
    "duration": 7,
    "start_time": "2022-09-27T03:23:05.419Z"
   },
   {
    "duration": 14,
    "start_time": "2022-09-27T03:23:27.350Z"
   },
   {
    "duration": 95,
    "start_time": "2022-09-27T03:24:00.826Z"
   },
   {
    "duration": 12,
    "start_time": "2022-09-27T03:24:16.876Z"
   },
   {
    "duration": 24,
    "start_time": "2022-09-27T03:24:38.290Z"
   },
   {
    "duration": 15,
    "start_time": "2022-09-27T03:24:51.482Z"
   },
   {
    "duration": 7,
    "start_time": "2022-09-27T03:25:02.768Z"
   },
   {
    "duration": 8,
    "start_time": "2022-09-27T03:25:06.080Z"
   },
   {
    "duration": 8,
    "start_time": "2022-09-27T03:25:09.409Z"
   },
   {
    "duration": 1048,
    "start_time": "2022-09-27T03:25:16.187Z"
   },
   {
    "duration": 62,
    "start_time": "2022-09-27T03:25:17.237Z"
   },
   {
    "duration": 12,
    "start_time": "2022-09-27T03:25:17.301Z"
   },
   {
    "duration": 53,
    "start_time": "2022-09-27T03:25:17.315Z"
   },
   {
    "duration": 706,
    "start_time": "2022-09-27T03:25:17.377Z"
   },
   {
    "duration": 3,
    "start_time": "2022-09-27T03:25:18.085Z"
   },
   {
    "duration": 44,
    "start_time": "2022-09-27T03:25:18.089Z"
   },
   {
    "duration": 24,
    "start_time": "2022-09-27T03:25:18.135Z"
   },
   {
    "duration": 11,
    "start_time": "2022-09-27T03:25:18.160Z"
   },
   {
    "duration": 17,
    "start_time": "2022-09-27T03:25:18.173Z"
   },
   {
    "duration": 4,
    "start_time": "2022-09-27T03:25:18.191Z"
   },
   {
    "duration": 16,
    "start_time": "2022-09-27T03:25:18.197Z"
   },
   {
    "duration": 7,
    "start_time": "2022-09-27T03:25:18.215Z"
   },
   {
    "duration": 12,
    "start_time": "2022-09-27T03:25:18.224Z"
   },
   {
    "duration": 40,
    "start_time": "2022-09-27T03:25:18.238Z"
   },
   {
    "duration": 9,
    "start_time": "2022-09-27T03:25:18.280Z"
   },
   {
    "duration": 17,
    "start_time": "2022-09-27T03:25:18.290Z"
   },
   {
    "duration": 16,
    "start_time": "2022-09-27T03:25:18.309Z"
   },
   {
    "duration": 5,
    "start_time": "2022-09-27T03:25:18.326Z"
   },
   {
    "duration": 208,
    "start_time": "2022-09-27T03:25:18.332Z"
   },
   {
    "duration": 189,
    "start_time": "2022-09-27T03:25:18.542Z"
   },
   {
    "duration": 12,
    "start_time": "2022-09-27T03:25:18.733Z"
   },
   {
    "duration": 349,
    "start_time": "2022-09-27T03:25:18.747Z"
   },
   {
    "duration": 623,
    "start_time": "2022-09-27T03:25:19.098Z"
   },
   {
    "duration": 67,
    "start_time": "2022-09-27T03:25:19.722Z"
   },
   {
    "duration": 706,
    "start_time": "2022-09-27T03:25:19.790Z"
   },
   {
    "duration": 150,
    "start_time": "2022-09-27T03:25:20.498Z"
   },
   {
    "duration": 5,
    "start_time": "2022-09-27T03:25:20.652Z"
   },
   {
    "duration": 135,
    "start_time": "2022-09-27T03:25:20.658Z"
   },
   {
    "duration": 5,
    "start_time": "2022-09-27T03:25:20.794Z"
   },
   {
    "duration": 13,
    "start_time": "2022-09-27T03:25:20.800Z"
   },
   {
    "duration": 137,
    "start_time": "2022-09-27T03:25:20.815Z"
   },
   {
    "duration": 5,
    "start_time": "2022-09-27T03:25:20.954Z"
   },
   {
    "duration": 135,
    "start_time": "2022-09-27T03:25:20.961Z"
   },
   {
    "duration": 5,
    "start_time": "2022-09-27T03:25:21.097Z"
   },
   {
    "duration": 135,
    "start_time": "2022-09-27T03:25:21.103Z"
   },
   {
    "duration": 5,
    "start_time": "2022-09-27T03:25:21.239Z"
   },
   {
    "duration": 138,
    "start_time": "2022-09-27T03:25:21.245Z"
   },
   {
    "duration": 5,
    "start_time": "2022-09-27T03:25:21.385Z"
   },
   {
    "duration": 130,
    "start_time": "2022-09-27T03:25:21.392Z"
   },
   {
    "duration": 6,
    "start_time": "2022-09-27T03:25:21.524Z"
   },
   {
    "duration": 116,
    "start_time": "2022-09-27T03:25:21.532Z"
   },
   {
    "duration": 6,
    "start_time": "2022-09-27T03:25:21.650Z"
   },
   {
    "duration": 143,
    "start_time": "2022-09-27T03:25:21.657Z"
   },
   {
    "duration": 4,
    "start_time": "2022-09-27T03:25:21.802Z"
   },
   {
    "duration": 208,
    "start_time": "2022-09-27T03:25:21.808Z"
   },
   {
    "duration": 4,
    "start_time": "2022-09-27T03:25:22.018Z"
   },
   {
    "duration": 180,
    "start_time": "2022-09-27T03:25:22.023Z"
   },
   {
    "duration": 12,
    "start_time": "2022-09-27T03:25:22.205Z"
   },
   {
    "duration": 12,
    "start_time": "2022-09-27T03:25:22.218Z"
   },
   {
    "duration": 12,
    "start_time": "2022-09-27T03:25:22.231Z"
   },
   {
    "duration": 33,
    "start_time": "2022-09-27T03:25:22.244Z"
   },
   {
    "duration": 12,
    "start_time": "2022-09-27T03:25:22.278Z"
   },
   {
    "duration": 13,
    "start_time": "2022-09-27T03:25:22.292Z"
   },
   {
    "duration": 13,
    "start_time": "2022-09-27T03:25:22.306Z"
   },
   {
    "duration": 11,
    "start_time": "2022-09-27T03:25:22.320Z"
   },
   {
    "duration": 12,
    "start_time": "2022-09-27T03:25:22.332Z"
   },
   {
    "duration": 36,
    "start_time": "2022-09-27T03:25:22.346Z"
   },
   {
    "duration": 128,
    "start_time": "2022-09-27T03:25:22.383Z"
   },
   {
    "duration": 121,
    "start_time": "2022-09-27T03:25:22.513Z"
   },
   {
    "duration": 4,
    "start_time": "2022-09-27T03:25:22.636Z"
   },
   {
    "duration": 12,
    "start_time": "2022-09-27T03:25:22.641Z"
   },
   {
    "duration": 137,
    "start_time": "2022-09-27T03:25:22.654Z"
   },
   {
    "duration": 114,
    "start_time": "2022-09-27T03:25:22.793Z"
   },
   {
    "duration": 5,
    "start_time": "2022-09-27T03:25:22.909Z"
   },
   {
    "duration": 9,
    "start_time": "2022-09-27T03:32:56.834Z"
   },
   {
    "duration": 1047,
    "start_time": "2022-09-27T03:33:06.103Z"
   },
   {
    "duration": 69,
    "start_time": "2022-09-27T03:33:07.151Z"
   },
   {
    "duration": 13,
    "start_time": "2022-09-27T03:33:07.221Z"
   },
   {
    "duration": 59,
    "start_time": "2022-09-27T03:33:07.236Z"
   },
   {
    "duration": 706,
    "start_time": "2022-09-27T03:33:07.296Z"
   },
   {
    "duration": 3,
    "start_time": "2022-09-27T03:33:08.003Z"
   },
   {
    "duration": 19,
    "start_time": "2022-09-27T03:33:08.007Z"
   },
   {
    "duration": 8,
    "start_time": "2022-09-27T03:33:08.028Z"
   },
   {
    "duration": 9,
    "start_time": "2022-09-27T03:33:08.037Z"
   },
   {
    "duration": 29,
    "start_time": "2022-09-27T03:33:08.049Z"
   },
   {
    "duration": 5,
    "start_time": "2022-09-27T03:33:08.080Z"
   },
   {
    "duration": 18,
    "start_time": "2022-09-27T03:33:08.086Z"
   },
   {
    "duration": 8,
    "start_time": "2022-09-27T03:33:08.105Z"
   },
   {
    "duration": 13,
    "start_time": "2022-09-27T03:33:08.115Z"
   },
   {
    "duration": 6,
    "start_time": "2022-09-27T03:33:08.129Z"
   },
   {
    "duration": 42,
    "start_time": "2022-09-27T03:33:08.136Z"
   },
   {
    "duration": 18,
    "start_time": "2022-09-27T03:33:08.179Z"
   },
   {
    "duration": 19,
    "start_time": "2022-09-27T03:33:08.198Z"
   },
   {
    "duration": 5,
    "start_time": "2022-09-27T03:33:08.219Z"
   },
   {
    "duration": 215,
    "start_time": "2022-09-27T03:33:08.225Z"
   },
   {
    "duration": 244,
    "start_time": "2022-09-27T03:33:08.441Z"
   },
   {
    "duration": 11,
    "start_time": "2022-09-27T03:33:08.687Z"
   },
   {
    "duration": 494,
    "start_time": "2022-09-27T03:33:08.699Z"
   },
   {
    "duration": 619,
    "start_time": "2022-09-27T03:33:09.194Z"
   },
   {
    "duration": 62,
    "start_time": "2022-09-27T03:33:09.815Z"
   },
   {
    "duration": 523,
    "start_time": "2022-09-27T03:33:09.879Z"
   },
   {
    "duration": 144,
    "start_time": "2022-09-27T03:33:10.404Z"
   },
   {
    "duration": 6,
    "start_time": "2022-09-27T03:33:10.552Z"
   },
   {
    "duration": 177,
    "start_time": "2022-09-27T03:33:10.559Z"
   },
   {
    "duration": 4,
    "start_time": "2022-09-27T03:33:10.738Z"
   },
   {
    "duration": 37,
    "start_time": "2022-09-27T03:33:10.743Z"
   },
   {
    "duration": 179,
    "start_time": "2022-09-27T03:33:10.782Z"
   },
   {
    "duration": 5,
    "start_time": "2022-09-27T03:33:10.962Z"
   },
   {
    "duration": 145,
    "start_time": "2022-09-27T03:33:10.968Z"
   },
   {
    "duration": 5,
    "start_time": "2022-09-27T03:33:11.115Z"
   },
   {
    "duration": 163,
    "start_time": "2022-09-27T03:33:11.121Z"
   },
   {
    "duration": 5,
    "start_time": "2022-09-27T03:33:11.286Z"
   },
   {
    "duration": 139,
    "start_time": "2022-09-27T03:33:11.293Z"
   },
   {
    "duration": 4,
    "start_time": "2022-09-27T03:33:11.434Z"
   },
   {
    "duration": 150,
    "start_time": "2022-09-27T03:33:11.439Z"
   },
   {
    "duration": 6,
    "start_time": "2022-09-27T03:33:11.591Z"
   },
   {
    "duration": 127,
    "start_time": "2022-09-27T03:33:11.598Z"
   },
   {
    "duration": 5,
    "start_time": "2022-09-27T03:33:11.727Z"
   },
   {
    "duration": 146,
    "start_time": "2022-09-27T03:33:11.734Z"
   },
   {
    "duration": 5,
    "start_time": "2022-09-27T03:33:11.881Z"
   },
   {
    "duration": 221,
    "start_time": "2022-09-27T03:33:11.888Z"
   },
   {
    "duration": 6,
    "start_time": "2022-09-27T03:33:12.111Z"
   },
   {
    "duration": 189,
    "start_time": "2022-09-27T03:33:12.118Z"
   },
   {
    "duration": 14,
    "start_time": "2022-09-27T03:33:12.309Z"
   },
   {
    "duration": 30,
    "start_time": "2022-09-27T03:33:12.324Z"
   },
   {
    "duration": 19,
    "start_time": "2022-09-27T03:33:12.356Z"
   },
   {
    "duration": 37,
    "start_time": "2022-09-27T03:33:12.376Z"
   },
   {
    "duration": 29,
    "start_time": "2022-09-27T03:33:12.415Z"
   },
   {
    "duration": 33,
    "start_time": "2022-09-27T03:33:12.446Z"
   },
   {
    "duration": 17,
    "start_time": "2022-09-27T03:33:12.481Z"
   },
   {
    "duration": 24,
    "start_time": "2022-09-27T03:33:12.500Z"
   },
   {
    "duration": 45,
    "start_time": "2022-09-27T03:33:12.526Z"
   },
   {
    "duration": 22,
    "start_time": "2022-09-27T03:33:12.573Z"
   },
   {
    "duration": 141,
    "start_time": "2022-09-27T03:33:12.597Z"
   },
   {
    "duration": 123,
    "start_time": "2022-09-27T03:33:12.739Z"
   },
   {
    "duration": 4,
    "start_time": "2022-09-27T03:33:12.864Z"
   },
   {
    "duration": 66,
    "start_time": "2022-09-27T03:33:12.869Z"
   },
   {
    "duration": 165,
    "start_time": "2022-09-27T03:33:12.937Z"
   },
   {
    "duration": 114,
    "start_time": "2022-09-27T03:33:13.103Z"
   },
   {
    "duration": 4,
    "start_time": "2022-09-27T03:33:13.219Z"
   },
   {
    "duration": 5,
    "start_time": "2022-09-27T03:43:01.709Z"
   },
   {
    "duration": 15,
    "start_time": "2022-09-27T06:03:31.953Z"
   },
   {
    "duration": 14,
    "start_time": "2022-09-27T06:03:37.121Z"
   },
   {
    "duration": 16,
    "start_time": "2022-09-27T06:03:45.259Z"
   },
   {
    "duration": 15,
    "start_time": "2022-09-27T06:09:24.580Z"
   },
   {
    "duration": 13,
    "start_time": "2022-09-27T06:09:31.220Z"
   },
   {
    "duration": 14,
    "start_time": "2022-09-27T06:09:55.874Z"
   },
   {
    "duration": 96,
    "start_time": "2022-09-27T06:14:19.982Z"
   },
   {
    "duration": 16,
    "start_time": "2022-09-27T06:15:15.001Z"
   },
   {
    "duration": 1108,
    "start_time": "2022-09-27T06:15:31.383Z"
   },
   {
    "duration": 67,
    "start_time": "2022-09-27T06:15:32.493Z"
   },
   {
    "duration": 16,
    "start_time": "2022-09-27T06:15:32.562Z"
   },
   {
    "duration": 76,
    "start_time": "2022-09-27T06:15:32.580Z"
   },
   {
    "duration": 743,
    "start_time": "2022-09-27T06:15:32.658Z"
   },
   {
    "duration": 3,
    "start_time": "2022-09-27T06:15:33.403Z"
   },
   {
    "duration": 18,
    "start_time": "2022-09-27T06:15:33.407Z"
   },
   {
    "duration": 7,
    "start_time": "2022-09-27T06:15:33.427Z"
   },
   {
    "duration": 10,
    "start_time": "2022-09-27T06:15:33.436Z"
   },
   {
    "duration": 38,
    "start_time": "2022-09-27T06:15:33.448Z"
   },
   {
    "duration": 5,
    "start_time": "2022-09-27T06:15:33.488Z"
   },
   {
    "duration": 19,
    "start_time": "2022-09-27T06:15:33.495Z"
   },
   {
    "duration": 10,
    "start_time": "2022-09-27T06:15:33.516Z"
   },
   {
    "duration": 15,
    "start_time": "2022-09-27T06:15:33.528Z"
   },
   {
    "duration": 9,
    "start_time": "2022-09-27T06:15:33.576Z"
   },
   {
    "duration": 11,
    "start_time": "2022-09-27T06:15:33.586Z"
   },
   {
    "duration": 19,
    "start_time": "2022-09-27T06:15:33.599Z"
   },
   {
    "duration": 17,
    "start_time": "2022-09-27T06:15:33.619Z"
   },
   {
    "duration": 5,
    "start_time": "2022-09-27T06:15:33.638Z"
   },
   {
    "duration": 235,
    "start_time": "2022-09-27T06:15:33.644Z"
   },
   {
    "duration": 207,
    "start_time": "2022-09-27T06:15:33.881Z"
   },
   {
    "duration": 12,
    "start_time": "2022-09-27T06:15:34.090Z"
   },
   {
    "duration": 265,
    "start_time": "2022-09-27T06:15:34.104Z"
   },
   {
    "duration": 353,
    "start_time": "2022-09-27T06:15:34.371Z"
   },
   {
    "duration": 15,
    "start_time": "2022-09-27T06:15:34.726Z"
   },
   {
    "duration": 570,
    "start_time": "2022-09-27T06:15:34.743Z"
   },
   {
    "duration": 364,
    "start_time": "2022-09-27T06:15:35.315Z"
   },
   {
    "duration": 5,
    "start_time": "2022-09-27T06:15:35.682Z"
   },
   {
    "duration": 289,
    "start_time": "2022-09-27T06:15:35.689Z"
   },
   {
    "duration": 5,
    "start_time": "2022-09-27T06:15:35.981Z"
   },
   {
    "duration": 10,
    "start_time": "2022-09-27T06:15:35.988Z"
   },
   {
    "duration": 286,
    "start_time": "2022-09-27T06:15:35.999Z"
   },
   {
    "duration": 5,
    "start_time": "2022-09-27T06:15:36.286Z"
   },
   {
    "duration": 285,
    "start_time": "2022-09-27T06:15:36.292Z"
   },
   {
    "duration": 5,
    "start_time": "2022-09-27T06:15:36.578Z"
   },
   {
    "duration": 292,
    "start_time": "2022-09-27T06:15:36.585Z"
   },
   {
    "duration": 6,
    "start_time": "2022-09-27T06:15:36.879Z"
   },
   {
    "duration": 243,
    "start_time": "2022-09-27T06:15:36.886Z"
   },
   {
    "duration": 5,
    "start_time": "2022-09-27T06:15:37.131Z"
   },
   {
    "duration": 141,
    "start_time": "2022-09-27T06:15:37.137Z"
   },
   {
    "duration": 5,
    "start_time": "2022-09-27T06:15:37.280Z"
   },
   {
    "duration": 119,
    "start_time": "2022-09-27T06:15:37.287Z"
   },
   {
    "duration": 5,
    "start_time": "2022-09-27T06:15:37.407Z"
   },
   {
    "duration": 142,
    "start_time": "2022-09-27T06:15:37.414Z"
   },
   {
    "duration": 5,
    "start_time": "2022-09-27T06:15:37.558Z"
   },
   {
    "duration": 213,
    "start_time": "2022-09-27T06:15:37.564Z"
   },
   {
    "duration": 5,
    "start_time": "2022-09-27T06:15:37.778Z"
   },
   {
    "duration": 174,
    "start_time": "2022-09-27T06:15:37.785Z"
   },
   {
    "duration": 105,
    "start_time": "2022-09-27T06:15:37.960Z"
   },
   {
    "duration": 0,
    "start_time": "2022-09-27T06:15:38.067Z"
   },
   {
    "duration": 0,
    "start_time": "2022-09-27T06:15:38.069Z"
   },
   {
    "duration": 0,
    "start_time": "2022-09-27T06:15:38.076Z"
   },
   {
    "duration": 0,
    "start_time": "2022-09-27T06:15:38.078Z"
   },
   {
    "duration": 0,
    "start_time": "2022-09-27T06:15:38.079Z"
   },
   {
    "duration": 0,
    "start_time": "2022-09-27T06:15:38.081Z"
   },
   {
    "duration": 0,
    "start_time": "2022-09-27T06:15:38.082Z"
   },
   {
    "duration": 0,
    "start_time": "2022-09-27T06:15:38.084Z"
   },
   {
    "duration": 0,
    "start_time": "2022-09-27T06:15:38.085Z"
   },
   {
    "duration": 0,
    "start_time": "2022-09-27T06:15:38.086Z"
   },
   {
    "duration": 0,
    "start_time": "2022-09-27T06:15:38.088Z"
   },
   {
    "duration": 0,
    "start_time": "2022-09-27T06:15:38.089Z"
   },
   {
    "duration": 0,
    "start_time": "2022-09-27T06:15:38.090Z"
   },
   {
    "duration": 0,
    "start_time": "2022-09-27T06:15:38.091Z"
   },
   {
    "duration": 0,
    "start_time": "2022-09-27T06:15:38.093Z"
   },
   {
    "duration": 0,
    "start_time": "2022-09-27T06:15:38.094Z"
   },
   {
    "duration": 16,
    "start_time": "2022-09-27T06:16:04.866Z"
   },
   {
    "duration": 15,
    "start_time": "2022-09-27T06:16:42.592Z"
   },
   {
    "duration": 9,
    "start_time": "2022-09-27T06:17:04.101Z"
   },
   {
    "duration": 16,
    "start_time": "2022-09-27T06:17:12.557Z"
   },
   {
    "duration": 15,
    "start_time": "2022-09-27T06:17:21.882Z"
   },
   {
    "duration": 15,
    "start_time": "2022-09-27T06:17:26.293Z"
   },
   {
    "duration": 10,
    "start_time": "2022-09-27T06:17:36.660Z"
   },
   {
    "duration": 13,
    "start_time": "2022-09-27T06:17:47.297Z"
   },
   {
    "duration": 14,
    "start_time": "2022-09-27T06:17:59.067Z"
   },
   {
    "duration": 301,
    "start_time": "2022-09-27T06:28:04.690Z"
   },
   {
    "duration": 15,
    "start_time": "2022-09-27T06:28:41.751Z"
   },
   {
    "duration": 196,
    "start_time": "2022-09-27T06:29:24.895Z"
   },
   {
    "duration": 105,
    "start_time": "2022-09-27T06:29:54.506Z"
   },
   {
    "duration": 152,
    "start_time": "2022-09-27T06:30:10.770Z"
   },
   {
    "duration": 14,
    "start_time": "2022-09-27T06:30:22.946Z"
   },
   {
    "duration": 2216,
    "start_time": "2022-09-27T06:30:39.691Z"
   },
   {
    "duration": 320,
    "start_time": "2022-09-27T06:31:27.710Z"
   },
   {
    "duration": 382,
    "start_time": "2022-09-27T06:33:14.639Z"
   },
   {
    "duration": 501,
    "start_time": "2022-09-27T06:33:45.249Z"
   },
   {
    "duration": 349,
    "start_time": "2022-09-27T06:33:49.487Z"
   },
   {
    "duration": 11,
    "start_time": "2022-09-27T06:34:20.489Z"
   },
   {
    "duration": 15,
    "start_time": "2022-09-27T06:34:37.534Z"
   },
   {
    "duration": 61,
    "start_time": "2022-09-27T06:34:54.973Z"
   },
   {
    "duration": 336,
    "start_time": "2022-09-27T06:35:07.796Z"
   },
   {
    "duration": 336,
    "start_time": "2022-09-27T06:36:13.580Z"
   },
   {
    "duration": 327,
    "start_time": "2022-09-27T06:38:03.138Z"
   },
   {
    "duration": 122,
    "start_time": "2022-09-27T06:42:15.981Z"
   },
   {
    "duration": 19,
    "start_time": "2022-09-27T06:46:20.400Z"
   },
   {
    "duration": 285,
    "start_time": "2022-09-27T06:46:39.127Z"
   },
   {
    "duration": 593,
    "start_time": "2022-09-27T06:47:28.196Z"
   },
   {
    "duration": 262,
    "start_time": "2022-09-27T06:47:42.628Z"
   },
   {
    "duration": 250,
    "start_time": "2022-09-27T06:49:08.170Z"
   },
   {
    "duration": 246,
    "start_time": "2022-09-27T06:50:09.848Z"
   },
   {
    "duration": 14,
    "start_time": "2022-09-27T06:50:54.683Z"
   },
   {
    "duration": 13,
    "start_time": "2022-09-27T06:51:20.147Z"
   },
   {
    "duration": 13,
    "start_time": "2022-09-27T06:51:28.994Z"
   },
   {
    "duration": 15,
    "start_time": "2022-09-27T06:51:46.931Z"
   },
   {
    "duration": 14,
    "start_time": "2022-09-27T06:52:05.524Z"
   },
   {
    "duration": 12,
    "start_time": "2022-09-27T06:52:09.660Z"
   },
   {
    "duration": 14,
    "start_time": "2022-09-27T06:52:45.873Z"
   },
   {
    "duration": 15,
    "start_time": "2022-09-27T06:53:09.193Z"
   },
   {
    "duration": 12,
    "start_time": "2022-09-27T06:53:20.037Z"
   },
   {
    "duration": 246,
    "start_time": "2022-09-27T06:54:29.512Z"
   },
   {
    "duration": 1090,
    "start_time": "2022-09-27T06:55:58.541Z"
   },
   {
    "duration": 1383,
    "start_time": "2022-09-27T06:56:19.521Z"
   },
   {
    "duration": 9,
    "start_time": "2022-09-27T07:01:38.777Z"
   },
   {
    "duration": 13,
    "start_time": "2022-09-27T07:01:57.554Z"
   },
   {
    "duration": 245,
    "start_time": "2022-09-27T07:05:21.051Z"
   },
   {
    "duration": 292,
    "start_time": "2022-09-27T07:05:55.126Z"
   },
   {
    "duration": 1159,
    "start_time": "2022-09-27T07:06:51.396Z"
   },
   {
    "duration": 71,
    "start_time": "2022-09-27T07:06:52.557Z"
   },
   {
    "duration": 15,
    "start_time": "2022-09-27T07:06:52.630Z"
   },
   {
    "duration": 64,
    "start_time": "2022-09-27T07:06:52.647Z"
   },
   {
    "duration": 810,
    "start_time": "2022-09-27T07:06:52.714Z"
   },
   {
    "duration": 4,
    "start_time": "2022-09-27T07:06:53.525Z"
   },
   {
    "duration": 35,
    "start_time": "2022-09-27T07:06:53.530Z"
   },
   {
    "duration": 7,
    "start_time": "2022-09-27T07:06:53.567Z"
   },
   {
    "duration": 10,
    "start_time": "2022-09-27T07:06:53.576Z"
   },
   {
    "duration": 18,
    "start_time": "2022-09-27T07:06:53.589Z"
   },
   {
    "duration": 5,
    "start_time": "2022-09-27T07:06:53.609Z"
   },
   {
    "duration": 18,
    "start_time": "2022-09-27T07:06:53.617Z"
   },
   {
    "duration": 43,
    "start_time": "2022-09-27T07:06:53.637Z"
   },
   {
    "duration": 15,
    "start_time": "2022-09-27T07:06:53.682Z"
   },
   {
    "duration": 11,
    "start_time": "2022-09-27T07:06:53.699Z"
   },
   {
    "duration": 12,
    "start_time": "2022-09-27T07:06:53.712Z"
   },
   {
    "duration": 37,
    "start_time": "2022-09-27T07:06:53.726Z"
   },
   {
    "duration": 28,
    "start_time": "2022-09-27T07:06:53.764Z"
   },
   {
    "duration": 6,
    "start_time": "2022-09-27T07:06:53.793Z"
   },
   {
    "duration": 231,
    "start_time": "2022-09-27T07:06:53.801Z"
   },
   {
    "duration": 221,
    "start_time": "2022-09-27T07:06:54.034Z"
   },
   {
    "duration": 20,
    "start_time": "2022-09-27T07:06:54.257Z"
   },
   {
    "duration": 269,
    "start_time": "2022-09-27T07:06:54.279Z"
   },
   {
    "duration": 361,
    "start_time": "2022-09-27T07:06:54.551Z"
   },
   {
    "duration": 68,
    "start_time": "2022-09-27T07:06:54.914Z"
   },
   {
    "duration": 824,
    "start_time": "2022-09-27T07:06:54.983Z"
   },
   {
    "duration": 299,
    "start_time": "2022-09-27T07:06:55.809Z"
   },
   {
    "duration": 5,
    "start_time": "2022-09-27T07:06:56.112Z"
   },
   {
    "duration": 360,
    "start_time": "2022-09-27T07:06:56.119Z"
   },
   {
    "duration": 5,
    "start_time": "2022-09-27T07:06:56.480Z"
   },
   {
    "duration": 13,
    "start_time": "2022-09-27T07:06:56.487Z"
   },
   {
    "duration": 243,
    "start_time": "2022-09-27T07:06:56.502Z"
   },
   {
    "duration": 5,
    "start_time": "2022-09-27T07:06:56.747Z"
   },
   {
    "duration": 140,
    "start_time": "2022-09-27T07:06:56.776Z"
   },
   {
    "duration": 5,
    "start_time": "2022-09-27T07:06:56.918Z"
   },
   {
    "duration": 185,
    "start_time": "2022-09-27T07:06:56.925Z"
   },
   {
    "duration": 5,
    "start_time": "2022-09-27T07:06:57.111Z"
   },
   {
    "duration": 158,
    "start_time": "2022-09-27T07:06:57.118Z"
   },
   {
    "duration": 4,
    "start_time": "2022-09-27T07:06:57.278Z"
   },
   {
    "duration": 140,
    "start_time": "2022-09-27T07:06:57.284Z"
   },
   {
    "duration": 5,
    "start_time": "2022-09-27T07:06:57.426Z"
   },
   {
    "duration": 123,
    "start_time": "2022-09-27T07:06:57.432Z"
   },
   {
    "duration": 5,
    "start_time": "2022-09-27T07:06:57.557Z"
   },
   {
    "duration": 156,
    "start_time": "2022-09-27T07:06:57.563Z"
   },
   {
    "duration": 6,
    "start_time": "2022-09-27T07:06:57.720Z"
   },
   {
    "duration": 218,
    "start_time": "2022-09-27T07:06:57.727Z"
   },
   {
    "duration": 5,
    "start_time": "2022-09-27T07:06:57.947Z"
   },
   {
    "duration": 191,
    "start_time": "2022-09-27T07:06:57.954Z"
   },
   {
    "duration": 14,
    "start_time": "2022-09-27T07:06:58.147Z"
   },
   {
    "duration": 20,
    "start_time": "2022-09-27T07:06:58.162Z"
   },
   {
    "duration": 15,
    "start_time": "2022-09-27T07:06:58.183Z"
   },
   {
    "duration": 180,
    "start_time": "2022-09-27T07:06:58.200Z"
   },
   {
    "duration": 371,
    "start_time": "2022-09-27T07:06:58.381Z"
   },
   {
    "duration": 0,
    "start_time": "2022-09-27T07:06:58.755Z"
   },
   {
    "duration": 0,
    "start_time": "2022-09-27T07:06:58.757Z"
   },
   {
    "duration": 0,
    "start_time": "2022-09-27T07:06:58.776Z"
   },
   {
    "duration": 0,
    "start_time": "2022-09-27T07:06:58.778Z"
   },
   {
    "duration": 0,
    "start_time": "2022-09-27T07:06:58.780Z"
   },
   {
    "duration": 0,
    "start_time": "2022-09-27T07:06:58.782Z"
   },
   {
    "duration": 0,
    "start_time": "2022-09-27T07:06:58.784Z"
   },
   {
    "duration": 0,
    "start_time": "2022-09-27T07:06:58.786Z"
   },
   {
    "duration": 0,
    "start_time": "2022-09-27T07:06:58.788Z"
   },
   {
    "duration": 0,
    "start_time": "2022-09-27T07:06:58.789Z"
   },
   {
    "duration": 0,
    "start_time": "2022-09-27T07:06:58.791Z"
   },
   {
    "duration": 0,
    "start_time": "2022-09-27T07:06:58.792Z"
   },
   {
    "duration": 0,
    "start_time": "2022-09-27T07:06:58.794Z"
   },
   {
    "duration": 0,
    "start_time": "2022-09-27T07:06:58.796Z"
   },
   {
    "duration": 249,
    "start_time": "2022-09-27T07:08:09.444Z"
   },
   {
    "duration": 20,
    "start_time": "2022-09-27T07:08:36.275Z"
   },
   {
    "duration": 130,
    "start_time": "2022-09-27T07:08:53.863Z"
   },
   {
    "duration": 119,
    "start_time": "2022-09-27T07:09:03.242Z"
   },
   {
    "duration": 266,
    "start_time": "2022-09-27T07:09:34.320Z"
   },
   {
    "duration": 637,
    "start_time": "2022-09-27T07:10:35.949Z"
   },
   {
    "duration": 664,
    "start_time": "2022-09-27T07:10:56.797Z"
   },
   {
    "duration": 633,
    "start_time": "2022-09-27T07:11:05.772Z"
   },
   {
    "duration": 735,
    "start_time": "2022-09-27T07:11:18.020Z"
   },
   {
    "duration": 591,
    "start_time": "2022-09-27T07:11:26.108Z"
   },
   {
    "duration": 263,
    "start_time": "2022-09-27T07:11:52.561Z"
   },
   {
    "duration": 235,
    "start_time": "2022-09-27T07:11:59.688Z"
   },
   {
    "duration": 569,
    "start_time": "2022-09-27T07:12:07.520Z"
   },
   {
    "duration": 521,
    "start_time": "2022-09-27T07:12:17.417Z"
   },
   {
    "duration": 407,
    "start_time": "2022-09-27T07:12:26.721Z"
   },
   {
    "duration": 245,
    "start_time": "2022-09-27T07:12:38.543Z"
   },
   {
    "duration": 18,
    "start_time": "2022-09-27T07:12:50.112Z"
   },
   {
    "duration": 581,
    "start_time": "2022-09-27T07:12:57.031Z"
   },
   {
    "duration": 477,
    "start_time": "2022-09-27T07:13:03.453Z"
   },
   {
    "duration": 19,
    "start_time": "2022-09-27T07:13:12.780Z"
   },
   {
    "duration": 384,
    "start_time": "2022-09-27T07:13:27.397Z"
   },
   {
    "duration": 362,
    "start_time": "2022-09-27T07:13:37.229Z"
   },
   {
    "duration": 386,
    "start_time": "2022-09-27T07:13:52.261Z"
   },
   {
    "duration": 432,
    "start_time": "2022-09-27T07:14:04.042Z"
   },
   {
    "duration": 507,
    "start_time": "2022-09-27T07:14:13.427Z"
   },
   {
    "duration": 360,
    "start_time": "2022-09-27T07:14:21.571Z"
   },
   {
    "duration": 371,
    "start_time": "2022-09-27T07:14:30.338Z"
   },
   {
    "duration": 242,
    "start_time": "2022-09-27T07:14:39.218Z"
   },
   {
    "duration": 384,
    "start_time": "2022-09-27T07:14:51.123Z"
   },
   {
    "duration": 413,
    "start_time": "2022-09-27T07:18:20.536Z"
   },
   {
    "duration": 534,
    "start_time": "2022-09-27T07:18:25.592Z"
   },
   {
    "duration": 412,
    "start_time": "2022-09-27T07:19:19.949Z"
   },
   {
    "duration": 381,
    "start_time": "2022-09-27T07:19:56.378Z"
   },
   {
    "duration": 389,
    "start_time": "2022-09-27T07:20:03.052Z"
   },
   {
    "duration": 475,
    "start_time": "2022-09-27T07:20:25.105Z"
   },
   {
    "duration": 441,
    "start_time": "2022-09-27T07:20:46.930Z"
   },
   {
    "duration": 568,
    "start_time": "2022-09-27T07:20:58.970Z"
   },
   {
    "duration": 420,
    "start_time": "2022-09-27T07:24:05.778Z"
   },
   {
    "duration": 398,
    "start_time": "2022-09-27T07:24:17.841Z"
   },
   {
    "duration": 407,
    "start_time": "2022-09-27T07:24:56.991Z"
   },
   {
    "duration": 479,
    "start_time": "2022-09-27T07:25:05.086Z"
   },
   {
    "duration": 452,
    "start_time": "2022-09-27T07:26:41.651Z"
   },
   {
    "duration": 1062,
    "start_time": "2022-09-27T07:26:53.783Z"
   },
   {
    "duration": 69,
    "start_time": "2022-09-27T07:26:54.848Z"
   },
   {
    "duration": 26,
    "start_time": "2022-09-27T07:26:54.919Z"
   },
   {
    "duration": 51,
    "start_time": "2022-09-27T07:26:54.948Z"
   },
   {
    "duration": 826,
    "start_time": "2022-09-27T07:26:55.000Z"
   },
   {
    "duration": 4,
    "start_time": "2022-09-27T07:26:55.828Z"
   },
   {
    "duration": 17,
    "start_time": "2022-09-27T07:26:55.833Z"
   },
   {
    "duration": 8,
    "start_time": "2022-09-27T07:26:55.851Z"
   },
   {
    "duration": 22,
    "start_time": "2022-09-27T07:26:55.860Z"
   },
   {
    "duration": 17,
    "start_time": "2022-09-27T07:26:55.884Z"
   },
   {
    "duration": 5,
    "start_time": "2022-09-27T07:26:55.903Z"
   },
   {
    "duration": 23,
    "start_time": "2022-09-27T07:26:55.909Z"
   },
   {
    "duration": 7,
    "start_time": "2022-09-27T07:26:55.934Z"
   },
   {
    "duration": 36,
    "start_time": "2022-09-27T07:26:55.943Z"
   },
   {
    "duration": 8,
    "start_time": "2022-09-27T07:26:55.980Z"
   },
   {
    "duration": 11,
    "start_time": "2022-09-27T07:26:55.989Z"
   },
   {
    "duration": 18,
    "start_time": "2022-09-27T07:26:56.001Z"
   },
   {
    "duration": 17,
    "start_time": "2022-09-27T07:26:56.021Z"
   },
   {
    "duration": 14,
    "start_time": "2022-09-27T07:26:56.040Z"
   },
   {
    "duration": 344,
    "start_time": "2022-09-27T07:26:56.077Z"
   },
   {
    "duration": 402,
    "start_time": "2022-09-27T07:26:56.477Z"
   },
   {
    "duration": 12,
    "start_time": "2022-09-27T07:26:56.881Z"
   },
   {
    "duration": 538,
    "start_time": "2022-09-27T07:26:56.894Z"
   },
   {
    "duration": 584,
    "start_time": "2022-09-27T07:26:57.434Z"
   },
   {
    "duration": 13,
    "start_time": "2022-09-27T07:26:58.020Z"
   },
   {
    "duration": 372,
    "start_time": "2022-09-27T07:26:58.036Z"
   },
   {
    "duration": 154,
    "start_time": "2022-09-27T07:26:58.411Z"
   },
   {
    "duration": 5,
    "start_time": "2022-09-27T07:26:58.576Z"
   },
   {
    "duration": 165,
    "start_time": "2022-09-27T07:26:58.583Z"
   },
   {
    "duration": 5,
    "start_time": "2022-09-27T07:26:58.751Z"
   },
   {
    "duration": 26,
    "start_time": "2022-09-27T07:26:58.758Z"
   },
   {
    "duration": 143,
    "start_time": "2022-09-27T07:26:58.785Z"
   },
   {
    "duration": 5,
    "start_time": "2022-09-27T07:26:58.931Z"
   },
   {
    "duration": 140,
    "start_time": "2022-09-27T07:26:58.938Z"
   },
   {
    "duration": 5,
    "start_time": "2022-09-27T07:26:59.083Z"
   },
   {
    "duration": 156,
    "start_time": "2022-09-27T07:26:59.090Z"
   },
   {
    "duration": 5,
    "start_time": "2022-09-27T07:26:59.248Z"
   },
   {
    "duration": 155,
    "start_time": "2022-09-27T07:26:59.255Z"
   },
   {
    "duration": 5,
    "start_time": "2022-09-27T07:26:59.411Z"
   },
   {
    "duration": 146,
    "start_time": "2022-09-27T07:26:59.417Z"
   },
   {
    "duration": 6,
    "start_time": "2022-09-27T07:26:59.564Z"
   },
   {
    "duration": 116,
    "start_time": "2022-09-27T07:26:59.576Z"
   },
   {
    "duration": 4,
    "start_time": "2022-09-27T07:26:59.694Z"
   },
   {
    "duration": 153,
    "start_time": "2022-09-27T07:26:59.700Z"
   },
   {
    "duration": 6,
    "start_time": "2022-09-27T07:26:59.855Z"
   },
   {
    "duration": 213,
    "start_time": "2022-09-27T07:26:59.863Z"
   },
   {
    "duration": 6,
    "start_time": "2022-09-27T07:27:00.078Z"
   },
   {
    "duration": 200,
    "start_time": "2022-09-27T07:27:00.085Z"
   },
   {
    "duration": 13,
    "start_time": "2022-09-27T07:27:00.286Z"
   },
   {
    "duration": 56,
    "start_time": "2022-09-27T07:27:00.300Z"
   },
   {
    "duration": 31,
    "start_time": "2022-09-27T07:27:00.358Z"
   },
   {
    "duration": 422,
    "start_time": "2022-09-27T07:27:00.391Z"
   },
   {
    "duration": 15,
    "start_time": "2022-09-27T07:27:00.814Z"
   },
   {
    "duration": 19,
    "start_time": "2022-09-27T07:27:00.831Z"
   },
   {
    "duration": 30,
    "start_time": "2022-09-27T07:27:00.852Z"
   },
   {
    "duration": 419,
    "start_time": "2022-09-27T07:27:00.884Z"
   },
   {
    "duration": 12,
    "start_time": "2022-09-27T07:27:01.305Z"
   },
   {
    "duration": 35,
    "start_time": "2022-09-27T07:27:01.319Z"
   },
   {
    "duration": 23,
    "start_time": "2022-09-27T07:27:01.356Z"
   },
   {
    "duration": 37,
    "start_time": "2022-09-27T07:27:01.381Z"
   },
   {
    "duration": 152,
    "start_time": "2022-09-27T07:27:01.420Z"
   },
   {
    "duration": 130,
    "start_time": "2022-09-27T07:27:01.574Z"
   },
   {
    "duration": 5,
    "start_time": "2022-09-27T07:27:01.706Z"
   },
   {
    "duration": 12,
    "start_time": "2022-09-27T07:27:01.713Z"
   },
   {
    "duration": 149,
    "start_time": "2022-09-27T07:27:01.727Z"
   },
   {
    "duration": 124,
    "start_time": "2022-09-27T07:27:01.878Z"
   },
   {
    "duration": 5,
    "start_time": "2022-09-27T07:27:02.003Z"
   },
   {
    "duration": 649,
    "start_time": "2022-09-27T07:27:51.869Z"
   },
   {
    "duration": 52,
    "start_time": "2022-09-27T07:27:59.806Z"
   },
   {
    "duration": 95,
    "start_time": "2022-09-27T07:28:03.131Z"
   },
   {
    "duration": 193,
    "start_time": "2022-09-27T07:28:07.610Z"
   },
   {
    "duration": 446,
    "start_time": "2022-09-27T07:28:18.197Z"
   },
   {
    "duration": 409,
    "start_time": "2022-09-27T07:28:33.044Z"
   },
   {
    "duration": 454,
    "start_time": "2022-09-27T07:31:11.117Z"
   },
   {
    "duration": 423,
    "start_time": "2022-09-27T07:31:28.956Z"
   },
   {
    "duration": 494,
    "start_time": "2022-09-27T07:31:54.451Z"
   },
   {
    "duration": 433,
    "start_time": "2022-09-27T07:32:13.450Z"
   },
   {
    "duration": 469,
    "start_time": "2022-09-27T07:32:27.489Z"
   },
   {
    "duration": 391,
    "start_time": "2022-09-27T07:32:40.688Z"
   },
   {
    "duration": 425,
    "start_time": "2022-09-27T07:32:48.210Z"
   },
   {
    "duration": 507,
    "start_time": "2022-09-27T07:33:20.717Z"
   },
   {
    "duration": 1385,
    "start_time": "2022-09-27T07:33:57.156Z"
   },
   {
    "duration": 2245,
    "start_time": "2022-09-27T07:34:06.684Z"
   },
   {
    "duration": 432,
    "start_time": "2022-09-27T07:34:28.181Z"
   },
   {
    "duration": 475,
    "start_time": "2022-09-27T07:34:46.165Z"
   },
   {
    "duration": 1391,
    "start_time": "2022-09-27T07:35:12.457Z"
   },
   {
    "duration": 401,
    "start_time": "2022-09-27T07:35:23.985Z"
   },
   {
    "duration": 438,
    "start_time": "2022-09-27T07:35:47.449Z"
   },
   {
    "duration": 425,
    "start_time": "2022-09-27T07:37:18.435Z"
   },
   {
    "duration": 568,
    "start_time": "2022-09-27T07:38:13.400Z"
   },
   {
    "duration": 423,
    "start_time": "2022-09-27T07:38:20.738Z"
   },
   {
    "duration": 434,
    "start_time": "2022-09-27T07:38:47.115Z"
   },
   {
    "duration": 11,
    "start_time": "2022-09-27T07:38:53.184Z"
   },
   {
    "duration": 10,
    "start_time": "2022-09-27T07:39:09.329Z"
   },
   {
    "duration": 10,
    "start_time": "2022-09-27T07:39:18.911Z"
   },
   {
    "duration": 421,
    "start_time": "2022-09-27T07:39:26.118Z"
   },
   {
    "duration": 4,
    "start_time": "2022-09-27T07:39:45.493Z"
   },
   {
    "duration": 465,
    "start_time": "2022-09-27T07:41:40.082Z"
   },
   {
    "duration": 64,
    "start_time": "2022-09-27T07:42:02.673Z"
   },
   {
    "duration": 51,
    "start_time": "2022-09-27T07:44:42.491Z"
   },
   {
    "duration": 562,
    "start_time": "2022-09-27T07:45:10.464Z"
   },
   {
    "duration": 70,
    "start_time": "2022-09-27T07:46:47.780Z"
   },
   {
    "duration": 454,
    "start_time": "2022-09-27T07:46:51.908Z"
   },
   {
    "duration": 460,
    "start_time": "2022-09-27T07:47:50.121Z"
   },
   {
    "duration": 15,
    "start_time": "2022-09-27T07:50:34.896Z"
   },
   {
    "duration": 13,
    "start_time": "2022-09-27T07:50:42.288Z"
   },
   {
    "duration": 16,
    "start_time": "2022-09-27T07:52:39.140Z"
   },
   {
    "duration": 13,
    "start_time": "2022-09-27T07:52:59.747Z"
   },
   {
    "duration": 15,
    "start_time": "2022-09-27T07:53:12.692Z"
   },
   {
    "duration": 53,
    "start_time": "2022-09-27T07:55:10.653Z"
   },
   {
    "duration": 20,
    "start_time": "2022-09-27T07:55:16.868Z"
   },
   {
    "duration": 15,
    "start_time": "2022-09-27T07:55:28.522Z"
   },
   {
    "duration": 14,
    "start_time": "2022-09-27T07:55:37.650Z"
   },
   {
    "duration": 12,
    "start_time": "2022-09-27T07:55:41.219Z"
   },
   {
    "duration": 14,
    "start_time": "2022-09-27T07:55:47.675Z"
   },
   {
    "duration": 14,
    "start_time": "2022-09-27T07:56:02.490Z"
   },
   {
    "duration": 14,
    "start_time": "2022-09-27T07:56:13.897Z"
   },
   {
    "duration": 13,
    "start_time": "2022-09-27T07:56:44.016Z"
   },
   {
    "duration": 15,
    "start_time": "2022-09-27T07:56:53.865Z"
   },
   {
    "duration": 14,
    "start_time": "2022-09-27T07:57:04.342Z"
   },
   {
    "duration": 14,
    "start_time": "2022-09-27T07:57:33.966Z"
   },
   {
    "duration": 15,
    "start_time": "2022-09-27T07:58:22.677Z"
   },
   {
    "duration": 12,
    "start_time": "2022-09-27T07:59:17.633Z"
   },
   {
    "duration": 14,
    "start_time": "2022-09-27T07:59:24.526Z"
   },
   {
    "duration": 12,
    "start_time": "2022-09-27T07:59:40.138Z"
   },
   {
    "duration": 21,
    "start_time": "2022-09-27T07:59:56.920Z"
   },
   {
    "duration": 13,
    "start_time": "2022-09-27T08:00:23.455Z"
   },
   {
    "duration": 15,
    "start_time": "2022-09-27T08:00:47.871Z"
   },
   {
    "duration": 15,
    "start_time": "2022-09-27T08:01:32.115Z"
   },
   {
    "duration": 17,
    "start_time": "2022-09-27T08:01:53.131Z"
   },
   {
    "duration": 16,
    "start_time": "2022-09-27T08:02:13.571Z"
   },
   {
    "duration": 22,
    "start_time": "2022-09-27T08:04:12.900Z"
   },
   {
    "duration": 20,
    "start_time": "2022-09-27T08:04:20.541Z"
   },
   {
    "duration": 555,
    "start_time": "2022-09-27T08:04:28.843Z"
   },
   {
    "duration": 336,
    "start_time": "2022-09-27T08:04:33.466Z"
   },
   {
    "duration": 471,
    "start_time": "2022-09-27T08:04:41.123Z"
   },
   {
    "duration": 393,
    "start_time": "2022-09-27T08:05:38.495Z"
   },
   {
    "duration": 631,
    "start_time": "2022-09-27T08:06:04.537Z"
   },
   {
    "duration": 277,
    "start_time": "2022-09-27T08:07:48.794Z"
   },
   {
    "duration": 251,
    "start_time": "2022-09-27T08:07:58.586Z"
   },
   {
    "duration": 459,
    "start_time": "2022-09-27T08:08:02.577Z"
   },
   {
    "duration": 239,
    "start_time": "2022-09-27T08:14:23.086Z"
   },
   {
    "duration": 253,
    "start_time": "2022-09-27T08:14:58.430Z"
   },
   {
    "duration": 336,
    "start_time": "2022-09-27T08:22:54.215Z"
   },
   {
    "duration": 259,
    "start_time": "2022-09-27T08:38:52.430Z"
   },
   {
    "duration": 6,
    "start_time": "2022-09-27T08:42:05.693Z"
   },
   {
    "duration": 303,
    "start_time": "2022-09-27T08:42:16.524Z"
   },
   {
    "duration": 302,
    "start_time": "2022-09-27T08:43:32.561Z"
   },
   {
    "duration": 250,
    "start_time": "2022-09-27T08:44:09.826Z"
   },
   {
    "duration": 248,
    "start_time": "2022-09-27T08:44:59.192Z"
   },
   {
    "duration": 10,
    "start_time": "2022-09-27T08:45:45.660Z"
   },
   {
    "duration": 18,
    "start_time": "2022-09-27T08:46:50.448Z"
   },
   {
    "duration": 342,
    "start_time": "2022-09-27T08:47:07.847Z"
   },
   {
    "duration": 8,
    "start_time": "2022-09-27T08:48:42.138Z"
   },
   {
    "duration": 9,
    "start_time": "2022-09-27T08:48:56.203Z"
   },
   {
    "duration": 10,
    "start_time": "2022-09-27T08:49:05.595Z"
   },
   {
    "duration": 23,
    "start_time": "2022-09-27T08:49:51.175Z"
   },
   {
    "duration": 10,
    "start_time": "2022-09-27T08:50:24.630Z"
   },
   {
    "duration": 1064,
    "start_time": "2022-09-27T08:50:40.022Z"
   },
   {
    "duration": 66,
    "start_time": "2022-09-27T08:50:41.088Z"
   },
   {
    "duration": 14,
    "start_time": "2022-09-27T08:50:41.156Z"
   },
   {
    "duration": 51,
    "start_time": "2022-09-27T08:50:41.172Z"
   },
   {
    "duration": 798,
    "start_time": "2022-09-27T08:50:41.225Z"
   },
   {
    "duration": 4,
    "start_time": "2022-09-27T08:50:42.024Z"
   },
   {
    "duration": 17,
    "start_time": "2022-09-27T08:50:42.029Z"
   },
   {
    "duration": 8,
    "start_time": "2022-09-27T08:50:42.048Z"
   },
   {
    "duration": 23,
    "start_time": "2022-09-27T08:50:42.058Z"
   },
   {
    "duration": 16,
    "start_time": "2022-09-27T08:50:42.084Z"
   },
   {
    "duration": 5,
    "start_time": "2022-09-27T08:50:42.101Z"
   },
   {
    "duration": 20,
    "start_time": "2022-09-27T08:50:42.108Z"
   },
   {
    "duration": 9,
    "start_time": "2022-09-27T08:50:42.130Z"
   },
   {
    "duration": 44,
    "start_time": "2022-09-27T08:50:42.141Z"
   },
   {
    "duration": 7,
    "start_time": "2022-09-27T08:50:42.186Z"
   },
   {
    "duration": 9,
    "start_time": "2022-09-27T08:50:42.195Z"
   },
   {
    "duration": 18,
    "start_time": "2022-09-27T08:50:42.206Z"
   },
   {
    "duration": 26,
    "start_time": "2022-09-27T08:50:42.226Z"
   },
   {
    "duration": 25,
    "start_time": "2022-09-27T08:50:42.253Z"
   },
   {
    "duration": 221,
    "start_time": "2022-09-27T08:50:42.279Z"
   },
   {
    "duration": 211,
    "start_time": "2022-09-27T08:50:42.502Z"
   },
   {
    "duration": 12,
    "start_time": "2022-09-27T08:50:42.714Z"
   },
   {
    "duration": 273,
    "start_time": "2022-09-27T08:50:42.728Z"
   },
   {
    "duration": 335,
    "start_time": "2022-09-27T08:50:43.002Z"
   },
   {
    "duration": 14,
    "start_time": "2022-09-27T08:50:43.338Z"
   },
   {
    "duration": 366,
    "start_time": "2022-09-27T08:50:43.353Z"
   },
   {
    "duration": 151,
    "start_time": "2022-09-27T08:50:43.720Z"
   },
   {
    "duration": 7,
    "start_time": "2022-09-27T08:50:43.874Z"
   },
   {
    "duration": 142,
    "start_time": "2022-09-27T08:50:43.882Z"
   },
   {
    "duration": 5,
    "start_time": "2022-09-27T08:50:44.025Z"
   },
   {
    "duration": 10,
    "start_time": "2022-09-27T08:50:44.032Z"
   },
   {
    "duration": 164,
    "start_time": "2022-09-27T08:50:44.044Z"
   },
   {
    "duration": 6,
    "start_time": "2022-09-27T08:50:44.209Z"
   },
   {
    "duration": 150,
    "start_time": "2022-09-27T08:50:44.216Z"
   },
   {
    "duration": 10,
    "start_time": "2022-09-27T08:50:44.368Z"
   },
   {
    "duration": 152,
    "start_time": "2022-09-27T08:50:44.380Z"
   },
   {
    "duration": 5,
    "start_time": "2022-09-27T08:50:44.534Z"
   },
   {
    "duration": 164,
    "start_time": "2022-09-27T08:50:44.540Z"
   },
   {
    "duration": 4,
    "start_time": "2022-09-27T08:50:44.705Z"
   },
   {
    "duration": 138,
    "start_time": "2022-09-27T08:50:44.711Z"
   },
   {
    "duration": 5,
    "start_time": "2022-09-27T08:50:44.850Z"
   },
   {
    "duration": 137,
    "start_time": "2022-09-27T08:50:44.857Z"
   },
   {
    "duration": 5,
    "start_time": "2022-09-27T08:50:44.996Z"
   },
   {
    "duration": 158,
    "start_time": "2022-09-27T08:50:45.003Z"
   },
   {
    "duration": 6,
    "start_time": "2022-09-27T08:50:45.162Z"
   },
   {
    "duration": 237,
    "start_time": "2022-09-27T08:50:45.169Z"
   },
   {
    "duration": 7,
    "start_time": "2022-09-27T08:50:45.410Z"
   },
   {
    "duration": 245,
    "start_time": "2022-09-27T08:50:45.419Z"
   },
   {
    "duration": 11,
    "start_time": "2022-09-27T08:50:45.666Z"
   },
   {
    "duration": 32,
    "start_time": "2022-09-27T08:50:45.678Z"
   },
   {
    "duration": 25,
    "start_time": "2022-09-27T08:50:45.711Z"
   },
   {
    "duration": 34,
    "start_time": "2022-09-27T08:50:45.737Z"
   },
   {
    "duration": 282,
    "start_time": "2022-09-27T08:50:45.772Z"
   },
   {
    "duration": 10,
    "start_time": "2022-09-27T08:50:46.055Z"
   },
   {
    "duration": 28,
    "start_time": "2022-09-27T08:50:46.066Z"
   },
   {
    "duration": 21,
    "start_time": "2022-09-27T08:50:46.095Z"
   },
   {
    "duration": 26,
    "start_time": "2022-09-27T08:50:46.118Z"
   },
   {
    "duration": 285,
    "start_time": "2022-09-27T08:50:46.146Z"
   },
   {
    "duration": 13,
    "start_time": "2022-09-27T08:50:46.433Z"
   },
   {
    "duration": 24,
    "start_time": "2022-09-27T08:50:46.448Z"
   },
   {
    "duration": 29,
    "start_time": "2022-09-27T08:50:46.476Z"
   },
   {
    "duration": 309,
    "start_time": "2022-09-27T08:50:46.508Z"
   },
   {
    "duration": 10,
    "start_time": "2022-09-27T08:50:46.819Z"
   },
   {
    "duration": 170,
    "start_time": "2022-09-27T08:50:46.830Z"
   },
   {
    "duration": 169,
    "start_time": "2022-09-27T08:50:47.003Z"
   },
   {
    "duration": 5,
    "start_time": "2022-09-27T08:50:47.176Z"
   },
   {
    "duration": 37,
    "start_time": "2022-09-27T08:50:47.183Z"
   },
   {
    "duration": 161,
    "start_time": "2022-09-27T08:50:47.222Z"
   },
   {
    "duration": 245,
    "start_time": "2022-09-27T08:50:47.385Z"
   },
   {
    "duration": 7,
    "start_time": "2022-09-27T08:50:47.632Z"
   },
   {
    "duration": 334,
    "start_time": "2022-09-27T12:20:01.311Z"
   },
   {
    "duration": 317,
    "start_time": "2022-09-27T12:20:11.449Z"
   },
   {
    "duration": 1049,
    "start_time": "2022-09-27T12:20:20.372Z"
   },
   {
    "duration": 1244,
    "start_time": "2022-09-27T12:20:41.652Z"
   },
   {
    "duration": 1256,
    "start_time": "2022-09-27T12:20:46.567Z"
   },
   {
    "duration": 1234,
    "start_time": "2022-09-27T12:20:51.946Z"
   },
   {
    "duration": 1314,
    "start_time": "2022-09-27T12:20:59.100Z"
   },
   {
    "duration": 1162,
    "start_time": "2022-09-27T12:21:17.531Z"
   },
   {
    "duration": 73,
    "start_time": "2022-09-27T12:21:18.695Z"
   },
   {
    "duration": 17,
    "start_time": "2022-09-27T12:21:18.770Z"
   },
   {
    "duration": 56,
    "start_time": "2022-09-27T12:21:18.790Z"
   },
   {
    "duration": 772,
    "start_time": "2022-09-27T12:21:18.848Z"
   },
   {
    "duration": 4,
    "start_time": "2022-09-27T12:21:19.621Z"
   },
   {
    "duration": 25,
    "start_time": "2022-09-27T12:21:19.627Z"
   },
   {
    "duration": 24,
    "start_time": "2022-09-27T12:21:19.654Z"
   },
   {
    "duration": 14,
    "start_time": "2022-09-27T12:21:19.680Z"
   },
   {
    "duration": 21,
    "start_time": "2022-09-27T12:21:19.699Z"
   },
   {
    "duration": 5,
    "start_time": "2022-09-27T12:21:19.722Z"
   },
   {
    "duration": 49,
    "start_time": "2022-09-27T12:21:19.729Z"
   },
   {
    "duration": 14,
    "start_time": "2022-09-27T12:21:19.780Z"
   },
   {
    "duration": 22,
    "start_time": "2022-09-27T12:21:19.796Z"
   },
   {
    "duration": 17,
    "start_time": "2022-09-27T12:21:19.820Z"
   },
   {
    "duration": 24,
    "start_time": "2022-09-27T12:21:19.839Z"
   },
   {
    "duration": 21,
    "start_time": "2022-09-27T12:21:19.865Z"
   },
   {
    "duration": 24,
    "start_time": "2022-09-27T12:21:19.888Z"
   },
   {
    "duration": 7,
    "start_time": "2022-09-27T12:21:19.914Z"
   },
   {
    "duration": 207,
    "start_time": "2022-09-27T12:21:19.923Z"
   },
   {
    "duration": 222,
    "start_time": "2022-09-27T12:21:20.132Z"
   },
   {
    "duration": 21,
    "start_time": "2022-09-27T12:21:20.356Z"
   },
   {
    "duration": 270,
    "start_time": "2022-09-27T12:21:20.378Z"
   },
   {
    "duration": 331,
    "start_time": "2022-09-27T12:21:20.650Z"
   },
   {
    "duration": 16,
    "start_time": "2022-09-27T12:21:20.983Z"
   },
   {
    "duration": 381,
    "start_time": "2022-09-27T12:21:21.001Z"
   },
   {
    "duration": 148,
    "start_time": "2022-09-27T12:21:21.385Z"
   },
   {
    "duration": 5,
    "start_time": "2022-09-27T12:21:21.537Z"
   },
   {
    "duration": 144,
    "start_time": "2022-09-27T12:21:21.544Z"
   },
   {
    "duration": 6,
    "start_time": "2022-09-27T12:21:21.690Z"
   },
   {
    "duration": 11,
    "start_time": "2022-09-27T12:21:21.697Z"
   },
   {
    "duration": 168,
    "start_time": "2022-09-27T12:21:21.710Z"
   },
   {
    "duration": 5,
    "start_time": "2022-09-27T12:21:21.880Z"
   },
   {
    "duration": 144,
    "start_time": "2022-09-27T12:21:21.886Z"
   },
   {
    "duration": 6,
    "start_time": "2022-09-27T12:21:22.032Z"
   },
   {
    "duration": 146,
    "start_time": "2022-09-27T12:21:22.040Z"
   },
   {
    "duration": 6,
    "start_time": "2022-09-27T12:21:22.187Z"
   },
   {
    "duration": 161,
    "start_time": "2022-09-27T12:21:22.195Z"
   },
   {
    "duration": 6,
    "start_time": "2022-09-27T12:21:22.357Z"
   },
   {
    "duration": 161,
    "start_time": "2022-09-27T12:21:22.377Z"
   },
   {
    "duration": 6,
    "start_time": "2022-09-27T12:21:22.540Z"
   },
   {
    "duration": 142,
    "start_time": "2022-09-27T12:21:22.548Z"
   },
   {
    "duration": 5,
    "start_time": "2022-09-27T12:21:22.692Z"
   },
   {
    "duration": 148,
    "start_time": "2022-09-27T12:21:22.698Z"
   },
   {
    "duration": 6,
    "start_time": "2022-09-27T12:21:22.847Z"
   },
   {
    "duration": 234,
    "start_time": "2022-09-27T12:21:22.855Z"
   },
   {
    "duration": 6,
    "start_time": "2022-09-27T12:21:23.091Z"
   },
   {
    "duration": 206,
    "start_time": "2022-09-27T12:21:23.098Z"
   },
   {
    "duration": 12,
    "start_time": "2022-09-27T12:21:23.306Z"
   },
   {
    "duration": 15,
    "start_time": "2022-09-27T12:21:23.320Z"
   },
   {
    "duration": 35,
    "start_time": "2022-09-27T12:21:23.337Z"
   },
   {
    "duration": 22,
    "start_time": "2022-09-27T12:21:23.374Z"
   },
   {
    "duration": 307,
    "start_time": "2022-09-27T12:21:23.398Z"
   },
   {
    "duration": 10,
    "start_time": "2022-09-27T12:21:23.707Z"
   },
   {
    "duration": 14,
    "start_time": "2022-09-27T12:21:23.718Z"
   },
   {
    "duration": 7,
    "start_time": "2022-09-27T12:21:23.734Z"
   },
   {
    "duration": 35,
    "start_time": "2022-09-27T12:21:23.743Z"
   },
   {
    "duration": 270,
    "start_time": "2022-09-27T12:21:23.779Z"
   },
   {
    "duration": 11,
    "start_time": "2022-09-27T12:21:24.051Z"
   },
   {
    "duration": 19,
    "start_time": "2022-09-27T12:21:24.064Z"
   },
   {
    "duration": 16,
    "start_time": "2022-09-27T12:21:24.085Z"
   },
   {
    "duration": 267,
    "start_time": "2022-09-27T12:21:24.103Z"
   },
   {
    "duration": 9,
    "start_time": "2022-09-27T12:21:24.376Z"
   },
   {
    "duration": 147,
    "start_time": "2022-09-27T12:21:24.387Z"
   },
   {
    "duration": 144,
    "start_time": "2022-09-27T12:21:24.536Z"
   },
   {
    "duration": 5,
    "start_time": "2022-09-27T12:21:24.681Z"
   },
   {
    "duration": 15,
    "start_time": "2022-09-27T12:21:24.688Z"
   },
   {
    "duration": 149,
    "start_time": "2022-09-27T12:21:24.705Z"
   },
   {
    "duration": 209,
    "start_time": "2022-09-27T12:21:24.856Z"
   },
   {
    "duration": 10,
    "start_time": "2022-09-27T12:21:25.066Z"
   },
   {
    "duration": 19,
    "start_time": "2022-09-27T12:24:32.836Z"
   },
   {
    "duration": 341,
    "start_time": "2022-09-27T15:05:23.425Z"
   },
   {
    "duration": 268,
    "start_time": "2022-09-27T15:06:24.382Z"
   },
   {
    "duration": 246,
    "start_time": "2022-09-27T15:06:50.587Z"
   },
   {
    "duration": 261,
    "start_time": "2022-09-27T15:07:59.608Z"
   },
   {
    "duration": 297,
    "start_time": "2022-09-27T15:08:32.800Z"
   },
   {
    "duration": 369,
    "start_time": "2022-09-27T15:12:16.489Z"
   },
   {
    "duration": 357,
    "start_time": "2022-09-27T15:12:28.570Z"
   },
   {
    "duration": 403,
    "start_time": "2022-09-27T15:12:39.235Z"
   },
   {
    "duration": 456,
    "start_time": "2022-09-27T15:13:52.763Z"
   },
   {
    "duration": 409,
    "start_time": "2022-09-27T15:14:00.326Z"
   },
   {
    "duration": 4,
    "start_time": "2022-09-27T15:14:38.941Z"
   },
   {
    "duration": 6,
    "start_time": "2022-09-27T15:16:23.342Z"
   },
   {
    "duration": 5,
    "start_time": "2022-09-27T15:16:28.544Z"
   },
   {
    "duration": 6,
    "start_time": "2022-09-27T15:16:58.335Z"
   },
   {
    "duration": 6,
    "start_time": "2022-09-27T15:17:01.791Z"
   },
   {
    "duration": 7,
    "start_time": "2022-09-27T15:17:04.974Z"
   },
   {
    "duration": 4,
    "start_time": "2022-09-27T15:17:20.356Z"
   },
   {
    "duration": 5,
    "start_time": "2022-09-27T15:17:40.366Z"
   },
   {
    "duration": 6,
    "start_time": "2022-09-27T15:17:57.348Z"
   },
   {
    "duration": 1075,
    "start_time": "2022-09-27T15:40:37.537Z"
   },
   {
    "duration": 67,
    "start_time": "2022-09-27T15:40:38.614Z"
   },
   {
    "duration": 13,
    "start_time": "2022-09-27T15:40:38.683Z"
   },
   {
    "duration": 48,
    "start_time": "2022-09-27T15:40:38.698Z"
   },
   {
    "duration": 762,
    "start_time": "2022-09-27T15:40:38.748Z"
   },
   {
    "duration": 4,
    "start_time": "2022-09-27T15:40:39.512Z"
   },
   {
    "duration": 19,
    "start_time": "2022-09-27T15:40:39.517Z"
   },
   {
    "duration": 8,
    "start_time": "2022-09-27T15:40:39.538Z"
   },
   {
    "duration": 13,
    "start_time": "2022-09-27T15:40:39.547Z"
   },
   {
    "duration": 15,
    "start_time": "2022-09-27T15:40:39.576Z"
   },
   {
    "duration": 4,
    "start_time": "2022-09-27T15:40:39.593Z"
   },
   {
    "duration": 18,
    "start_time": "2022-09-27T15:40:39.599Z"
   },
   {
    "duration": 9,
    "start_time": "2022-09-27T15:40:39.619Z"
   },
   {
    "duration": 14,
    "start_time": "2022-09-27T15:40:39.629Z"
   },
   {
    "duration": 7,
    "start_time": "2022-09-27T15:40:39.676Z"
   },
   {
    "duration": 11,
    "start_time": "2022-09-27T15:40:39.684Z"
   },
   {
    "duration": 20,
    "start_time": "2022-09-27T15:40:39.697Z"
   },
   {
    "duration": 17,
    "start_time": "2022-09-27T15:40:39.718Z"
   },
   {
    "duration": 6,
    "start_time": "2022-09-27T15:40:39.736Z"
   },
   {
    "duration": 219,
    "start_time": "2022-09-27T15:40:39.744Z"
   },
   {
    "duration": 209,
    "start_time": "2022-09-27T15:40:39.965Z"
   },
   {
    "duration": 12,
    "start_time": "2022-09-27T15:40:40.176Z"
   },
   {
    "duration": 271,
    "start_time": "2022-09-27T15:40:40.189Z"
   },
   {
    "duration": 363,
    "start_time": "2022-09-27T15:40:40.462Z"
   },
   {
    "duration": 15,
    "start_time": "2022-09-27T15:40:40.827Z"
   },
   {
    "duration": 356,
    "start_time": "2022-09-27T15:40:40.843Z"
   },
   {
    "duration": 146,
    "start_time": "2022-09-27T15:40:41.201Z"
   },
   {
    "duration": 5,
    "start_time": "2022-09-27T15:40:41.351Z"
   },
   {
    "duration": 143,
    "start_time": "2022-09-27T15:40:41.357Z"
   },
   {
    "duration": 5,
    "start_time": "2022-09-27T15:40:41.501Z"
   },
   {
    "duration": 22,
    "start_time": "2022-09-27T15:40:41.507Z"
   },
   {
    "duration": 14,
    "start_time": "2022-09-27T15:40:41.531Z"
   },
   {
    "duration": 434,
    "start_time": "2022-09-27T15:40:41.546Z"
   },
   {
    "duration": 5,
    "start_time": "2022-09-27T15:40:41.982Z"
   },
   {
    "duration": 7,
    "start_time": "2022-09-27T15:40:41.988Z"
   },
   {
    "duration": 6,
    "start_time": "2022-09-27T15:40:41.996Z"
   },
   {
    "duration": 6,
    "start_time": "2022-09-27T15:40:42.004Z"
   },
   {
    "duration": 478,
    "start_time": "2022-09-27T15:40:42.011Z"
   },
   {
    "duration": 5,
    "start_time": "2022-09-27T15:40:42.491Z"
   },
   {
    "duration": 7,
    "start_time": "2022-09-27T15:40:42.498Z"
   },
   {
    "duration": 7,
    "start_time": "2022-09-27T15:40:42.506Z"
   },
   {
    "duration": 8,
    "start_time": "2022-09-27T15:40:42.515Z"
   },
   {
    "duration": 199,
    "start_time": "2022-09-27T15:40:42.524Z"
   },
   {
    "duration": 9,
    "start_time": "2022-09-27T15:40:42.725Z"
   },
   {
    "duration": 11,
    "start_time": "2022-09-27T15:40:42.736Z"
   },
   {
    "duration": 11,
    "start_time": "2022-09-27T15:40:42.749Z"
   },
   {
    "duration": 29,
    "start_time": "2022-09-27T15:40:42.762Z"
   },
   {
    "duration": 262,
    "start_time": "2022-09-27T15:40:42.793Z"
   },
   {
    "duration": 9,
    "start_time": "2022-09-27T15:40:43.057Z"
   },
   {
    "duration": 17,
    "start_time": "2022-09-27T15:40:43.067Z"
   },
   {
    "duration": 13,
    "start_time": "2022-09-27T15:40:43.085Z"
   },
   {
    "duration": 16,
    "start_time": "2022-09-27T15:40:43.100Z"
   },
   {
    "duration": 367,
    "start_time": "2022-09-27T15:40:43.117Z"
   },
   {
    "duration": 9,
    "start_time": "2022-09-27T15:40:43.485Z"
   },
   {
    "duration": 13,
    "start_time": "2022-09-27T15:40:43.496Z"
   },
   {
    "duration": 8,
    "start_time": "2022-09-27T15:40:43.511Z"
   },
   {
    "duration": 22,
    "start_time": "2022-09-27T15:40:43.520Z"
   },
   {
    "duration": 268,
    "start_time": "2022-09-27T15:40:43.544Z"
   },
   {
    "duration": 8,
    "start_time": "2022-09-27T15:40:43.814Z"
   },
   {
    "duration": 143,
    "start_time": "2022-09-27T15:40:43.823Z"
   },
   {
    "duration": 128,
    "start_time": "2022-09-27T15:40:43.968Z"
   },
   {
    "duration": 5,
    "start_time": "2022-09-27T15:40:44.099Z"
   },
   {
    "duration": 11,
    "start_time": "2022-09-27T15:40:44.106Z"
   },
   {
    "duration": 166,
    "start_time": "2022-09-27T15:40:44.119Z"
   },
   {
    "duration": 119,
    "start_time": "2022-09-27T15:40:44.287Z"
   },
   {
    "duration": 4,
    "start_time": "2022-09-27T15:40:44.408Z"
   },
   {
    "duration": 6,
    "start_time": "2022-09-27T15:41:24.447Z"
   },
   {
    "duration": 7,
    "start_time": "2022-09-27T15:42:36.716Z"
   },
   {
    "duration": 51,
    "start_time": "2022-09-28T03:39:16.363Z"
   },
   {
    "duration": 9,
    "start_time": "2022-09-28T03:39:21.840Z"
   },
   {
    "duration": 10,
    "start_time": "2022-09-28T03:39:29.160Z"
   },
   {
    "duration": 1307,
    "start_time": "2022-09-28T03:39:46.173Z"
   },
   {
    "duration": 114,
    "start_time": "2022-09-28T03:39:47.481Z"
   },
   {
    "duration": 14,
    "start_time": "2022-09-28T03:39:47.597Z"
   },
   {
    "duration": 63,
    "start_time": "2022-09-28T03:39:47.614Z"
   },
   {
    "duration": 762,
    "start_time": "2022-09-28T03:39:47.678Z"
   },
   {
    "duration": 3,
    "start_time": "2022-09-28T03:39:48.441Z"
   },
   {
    "duration": 36,
    "start_time": "2022-09-28T03:39:48.446Z"
   },
   {
    "duration": 13,
    "start_time": "2022-09-28T03:39:48.483Z"
   },
   {
    "duration": 26,
    "start_time": "2022-09-28T03:39:48.498Z"
   },
   {
    "duration": 35,
    "start_time": "2022-09-28T03:39:48.527Z"
   },
   {
    "duration": 4,
    "start_time": "2022-09-28T03:39:48.564Z"
   },
   {
    "duration": 26,
    "start_time": "2022-09-28T03:39:48.570Z"
   },
   {
    "duration": 19,
    "start_time": "2022-09-28T03:39:48.598Z"
   },
   {
    "duration": 24,
    "start_time": "2022-09-28T03:39:48.619Z"
   },
   {
    "duration": 10,
    "start_time": "2022-09-28T03:39:48.645Z"
   },
   {
    "duration": 22,
    "start_time": "2022-09-28T03:39:48.657Z"
   },
   {
    "duration": 31,
    "start_time": "2022-09-28T03:39:48.681Z"
   },
   {
    "duration": 24,
    "start_time": "2022-09-28T03:39:48.713Z"
   },
   {
    "duration": 12,
    "start_time": "2022-09-28T03:39:48.739Z"
   },
   {
    "duration": 196,
    "start_time": "2022-09-28T03:39:48.752Z"
   },
   {
    "duration": 212,
    "start_time": "2022-09-28T03:39:48.950Z"
   },
   {
    "duration": 13,
    "start_time": "2022-09-28T03:39:49.163Z"
   },
   {
    "duration": 514,
    "start_time": "2022-09-28T03:39:49.178Z"
   },
   {
    "duration": 688,
    "start_time": "2022-09-28T03:39:49.694Z"
   },
   {
    "duration": 71,
    "start_time": "2022-09-28T03:39:50.383Z"
   },
   {
    "duration": 650,
    "start_time": "2022-09-28T03:39:50.456Z"
   },
   {
    "duration": 143,
    "start_time": "2022-09-28T03:39:51.108Z"
   },
   {
    "duration": 6,
    "start_time": "2022-09-28T03:39:51.256Z"
   },
   {
    "duration": 166,
    "start_time": "2022-09-28T03:39:51.263Z"
   },
   {
    "duration": 8,
    "start_time": "2022-09-28T03:39:51.432Z"
   },
   {
    "duration": 21,
    "start_time": "2022-09-28T03:39:51.443Z"
   },
   {
    "duration": 23,
    "start_time": "2022-09-28T03:39:51.466Z"
   },
   {
    "duration": 480,
    "start_time": "2022-09-28T03:39:51.491Z"
   },
   {
    "duration": 6,
    "start_time": "2022-09-28T03:39:51.973Z"
   },
   {
    "duration": 22,
    "start_time": "2022-09-28T03:39:51.980Z"
   },
   {
    "duration": 9,
    "start_time": "2022-09-28T03:39:52.004Z"
   },
   {
    "duration": 12,
    "start_time": "2022-09-28T03:39:52.014Z"
   },
   {
    "duration": 492,
    "start_time": "2022-09-28T03:39:52.028Z"
   },
   {
    "duration": 6,
    "start_time": "2022-09-28T03:39:52.521Z"
   },
   {
    "duration": 7,
    "start_time": "2022-09-28T03:39:52.529Z"
   },
   {
    "duration": 23,
    "start_time": "2022-09-28T03:39:52.537Z"
   },
   {
    "duration": 27,
    "start_time": "2022-09-28T03:39:52.562Z"
   },
   {
    "duration": 187,
    "start_time": "2022-09-28T03:39:52.591Z"
   },
   {
    "duration": 9,
    "start_time": "2022-09-28T03:39:52.780Z"
   },
   {
    "duration": 19,
    "start_time": "2022-09-28T03:39:52.791Z"
   },
   {
    "duration": 10,
    "start_time": "2022-09-28T03:39:52.812Z"
   },
   {
    "duration": 31,
    "start_time": "2022-09-28T03:39:52.824Z"
   },
   {
    "duration": 262,
    "start_time": "2022-09-28T03:39:52.857Z"
   },
   {
    "duration": 11,
    "start_time": "2022-09-28T03:39:53.121Z"
   },
   {
    "duration": 21,
    "start_time": "2022-09-28T03:39:53.133Z"
   },
   {
    "duration": 13,
    "start_time": "2022-09-28T03:39:53.156Z"
   },
   {
    "duration": 30,
    "start_time": "2022-09-28T03:39:53.171Z"
   },
   {
    "duration": 368,
    "start_time": "2022-09-28T03:39:53.202Z"
   },
   {
    "duration": 10,
    "start_time": "2022-09-28T03:39:53.572Z"
   },
   {
    "duration": 20,
    "start_time": "2022-09-28T03:39:53.583Z"
   },
   {
    "duration": 13,
    "start_time": "2022-09-28T03:39:53.605Z"
   },
   {
    "duration": 24,
    "start_time": "2022-09-28T03:39:53.620Z"
   },
   {
    "duration": 254,
    "start_time": "2022-09-28T03:39:53.653Z"
   },
   {
    "duration": 8,
    "start_time": "2022-09-28T03:39:53.909Z"
   },
   {
    "duration": 148,
    "start_time": "2022-09-28T03:39:53.919Z"
   },
   {
    "duration": 139,
    "start_time": "2022-09-28T03:39:54.068Z"
   },
   {
    "duration": 6,
    "start_time": "2022-09-28T03:39:54.209Z"
   },
   {
    "duration": 14,
    "start_time": "2022-09-28T03:39:54.217Z"
   },
   {
    "duration": 159,
    "start_time": "2022-09-28T03:39:54.233Z"
   },
   {
    "duration": 131,
    "start_time": "2022-09-28T03:39:54.394Z"
   },
   {
    "duration": 6,
    "start_time": "2022-09-28T03:39:54.528Z"
   },
   {
    "duration": 257,
    "start_time": "2022-09-28T03:40:19.130Z"
   },
   {
    "duration": 257,
    "start_time": "2022-09-28T03:40:32.754Z"
   },
   {
    "duration": 408,
    "start_time": "2022-09-28T03:40:37.035Z"
   },
   {
    "duration": 279,
    "start_time": "2022-09-28T03:40:50.067Z"
   },
   {
    "duration": 315,
    "start_time": "2022-09-28T03:40:59.873Z"
   },
   {
    "duration": 1044,
    "start_time": "2022-09-28T04:48:20.084Z"
   },
   {
    "duration": 69,
    "start_time": "2022-09-28T04:48:21.130Z"
   },
   {
    "duration": 15,
    "start_time": "2022-09-28T04:48:21.201Z"
   },
   {
    "duration": 62,
    "start_time": "2022-09-28T04:48:21.218Z"
   },
   {
    "duration": 804,
    "start_time": "2022-09-28T04:48:21.281Z"
   },
   {
    "duration": 4,
    "start_time": "2022-09-28T04:48:22.087Z"
   },
   {
    "duration": 25,
    "start_time": "2022-09-28T04:48:22.092Z"
   },
   {
    "duration": 14,
    "start_time": "2022-09-28T04:48:22.118Z"
   },
   {
    "duration": 29,
    "start_time": "2022-09-28T04:48:22.133Z"
   },
   {
    "duration": 36,
    "start_time": "2022-09-28T04:48:22.166Z"
   },
   {
    "duration": 7,
    "start_time": "2022-09-28T04:48:22.204Z"
   },
   {
    "duration": 32,
    "start_time": "2022-09-28T04:48:22.212Z"
   },
   {
    "duration": 14,
    "start_time": "2022-09-28T04:48:22.246Z"
   },
   {
    "duration": 28,
    "start_time": "2022-09-28T04:48:22.262Z"
   },
   {
    "duration": 8,
    "start_time": "2022-09-28T04:48:22.292Z"
   },
   {
    "duration": 20,
    "start_time": "2022-09-28T04:48:22.302Z"
   },
   {
    "duration": 35,
    "start_time": "2022-09-28T04:48:22.325Z"
   },
   {
    "duration": 34,
    "start_time": "2022-09-28T04:48:22.362Z"
   },
   {
    "duration": 5,
    "start_time": "2022-09-28T04:48:22.397Z"
   },
   {
    "duration": 262,
    "start_time": "2022-09-28T04:48:22.404Z"
   },
   {
    "duration": 431,
    "start_time": "2022-09-28T04:48:22.667Z"
   },
   {
    "duration": 13,
    "start_time": "2022-09-28T04:48:23.155Z"
   },
   {
    "duration": 512,
    "start_time": "2022-09-28T04:48:23.169Z"
   },
   {
    "duration": 685,
    "start_time": "2022-09-28T04:48:23.683Z"
   },
   {
    "duration": 15,
    "start_time": "2022-09-28T04:48:24.369Z"
   },
   {
    "duration": 398,
    "start_time": "2022-09-28T04:48:24.385Z"
   },
   {
    "duration": 153,
    "start_time": "2022-09-28T04:48:24.785Z"
   },
   {
    "duration": 12,
    "start_time": "2022-09-28T04:48:24.942Z"
   },
   {
    "duration": 144,
    "start_time": "2022-09-28T04:48:24.956Z"
   },
   {
    "duration": 5,
    "start_time": "2022-09-28T04:48:25.102Z"
   },
   {
    "duration": 18,
    "start_time": "2022-09-28T04:48:25.108Z"
   },
   {
    "duration": 22,
    "start_time": "2022-09-28T04:48:25.128Z"
   },
   {
    "duration": 415,
    "start_time": "2022-09-28T04:48:25.153Z"
   },
   {
    "duration": 6,
    "start_time": "2022-09-28T04:48:25.570Z"
   },
   {
    "duration": 10,
    "start_time": "2022-09-28T04:48:25.578Z"
   },
   {
    "duration": 27,
    "start_time": "2022-09-28T04:48:25.589Z"
   },
   {
    "duration": 20,
    "start_time": "2022-09-28T04:48:25.618Z"
   },
   {
    "duration": 469,
    "start_time": "2022-09-28T04:48:25.640Z"
   },
   {
    "duration": 5,
    "start_time": "2022-09-28T04:48:26.111Z"
   },
   {
    "duration": 18,
    "start_time": "2022-09-28T04:48:26.118Z"
   },
   {
    "duration": 13,
    "start_time": "2022-09-28T04:48:26.138Z"
   },
   {
    "duration": 13,
    "start_time": "2022-09-28T04:48:26.153Z"
   },
   {
    "duration": 187,
    "start_time": "2022-09-28T04:48:26.167Z"
   },
   {
    "duration": 11,
    "start_time": "2022-09-28T04:48:26.356Z"
   },
   {
    "duration": 20,
    "start_time": "2022-09-28T04:48:26.369Z"
   },
   {
    "duration": 14,
    "start_time": "2022-09-28T04:48:26.391Z"
   },
   {
    "duration": 26,
    "start_time": "2022-09-28T04:48:26.407Z"
   },
   {
    "duration": 282,
    "start_time": "2022-09-28T04:48:26.435Z"
   },
   {
    "duration": 10,
    "start_time": "2022-09-28T04:48:26.718Z"
   },
   {
    "duration": 24,
    "start_time": "2022-09-28T04:48:26.730Z"
   },
   {
    "duration": 9,
    "start_time": "2022-09-28T04:48:26.756Z"
   },
   {
    "duration": 18,
    "start_time": "2022-09-28T04:48:26.767Z"
   },
   {
    "duration": 399,
    "start_time": "2022-09-28T04:48:26.786Z"
   },
   {
    "duration": 10,
    "start_time": "2022-09-28T04:48:27.187Z"
   },
   {
    "duration": 13,
    "start_time": "2022-09-28T04:48:27.198Z"
   },
   {
    "duration": 14,
    "start_time": "2022-09-28T04:48:27.213Z"
   },
   {
    "duration": 33,
    "start_time": "2022-09-28T04:48:27.229Z"
   },
   {
    "duration": 279,
    "start_time": "2022-09-28T04:48:27.263Z"
   },
   {
    "duration": 14,
    "start_time": "2022-09-28T04:48:27.544Z"
   },
   {
    "duration": 144,
    "start_time": "2022-09-28T04:48:27.561Z"
   },
   {
    "duration": 139,
    "start_time": "2022-09-28T04:48:27.707Z"
   },
   {
    "duration": 8,
    "start_time": "2022-09-28T04:48:27.849Z"
   },
   {
    "duration": 11,
    "start_time": "2022-09-28T04:48:27.859Z"
   },
   {
    "duration": 156,
    "start_time": "2022-09-28T04:48:27.872Z"
   },
   {
    "duration": 135,
    "start_time": "2022-09-28T04:48:28.031Z"
   },
   {
    "duration": 7,
    "start_time": "2022-09-28T04:48:28.168Z"
   },
   {
    "duration": 1147,
    "start_time": "2022-09-28T05:17:52.437Z"
   },
   {
    "duration": 109,
    "start_time": "2022-09-28T05:17:53.586Z"
   },
   {
    "duration": 13,
    "start_time": "2022-09-28T05:17:53.696Z"
   },
   {
    "duration": 56,
    "start_time": "2022-09-28T05:17:53.711Z"
   },
   {
    "duration": 781,
    "start_time": "2022-09-28T05:17:53.769Z"
   },
   {
    "duration": 4,
    "start_time": "2022-09-28T05:17:54.552Z"
   },
   {
    "duration": 50,
    "start_time": "2022-09-28T05:17:54.557Z"
   },
   {
    "duration": 41,
    "start_time": "2022-09-28T05:17:54.608Z"
   },
   {
    "duration": 41,
    "start_time": "2022-09-28T05:17:54.651Z"
   },
   {
    "duration": 34,
    "start_time": "2022-09-28T05:17:54.695Z"
   },
   {
    "duration": 23,
    "start_time": "2022-09-28T05:17:54.731Z"
   },
   {
    "duration": 32,
    "start_time": "2022-09-28T05:17:54.756Z"
   },
   {
    "duration": 33,
    "start_time": "2022-09-28T05:17:54.790Z"
   },
   {
    "duration": 27,
    "start_time": "2022-09-28T05:17:54.825Z"
   },
   {
    "duration": 48,
    "start_time": "2022-09-28T05:17:54.853Z"
   },
   {
    "duration": 11,
    "start_time": "2022-09-28T05:17:54.903Z"
   },
   {
    "duration": 16,
    "start_time": "2022-09-28T05:17:54.916Z"
   },
   {
    "duration": 16,
    "start_time": "2022-09-28T05:17:54.933Z"
   },
   {
    "duration": 11,
    "start_time": "2022-09-28T05:17:54.951Z"
   },
   {
    "duration": 219,
    "start_time": "2022-09-28T05:17:54.963Z"
   },
   {
    "duration": 192,
    "start_time": "2022-09-28T05:17:55.184Z"
   },
   {
    "duration": 23,
    "start_time": "2022-09-28T05:17:55.378Z"
   },
   {
    "duration": 233,
    "start_time": "2022-09-28T05:17:55.402Z"
   },
   {
    "duration": 309,
    "start_time": "2022-09-28T05:17:55.636Z"
   },
   {
    "duration": 14,
    "start_time": "2022-09-28T05:17:55.946Z"
   },
   {
    "duration": 356,
    "start_time": "2022-09-28T05:17:55.961Z"
   },
   {
    "duration": 128,
    "start_time": "2022-09-28T05:17:56.319Z"
   },
   {
    "duration": 5,
    "start_time": "2022-09-28T05:17:56.450Z"
   },
   {
    "duration": 128,
    "start_time": "2022-09-28T05:17:56.456Z"
   },
   {
    "duration": 5,
    "start_time": "2022-09-28T05:17:56.585Z"
   },
   {
    "duration": 7,
    "start_time": "2022-09-28T05:17:56.600Z"
   },
   {
    "duration": 11,
    "start_time": "2022-09-28T05:17:56.609Z"
   },
   {
    "duration": 406,
    "start_time": "2022-09-28T05:17:56.622Z"
   },
   {
    "duration": 6,
    "start_time": "2022-09-28T05:17:57.030Z"
   },
   {
    "duration": 6,
    "start_time": "2022-09-28T05:17:57.037Z"
   },
   {
    "duration": 7,
    "start_time": "2022-09-28T05:17:57.045Z"
   },
   {
    "duration": 5,
    "start_time": "2022-09-28T05:17:57.054Z"
   },
   {
    "duration": 424,
    "start_time": "2022-09-28T05:17:57.060Z"
   },
   {
    "duration": 4,
    "start_time": "2022-09-28T05:17:57.486Z"
   },
   {
    "duration": 10,
    "start_time": "2022-09-28T05:17:57.491Z"
   },
   {
    "duration": 7,
    "start_time": "2022-09-28T05:17:57.503Z"
   },
   {
    "duration": 5,
    "start_time": "2022-09-28T05:17:57.512Z"
   },
   {
    "duration": 175,
    "start_time": "2022-09-28T05:17:57.518Z"
   },
   {
    "duration": 9,
    "start_time": "2022-09-28T05:17:57.701Z"
   },
   {
    "duration": 12,
    "start_time": "2022-09-28T05:17:57.712Z"
   },
   {
    "duration": 12,
    "start_time": "2022-09-28T05:17:57.725Z"
   },
   {
    "duration": 26,
    "start_time": "2022-09-28T05:17:57.738Z"
   },
   {
    "duration": 242,
    "start_time": "2022-09-28T05:17:57.765Z"
   },
   {
    "duration": 8,
    "start_time": "2022-09-28T05:17:58.009Z"
   },
   {
    "duration": 12,
    "start_time": "2022-09-28T05:17:58.018Z"
   },
   {
    "duration": 7,
    "start_time": "2022-09-28T05:17:58.031Z"
   },
   {
    "duration": 17,
    "start_time": "2022-09-28T05:17:58.040Z"
   },
   {
    "duration": 333,
    "start_time": "2022-09-28T05:17:58.058Z"
   },
   {
    "duration": 12,
    "start_time": "2022-09-28T05:17:58.393Z"
   },
   {
    "duration": 9,
    "start_time": "2022-09-28T05:17:58.407Z"
   },
   {
    "duration": 8,
    "start_time": "2022-09-28T05:17:58.417Z"
   },
   {
    "duration": 14,
    "start_time": "2022-09-28T05:17:58.427Z"
   },
   {
    "duration": 256,
    "start_time": "2022-09-28T05:17:58.443Z"
   },
   {
    "duration": 10,
    "start_time": "2022-09-28T05:17:58.701Z"
   },
   {
    "duration": 119,
    "start_time": "2022-09-28T05:17:58.715Z"
   },
   {
    "duration": 119,
    "start_time": "2022-09-28T05:17:58.835Z"
   },
   {
    "duration": 6,
    "start_time": "2022-09-28T05:17:58.955Z"
   },
   {
    "duration": 11,
    "start_time": "2022-09-28T05:17:58.962Z"
   },
   {
    "duration": 133,
    "start_time": "2022-09-28T05:17:58.975Z"
   },
   {
    "duration": 119,
    "start_time": "2022-09-28T05:17:59.110Z"
   },
   {
    "duration": 5,
    "start_time": "2022-09-28T05:17:59.231Z"
   },
   {
    "duration": 20,
    "start_time": "2022-09-28T05:19:56.861Z"
   },
   {
    "duration": 7,
    "start_time": "2022-10-27T11:34:25.085Z"
   },
   {
    "duration": 6,
    "start_time": "2022-10-27T11:34:37.344Z"
   },
   {
    "duration": 8,
    "start_time": "2022-10-27T11:34:39.570Z"
   },
   {
    "duration": 1168,
    "start_time": "2022-10-27T11:34:49.937Z"
   },
   {
    "duration": 2,
    "start_time": "2022-10-27T11:34:51.964Z"
   },
   {
    "duration": 210,
    "start_time": "2022-10-27T11:34:57.041Z"
   },
   {
    "duration": 57,
    "start_time": "2022-10-27T11:35:02.049Z"
   },
   {
    "duration": 1581,
    "start_time": "2023-03-07T10:48:19.200Z"
   },
   {
    "duration": 225,
    "start_time": "2023-03-07T10:48:20.782Z"
   },
   {
    "duration": 20,
    "start_time": "2023-03-07T10:48:21.008Z"
   },
   {
    "duration": 167,
    "start_time": "2023-03-07T10:48:21.030Z"
   },
   {
    "duration": 1032,
    "start_time": "2023-03-07T10:48:21.199Z"
   },
   {
    "duration": 3,
    "start_time": "2023-03-07T10:48:22.233Z"
   },
   {
    "duration": 17,
    "start_time": "2023-03-07T10:48:22.238Z"
   },
   {
    "duration": 14,
    "start_time": "2023-03-07T10:48:22.256Z"
   },
   {
    "duration": 41,
    "start_time": "2023-03-07T10:48:22.272Z"
   },
   {
    "duration": 22,
    "start_time": "2023-03-07T10:48:22.314Z"
   },
   {
    "duration": 12,
    "start_time": "2023-03-07T10:48:22.338Z"
   },
   {
    "duration": 38,
    "start_time": "2023-03-07T10:48:22.351Z"
   },
   {
    "duration": 38,
    "start_time": "2023-03-07T10:48:22.390Z"
   },
   {
    "duration": 14,
    "start_time": "2023-03-07T10:48:22.432Z"
   },
   {
    "duration": 18,
    "start_time": "2023-03-07T10:48:22.448Z"
   },
   {
    "duration": 37,
    "start_time": "2023-03-07T10:48:22.468Z"
   },
   {
    "duration": 21,
    "start_time": "2023-03-07T10:48:22.507Z"
   },
   {
    "duration": 17,
    "start_time": "2023-03-07T10:48:22.530Z"
   },
   {
    "duration": 12,
    "start_time": "2023-03-07T10:48:22.548Z"
   },
   {
    "duration": 204,
    "start_time": "2023-03-07T10:48:22.562Z"
   },
   {
    "duration": 190,
    "start_time": "2023-03-07T10:48:22.767Z"
   },
   {
    "duration": 11,
    "start_time": "2023-03-07T10:48:22.959Z"
   },
   {
    "duration": 259,
    "start_time": "2023-03-07T10:48:22.979Z"
   },
   {
    "duration": 320,
    "start_time": "2023-03-07T10:48:23.240Z"
   },
   {
    "duration": 41,
    "start_time": "2023-03-07T10:48:23.562Z"
   },
   {
    "duration": 356,
    "start_time": "2023-03-07T10:48:23.605Z"
   },
   {
    "duration": 143,
    "start_time": "2023-03-07T10:48:23.964Z"
   },
   {
    "duration": 5,
    "start_time": "2023-03-07T10:48:24.109Z"
   },
   {
    "duration": 135,
    "start_time": "2023-03-07T10:48:24.115Z"
   },
   {
    "duration": 5,
    "start_time": "2023-03-07T10:48:24.251Z"
   },
   {
    "duration": 7,
    "start_time": "2023-03-07T10:48:24.258Z"
   },
   {
    "duration": 31,
    "start_time": "2023-03-07T10:48:24.286Z"
   },
   {
    "duration": 398,
    "start_time": "2023-03-07T10:48:24.318Z"
   },
   {
    "duration": 5,
    "start_time": "2023-03-07T10:48:24.717Z"
   },
   {
    "duration": 8,
    "start_time": "2023-03-07T10:48:24.724Z"
   },
   {
    "duration": 14,
    "start_time": "2023-03-07T10:48:24.733Z"
   },
   {
    "duration": 9,
    "start_time": "2023-03-07T10:48:24.749Z"
   },
   {
    "duration": 444,
    "start_time": "2023-03-07T10:48:24.759Z"
   },
   {
    "duration": 5,
    "start_time": "2023-03-07T10:48:25.205Z"
   },
   {
    "duration": 17,
    "start_time": "2023-03-07T10:48:25.211Z"
   },
   {
    "duration": 6,
    "start_time": "2023-03-07T10:48:25.233Z"
   },
   {
    "duration": 8,
    "start_time": "2023-03-07T10:48:25.240Z"
   },
   {
    "duration": 197,
    "start_time": "2023-03-07T10:48:25.250Z"
   },
   {
    "duration": 9,
    "start_time": "2023-03-07T10:48:25.448Z"
   },
   {
    "duration": 35,
    "start_time": "2023-03-07T10:48:25.458Z"
   },
   {
    "duration": 16,
    "start_time": "2023-03-07T10:48:25.494Z"
   },
   {
    "duration": 30,
    "start_time": "2023-03-07T10:48:25.512Z"
   },
   {
    "duration": 23,
    "start_time": "2023-03-07T10:48:25.544Z"
   },
   {
    "duration": 244,
    "start_time": "2023-03-07T10:48:25.569Z"
   },
   {
    "duration": 9,
    "start_time": "2023-03-07T10:48:25.815Z"
   },
   {
    "duration": 19,
    "start_time": "2023-03-07T10:48:25.826Z"
   },
   {
    "duration": 10,
    "start_time": "2023-03-07T10:48:25.847Z"
   },
   {
    "duration": 58,
    "start_time": "2023-03-07T10:48:25.858Z"
   },
   {
    "duration": 410,
    "start_time": "2023-03-07T10:48:25.922Z"
   },
   {
    "duration": 8,
    "start_time": "2023-03-07T10:48:26.335Z"
   },
   {
    "duration": 16,
    "start_time": "2023-03-07T10:48:26.345Z"
   },
   {
    "duration": 23,
    "start_time": "2023-03-07T10:48:26.362Z"
   },
   {
    "duration": 19,
    "start_time": "2023-03-07T10:48:26.395Z"
   },
   {
    "duration": 260,
    "start_time": "2023-03-07T10:48:26.416Z"
   },
   {
    "duration": 11,
    "start_time": "2023-03-07T10:48:26.685Z"
   },
   {
    "duration": 124,
    "start_time": "2023-03-07T10:48:26.697Z"
   },
   {
    "duration": 127,
    "start_time": "2023-03-07T10:48:26.822Z"
   },
   {
    "duration": 5,
    "start_time": "2023-03-07T10:48:26.951Z"
   },
   {
    "duration": 24,
    "start_time": "2023-03-07T10:48:26.958Z"
   },
   {
    "duration": 189,
    "start_time": "2023-03-07T10:48:26.983Z"
   },
   {
    "duration": 118,
    "start_time": "2023-03-07T10:48:27.173Z"
   },
   {
    "duration": 9,
    "start_time": "2023-03-07T10:48:27.292Z"
   },
   {
    "duration": 182,
    "start_time": "2023-03-07T10:51:07.498Z"
   },
   {
    "duration": 1227,
    "start_time": "2023-03-07T10:55:39.607Z"
   },
   {
    "duration": 134,
    "start_time": "2023-03-07T10:55:40.880Z"
   },
   {
    "duration": 87,
    "start_time": "2023-03-07T10:55:41.016Z"
   },
   {
    "duration": 110,
    "start_time": "2023-03-07T10:55:41.105Z"
   },
   {
    "duration": 1352,
    "start_time": "2023-03-07T10:55:41.217Z"
   },
   {
    "duration": 3,
    "start_time": "2023-03-07T10:55:42.570Z"
   },
   {
    "duration": 39,
    "start_time": "2023-03-07T10:55:42.579Z"
   },
   {
    "duration": 6,
    "start_time": "2023-03-07T10:55:42.620Z"
   },
   {
    "duration": 9,
    "start_time": "2023-03-07T10:55:42.627Z"
   },
   {
    "duration": 12,
    "start_time": "2023-03-07T10:55:42.638Z"
   },
   {
    "duration": 5,
    "start_time": "2023-03-07T10:55:42.652Z"
   },
   {
    "duration": 35,
    "start_time": "2023-03-07T10:55:42.659Z"
   },
   {
    "duration": 21,
    "start_time": "2023-03-07T10:55:42.695Z"
   },
   {
    "duration": 14,
    "start_time": "2023-03-07T10:55:42.718Z"
   },
   {
    "duration": 6,
    "start_time": "2023-03-07T10:55:42.733Z"
   },
   {
    "duration": 8,
    "start_time": "2023-03-07T10:55:42.741Z"
   },
   {
    "duration": 16,
    "start_time": "2023-03-07T10:55:42.750Z"
   },
   {
    "duration": 21,
    "start_time": "2023-03-07T10:55:42.768Z"
   },
   {
    "duration": 6,
    "start_time": "2023-03-07T10:55:42.790Z"
   },
   {
    "duration": 199,
    "start_time": "2023-03-07T10:55:42.798Z"
   },
   {
    "duration": 214,
    "start_time": "2023-03-07T10:55:42.999Z"
   },
   {
    "duration": 12,
    "start_time": "2023-03-07T10:55:43.214Z"
   },
   {
    "duration": 263,
    "start_time": "2023-03-07T10:55:43.227Z"
   },
   {
    "duration": 356,
    "start_time": "2023-03-07T10:55:43.492Z"
   },
   {
    "duration": 11,
    "start_time": "2023-03-07T10:55:43.850Z"
   },
   {
    "duration": 341,
    "start_time": "2023-03-07T10:55:43.862Z"
   },
   {
    "duration": 140,
    "start_time": "2023-03-07T10:55:44.205Z"
   },
   {
    "duration": 4,
    "start_time": "2023-03-07T10:55:44.347Z"
   },
   {
    "duration": 129,
    "start_time": "2023-03-07T10:55:44.352Z"
   },
   {
    "duration": 5,
    "start_time": "2023-03-07T10:55:44.482Z"
   },
   {
    "duration": 26,
    "start_time": "2023-03-07T10:55:44.489Z"
   },
   {
    "duration": 12,
    "start_time": "2023-03-07T10:55:44.516Z"
   },
   {
    "duration": 403,
    "start_time": "2023-03-07T10:55:44.529Z"
   },
   {
    "duration": 5,
    "start_time": "2023-03-07T10:55:44.933Z"
   },
   {
    "duration": 10,
    "start_time": "2023-03-07T10:55:44.939Z"
   },
   {
    "duration": 18,
    "start_time": "2023-03-07T10:55:44.950Z"
   },
   {
    "duration": 48,
    "start_time": "2023-03-07T10:55:44.969Z"
   },
   {
    "duration": 456,
    "start_time": "2023-03-07T10:55:45.019Z"
   },
   {
    "duration": 4,
    "start_time": "2023-03-07T10:55:45.477Z"
   },
   {
    "duration": 36,
    "start_time": "2023-03-07T10:55:45.483Z"
   },
   {
    "duration": 4,
    "start_time": "2023-03-07T10:55:45.523Z"
   },
   {
    "duration": 8,
    "start_time": "2023-03-07T10:55:45.528Z"
   },
   {
    "duration": 190,
    "start_time": "2023-03-07T10:55:45.537Z"
   },
   {
    "duration": 9,
    "start_time": "2023-03-07T10:55:45.728Z"
   },
   {
    "duration": 16,
    "start_time": "2023-03-07T10:55:45.738Z"
   },
   {
    "duration": 22,
    "start_time": "2023-03-07T10:55:45.756Z"
   },
   {
    "duration": 46,
    "start_time": "2023-03-07T10:55:45.779Z"
   },
   {
    "duration": 34,
    "start_time": "2023-03-07T10:55:45.827Z"
   },
   {
    "duration": 315,
    "start_time": "2023-03-07T10:55:45.862Z"
   },
   {
    "duration": 13,
    "start_time": "2023-03-07T10:55:46.178Z"
   },
   {
    "duration": 36,
    "start_time": "2023-03-07T10:55:46.193Z"
   },
   {
    "duration": 9,
    "start_time": "2023-03-07T10:55:46.231Z"
   },
   {
    "duration": 23,
    "start_time": "2023-03-07T10:55:46.242Z"
   },
   {
    "duration": 382,
    "start_time": "2023-03-07T10:55:46.267Z"
   },
   {
    "duration": 8,
    "start_time": "2023-03-07T10:55:46.651Z"
   },
   {
    "duration": 40,
    "start_time": "2023-03-07T10:55:46.661Z"
   },
   {
    "duration": 12,
    "start_time": "2023-03-07T10:55:46.707Z"
   },
   {
    "duration": 15,
    "start_time": "2023-03-07T10:55:46.721Z"
   },
   {
    "duration": 236,
    "start_time": "2023-03-07T10:55:46.738Z"
   },
   {
    "duration": 8,
    "start_time": "2023-03-07T10:55:46.975Z"
   },
   {
    "duration": 154,
    "start_time": "2023-03-07T10:55:46.984Z"
   },
   {
    "duration": 134,
    "start_time": "2023-03-07T10:55:47.140Z"
   },
   {
    "duration": 18,
    "start_time": "2023-03-07T10:55:47.276Z"
   },
   {
    "duration": 25,
    "start_time": "2023-03-07T10:55:47.295Z"
   },
   {
    "duration": 144,
    "start_time": "2023-03-07T10:55:47.321Z"
   },
   {
    "duration": 120,
    "start_time": "2023-03-07T10:55:47.467Z"
   },
   {
    "duration": 6,
    "start_time": "2023-03-07T10:55:47.589Z"
   }
  ],
  "kernelspec": {
   "display_name": "Python 3 (ipykernel)",
   "language": "python",
   "name": "python3"
  },
  "language_info": {
   "codemirror_mode": {
    "name": "ipython",
    "version": 3
   },
   "file_extension": ".py",
   "mimetype": "text/x-python",
   "name": "python",
   "nbconvert_exporter": "python",
   "pygments_lexer": "ipython3",
   "version": "3.9.5"
  },
  "toc": {
   "base_numbering": 1,
   "nav_menu": {},
   "number_sections": true,
   "sideBar": true,
   "skip_h1_title": true,
   "title_cell": "Table of Contents",
   "title_sidebar": "Contents",
   "toc_cell": false,
   "toc_position": {
    "height": "calc(100% - 180px)",
    "left": "10px",
    "top": "150px",
    "width": "263.188px"
   },
   "toc_section_display": true,
   "toc_window_display": true
  }
 },
 "nbformat": 4,
 "nbformat_minor": 2
}
